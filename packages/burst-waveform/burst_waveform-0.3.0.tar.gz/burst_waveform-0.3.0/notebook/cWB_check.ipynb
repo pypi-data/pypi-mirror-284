{
 "cells": [
  {
   "cell_type": "code",
   "execution_count": null,
   "id": "initial_id",
   "metadata": {
    "collapsed": true
   },
   "outputs": [],
   "source": [
    "import ROOT\n",
    "\n",
    "include_path = \"/Users/yumengxu/Project/Physics/cwb/cwb_source/tools/install/include\"\n",
    "wavelet_path = \"/Users/yumengxu/Project/Physics/cwb/cwb_source/tools/install/lib/cwb.dylib\"\n",
    "ROOT.gInterpreter.AddIncludePath(include_path)\n",
    "ROOT.gSystem.Load(wavelet_path)"
   ]
  },
  {
   "cell_type": "code",
   "outputs": [],
   "source": [
    "MDC = ROOT.CWB.mdc()\n",
    "\n",
    "frequency = 30\n",
    "bandwidth = 10\n",
    "duration = 0.1\n",
    "wnb = MDC.GetWNB(frequency, bandwidth, duration)\n",
    "\n",
    "import matplotlib.pyplot as plt\n",
    "plt.plot(wnb)"
   ],
   "metadata": {
    "collapsed": false
   },
   "id": "3fecfac3934b2497",
   "execution_count": null
  },
  {
   "cell_type": "code",
   "outputs": [],
   "source": [],
   "metadata": {
    "collapsed": false
   },
   "id": "1536d4b4b5572f84"
  }
 ],
 "metadata": {
  "kernelspec": {
   "display_name": "Python 3",
   "language": "python",
   "name": "python3"
  },
  "language_info": {
   "codemirror_mode": {
    "name": "ipython",
    "version": 2
   },
   "file_extension": ".py",
   "mimetype": "text/x-python",
   "name": "python",
   "nbconvert_exporter": "python",
   "pygments_lexer": "ipython2",
   "version": "2.7.6"
  }
 },
 "nbformat": 4,
 "nbformat_minor": 5
}
