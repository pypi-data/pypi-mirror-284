{
 "cells": [
  {
   "cell_type": "markdown",
   "metadata": {},
   "source": [
    "# RIS Enhanced Communication"
   ]
  },
  {
   "cell_type": "markdown",
   "metadata": {},
   "source": [
    "## System Model"
   ]
  },
  {
   "cell_type": "markdown",
   "metadata": {},
   "source": [
    "Consider a system with a single base station ($\\mathrm{BS}$) and a single user ($\\mathrm{UE}$), aided by reconfigurable intelligent surface (RIS) ($\\mathrm{R}$) with $K$ reflecting elements.\n",
    "\n",
    "_For the sake of simplicity, assume that both base station and users are equipped with a single antenna._"
   ]
  },
  {
   "cell_type": "markdown",
   "metadata": {},
   "source": [
    "```{image} figs/ris_system.png\n",
    ":alt: model\n",
    ":class: dark-light\n",
    ":width: 400px\n",
    ":align: center\n",
    "```\n",
    "\n",
    "<br/>\n",
    "\n",
    "<div align=\"center\">\n",
    "Fig. 1. RIS-aided system model.\n",
    "</div>\n",
    "\n",
    "<br/>"
   ]
  },
  {
   "cell_type": "markdown",
   "metadata": {},
   "source": [
    "Without an RIS, the received signal at $\\mathrm{UE}$ for a single transmitted symbol $x$ can be expressed as\n",
    "\n",
    "$$\n",
    "y = h_d\\,x + n,\n",
    "$$\n",
    "\n",
    "where $h_d$ is the direct channel gain between $\\mathrm{BS}$ and $\\mathrm{UE}$, and $n$ is the additive white Gaussian noise (AWGN) at $\\mathrm{UE}$ with zero mean and variance $\\sigma^2$.\n",
    "\n",
    "Now, what an RIS does is to reflect the incident signal from $\\mathrm{BS}$ to $\\mathrm{UE}$, essentially creating a virtual line-of-sight (vLOS) link between $\\mathrm{BS}$ and $\\mathrm{UE}$. The channel gain of the reflected signal can be expressed as\n",
    "\n",
    "$$\n",
    "h_{\\text{cascade}} = \\mathbf{H}_{t, R}^T \\mathbf{\\Theta} \\mathbf{H}_{R, r},\n",
    "$$\n",
    "\n",
    "where $\\mathbf{H}_{t, R}^T \\in \\mathbb{C}^{1 \\times K}$ and $\\mathbf{H}_{R, r} \\in \\mathbb{C}^{K \\times 1}$ are the channel gains between $\\mathrm{BS}$ and $\\mathrm{R}$, and $\\mathrm{R}$ and $\\mathrm{UE}$, respectively. Furthermore, $\\mathbf{\\Theta} = \\text{diag}(a_1 \\exp(j \\phi_1), a_2 \\exp(j \\phi_2), \\ldots, a_K \\exp(j \\phi_K))$ is the diagonal matrix representing the reflection coefficients of the RIS elements, where $a_k \\in [0, 1]$ and $\\phi_k \\in [0, 2\\pi]$ are the amplitude and phase of the $k$-th RIS element, respectively. For this example, we assume that the RIS elements are ideal, i.e., $a_k = 1$ and phase shifts are continuous.\n",
    "\n",
    "The received signal at $\\mathrm{UE}$ can now be expressed as\n",
    "\n",
    "$$\n",
    "y = h_{\\text{eff}}\\,x + n,\n",
    "$$\n",
    "\n",
    "where $h_{\\text{eff}} = h_d + h_{\\text{cascade}}$ is the effective channel gain between $\\mathrm{BS}$ and $\\mathrm{UE}$."
   ]
  },
  {
   "cell_type": "markdown",
   "metadata": {},
   "source": [
    "## Simulation"
   ]
  },
  {
   "cell_type": "code",
   "execution_count": 1,
   "metadata": {},
   "outputs": [],
   "source": [
    "from comyx.network import (\n",
    "    UserEquipment,\n",
    "    BaseStation,\n",
    "    RIS,\n",
    "    Link,\n",
    "    effective_channel_gain,\n",
    ")\n",
    "from comyx.propagation import get_noise_power\n",
    "from comyx.utils import dbm2pow, get_distance, generate_seed, db2pow\n",
    "\n",
    "import numpy as np\n",
    "from numba import jit\n",
    "from matplotlib import pyplot as plt\n",
    "\n",
    "plt.rcParams[\"font.family\"] = \"STIXGeneral\"\n",
    "plt.rcParams[\"figure.figsize\"] = (6, 4)"
   ]
  },
  {
   "cell_type": "markdown",
   "metadata": {},
   "source": [
    "### Setup Environment"
   ]
  },
  {
   "cell_type": "code",
   "execution_count": 2,
   "metadata": {},
   "outputs": [],
   "source": [
    "Pt = np.linspace(-40, -10, 60)  # dBm\n",
    "Pt_lin = dbm2pow(Pt)  # Watt\n",
    "bandwidth = 1e6  # Bandwidth in Hz\n",
    "frequency = 2.4e9  # Carrier frequency\n",
    "temperature = 300  # Kelvin\n",
    "mc = 100000  # Number of channel realizations\n",
    "K = 3  # Rician factor\n",
    "\n",
    "N0 = get_noise_power(temperature, bandwidth)  # dBm\n",
    "N0_lin = dbm2pow(N0)  # Watt\n",
    "\n",
    "n_antennas = 1\n",
    "n_elements = 100\n",
    "\n",
    "nlos_fading_args = {\"type\": \"nakagami\", \"m\": 1, \"omega\": 1}\n",
    "los_fading_args = {\"type\": \"nakagami\", \"m\": 2, \"omega\": 1}\n",
    "\n",
    "bu_pathloss_args = {\n",
    "    \"type\": \"reference\",\n",
    "    \"alpha\": 3,\n",
    "    \"p0\": 30,\n",
    "    \"frequency\": frequency,\n",
    "}  # p0 is the reference power in dBm\n",
    "\n",
    "br_pathloss_args = {\"type\": \"reference\", \"alpha\": 2.7, \"p0\": 30, \"frequency\": frequency}\n",
    "ru_pathloss_args = {\"type\": \"reference\", \"alpha\": 2.7, \"p0\": 30, \"frequency\": frequency}"
   ]
  },
  {
   "cell_type": "code",
   "execution_count": 3,
   "metadata": {},
   "outputs": [
    {
     "name": "stdout",
     "output_type": "stream",
     "text": [
      "Distance between BS and UEn: 43.37049688440288\n",
      "Distance between BS and RIS: 21.79449471770337\n",
      "Distance between UE and RIS: 21.587033144922902\n"
     ]
    }
   ],
   "source": [
    "BS = BaseStation(\"BS\", position=[0, 0, 10], n_antennas=n_antennas, t_power=Pt_lin)\n",
    "UE = UserEquipment(\"UE\", position=[30, 30, 1], n_antennas=n_antennas)\n",
    "R = RIS(\"RIS\", position=[15, 15, 5], n_elements=n_elements)\n",
    "\n",
    "shape_ris = (n_elements, mc)\n",
    "\n",
    "R.phase_shifts = np.random.uniform(0, 2 * np.pi, shape_ris)\n",
    "R.amplitudes = np.ones(shape_ris)\n",
    "\n",
    "print(\"Distance between BS and UEn:\", get_distance(BS.position, UE.position))\n",
    "print(\"Distance between BS and RIS:\", get_distance(BS.position, R.position))\n",
    "print(\"Distance between UE and RIS:\", get_distance(UE.position, R.position))"
   ]
  },
  {
   "cell_type": "markdown",
   "metadata": {},
   "source": [
    "### Initialize Links"
   ]
  },
  {
   "cell_type": "code",
   "execution_count": 4,
   "metadata": {},
   "outputs": [],
   "source": [
    "# Shapes for channels\n",
    "shape_bu = (n_antennas, n_antennas, mc)\n",
    "shape_br = (n_elements, n_antennas, mc)\n",
    "shape_ru = (n_elements, n_antennas, mc)\n",
    "\n",
    "# Links\n",
    "# fmt: off\n",
    "link_bs_ue = Link(\n",
    "    BS, UE,\n",
    "    nlos_fading_args, bu_pathloss_args,\n",
    "    shape=shape_bu, seed=generate_seed(\"BS-UE\"),\n",
    ")\n",
    "\n",
    "link_ris_ue = Link(\n",
    "    R, UE,\n",
    "    los_fading_args, ru_pathloss_args,\n",
    "    shape=shape_br, seed=generate_seed(\"RIS-UE\"),\n",
    "    rician_args={\"K\": db2pow(K), \"order\": \"pre\"},\n",
    ")\n",
    "\n",
    "link_bs_ris = Link(\n",
    "    BS, R,\n",
    "    los_fading_args, br_pathloss_args,\n",
    "    shape=shape_br, seed=generate_seed(\"BS-RIS\"),\n",
    "    rician_args={\"K\": db2pow(K), \"order\": \"post\"},\n",
    ")"
   ]
  },
  {
   "cell_type": "markdown",
   "metadata": {},
   "source": [
    "### Optimize Phase Shifts"
   ]
  },
  {
   "cell_type": "markdown",
   "metadata": {},
   "source": [
    "Assuming full channel state information (CSI) is available to $\\mathrm{R}$, the phase shifts can be optimized if the reflected link is coherent with the direct link. In other words, for each element $k$, we have\n",
    "\n",
    "$$\n",
    "\\angle h_{\\text{cascade}} = \\angle h_{t, k} + \\phi_k + \\angle h_{k, r} = \\angle h_d,\n",
    "$$\n",
    "\n",
    "where $h_{t, k}$ and $h_{k, r}$ are complex scalars of the vectors $\\mathbf{H}_{t, R}$ and $\\mathbf{H}_{R, r}$, indexed by $k$. As per the above discussion, the optimal phase shift for the $k$-th element can be expressed as\n",
    "\n",
    "$$\n",
    "\\phi_k = \\angle h_d - \\angle h_{t, k} - \\angle h_{k, r}.\n",
    "$$"
   ]
  },
  {
   "cell_type": "code",
   "execution_count": 5,
   "metadata": {},
   "outputs": [
    {
     "name": "stdout",
     "output_type": "stream",
     "text": [
      "theta_d shape: (1, 1, 100000)\n",
      "theta_tR shape: (100, 1, 100000)\n",
      "theta_Rr shape: (100, 1, 100000)\n"
     ]
    }
   ],
   "source": [
    "theta_d = link_bs_ue.phase\n",
    "theta_tR = link_bs_ris.phase\n",
    "theta_Rr = link_ris_ue.phase\n",
    "\n",
    "# Shapes for ease-of-use\n",
    "print(\"theta_d shape:\", theta_d.shape)\n",
    "print(\"theta_tR shape:\", theta_tR.shape)\n",
    "print(\"theta_Rr shape:\", theta_Rr.shape)"
   ]
  },
  {
   "cell_type": "code",
   "execution_count": 6,
   "metadata": {},
   "outputs": [],
   "source": [
    "R.phase_shifts = np.squeeze(theta_d) - np.squeeze(theta_tR) - np.squeeze(theta_Rr)"
   ]
  },
  {
   "cell_type": "markdown",
   "metadata": {},
   "source": [
    "### Effective Channel Gain"
   ]
  },
  {
   "cell_type": "markdown",
   "metadata": {},
   "source": [
    "`comyx` has in-built functions to calculate the cascaded and effective channel gains."
   ]
  },
  {
   "cell_type": "code",
   "execution_count": 7,
   "metadata": {},
   "outputs": [],
   "source": [
    "gain_eff = effective_channel_gain(link_bs_ue, link_bs_ris, link_ris_ue, style=\"sum\")\n",
    "\n",
    "assert gain_eff.shape == link_bs_ue.shape, \"Shapes do not match\""
   ]
  },
  {
   "cell_type": "code",
   "execution_count": 8,
   "metadata": {},
   "outputs": [],
   "source": [
    "# Magnitude of the channel gains\n",
    "mag_d = link_bs_ue.magnitude**2\n",
    "mag_eff = np.abs(gain_eff) ** 2\n",
    "\n",
    "UE.sinr_wRIS = np.zeros((len(Pt), mc))\n",
    "UE.sinr_woRIS = np.zeros((len(Pt), mc))\n",
    "\n",
    "for i, p in enumerate(Pt_lin):\n",
    "    p = BS.t_power[i]\n",
    "    UE.sinr_wRIS[i, :] = (p * mag_eff) / N0_lin  # SINR with RIS\n",
    "    UE.sinr_woRIS[i, :] = (p * mag_d) / N0_lin  # SINR without RIS\n",
    "\n",
    "rate_wRIS = np.log2(1 + UE.sinr_wRIS)\n",
    "rate_woRIS = np.log2(1 + UE.sinr_woRIS)\n",
    "\n",
    "# Rate thresholds\n",
    "thresh = 3\n",
    "\n",
    "\n",
    "# JIT compiled as mc can be very large (>> 10000)\n",
    "@jit(nopython=True)\n",
    "def get_outage(rate, thresh):\n",
    "    outage = np.zeros((len(Pt), 1))\n",
    "\n",
    "    for i in range(len(Pt)):\n",
    "        for k in range(mc):\n",
    "            if rate[i, k] < thresh:\n",
    "                outage[i] += 1\n",
    "\n",
    "    return outage\n",
    "\n",
    "\n",
    "UE.outage_wRIS = get_outage(rate_wRIS, thresh) / mc\n",
    "UE.outage_woRIS = get_outage(rate_woRIS, thresh) / mc"
   ]
  },
  {
   "cell_type": "markdown",
   "metadata": {},
   "source": [
    "### Results"
   ]
  },
  {
   "cell_type": "code",
   "execution_count": 9,
   "metadata": {},
   "outputs": [],
   "source": [
    "plot_args = {\n",
    "    \"markevery\": 10,\n",
    "    \"color\": \"k\",\n",
    "    \"markerfacecolor\": \"r\",\n",
    "}\n",
    "\n",
    "UE.rate_wRIS = np.mean(rate_wRIS, axis=-1)\n",
    "UE.rate_woRIS = np.mean(rate_woRIS, axis=-1)\n",
    "\n",
    "# Plot achievable rates\n",
    "plt.figure()\n",
    "plt.plot(Pt, UE.rate_wRIS, label=\"Rate with RIS\", marker=\"s\", **plot_args)\n",
    "plt.plot(Pt, UE.rate_woRIS, label=\"Rate without RIS\", marker=\"d\", **plot_args)\n",
    "plt.xlabel(\"Transmit power (dBm)\")\n",
    "plt.ylabel(\"Rate (bps/Hz)\")\n",
    "plt.grid(alpha=0.25)\n",
    "plt.legend()\n",
    "plt.savefig(\"figs/rate_ris.png\", dpi=300, bbox_inches=\"tight\")\n",
    "plt.close()"
   ]
  },
  {
   "cell_type": "markdown",
   "metadata": {},
   "source": [
    "```{image} figs/rate_ris.png\n",
    ":alt: rate\n",
    ":class: dark-light\n",
    ":width: 500px\n",
    ":align: center\n",
    "```\n",
    "\n",
    "<br/>\n",
    "\n",
    "<div align=\"center\">\n",
    "Fig. 2. Achievable rates with and without RIS.\n",
    "</div>\n",
    "\n",
    "<br/>"
   ]
  },
  {
   "cell_type": "code",
   "execution_count": 10,
   "metadata": {},
   "outputs": [],
   "source": [
    "plot_args = {\n",
    "    \"markevery\": 10,\n",
    "    \"color\": \"k\",\n",
    "    \"markerfacecolor\": \"c\",\n",
    "}\n",
    "\n",
    "# Plot outage probabilities\n",
    "plt.figure()\n",
    "plt.semilogy(Pt, UE.outage_wRIS, label=\"Outage with RIS\", marker=\"s\", **plot_args)\n",
    "plt.semilogy(Pt, UE.outage_woRIS, label=\"Outage without RIS\", marker=\"d\", **plot_args)\n",
    "plt.xlabel(\"Transmit power (dBm)\")\n",
    "plt.ylabel(\"Outage probability\")\n",
    "plt.grid(alpha=0.25)\n",
    "plt.legend()\n",
    "plt.savefig(\"figs/op_ris.png\", dpi=300, bbox_inches=\"tight\")\n",
    "plt.close()"
   ]
  },
  {
   "cell_type": "markdown",
   "metadata": {},
   "source": [
    "```{image} figs/op_ris.png\n",
    ":alt: op\n",
    ":class: dark-light\n",
    ":width: 500px\n",
    ":align: center\n",
    "```\n",
    "\n",
    "<br/>\n",
    "\n",
    "<div align=\"center\">\n",
    "Fig. 3. Outage probability with and without RIS.\n",
    "</div>"
   ]
  }
 ],
 "metadata": {
  "kernelspec": {
   "display_name": "comyx",
   "language": "python",
   "name": "python3"
  },
  "language_info": {
   "codemirror_mode": {
    "name": "ipython",
    "version": 3
   },
   "file_extension": ".py",
   "mimetype": "text/x-python",
   "name": "python",
   "nbconvert_exporter": "python",
   "pygments_lexer": "ipython3",
   "version": "3.11.7"
  }
 },
 "nbformat": 4,
 "nbformat_minor": 2
}
