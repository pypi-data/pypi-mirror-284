{
 "cells": [
  {
   "cell_type": "markdown",
   "metadata": {},
   "source": [
    "# SISO Downlink NOMA"
   ]
  },
  {
   "cell_type": "markdown",
   "metadata": {},
   "source": [
    "## System Model"
   ]
  },
  {
   "cell_type": "markdown",
   "metadata": {},
   "source": [
    "Consider a simple downlink NOMA system with a single base station ($\\mathrm{BS}$), a cell-center user ($\\mathrm{UE}_n$) and a cell-edge user ($\\mathrm{UE}_f$).\n",
    "\n",
    "_For the sake of simplicity, assume that both base station and users are equipped with a single antenna._"
   ]
  },
  {
   "cell_type": "markdown",
   "metadata": {},
   "source": [
    "```{image} figs/dl_noma.png\n",
    ":alt: model\n",
    ":class: dark-light\n",
    ":width: 500px\n",
    ":align: center\n",
    "```\n",
    "\n",
    "<br/>\n",
    "\n",
    "<div align=\"center\">\n",
    "Fig. 1. Downlink NOMA system model.\n",
    "</div>\n",
    "\n",
    "<br/>"
   ]
  },
  {
   "cell_type": "markdown",
   "metadata": {},
   "source": [
    "Let $x_n$ and $x_f$ denote the messages intended for $\\mathrm{UE}_n$ and $\\mathrm{UE}_f$, respectively. The $\\mathrm{BS}$ transmits a superposition of the two messages weighted by the power allocation coefficients $\\alpha_n$ and $\\alpha_f$, respectively. Mathematically, the transmitted signal can be expressed as\n",
    "\n",
    "$$\n",
    "x = \\sqrt{\\alpha_n P_t} x_n + \\sqrt{\\alpha_f P_t} x_f,\n",
    "$$\n",
    "\n",
    "where $P_t$ is the transmit power of the $\\mathrm{BS}$.\n",
    "\n",
    "In NOMA, successive interference cancellation (SIC) is employed at the users to decode their intended messages. The optimal decoding order is in the order of increasing channel gains. Let $h_n$ and $h_f$ denote the channel gains of $\\mathrm{UE}_n$ and $\\mathrm{UE}_f$, respectively, then, for the present case, $|h_n|^2 > |h_f|^2$. As such, $\\mathrm{UE}_n$ decodes the message intended for $\\mathrm{UE}_f$ first and then cancels it from the received signal to decode its own message, while $\\mathrm{UE}_f$ decodes its own message directly. Furthermore, the received signal at $\\mathrm{UE}_i$, $i \\in \\{n, f\\}$, can be expressed as\n",
    "\n",
    "$$\n",
    "y_i = h_i x + n_i,\n",
    "$$\n",
    "\n",
    "where $n_i$ is the additive white Gaussian noise (AWGN) at $\\mathrm{UE}_i$ with zero mean and variance $\\sigma_i^2$.\n",
    "\n",
    "Assuming perfect SIC, the achievable rates at $\\mathrm{UE}_n$ and $\\mathrm{UE}_f$ are given by\n",
    "\n",
    "$$\n",
    "\\begin{align*}\n",
    "R_{n\\,\\rightarrow\\,f} &= \\log_2 \\left(1 + \\frac{\\alpha_f P_t |h_n|^2}{\\alpha_n P_t |h_n|^2 + N_0}\\right),\\\\\n",
    "R_n &= \\log_2 \\left(1 + \\frac{\\alpha_n P_t |h_n|^2}{N_0}\\right),\n",
    "\\end{align*}\n",
    "$$\n",
    "\n",
    "and\n",
    "\n",
    "$$\n",
    "R_f = \\log_2 \\left(1 + \\frac{\\alpha_f P_t |h_f|^2}{\\alpha_n P_t |h_f|^2 + N_0}\\right),\n",
    "$$\n",
    "\n",
    "where $N_0$ is the noise power spectral density, and $R_{f\\,\\rightarrow\\,n}$ is the achievable data rate at $\\mathrm{UE}_n$ before SIC."
   ]
  },
  {
   "cell_type": "markdown",
   "metadata": {},
   "source": [
    "## Simulation"
   ]
  },
  {
   "cell_type": "code",
   "execution_count": 1,
   "metadata": {},
   "outputs": [],
   "source": [
    "from comyx.network import UserEquipment, BaseStation, Link\n",
    "from comyx.propagation import get_noise_power\n",
    "from comyx.utils import dbm2pow, get_distance, generate_seed, db2pow\n",
    "\n",
    "\n",
    "import numpy as np\n",
    "from numba import jit\n",
    "from matplotlib import pyplot as plt\n",
    "\n",
    "plt.rcParams[\"font.family\"] = \"STIXGeneral\"\n",
    "plt.rcParams[\"figure.figsize\"] = (6, 4)"
   ]
  },
  {
   "cell_type": "markdown",
   "metadata": {},
   "source": [
    "### Setup Environment"
   ]
  },
  {
   "cell_type": "code",
   "execution_count": 2,
   "metadata": {},
   "outputs": [],
   "source": [
    "Pt = np.linspace(-10, 30, 80)  # dBm\n",
    "Pt_lin = dbm2pow(Pt)  # Watt\n",
    "bandwidth = 1e6  # Bandwidth in Hz\n",
    "frequency = 2.4e9  # Carrier frequency\n",
    "temperature = 300  # Kelvin\n",
    "mc = 100000  # Number of channel realizations\n",
    "\n",
    "N0 = get_noise_power(temperature, bandwidth)  # dBm\n",
    "N0_lin = dbm2pow(N0)  # Watt\n",
    "\n",
    "n_antennas = 1\n",
    "\n",
    "fading_args = {\"type\": \"rayleigh\", \"sigma\": 1 / 2}\n",
    "pathloss_args = {\n",
    "    \"type\": \"reference\",\n",
    "    \"alpha\": 3.5,\n",
    "    \"p0\": 20,\n",
    "    \"frequency\": frequency,\n",
    "}  # p0 is the reference power in dBm"
   ]
  },
  {
   "cell_type": "code",
   "execution_count": 3,
   "metadata": {},
   "outputs": [
    {
     "name": "stdout",
     "output_type": "stream",
     "text": [
      "Distance between BS and UEn: 282.98586537139977\n",
      "Distance between BS and UEf: 565.7570149808131\n"
     ]
    }
   ],
   "source": [
    "BS = BaseStation(\"BS\", position=[0, 0, 10], n_antennas=1, t_power=Pt_lin)\n",
    "UEn = UserEquipment(\"UEn\", position=[200, 200, 1], n_antennas=1)\n",
    "UEf = UserEquipment(\"UEf\", position=[400, 400, 1], n_antennas=1)\n",
    "\n",
    "print(\"Distance between BS and UEn:\", get_distance(BS.position, UEn.position))\n",
    "print(\"Distance between BS and UEf:\", get_distance(BS.position, UEf.position))"
   ]
  },
  {
   "cell_type": "markdown",
   "metadata": {},
   "source": [
    "### Initialize Links"
   ]
  },
  {
   "cell_type": "code",
   "execution_count": 4,
   "metadata": {},
   "outputs": [],
   "source": [
    "# Shapes for channels\n",
    "shape_bu = (n_antennas, n_antennas, mc)\n",
    "\n",
    "# Links\n",
    "# fmt: off\n",
    "link_bs_uen = Link(\n",
    "    BS, UEn,\n",
    "    fading_args, pathloss_args,\n",
    "    shape=shape_bu, seed=generate_seed(\"BS-UEn\"),\n",
    ")\n",
    "\n",
    "link_bs_uef = Link(\n",
    "    BS, UEf,\n",
    "    fading_args, pathloss_args,\n",
    "    shape=shape_bu, seed=generate_seed(\"BS-UEf\"),\n",
    ")"
   ]
  },
  {
   "cell_type": "markdown",
   "metadata": {},
   "source": [
    "Verify $|h_n|^2 > |h_f|^2$"
   ]
  },
  {
   "cell_type": "code",
   "execution_count": 5,
   "metadata": {},
   "outputs": [
    {
     "data": {
      "text/plain": [
       "True"
      ]
     },
     "execution_count": 5,
     "metadata": {},
     "output_type": "execute_result"
    }
   ],
   "source": [
    "np.mean(link_bs_uen.magnitude**2) > np.mean(link_bs_uef.magnitude**2)"
   ]
  },
  {
   "cell_type": "markdown",
   "metadata": {},
   "source": [
    "### Compute Rates"
   ]
  },
  {
   "cell_type": "markdown",
   "metadata": {},
   "source": [
    "As mentioned earlier, the achievable rates at $\\mathrm{UE}_n$ and $\\mathrm{UE}_f$ are given by\n",
    "\n",
    "$$\n",
    "R_n = \\log_2 \\left(1 + \\frac{\\alpha_n P_t |h_n|^2}{N_0}\\right),\n",
    "$$\n",
    "\n",
    "and\n",
    "\n",
    "$$\n",
    "R_f = \\log_2 \\left(1 + \\frac{\\alpha_f P_t |h_f|^2}{\\alpha_n P_t |h_f|^2 + N_0}\\right).\n",
    "$$\n",
    "\n",
    "As this notebook intends to give a simple illustration of NOMA, we assume that the power allocation coefficients are fixed. \n",
    "\n",
    "In particular, we set $\\alpha_n = 0.25$ and $\\alpha_f = 0.75$."
   ]
  },
  {
   "cell_type": "code",
   "execution_count": 6,
   "metadata": {},
   "outputs": [],
   "source": [
    "BS.allocations = {\"UEn\": 0.25, \"UEf\": 0.75}\n",
    "\n",
    "UEn.sinr_pre = np.zeros((len(Pt), mc))\n",
    "UEn.sinr = np.zeros((len(Pt), mc))\n",
    "UEf.sinr = np.zeros((len(Pt), mc))\n",
    "\n",
    "# Get channel gains\n",
    "gain_f = link_bs_uef.magnitude**2\n",
    "gain_n = link_bs_uen.magnitude**2\n",
    "\n",
    "for i, p in enumerate(Pt_lin):\n",
    "    p = BS.t_power[i]\n",
    "\n",
    "    # Edge user\n",
    "    UEf.sinr[i, :] = (BS.allocations[\"UEf\"] * p * gain_f) / (\n",
    "        BS.allocations[\"UEn\"] * p * gain_f + N0_lin\n",
    "    )\n",
    "\n",
    "    # Center user\n",
    "    UEn.sinr_pre[i, :] = (BS.allocations[\"UEf\"] * p * gain_n) / (\n",
    "        BS.allocations[\"UEn\"] * p * gain_n + N0_lin\n",
    "    )\n",
    "    UEn.sinr[i, :] = (BS.allocations[\"UEn\"] * p * gain_n) / N0_lin\n",
    "\n",
    "\n",
    "rate_nf = np.log2(1 + UEn.sinr_pre)\n",
    "rate_n = np.log2(1 + UEn.sinr)\n",
    "rate_f = np.log2(1 + UEf.sinr)\n",
    "\n",
    "# Rate thresholds\n",
    "thresh_n = 1\n",
    "thresh_f = 1\n",
    "\n",
    "\n",
    "# JIT compiled as mc can be very large (>> 10000)\n",
    "@jit(nopython=True)\n",
    "def get_outage(rate_nf, rate_n, rate_f, thresh_n, thresh_f):\n",
    "    outage_n = np.zeros((len(Pt), 1))\n",
    "    outage_f = np.zeros((len(Pt), 1))\n",
    "\n",
    "    for i in range(len(Pt)):\n",
    "        for k in range(mc):\n",
    "            if rate_nf[i, k] < thresh_f or rate_n[i, k] < thresh_n:\n",
    "                outage_n[i] += 1\n",
    "            if rate_f[i, k] < thresh_f:\n",
    "                outage_f[i] += 1\n",
    "\n",
    "    return outage_n, outage_f\n",
    "\n",
    "\n",
    "UEn.outage, UEf.outage = get_outage(rate_nf, rate_n, rate_f, thresh_n, thresh_f)\n",
    "UEn.outage /= mc\n",
    "UEf.outage /= mc"
   ]
  },
  {
   "cell_type": "markdown",
   "metadata": {},
   "source": [
    "### Results"
   ]
  },
  {
   "cell_type": "code",
   "execution_count": 7,
   "metadata": {},
   "outputs": [],
   "source": [
    "plot_args = {\n",
    "    \"markevery\": 10,\n",
    "    \"color\": \"k\",\n",
    "    \"markerfacecolor\": \"r\",\n",
    "}\n",
    "\n",
    "# Plot achievable rates\n",
    "plt.figure()\n",
    "plt.plot(Pt, UEn.rate, label=\"Rate UE$_n$\", marker=\"s\", **plot_args)\n",
    "plt.plot(Pt, UEf.rate, label=\"Rate UE$_f$\", marker=\"d\", **plot_args)\n",
    "plt.xlabel(\"Transmit power (dBm)\")\n",
    "plt.ylabel(\"Rate (bps/Hz)\")\n",
    "plt.grid(alpha=0.25)\n",
    "plt.legend()\n",
    "plt.savefig(\"figs/dl_noma_rate.png\", dpi=300, bbox_inches=\"tight\")\n",
    "plt.close()"
   ]
  },
  {
   "cell_type": "markdown",
   "metadata": {},
   "source": [
    "```{image} figs/dl_noma_rate.png\n",
    ":alt: rate\n",
    ":class: dark-light\n",
    ":width: 500px\n",
    ":align: center\n",
    "```\n",
    "\n",
    "<br/>\n",
    "\n",
    "<div align=\"center\">\n",
    "Fig. 2. Achievable rates at the users.\n",
    "</div>\n",
    "\n",
    "<br/>"
   ]
  },
  {
   "cell_type": "code",
   "execution_count": 8,
   "metadata": {},
   "outputs": [],
   "source": [
    "plot_args = {\n",
    "    \"markevery\": 10,\n",
    "    \"color\": \"k\",\n",
    "    \"markerfacecolor\": \"c\",\n",
    "}\n",
    "\n",
    "# Plot outage probabilities\n",
    "plt.figure()\n",
    "plt.semilogy(Pt, UEn.outage, label=\"Outage UE$_n$\", marker=\"s\", **plot_args)\n",
    "plt.semilogy(Pt, UEf.outage, label=\"Outage UE$_f$\", marker=\"d\", **plot_args)\n",
    "plt.xlabel(\"Transmit power (dBm)\")\n",
    "plt.ylabel(\"Outage probability\")\n",
    "plt.grid(alpha=0.25)\n",
    "plt.legend()\n",
    "plt.savefig(\"figs/dl_noma_op.png\", dpi=300, bbox_inches=\"tight\")\n",
    "plt.close()"
   ]
  },
  {
   "cell_type": "markdown",
   "metadata": {},
   "source": [
    "```{image} figs/dl_noma_op.png\n",
    ":alt: op\n",
    ":class: dark-light\n",
    ":width: 500px\n",
    ":align: center\n",
    "```\n",
    "\n",
    "<br/>\n",
    "\n",
    "<div align=\"center\">\n",
    "Fig. 3. Outage probability of the users.\n",
    "</div>"
   ]
  }
 ],
 "metadata": {
  "kernelspec": {
   "display_name": "comyx",
   "language": "python",
   "name": "python3"
  },
  "language_info": {
   "codemirror_mode": {
    "name": "ipython",
    "version": 3
   },
   "file_extension": ".py",
   "mimetype": "text/x-python",
   "name": "python",
   "nbconvert_exporter": "python",
   "pygments_lexer": "ipython3",
   "version": "3.11.7"
  }
 },
 "nbformat": 4,
 "nbformat_minor": 2
}
