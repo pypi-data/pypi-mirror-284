{
 "cells": [
  {
   "cell_type": "markdown",
   "metadata": {},
   "source": [
    "# Validation Demo\n",
    "\n",
    "This example will show how to evaluate Salient's probabilistic forecasts.\n"
   ]
  },
  {
   "cell_type": "code",
   "execution_count": null,
   "metadata": {},
   "outputs": [
    {
     "data": {
      "text/plain": [
       "<requests.sessions.Session at 0x7febd36fa690>"
      ]
     },
     "execution_count": null,
     "metadata": {},
     "output_type": "execute_result"
    }
   ],
   "source": [
    "import xarray as xr\n",
    "import pandas as pd\n",
    "import numpy as np\n",
    "\n",
    "import sys\n",
    "import os\n",
    "\n",
    "try:\n",
    "    import salientsdk as sk\n",
    "except ModuleNotFoundError as e:\n",
    "    if os.path.exists(\"../salientsdk\"):\n",
    "        sys.path.append(os.path.abspath(\"..\"))\n",
    "        import salientsdk as sk\n",
    "    else:\n",
    "        raise ModuleNotFoundError(\"Install salient SDK with: pip install salientsdk\")\n",
    "\n",
    "# Prevent wrapping on tables for readability\n",
    "pd.set_option(\"display.width\", None)\n",
    "pd.set_option(\"display.max_columns\", None)\n",
    "pd.set_option(\"display.expand_frame_repr\", False)\n",
    "\n",
    "# The variable that we'll be evaluating.\n",
    "var = \"temp\"\n",
    "fld = \"anom\"\n",
    "timescale = \"sub-seasonal\"\n",
    "start_date = \"2021-01-01\"\n",
    "end_date = \"2021-12-31\"\n",
    "ref_model = \"clim\"\n",
    "\n",
    "sk.set_file_destination(\"validation_example\")\n",
    "sk.login(\"username\", \"password\")"
   ]
  },
  {
   "cell_type": "markdown",
   "metadata": {},
   "source": [
    "## Set geographic bounds\n",
    "\n",
    "The Salient SDK uses a \"Location\" object to specify the geographic bounds of a request.\n"
   ]
  },
  {
   "cell_type": "code",
   "execution_count": null,
   "metadata": {},
   "outputs": [
    {
     "name": "stdout",
     "output_type": "stream",
     "text": [
      "(37.7749, -122.4194)\n"
     ]
    }
   ],
   "source": [
    "if True:  # lat/lon\n",
    "    loc = sk.Location(37.7749, -122.4194)\n",
    "elif False:  # \"shapefile\"\n",
    "    # Not currently supported by forecast_timeseries\n",
    "    shp_file = sk.upload_bounding_box(-109.1, -102.0, 37.8, 41.0, \"Colorado\")\n",
    "    loc = sk.Location(shapefile=shp_file)\n",
    "elif True:  # \"location_file\"\n",
    "    loc_file = sk.upload_location_file(\n",
    "        lats=[37.7749, 33.9416, 32.7336],\n",
    "        lons=[-122.4194, -118.4085, -117.1897],\n",
    "        names=[\"SFO\", \"LAX\", \"SAN\"],\n",
    "        geoname=\"CA_Airports\",\n",
    "    )\n",
    "    loc = sk.Location(location_file=loc_file)\n",
    "else:\n",
    "    raise ValueError(\"Invalid location type\")\n",
    "\n",
    "print(loc)"
   ]
  },
  {
   "cell_type": "markdown",
   "metadata": {},
   "source": [
    "## Forecast\n",
    "\n",
    "The [`forecast_timeseries`](https://sdk.salientpredictions.com/api/#salientsdk.forecast_timeseries) API endpoint and SDK function returns Salient's native temporally granular weekly/monthly/quarterly forecasts.\n"
   ]
  },
  {
   "cell_type": "code",
   "execution_count": null,
   "metadata": {},
   "outputs": [
    {
     "name": "stdout",
     "output_type": "stream",
     "text": [
      "                                             file_name        date  model\n",
      "0    validation_example/forecast_timeseries_6e149e8...  2021-01-03  blend\n",
      "1    validation_example/forecast_timeseries_b5b2e5d...  2021-01-03   clim\n",
      "2    validation_example/forecast_timeseries_7f3f3be...  2021-01-10  blend\n",
      "3    validation_example/forecast_timeseries_0390b0f...  2021-01-10   clim\n",
      "4    validation_example/forecast_timeseries_9568136...  2021-01-17  blend\n",
      "..                                                 ...         ...    ...\n",
      "99   validation_example/forecast_timeseries_244dd5a...  2021-12-12   clim\n",
      "100  validation_example/forecast_timeseries_5e5a25e...  2021-12-19  blend\n",
      "101  validation_example/forecast_timeseries_34c4052...  2021-12-19   clim\n",
      "102  validation_example/forecast_timeseries_334bb13...  2021-12-26  blend\n",
      "103  validation_example/forecast_timeseries_121fb74...  2021-12-26   clim\n",
      "\n",
      "[104 rows x 3 columns]\n"
     ]
    }
   ],
   "source": [
    "date_range = pd.date_range(start=start_date, end=end_date, freq=\"W\").strftime(\"%Y-%m-%d\").tolist()\n",
    "\n",
    "fcst = sk.forecast_timeseries(\n",
    "    loc=loc,\n",
    "    variable=var,\n",
    "    field=fld,\n",
    "    date=date_range,\n",
    "    timescale=timescale,\n",
    "    model=[\"blend\", ref_model],\n",
    "    reference_clim=\"30_yr\",  # this is the climatology used by data_timeseries\n",
    "    verbose=False,\n",
    "    force=False,\n",
    ")\n",
    "\n",
    "print(fcst)"
   ]
  },
  {
   "cell_type": "markdown",
   "metadata": {},
   "source": [
    "## Historical\n",
    "\n",
    "Download daily historical values from [`data_timeseries`](https://sdk.salientpredictions.com/api/#salientsdk.data_timeseries) and then aggregate to match the forecasts, so that we can ensure that all forecasts use the same dates.\n"
   ]
  },
  {
   "cell_type": "code",
   "execution_count": null,
   "metadata": {},
   "outputs": [
    {
     "name": "stdout",
     "output_type": "stream",
     "text": [
      "<xarray.Dataset> Size: 6kB\n",
      "Dimensions:  (time: 400, location: 1)\n",
      "Coordinates:\n",
      "  * time     (time) datetime64[ns] 3kB 2021-01-01 2021-01-02 ... 2022-02-04\n",
      "    lat      (location) float64 8B 37.77\n",
      "    lon      (location) float64 8B -122.4\n",
      "Dimensions without coordinates: location\n",
      "Data variables:\n",
      "    anom     (time, location) float64 3kB -0.2312 1.134 ... -0.3179 -0.7596\n",
      "Attributes:\n",
      "    long_name:   2 metre temperature\n",
      "    units:       degC\n",
      "    clim_start:  1990-01-01\n",
      "    clim_end:    2019-12-31\n"
     ]
    }
   ],
   "source": [
    "duration = {\"sub-seasonal\": 7 * 5, \"seasonal\": 30 * 3, \"long-range\": 90 * 4}[timescale]\n",
    "hist = sk.data_timeseries(\n",
    "    loc=loc,\n",
    "    variable=var,\n",
    "    field=fld,\n",
    "    start=start_date,\n",
    "    end=np.datetime64(end_date) + np.timedelta64(duration, \"D\"),\n",
    "    frequency=\"daily\",\n",
    "    # reference_clim=\"30_yr\",  implicitly uses 30 yr climatology\n",
    "    verbose=False,\n",
    "    force=False,\n",
    ")\n",
    "print(xr.load_dataset(hist))"
   ]
  },
  {
   "cell_type": "markdown",
   "metadata": {},
   "source": [
    "## Calculate Skill Metrics\n",
    "\n",
    "Compare the forecast and observed datasets to see how well they match.\n"
   ]
  },
  {
   "cell_type": "code",
   "execution_count": null,
   "metadata": {},
   "outputs": [
    {
     "name": "stdout",
     "output_type": "stream",
     "text": [
      "<xarray.DataArray 'crps' (lead_weekly: 5, location: 1)> Size: 40B\n",
      "array([[0.51113442],\n",
      "       [0.48719398],\n",
      "       [0.56312406],\n",
      "       [0.56776205],\n",
      "       [0.5550928 ]])\n",
      "Coordinates:\n",
      "    lat          (location) float64 8B 37.77\n",
      "    lon          (location) float64 8B -122.4\n",
      "  * lead_weekly  (lead_weekly) int32 20B 1 2 3 4 5\n",
      "Dimensions without coordinates: location\n",
      "Attributes:\n",
      "    long_name:  Average Temperature Anomaly CRPS\n",
      "    units:      degC\n"
     ]
    }
   ],
   "source": [
    "skill_fcst = sk.skill.crps(observations=hist, forecasts=fcst[fcst[\"model\"] == \"blend\"])\n",
    "print(skill_fcst)"
   ]
  },
  {
   "cell_type": "markdown",
   "metadata": {},
   "source": [
    "### Calculate Relative Skill\n",
    "\n",
    "CRPS shows skill without context. A \"skill score\" will compare two different skills for a relative value. In the example below, we will compare the Salient blend with climatology (historical averages).\n"
   ]
  },
  {
   "cell_type": "code",
   "execution_count": null,
   "metadata": {},
   "outputs": [
    {
     "name": "stdout",
     "output_type": "stream",
     "text": [
      "<xarray.DataArray 'crpss' (lead_weekly: 5, location: 1)> Size: 40B\n",
      "array([[ 0.14086106],\n",
      "       [ 0.183023  ],\n",
      "       [ 0.05724795],\n",
      "       [-0.01447167],\n",
      "       [-0.00077589]])\n",
      "Coordinates:\n",
      "    lat          (location) float64 8B 37.77\n",
      "    lon          (location) float64 8B -122.4\n",
      "  * lead_weekly  (lead_weekly) int32 20B 1 2 3 4 5\n",
      "Dimensions without coordinates: location\n",
      "Attributes:\n",
      "    long_name:  Average Temperature Anomaly CRPS Skill\n"
     ]
    }
   ],
   "source": [
    "skill_ref = sk.skill.crps(observations=hist, forecasts=fcst[fcst[\"model\"] == ref_model])\n",
    "\n",
    "skill_score = sk.skill.crpss(forecast=skill_fcst, reference=skill_ref)\n",
    "\n",
    "print(skill_score)"
   ]
  },
  {
   "cell_type": "markdown",
   "metadata": {},
   "source": [
    "### Compare to pre-computed skill\n"
   ]
  },
  {
   "cell_type": "code",
   "execution_count": null,
   "metadata": {},
   "outputs": [
    {
     "name": "stdout",
     "output_type": "stream",
     "text": [
      "     Lead      Reference Model  Reference CRPS  Salient CRPS  Salient CRPS Skill Score (%)\n",
      "0  Week 1  30 year Climatology             0.9          0.46                          49.3\n",
      "1  Week 2  30 year Climatology             0.9          0.65                          27.9\n",
      "2  Week 3  30 year Climatology             0.9          0.78                          13.5\n",
      "3  Week 4  30 year Climatology             0.9          0.81                          10.1\n",
      "4  Week 5  30 year Climatology             0.9          0.82                           8.8\n"
     ]
    }
   ],
   "source": [
    "skill_summ = sk.hindcast_summary(\n",
    "    loc=loc,\n",
    "    metric=\"crps\",\n",
    "    variable=var,\n",
    "    timescale=timescale,\n",
    "    reference=ref_model,\n",
    "    split_set=\"test\",\n",
    ")\n",
    "\n",
    "print(pd.read_csv(skill_summ))"
   ]
  }
 ],
 "metadata": {
  "kernelspec": {
   "display_name": "salient",
   "language": "python",
   "name": "python3"
  },
  "language_info": {
   "codemirror_mode": {
    "name": "ipython",
    "version": 3
   },
   "file_extension": ".py",
   "mimetype": "text/x-python",
   "name": "python",
   "nbconvert_exporter": "python",
   "pygments_lexer": "ipython3",
   "version": "3.11.5"
  }
 },
 "nbformat": 4,
 "nbformat_minor": 2
}
