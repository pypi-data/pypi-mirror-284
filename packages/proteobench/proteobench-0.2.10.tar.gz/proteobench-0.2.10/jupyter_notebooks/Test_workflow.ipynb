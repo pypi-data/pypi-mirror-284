{
 "cells": [
  {
   "cell_type": "code",
   "execution_count": 10,
   "metadata": {},
   "outputs": [],
   "source": [
    "import os\n",
    "\n",
    "from proteobench.modules.dda_quant.module_dda_quant import load_input_file, parse_settings_dda_quant, get_quant, get_quant_ratios\n",
    "from proteobench.modules.dda_quant import parse_dda_id\n",
    "\n",
    "from proteobench.modules.dda_quant.parse_settings_dda_quant import INPUT_FORMATS\n",
    "\n",
    "from proteobench.modules.dda_quant import plot_dda_id\n",
    "from proteobench.modules.dda_quant.__metadata__ import Metadata"
   ]
  },
  {
   "cell_type": "code",
   "execution_count": 11,
   "metadata": {},
   "outputs": [
    {
     "ename": "NameError",
     "evalue": "name 'compute_metadata' is not defined",
     "output_type": "error",
     "traceback": [
      "\u001b[0;31m---------------------------------------------------------------------------\u001b[0m",
      "\u001b[0;31mNameError\u001b[0m                                 Traceback (most recent call last)",
      "Cell \u001b[0;32mIn [11], line 42\u001b[0m\n\u001b[1;32m     36\u001b[0m \u001b[39m# Compute quantification ratios\u001b[39;00m\n\u001b[1;32m     37\u001b[0m result_performance \u001b[39m=\u001b[39m get_quant_ratios(\n\u001b[1;32m     38\u001b[0m             cv_replicate_quant_df,\n\u001b[1;32m     39\u001b[0m             species_quant_df,\n\u001b[1;32m     40\u001b[0m             parse_settings\n\u001b[1;32m     41\u001b[0m )\n\u001b[0;32m---> 42\u001b[0m _metadata \u001b[39m=\u001b[39m compute_metadata(result_performance, input_format, user_input, \u001b[39m\"\u001b[39m\u001b[39mproteobench/modules/dda_quant/results.json\u001b[39m\u001b[39m\"\u001b[39m)\n",
      "\u001b[0;31mNameError\u001b[0m: name 'compute_metadata' is not defined"
     ]
    }
   ],
   "source": [
    "TESTDATA_DIR = \"../Data/WOMBAT/\"\n",
    "TESTDATA_FILES = { \"WOMBAT\"         : os.path.join(TESTDATA_DIR, 'stand_pep_quant_mergedproline.csv'),\n",
    "                 \"MaxQuant\"         : os.path.join(TESTDATA_DIR, 'evidence_sample.txt')\n",
    "}\n",
    "user_input = dict()\n",
    "user_input[\"input_csv\"] = TESTDATA_FILES[\"WOMBAT\"]\n",
    "user_input[\"input_format\"] = \"WOMBAT\"\n",
    "user_input[\"mbr\"] = True\n",
    "#df = module_dda_quant.benchmarking(\n",
    "#    user_input[\"input_csv\"],\n",
    "#    user_input[\"input_format\"],\n",
    "#    user_input[\"mbr\"]\n",
    "#)\n",
    "\n",
    "input_file = user_input[\"input_csv\"]\n",
    "input_format =user_input[\"input_format\"]\n",
    "\n",
    "# Parse user config\n",
    "input_df = load_input_file(input_file,input_format)\n",
    "parse_settings = parse_settings_dda_quant.ParseSettings(input_format)\n",
    "\n",
    "prepared_df, replicate_to_raw = parse_dda_id.prepare_df(\n",
    "    input_df,\n",
    "    parse_settings\n",
    ")\n",
    "\n",
    "#print(prepared_df.columns)\n",
    "\n",
    "# Get quantification data\n",
    "species_quant_df, cv_replicate_quant_df = get_quant(\n",
    "        prepared_df,\n",
    "        replicate_to_raw,\n",
    "        parse_settings\n",
    ")\n",
    "\n",
    "# Compute quantification ratios\n",
    "result_performance = get_quant_ratios(\n",
    "            cv_replicate_quant_df,\n",
    "            species_quant_df,\n",
    "            parse_settings\n",
    ")\n",
    "_metadata = compute_metadata(result_performance, input_format, user_input, \"proteobench/modules/dda_quant/results.json\")\n"
   ]
  },
  {
   "cell_type": "code",
   "execution_count": 6,
   "metadata": {},
   "outputs": [
    {
     "data": {
      "text/plain": [
       "Index(['abundance_A_1', 'abundance_A_2', 'abundance_A_3', 'abundance_B_1',\n",
       "       'abundance_B_2', 'abundance_B_3', 'mean_of_1', 'missing_values_1',\n",
       "       'mean_of_2', 'missing_values_2', 'YEAST', 'ECOLI', 'HUMAN', '1|2_ratio',\n",
       "       '1|2_expected_ratio_diff'],\n",
       "      dtype='object')"
      ]
     },
     "execution_count": 6,
     "metadata": {},
     "output_type": "execute_result"
    }
   ],
   "source": [
    "result_performance.keys()"
   ]
  },
  {
   "cell_type": "code",
   "execution_count": null,
   "metadata": {},
   "outputs": [],
   "source": [
    "df.keys()\n"
   ]
  },
  {
   "cell_type": "code",
   "execution_count": null,
   "metadata": {},
   "outputs": [],
   "source": [
    "print(list(set(df.columns).difference(set(meltvars))))\n"
   ]
  },
  {
   "cell_type": "code",
   "execution_count": null,
   "metadata": {},
   "outputs": [],
   "source": []
  },
  {
   "cell_type": "code",
   "execution_count": null,
   "metadata": {},
   "outputs": [],
   "source": []
  }
 ],
 "metadata": {
  "kernelspec": {
   "display_name": "Python 3",
   "language": "python",
   "name": "python3"
  },
  "language_info": {
   "codemirror_mode": {
    "name": "ipython",
    "version": 3
   },
   "file_extension": ".py",
   "mimetype": "text/x-python",
   "name": "python",
   "nbconvert_exporter": "python",
   "pygments_lexer": "ipython3",
   "version": "3.10.6"
  },
  "orig_nbformat": 4,
  "vscode": {
   "interpreter": {
    "hash": "916dbcbb3f70747c44a77c7bcd40155683ae19c65e1c03b4aa3499c5328201f1"
   }
  }
 },
 "nbformat": 4,
 "nbformat_minor": 2
}
