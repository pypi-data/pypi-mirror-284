{
 "cells": [
  {
   "cell_type": "markdown",
   "source": [
    "# Import the Zenbase Library"
   ],
   "metadata": {
    "collapsed": false
   }
  },
  {
   "cell_type": "code",
   "outputs": [],
   "source": [
    "import sys\n",
    "import subprocess\n",
    "\n",
    "def install_package(package):\n",
    "    try:\n",
    "        subprocess.check_call([sys.executable, \"-m\", \"pip\", \"install\", package])\n",
    "    except subprocess.CalledProcessError as e:\n",
    "        print(f\"Failed to install {package}: {e}\")\n",
    "        raise\n",
    "\n",
    "def install_packages(packages):\n",
    "    for package in packages:\n",
    "        install_package(package)\n",
    "\n",
    "try:\n",
    "    # Check if running in Google Colab\n",
    "    import google.colab\n",
    "    IN_COLAB = True\n",
    "except ImportError:\n",
    "    IN_COLAB = False\n",
    "\n",
    "if IN_COLAB:\n",
    "    # Install the zenbase package if running in Google Colab\n",
    "    # install_package('zenbase')\n",
    "    # Install the zenbse package from a GitHub branch if running in Google Colab\n",
    "    install_package('git+https://github.com/zenbase-ai/lib.git@main#egg=zenbase&subdirectory=py')\n",
    "\n",
    "    # List of other packages to install in Google Colab\n",
    "    additional_packages = [\n",
    "        'python-dotenv',\n",
    "        'arize-phoenix[evals]',\n",
    "        'openai',\n",
    "        'langchain',\n",
    "        'langchain_openai'\n",
    "    ]\n",
    "    \n",
    "    # Install additional packages\n",
    "    install_packages(additional_packages)\n",
    "\n",
    "# Now import the zenbase library\n",
    "try:\n",
    "    import zenbase\n",
    "except ImportError as e:\n",
    "    print(\"Failed to import zenbase: \", e)\n",
    "    raise"
   ],
   "metadata": {
    "collapsed": false,
    "ExecuteTime": {
     "end_time": "2024-07-12T00:36:42.820769Z",
     "start_time": "2024-07-12T00:36:42.809025Z"
    }
   },
   "execution_count": 1
  },
  {
   "cell_type": "markdown",
   "source": [
    "# Configure the Environment"
   ],
   "metadata": {
    "collapsed": false
   }
  },
  {
   "cell_type": "code",
   "execution_count": 2,
   "metadata": {
    "ExecuteTime": {
     "end_time": "2024-07-12T00:36:42.835727Z",
     "start_time": "2024-07-12T00:36:42.823376Z"
    }
   },
   "outputs": [
    {
     "data": {
      "text/plain": "True"
     },
     "execution_count": 2,
     "metadata": {},
     "output_type": "execute_result"
    }
   ],
   "source": [
    "from pathlib import Path\n",
    "from dotenv import load_dotenv\n",
    "\n",
    "# import os\n",
    "#\n",
    "# os.environ[\"OPENAI_API_KEY\"] = \"...\"\n",
    "\n",
    "load_dotenv(Path(\"../../.env.test\"), override=True)"
   ]
  },
  {
   "cell_type": "code",
   "execution_count": 3,
   "metadata": {
    "ExecuteTime": {
     "end_time": "2024-07-12T00:36:42.841395Z",
     "start_time": "2024-07-12T00:36:42.837479Z"
    }
   },
   "outputs": [],
   "source": [
    "import nest_asyncio\n",
    "\n",
    "nest_asyncio.apply()"
   ]
  },
  {
   "cell_type": "markdown",
   "source": [
    "# Initial Setup\n"
   ],
   "metadata": {
    "collapsed": false
   }
  },
  {
   "cell_type": "code",
   "execution_count": 4,
   "metadata": {
    "ExecuteTime": {
     "end_time": "2024-07-12T00:36:50.305778Z",
     "start_time": "2024-07-12T00:36:42.842872Z"
    }
   },
   "outputs": [
    {
     "name": "stdout",
     "output_type": "stream",
     "text": [
      "🌍 To view the Phoenix app in your browser, visit http://localhost:6006/\n",
      "📖 For more information on how to use Phoenix, check out https://docs.arize.com/phoenix\n"
     ]
    }
   ],
   "source": [
    "# initiate the phoenix app\n",
    "import phoenix as px\n",
    "px.launch_app()\n",
    "# initiate the phoenix client\n",
    "arize_phoenix = px.Client()"
   ]
  },
  {
   "cell_type": "code",
   "outputs": [],
   "source": [
    "from openai import OpenAI\n",
    "openai = OpenAI()"
   ],
   "metadata": {
    "collapsed": false,
    "ExecuteTime": {
     "end_time": "2024-07-12T00:36:50.615073Z",
     "start_time": "2024-07-12T00:36:50.308802Z"
    }
   },
   "execution_count": 5
  },
  {
   "cell_type": "code",
   "outputs": [
    {
     "name": "stdout",
     "output_type": "stream",
     "text": [
      "📤 Uploading dataset...\n",
      "💾 Examples uploaded: http://localhost:6006/datasets/RGF0YXNldDox/examples\n",
      "🗄️ Dataset version ID: RGF0YXNldFZlcnNpb246MQ==\n",
      "📤 Uploading dataset...\n",
      "💾 Examples uploaded: http://localhost:6006/datasets/RGF0YXNldDoy/examples\n",
      "🗄️ Dataset version ID: RGF0YXNldFZlcnNpb246Mg==\n",
      "📤 Uploading dataset...\n",
      "💾 Examples uploaded: http://localhost:6006/datasets/RGF0YXNldDoz/examples\n",
      "🗄️ Dataset version ID: RGF0YXNldFZlcnNpb246Mw==\n"
     ]
    }
   ],
   "source": [
    "from zenbase.utils import ksuid\n",
    "from zenbase.adaptors.arize import ZenArizeAdaptor\n",
    "zen_arize_adaptor = ZenArizeAdaptor(arize_phoenix)\n",
    "\n",
    "# setup datasets\n",
    "import datasets\n",
    "gsm8k_dataset = datasets.load_dataset(\"gsm8k\", \"main\")\n",
    "TESTSET_SIZE = 2\n",
    "TRAINSET_SIZE = 5\n",
    "VALIDATIONSET_SIZE = 2\n",
    "\n",
    "\n",
    "def create_dataset_with_examples(zen_arize_adaptor: ZenArizeAdaptor, prefix: str, item_set: list) -> str:\n",
    "    dataset_name = ksuid(prefix=prefix)\n",
    "\n",
    "    inputs = [{\"question\": example[\"question\"]} for example in item_set]\n",
    "    expected_outputs = [{\"answer\": example[\"answer\"]} for example in item_set]\n",
    "    zen_arize_adaptor.add_examples_to_dataset(dataset_name, inputs, expected_outputs)\n",
    "    return dataset_name\n",
    "\n",
    "train_set = create_dataset_with_examples(\n",
    "        zen_arize_adaptor,\n",
    "        \"GSM8K_train_set\",\n",
    "        list(gsm8k_dataset[\"train\"].select(range(TRAINSET_SIZE))),\n",
    "    )\n",
    "\n",
    "validation_set = create_dataset_with_examples(\n",
    "        zen_arize_adaptor,\n",
    "        \"GSM8K_validation_set\",\n",
    "        list(gsm8k_dataset[\"train\"].select(range(TRAINSET_SIZE + 1, TRAINSET_SIZE + VALIDATIONSET_SIZE + 1))),\n",
    "    )\n",
    "\n",
    "test_set = create_dataset_with_examples(\n",
    "        zen_arize_adaptor,\n",
    "        \"GSM8K_test_set\",\n",
    "        list(gsm8k_dataset[\"test\"].select(range(TESTSET_SIZE))),\n",
    "    )"
   ],
   "metadata": {
    "collapsed": false,
    "ExecuteTime": {
     "end_time": "2024-07-12T00:36:56.605953Z",
     "start_time": "2024-07-12T00:36:50.616294Z"
    }
   },
   "execution_count": 6
  },
  {
   "cell_type": "markdown",
   "source": [
    "# Now, you probably already have some LLM code."
   ],
   "metadata": {
    "collapsed": false
   }
  },
  {
   "cell_type": "markdown",
   "source": [
    "It could use the OpenAI SDK, LangChain, or anything really. But it looks something like this:"
   ],
   "metadata": {
    "collapsed": false
   }
  },
  {
   "cell_type": "code",
   "execution_count": 7,
   "metadata": {
    "ExecuteTime": {
     "end_time": "2024-07-12T00:36:56.917350Z",
     "start_time": "2024-07-12T00:36:56.607502Z"
    }
   },
   "outputs": [],
   "source": [
    "from langchain_core.output_parsers import StrOutputParser\n",
    "from langchain_core.prompts import ChatPromptTemplate\n",
    "from langchain_openai import ChatOpenAI\n",
    "\n",
    "def solver(inputs):\n",
    "    inputs = inputs[\"inputs\"]\n",
    "    messages = [\n",
    "        (\n",
    "            \"system\",\n",
    "            \"\"\"You are an expert math solver. Solve the given problem using the provided plan and operations.\n",
    "        Return only the final numerical answer, without any additional text or explanation.\"\"\",\n",
    "        ),\n",
    "    ]\n",
    "\n",
    "    messages.extend(\n",
    "        [\n",
    "            (\"user\", \"Question: {question}\"),\n",
    "            (\"user\", \"Plan: {plan}\"),\n",
    "            (\"user\", \"Mathematical Operation: {operation}\"),\n",
    "            (\"user\", \"Provide the final numerical answer:\"),\n",
    "        ]\n",
    "    )\n",
    "\n",
    "    chain = ChatPromptTemplate.from_messages(messages) | ChatOpenAI(model=\"gpt-3.5-turbo\") | StrOutputParser()\n",
    "\n",
    "    plan = planner_chain(inputs)\n",
    "    operation = operation_finder({\"plan\": plan[\"plan\"], \"question\": inputs[\"question\"]})\n",
    "\n",
    "    inputs_to_answer = {\n",
    "        \"question\": inputs[\"question\"],\n",
    "        \"plan\": plan[\"plan\"],\n",
    "        \"operation\": operation[\"operation\"],\n",
    "    }\n",
    "    answer = chain.invoke(inputs_to_answer)\n",
    "    return {\"answer\": answer}\n",
    "\n",
    "def planner_chain(inputs):\n",
    "    messages = [\n",
    "        (\n",
    "            \"system\",\n",
    "            \"\"\"You are an expert math solver. Create a step-by-step plan to solve the given problem.\n",
    "        Be clear and concise in your steps.\"\"\",\n",
    "        ),\n",
    "        (\"user\", \"Problem: {question}\\n\\nProvide a step-by-step plan to solve this problem:\"),\n",
    "    ]\n",
    "\n",
    "    chain = ChatPromptTemplate.from_messages(messages) | ChatOpenAI(model=\"gpt-3.5-turbo\") | StrOutputParser()\n",
    "    plan = chain.invoke(inputs)\n",
    "    return {\"plan\": plan}\n",
    "\n",
    "def operation_finder(inputs):\n",
    "    messages = [\n",
    "        (\n",
    "            \"system\",\n",
    "            \"\"\"You are an expert math solver. Identify the overall mathematical operation needed to solve the\n",
    "             problem\n",
    "        based on the given plan. Use simple operations like addition, subtraction, multiplication, and division.\"\"\",\n",
    "        ),\n",
    "        (\"user\", \"Question: {question}\"),\n",
    "        (\"user\", \"Plan: {plan}\"),\n",
    "        (\"user\", \"Identify the primary mathematical operation needed:\"),\n",
    "    ]\n",
    "\n",
    "    chain = ChatPromptTemplate.from_messages(messages) | ChatOpenAI(model=\"gpt-3.5-turbo\") | StrOutputParser()\n",
    "    operation = chain.invoke(inputs)\n",
    "    return {\"operation\": operation}\n"
   ]
  },
  {
   "cell_type": "code",
   "outputs": [
    {
     "data": {
      "text/plain": "{'answer': '4'}"
     },
     "execution_count": 8,
     "metadata": {},
     "output_type": "execute_result"
    }
   ],
   "source": [
    "solver({\"inputs\": {\"question\": \"What is 2 + 2?\"}})"
   ],
   "metadata": {
    "collapsed": false,
    "ExecuteTime": {
     "end_time": "2024-07-12T00:36:59.766999Z",
     "start_time": "2024-07-12T00:36:56.920164Z"
    }
   },
   "execution_count": 8
  },
  {
   "cell_type": "markdown",
   "source": [
    "## And let's say you have an eval function like this"
   ],
   "metadata": {
    "collapsed": false
   }
  },
  {
   "cell_type": "code",
   "outputs": [],
   "source": [
    "def score_answer(output: str, expected: dict):\n",
    "    \"\"\"The first argument is the return value from the `langchain_chain` function above.\"\"\"\n",
    "\n",
    "    score = int(output[\"answer\"] == expected[\"outputs\"][\"answer\"].split(\"#### \")[-1])\n",
    "    return score\n"
   ],
   "metadata": {
    "collapsed": false,
    "ExecuteTime": {
     "end_time": "2024-07-12T00:36:59.772585Z",
     "start_time": "2024-07-12T00:36:59.769017Z"
    }
   },
   "execution_count": 9
  },
  {
   "cell_type": "markdown",
   "source": [
    "## Then you're probably evaluating like this"
   ],
   "metadata": {
    "collapsed": false
   }
  },
  {
   "cell_type": "code",
   "execution_count": 10,
   "metadata": {
    "ExecuteTime": {
     "end_time": "2024-07-12T00:37:09.602369Z",
     "start_time": "2024-07-12T00:36:59.774601Z"
    }
   },
   "outputs": [
    {
     "name": "stdout",
     "output_type": "stream",
     "text": [
      "🧪 Experiment started.\n",
      "📺 View dataset experiments: http://localhost:6006/datasets/RGF0YXNldDoz/experiments\n",
      "🔗 View this experiment: http://localhost:6006/datasets/RGF0YXNldDoz/compare?experimentId=RXhwZXJpbWVudDox\n"
     ]
    },
    {
     "data": {
      "text/plain": "running tasks |          | 0/2 (0.0%) | ⏳ 00:00<? | ?it/s",
      "application/vnd.jupyter.widget-view+json": {
       "version_major": 2,
       "version_minor": 0,
       "model_id": "4b8f25d0db7740539bc583c67597820e"
      }
     },
     "metadata": {},
     "output_type": "display_data"
    },
    {
     "name": "stdout",
     "output_type": "stream",
     "text": [
      "✅ Task runs completed.\n",
      "🧠 Evaluation started.\n"
     ]
    },
    {
     "data": {
      "text/plain": "running experiment evaluations |          | 0/2 (0.0%) | ⏳ 00:00<? | ?it/s",
      "application/vnd.jupyter.widget-view+json": {
       "version_major": 2,
       "version_minor": 0,
       "model_id": "d479462e9d404f19bd168ccc29ef2bf6"
      }
     },
     "metadata": {},
     "output_type": "display_data"
    },
    {
     "name": "stdout",
     "output_type": "stream",
     "text": [
      "\n",
      "🔗 View this experiment: http://localhost:6006/datasets/RGF0YXNldDoz/compare?experimentId=RXhwZXJpbWVudDox\n",
      "\n",
      "Experiment Summary (07/11/24 06:37 PM -0600)\n",
      "--------------------------------------------\n",
      "      evaluator  n  n_scores  avg_score\n",
      "0  score_answer  2         2        1.0\n",
      "\n",
      "Tasks Summary (07/11/24 06:37 PM -0600)\n",
      "---------------------------------------\n",
      "   n_examples  n_runs  n_errors\n",
      "0           2       2         0\n"
     ]
    }
   ],
   "source": [
    "from phoenix.experiments import run_experiment\n",
    "\n",
    "experiment = run_experiment(\n",
    "                arize_phoenix.get_dataset(name=test_set),\n",
    "                solver,\n",
    "                experiment_name=\"Experiment-Name\",\n",
    "                evaluators=[score_answer],\n",
    "            )"
   ]
  },
  {
   "cell_type": "markdown",
   "source": [
    " # Now, how can we optimize this score of 0.6?"
   ],
   "metadata": {
    "collapsed": false
   }
  },
  {
   "cell_type": "markdown",
   "source": [
    "## First, initialize the Zenbase ZenbaseTracer and import the Langfuse helper"
   ],
   "metadata": {
    "collapsed": false
   }
  },
  {
   "cell_type": "code",
   "outputs": [],
   "source": [
    "from zenbase.core.managers import ZenbaseTracer\n",
    "zenbase_tracer = ZenbaseTracer()\n",
    "\n",
    "from zenbase.adaptors.arize import ZenArizeAdaptor\n",
    "zen_arize_adaptor = ZenArizeAdaptor(arize_phoenix)"
   ],
   "metadata": {
    "collapsed": false,
    "ExecuteTime": {
     "end_time": "2024-07-12T00:37:09.609260Z",
     "start_time": "2024-07-12T00:37:09.603637Z"
    }
   },
   "execution_count": 11
  },
  {
   "cell_type": "markdown",
   "source": [
    "## Hook up Zenbase to your functions\n",
    "\n",
    "1. Use the `zenbase_tracer` decorator.\n",
    "2. Change function inputs to request\n",
    "3. Use request's `zenbase.task_demos` to get the few-shot examples for the task and add them however you would like into your prompt.\n",
    "4. If you need to use just a few examples, you can use `request.zenbase.task_demos[:2]` to get the first two examples."
   ],
   "metadata": {
    "collapsed": false
   }
  },
  {
   "cell_type": "code",
   "execution_count": 12,
   "metadata": {
    "ExecuteTime": {
     "end_time": "2024-07-12T00:37:09.620717Z",
     "start_time": "2024-07-12T00:37:09.610605Z"
    }
   },
   "outputs": [],
   "source": [
    "from zenbase.types import LMRequest\n",
    "global_demo_inputs = {\n",
    "    'demo.inputs[\"inputs\"]': [],\n",
    "    'demo.inputs': [],\n",
    "    'demo_input[\"question\"]': []\n",
    "}\n",
    "global_demo_outputs = {\n",
    "    'demo.outputs[\"outputs\"]': [],\n",
    "    'demo.outputs': [],\n",
    "    'demo_output[\"answer\"]': []\n",
    "}\n",
    "\n",
    "@zenbase_tracer  # it is 1\n",
    "def solver(request: LMRequest):  # it is 2\n",
    "    request.inputs = request.inputs[\"inputs\"]\n",
    "    messages = [\n",
    "        (\n",
    "            \"system\",\n",
    "            \"\"\"You are an expert math solver. Solve the given problem using the provided plan and operations.\n",
    "        Return only the final numerical answer, without any additional text or explanation.\"\"\",\n",
    "        ),\n",
    "    ]\n",
    "\n",
    "    for demo in request.zenbase.task_demos:  # it is 3\n",
    "        demo_input = demo.inputs[\"inputs\"][\"question\"]\n",
    "        demo_output = demo.outputs[\"outputs\"][\"answer\"]\n",
    "\n",
    "        messages += [\n",
    "            (\"user\", f\"Example Question: {demo_input}\"),\n",
    "            (\"assistant\", f\"Example Answer: {demo_output}\"),\n",
    "        ]  # it is 4\n",
    "\n",
    "    messages.extend(\n",
    "        [\n",
    "            (\"user\", \"Question: {question}\"),\n",
    "            (\"user\", \"Plan: {plan}\"),\n",
    "            (\"user\", \"Mathematical Operation: {operation}\"),\n",
    "            (\"user\", \"Provide the final numerical answer:\"),\n",
    "        ]\n",
    "    )\n",
    "\n",
    "    chain = ChatPromptTemplate.from_messages(messages) | ChatOpenAI(model=\"gpt-3.5-turbo\") | StrOutputParser()\n",
    "\n",
    "    plan = planner_chain(request.inputs)\n",
    "    operation = operation_finder({\"plan\": plan[\"plan\"], \"question\": request.inputs[\"question\"]})\n",
    "\n",
    "    inputs_to_answer = {\n",
    "        \"question\": request.inputs[\"question\"],\n",
    "        \"plan\": plan[\"plan\"],\n",
    "        \"operation\": operation[\"operation\"],\n",
    "    }\n",
    "    answer = chain.invoke(inputs_to_answer)\n",
    "    return {\"answer\": answer}\n",
    "\n",
    "@zenbase_tracer  # it is 1\n",
    "def planner_chain(request: LMRequest):  # it is 2\n",
    "    messages = [\n",
    "        (\n",
    "            \"system\",\n",
    "            \"\"\"You are an expert math solver. Create a step-by-step plan to solve the given problem.\n",
    "        Be clear and concise in your steps.\"\"\",\n",
    "        ),\n",
    "        (\"user\", \"Problem: {question}\\n\\nProvide a step-by-step plan to solve this problem:\"),\n",
    "    ]\n",
    "\n",
    "    if request.zenbase.task_demos:  # it is 3\n",
    "        for demo in request.zenbase.task_demos[:2]:  # it is 4\n",
    "            messages += [\n",
    "                (\"user\", demo.inputs[\"inputs\"][\"question\"]),\n",
    "                (\"assistant\", demo.outputs[\"outputs\"][\"plan\"]),\n",
    "            ]\n",
    "\n",
    "    chain = ChatPromptTemplate.from_messages(messages) | ChatOpenAI(model=\"gpt-3.5-turbo\") | StrOutputParser()\n",
    "    plan = chain.invoke(request.inputs)\n",
    "    return {\"plan\": plan}\n",
    "\n",
    "@zenbase_tracer  # it is 1\n",
    "def operation_finder(request: LMRequest):  # it is 2\n",
    "    messages = [\n",
    "        (\n",
    "            \"system\",\n",
    "            \"\"\"You are an expert math solver. Identify the overall mathematical operation needed to solve the\n",
    "             problem\n",
    "        based on the given plan. Use simple operations like addition, subtraction, multiplication, and division.\"\"\",\n",
    "        ),\n",
    "        (\"user\", \"Question: {question}\"),\n",
    "        (\"user\", \"Plan: {plan}\"),\n",
    "        (\"user\", \"Identify the primary mathematical operation needed:\"),\n",
    "    ]\n",
    "\n",
    "    if request.zenbase.task_demos:  # it is 3\n",
    "        for demo in request.zenbase.task_demos[:2]:  # it is 4\n",
    "            messages += [\n",
    "                (\"user\", demo.inputs[\"inputs\"][\"question\"]),\n",
    "                (\"user\", demo.inputs[\"inputs\"][\"plan\"]),\n",
    "                (\"assistant\", demo.outputs[\"outputs\"][\"operation\"]),\n",
    "            ]\n",
    "\n",
    "    chain = ChatPromptTemplate.from_messages(messages) | ChatOpenAI(model=\"gpt-3.5-turbo\") | StrOutputParser()\n",
    "    operation = chain.invoke(request.inputs)\n",
    "    return {\"operation\": operation}\n"
   ]
  },
  {
   "cell_type": "code",
   "outputs": [],
   "source": [
    "return_langchain = solver({\"inputs\": {\"question\": \"What is 2 + 2?\"}})"
   ],
   "metadata": {
    "collapsed": false,
    "ExecuteTime": {
     "end_time": "2024-07-12T00:37:11.748691Z",
     "start_time": "2024-07-12T00:37:09.622175Z"
    }
   },
   "execution_count": 13
  },
  {
   "cell_type": "markdown",
   "source": [
    "## Now we can optimize!"
   ],
   "metadata": {
    "collapsed": false
   }
  },
  {
   "cell_type": "markdown",
   "source": [
    "### Set up your optimizer:"
   ],
   "metadata": {
    "collapsed": false
   }
  },
  {
   "cell_type": "code",
   "outputs": [],
   "source": [
    "from zenbase.optim.metric.bootstrap_few_shot import BootstrapFewShot\n",
    "\n",
    "SHOTS = 2\n",
    "SAMPLES = 2\n",
    "\n",
    "evaluator_kwargs = dict(\n",
    "    dataset=arize_phoenix.get_dataset(name=test_set), evaluators=[score_answer]\n",
    "\n",
    ")\n",
    "\n",
    "bootstrap_few_shot = BootstrapFewShot(\n",
    "    shots=SHOTS,\n",
    "    training_set=train_set,\n",
    "    test_set=test_set,\n",
    "    validation_set=validation_set,\n",
    "    evaluator_kwargs=evaluator_kwargs,\n",
    "    zen_adaptor=zen_arize_adaptor,\n",
    ")\n"
   ],
   "metadata": {
    "collapsed": false,
    "ExecuteTime": {
     "end_time": "2024-07-12T00:37:11.807992Z",
     "start_time": "2024-07-12T00:37:11.751236Z"
    }
   },
   "execution_count": 14
  },
  {
   "cell_type": "markdown",
   "source": [
    "### Do the optimization"
   ],
   "metadata": {
    "collapsed": false
   }
  },
  {
   "cell_type": "code",
   "outputs": [
    {
     "name": "stdout",
     "output_type": "stream",
     "text": [
      "🧪 Experiment started.\n",
      "📺 View dataset experiments: http://localhost:6006/datasets/RGF0YXNldDoz/experiments\n",
      "🔗 View this experiment: http://localhost:6006/datasets/RGF0YXNldDoz/compare?experimentId=RXhwZXJpbWVudDoy\n"
     ]
    },
    {
     "data": {
      "text/plain": "running tasks |          | 0/2 (0.0%) | ⏳ 00:00<? | ?it/s",
      "application/vnd.jupyter.widget-view+json": {
       "version_major": 2,
       "version_minor": 0,
       "model_id": "bcdf2bdcf5ec4194b1e9539796322b70"
      }
     },
     "metadata": {},
     "output_type": "display_data"
    },
    {
     "name": "stdout",
     "output_type": "stream",
     "text": [
      "✅ Task runs completed.\n",
      "🧠 Evaluation started.\n"
     ]
    },
    {
     "data": {
      "text/plain": "running experiment evaluations |          | 0/2 (0.0%) | ⏳ 00:00<? | ?it/s",
      "application/vnd.jupyter.widget-view+json": {
       "version_major": 2,
       "version_minor": 0,
       "model_id": "d745ad935b60450ebdd242e74809248f"
      }
     },
     "metadata": {},
     "output_type": "display_data"
    },
    {
     "name": "stdout",
     "output_type": "stream",
     "text": [
      "\n",
      "🔗 View this experiment: http://localhost:6006/datasets/RGF0YXNldDoz/compare?experimentId=RXhwZXJpbWVudDoy\n",
      "\n",
      "Experiment Summary (07/11/24 06:37 PM -0600)\n",
      "--------------------------------------------\n",
      "      evaluator  n  n_scores  avg_score\n",
      "0  score_answer  2         2        0.0\n",
      "\n",
      "Tasks Summary (07/11/24 06:37 PM -0600)\n",
      "---------------------------------------\n",
      "   n_examples  n_runs  n_errors\n",
      "0           2       2         0\n",
      "🧪 Experiment started.\n",
      "📺 View dataset experiments: http://localhost:6006/datasets/RGF0YXNldDoy/experiments\n",
      "🔗 View this experiment: http://localhost:6006/datasets/RGF0YXNldDoy/compare?experimentId=RXhwZXJpbWVudDoz\n"
     ]
    },
    {
     "data": {
      "text/plain": "running tasks |          | 0/2 (0.0%) | ⏳ 00:00<? | ?it/s",
      "application/vnd.jupyter.widget-view+json": {
       "version_major": 2,
       "version_minor": 0,
       "model_id": "e069f741b7b84c6fb7443fea744006b9"
      }
     },
     "metadata": {},
     "output_type": "display_data"
    },
    {
     "name": "stdout",
     "output_type": "stream",
     "text": [
      "✅ Task runs completed.\n",
      "🧠 Evaluation started.\n"
     ]
    },
    {
     "data": {
      "text/plain": "running experiment evaluations |          | 0/2 (0.0%) | ⏳ 00:00<? | ?it/s",
      "application/vnd.jupyter.widget-view+json": {
       "version_major": 2,
       "version_minor": 0,
       "model_id": "e9d21489109d4b72923b3f3239d12356"
      }
     },
     "metadata": {},
     "output_type": "display_data"
    },
    {
     "name": "stdout",
     "output_type": "stream",
     "text": [
      "\n",
      "🔗 View this experiment: http://localhost:6006/datasets/RGF0YXNldDoy/compare?experimentId=RXhwZXJpbWVudDoz\n",
      "\n",
      "Experiment Summary (07/11/24 06:37 PM -0600)\n",
      "--------------------------------------------\n",
      "      evaluator  n  n_scores  avg_score\n",
      "0  score_answer  2         2        0.5\n",
      "\n",
      "Tasks Summary (07/11/24 06:37 PM -0600)\n",
      "---------------------------------------\n",
      "   n_examples  n_runs  n_errors\n",
      "0           2       2         0\n",
      "🧪 Experiment started.\n",
      "📺 View dataset experiments: http://localhost:6006/datasets/RGF0YXNldDoy/experiments\n",
      "🔗 View this experiment: http://localhost:6006/datasets/RGF0YXNldDoy/compare?experimentId=RXhwZXJpbWVudDo0\n"
     ]
    },
    {
     "data": {
      "text/plain": "running tasks |          | 0/2 (0.0%) | ⏳ 00:00<? | ?it/s",
      "application/vnd.jupyter.widget-view+json": {
       "version_major": 2,
       "version_minor": 0,
       "model_id": "a7fc256feb6d4cf9bdc373f4189124db"
      }
     },
     "metadata": {},
     "output_type": "display_data"
    },
    {
     "name": "stdout",
     "output_type": "stream",
     "text": [
      "✅ Task runs completed.\n",
      "🧠 Evaluation started.\n"
     ]
    },
    {
     "data": {
      "text/plain": "running experiment evaluations |          | 0/2 (0.0%) | ⏳ 00:00<? | ?it/s",
      "application/vnd.jupyter.widget-view+json": {
       "version_major": 2,
       "version_minor": 0,
       "model_id": "be91e7c7e8534a198dce99d22f4b38dd"
      }
     },
     "metadata": {},
     "output_type": "display_data"
    },
    {
     "name": "stdout",
     "output_type": "stream",
     "text": [
      "\n",
      "🔗 View this experiment: http://localhost:6006/datasets/RGF0YXNldDoy/compare?experimentId=RXhwZXJpbWVudDo0\n",
      "\n",
      "Experiment Summary (07/11/24 06:37 PM -0600)\n",
      "--------------------------------------------\n",
      "      evaluator  n  n_scores  avg_score\n",
      "0  score_answer  2         2        0.5\n",
      "\n",
      "Tasks Summary (07/11/24 06:37 PM -0600)\n",
      "---------------------------------------\n",
      "   n_examples  n_runs  n_errors\n",
      "0           2       2         0\n",
      "🧪 Experiment started.\n",
      "📺 View dataset experiments: http://localhost:6006/datasets/RGF0YXNldDox/experiments\n",
      "🔗 View this experiment: http://localhost:6006/datasets/RGF0YXNldDox/compare?experimentId=RXhwZXJpbWVudDo1\n"
     ]
    },
    {
     "data": {
      "text/plain": "running tasks |          | 0/5 (0.0%) | ⏳ 00:00<? | ?it/s",
      "application/vnd.jupyter.widget-view+json": {
       "version_major": 2,
       "version_minor": 0,
       "model_id": "092f12b1075149a4b0afac5d1c540e13"
      }
     },
     "metadata": {},
     "output_type": "display_data"
    },
    {
     "name": "stdout",
     "output_type": "stream",
     "text": [
      "✅ Task runs completed.\n",
      "🧠 Evaluation started.\n"
     ]
    },
    {
     "data": {
      "text/plain": "running experiment evaluations |          | 0/5 (0.0%) | ⏳ 00:00<? | ?it/s",
      "application/vnd.jupyter.widget-view+json": {
       "version_major": 2,
       "version_minor": 0,
       "model_id": "690d3f2d87304bc58400fec10c113b13"
      }
     },
     "metadata": {},
     "output_type": "display_data"
    },
    {
     "name": "stdout",
     "output_type": "stream",
     "text": [
      "\n",
      "🔗 View this experiment: http://localhost:6006/datasets/RGF0YXNldDox/compare?experimentId=RXhwZXJpbWVudDo1\n",
      "\n",
      "Experiment Summary (07/11/24 06:37 PM -0600)\n",
      "--------------------------------------------\n",
      "      evaluator  n  n_scores  avg_score\n",
      "0  score_answer  5         5        0.6\n",
      "\n",
      "Tasks Summary (07/11/24 06:37 PM -0600)\n",
      "---------------------------------------\n",
      "   n_examples  n_runs  n_errors\n",
      "0           5       5         0\n",
      "🧪 Experiment started.\n",
      "📺 View dataset experiments: http://localhost:6006/datasets/RGF0YXNldDoz/experiments\n",
      "🔗 View this experiment: http://localhost:6006/datasets/RGF0YXNldDoz/compare?experimentId=RXhwZXJpbWVudDo2\n"
     ]
    },
    {
     "data": {
      "text/plain": "running tasks |          | 0/2 (0.0%) | ⏳ 00:00<? | ?it/s",
      "application/vnd.jupyter.widget-view+json": {
       "version_major": 2,
       "version_minor": 0,
       "model_id": "3b83c358add241b99c0bd99ef65d3383"
      }
     },
     "metadata": {},
     "output_type": "display_data"
    },
    {
     "name": "stdout",
     "output_type": "stream",
     "text": [
      "✅ Task runs completed.\n",
      "🧠 Evaluation started.\n"
     ]
    },
    {
     "data": {
      "text/plain": "running experiment evaluations |          | 0/2 (0.0%) | ⏳ 00:00<? | ?it/s",
      "application/vnd.jupyter.widget-view+json": {
       "version_major": 2,
       "version_minor": 0,
       "model_id": "5cbf9bb2f4f54462aab68cf6d0ecc1f9"
      }
     },
     "metadata": {},
     "output_type": "display_data"
    },
    {
     "name": "stdout",
     "output_type": "stream",
     "text": [
      "\n",
      "🔗 View this experiment: http://localhost:6006/datasets/RGF0YXNldDoz/compare?experimentId=RXhwZXJpbWVudDo2\n",
      "\n",
      "Experiment Summary (07/11/24 06:38 PM -0600)\n",
      "--------------------------------------------\n",
      "      evaluator  n  n_scores  avg_score\n",
      "0  score_answer  2         2        0.0\n",
      "\n",
      "Tasks Summary (07/11/24 06:38 PM -0600)\n",
      "---------------------------------------\n",
      "   n_examples  n_runs  n_errors\n",
      "0           2       2         0\n"
     ]
    }
   ],
   "source": [
    "# Empty the traces\n",
    "zenbase_tracer.all_traces = {}\n",
    "# Run the optimization\n",
    "best_fn, candidates = bootstrap_few_shot.perform(\n",
    "    solver,\n",
    "    samples=SAMPLES,\n",
    "    rounds=1,\n",
    "    trace_manager=zenbase_tracer,\n",
    ")"
   ],
   "metadata": {
    "collapsed": false,
    "ExecuteTime": {
     "end_time": "2024-07-12T00:38:14.013212Z",
     "start_time": "2024-07-12T00:37:11.809331Z"
    }
   },
   "execution_count": 15
  },
  {
   "cell_type": "markdown",
   "source": [
    "### Use your optimized function\n"
   ],
   "metadata": {
    "collapsed": false
   }
  },
  {
   "cell_type": "code",
   "outputs": [
    {
     "name": "stdout",
     "output_type": "stream",
     "text": [
      "demo.inputs[\"inputs\"]: 0\n",
      "demo.inputs: 0\n",
      "demo_input[\"question\"]: 0\n",
      "demo.outputs[\"outputs\"]: 0\n",
      "demo.outputs: 0\n",
      "demo_output[\"answer\"]: 0\n"
     ]
    }
   ],
   "source": [
    "for k,v in global_demo_inputs.items():\n",
    "    print(f\"{k}: {len(v)}\")\n",
    "    \n",
    "for k,v in global_demo_outputs.items():\n",
    "    print(f\"{k}: {len(v)}\")"
   ],
   "metadata": {
    "collapsed": false,
    "ExecuteTime": {
     "end_time": "2024-07-12T00:38:14.018623Z",
     "start_time": "2024-07-12T00:38:14.014608Z"
    }
   },
   "execution_count": 16
  },
  {
   "cell_type": "code",
   "outputs": [
    {
     "data": {
      "text/plain": "{'answer': '42'}"
     },
     "execution_count": 17,
     "metadata": {},
     "output_type": "execute_result"
    }
   ],
   "source": [
    "zenbase_tracer.all_traces = {}\n",
    "best_fn({\"inputs\":{\"question\": \"What is 2+2?\"}})"
   ],
   "metadata": {
    "collapsed": false,
    "ExecuteTime": {
     "end_time": "2024-07-12T00:38:16.568813Z",
     "start_time": "2024-07-12T00:38:14.020754Z"
    }
   },
   "execution_count": 17
  },
  {
   "cell_type": "markdown",
   "source": [
    "### Introspect function traces"
   ],
   "metadata": {
    "collapsed": false
   }
  },
  {
   "cell_type": "code",
   "outputs": [],
   "source": [
    "function_traces = [v for k, v in zenbase_tracer.all_traces.items()][0][\"optimized\"]\n"
   ],
   "metadata": {
    "collapsed": false,
    "ExecuteTime": {
     "end_time": "2024-07-12T00:38:16.574267Z",
     "start_time": "2024-07-12T00:38:16.570610Z"
    }
   },
   "execution_count": 18
  },
  {
   "cell_type": "markdown",
   "source": [
    "### Check the optimized parameters for planner_chain"
   ],
   "metadata": {
    "collapsed": false
   }
  },
  {
   "cell_type": "code",
   "outputs": [
    {
     "name": "stdout",
     "output_type": "stream",
     "text": [
      "[LMDemo(inputs={'inputs': {'question': 'Natalia sold clips to 48 of her '\n",
      "                                       'friends in April, and then she sold '\n",
      "                                       'half as many clips in May. How many '\n",
      "                                       'clips did Natalia sell altogether in '\n",
      "                                       'April and May?'}},\n",
      "        outputs={'outputs': {'plan': 'Step 1: Calculate the number of clips '\n",
      "                                     'Natalia sold in May by dividing the '\n",
      "                                     'number of clips sold in April by 2.\\n'\n",
      "                                     'Number of clips sold in May = 48 / 2 = '\n",
      "                                     '24\\n'\n",
      "                                     '\\n'\n",
      "                                     'Step 2: Add the number of clips sold in '\n",
      "                                     'April and May to find the total number '\n",
      "                                     'of clips sold altogether.\\n'\n",
      "                                     'Total clips sold = 48 (April) + 24 (May) '\n",
      "                                     '= 72\\n'\n",
      "                                     '\\n'\n",
      "                                     'Step 3: Natalia sold 72 clips altogether '\n",
      "                                     'in April and May.'}},\n",
      "        adaptor_object=None),\n",
      " LMDemo(inputs={'inputs': {'question': 'Julie is reading a 120-page book. '\n",
      "                                       'Yesterday, she was able to read 12 '\n",
      "                                       'pages and today, she read twice as '\n",
      "                                       'many pages as yesterday. If she wants '\n",
      "                                       'to read half of the remaining pages '\n",
      "                                       'tomorrow, how many pages should she '\n",
      "                                       'read?'}},\n",
      "        outputs={'outputs': {'plan': '1. Calculate how many pages Julie has '\n",
      "                                     'read so far: 12 pages yesterday + (2 * '\n",
      "                                     '12 pages) today = 12 + 24 = 36 pages.\\n'\n",
      "                                     '2. Determine how many pages are left to '\n",
      "                                     'read: 120 total pages - 36 pages read = '\n",
      "                                     '84 pages remaining.\\n'\n",
      "                                     '3. Calculate how many pages Julie wants '\n",
      "                                     'to read tomorrow: 84 pages / 2 = 42 '\n",
      "                                     'pages.\\n'\n",
      "                                     '4. Therefore, Julie should read 42 pages '\n",
      "                                     'tomorrow to achieve her goal.'}},\n",
      "        adaptor_object=None),\n",
      " LMDemo(inputs={'inputs': {'question': 'James writes a 3-page letter to 2 '\n",
      "                                       'different friends twice a week.  How '\n",
      "                                       'many pages does he write a year?'}},\n",
      "        outputs={'outputs': {'plan': 'Step 1: Find out how many pages James '\n",
      "                                     'writes to one friend in a week. \\n'\n",
      "                                     '   - He writes a 3-page letter to each '\n",
      "                                     'friend twice a week. So, for one friend, '\n",
      "                                     'he writes 3 pages x 2 = 6 pages in a '\n",
      "                                     'week.\\n'\n",
      "                                     '\\n'\n",
      "                                     'Step 2: Find out how many pages James '\n",
      "                                     'writes to both friends in a week.\\n'\n",
      "                                     '   - Since he writes 6 pages per week to '\n",
      "                                     'one friend, he writes 6 pages x 2 '\n",
      "                                     'friends = 12 pages in a week to both '\n",
      "                                     'friends.\\n'\n",
      "                                     '\\n'\n",
      "                                     'Step 3: Find out how many pages James '\n",
      "                                     'writes in a year.\\n'\n",
      "                                     '   - In a year, there are 52 weeks. So, '\n",
      "                                     'he writes 12 pages/week x 52 weeks/year '\n",
      "                                     '= 624 pages in a year.\\n'\n",
      "                                     '\\n'\n",
      "                                     'Step 4: Therefore, James writes 624 '\n",
      "                                     'pages in a year.'}},\n",
      "        adaptor_object=None)]\n"
     ]
    }
   ],
   "source": [
    "from pprint import pprint\n",
    "\n",
    "pprint(function_traces[\"planner_chain\"][\"args\"][\"request\"].zenbase.task_demos)\n"
   ],
   "metadata": {
    "collapsed": false,
    "ExecuteTime": {
     "end_time": "2024-07-12T00:38:16.581764Z",
     "start_time": "2024-07-12T00:38:16.576615Z"
    }
   },
   "execution_count": 19
  },
  {
   "cell_type": "markdown",
   "source": [
    "### Check the optimized parameters for operation_finder chain"
   ],
   "metadata": {
    "collapsed": false
   }
  },
  {
   "cell_type": "code",
   "outputs": [
    {
     "name": "stdout",
     "output_type": "stream",
     "text": [
      "[LMDemo(inputs={'inputs': {'plan': 'Step 1: Calculate the number of clips '\n",
      "                                   'Natalia sold in May by dividing the number '\n",
      "                                   'of clips sold in April by 2.\\n'\n",
      "                                   'Number of clips sold in May = 48 / 2 = 24\\n'\n",
      "                                   '\\n'\n",
      "                                   'Step 2: Add the number of clips sold in '\n",
      "                                   'April and May to find the total number of '\n",
      "                                   'clips sold altogether.\\n'\n",
      "                                   'Total clips sold = 48 (April) + 24 (May) = '\n",
      "                                   '72\\n'\n",
      "                                   '\\n'\n",
      "                                   'Step 3: Natalia sold 72 clips altogether '\n",
      "                                   'in April and May.',\n",
      "                           'question': 'Natalia sold clips to 48 of her '\n",
      "                                       'friends in April, and then she sold '\n",
      "                                       'half as many clips in May. How many '\n",
      "                                       'clips did Natalia sell altogether in '\n",
      "                                       'April and May?'}},\n",
      "        outputs={'outputs': {'operation': 'The primary mathematical operation '\n",
      "                                          'needed is addition.'}},\n",
      "        adaptor_object=None),\n",
      " LMDemo(inputs={'inputs': {'plan': '1. Calculate how many pages Julie has read '\n",
      "                                   'so far: 12 pages yesterday + (2 * 12 '\n",
      "                                   'pages) today = 12 + 24 = 36 pages.\\n'\n",
      "                                   '2. Determine how many pages are left to '\n",
      "                                   'read: 120 total pages - 36 pages read = 84 '\n",
      "                                   'pages remaining.\\n'\n",
      "                                   '3. Calculate how many pages Julie wants to '\n",
      "                                   'read tomorrow: 84 pages / 2 = 42 pages.\\n'\n",
      "                                   '4. Therefore, Julie should read 42 pages '\n",
      "                                   'tomorrow to achieve her goal.',\n",
      "                           'question': 'Julie is reading a 120-page book. '\n",
      "                                       'Yesterday, she was able to read 12 '\n",
      "                                       'pages and today, she read twice as '\n",
      "                                       'many pages as yesterday. If she wants '\n",
      "                                       'to read half of the remaining pages '\n",
      "                                       'tomorrow, how many pages should she '\n",
      "                                       'read?'}},\n",
      "        outputs={'outputs': {'operation': 'The primary mathematical operation '\n",
      "                                          'needed is division.'}},\n",
      "        adaptor_object=None),\n",
      " LMDemo(inputs={'inputs': {'plan': 'Step 1: Find out how many pages James '\n",
      "                                   'writes to one friend in a week. \\n'\n",
      "                                   '   - He writes a 3-page letter to each '\n",
      "                                   'friend twice a week. So, for one friend, '\n",
      "                                   'he writes 3 pages x 2 = 6 pages in a '\n",
      "                                   'week.\\n'\n",
      "                                   '\\n'\n",
      "                                   'Step 2: Find out how many pages James '\n",
      "                                   'writes to both friends in a week.\\n'\n",
      "                                   '   - Since he writes 6 pages per week to '\n",
      "                                   'one friend, he writes 6 pages x 2 friends '\n",
      "                                   '= 12 pages in a week to both friends.\\n'\n",
      "                                   '\\n'\n",
      "                                   'Step 3: Find out how many pages James '\n",
      "                                   'writes in a year.\\n'\n",
      "                                   '   - In a year, there are 52 weeks. So, he '\n",
      "                                   'writes 12 pages/week x 52 weeks/year = 624 '\n",
      "                                   'pages in a year.\\n'\n",
      "                                   '\\n'\n",
      "                                   'Step 4: Therefore, James writes 624 pages '\n",
      "                                   'in a year.',\n",
      "                           'question': 'James writes a 3-page letter to 2 '\n",
      "                                       'different friends twice a week.  How '\n",
      "                                       'many pages does he write a year?'}},\n",
      "        outputs={'outputs': {'operation': 'Multiplication'}},\n",
      "        adaptor_object=None)]\n"
     ]
    }
   ],
   "source": [
    "from pprint import pprint\n",
    "\n",
    "pprint(function_traces[\"operation_finder\"][\"args\"][\"request\"].zenbase.task_demos)\n"
   ],
   "metadata": {
    "collapsed": false,
    "ExecuteTime": {
     "end_time": "2024-07-12T00:38:16.588610Z",
     "start_time": "2024-07-12T00:38:16.583278Z"
    }
   },
   "execution_count": 20
  },
  {
   "cell_type": "markdown",
   "source": [
    "### Check the optimized parameters for solver"
   ],
   "metadata": {
    "collapsed": false
   }
  },
  {
   "cell_type": "code",
   "outputs": [
    {
     "name": "stdout",
     "output_type": "stream",
     "text": [
      "[LMDemo(inputs={'inputs': {'question': 'Natalia sold clips to 48 of her '\n",
      "                                       'friends in April, and then she sold '\n",
      "                                       'half as many clips in May. How many '\n",
      "                                       'clips did Natalia sell altogether in '\n",
      "                                       'April and May?'}},\n",
      "        outputs={'outputs': {'answer': '72'}},\n",
      "        adaptor_object=None),\n",
      " LMDemo(inputs={'inputs': {'question': 'Julie is reading a 120-page book. '\n",
      "                                       'Yesterday, she was able to read 12 '\n",
      "                                       'pages and today, she read twice as '\n",
      "                                       'many pages as yesterday. If she wants '\n",
      "                                       'to read half of the remaining pages '\n",
      "                                       'tomorrow, how many pages should she '\n",
      "                                       'read?'}},\n",
      "        outputs={'outputs': {'answer': '42'}},\n",
      "        adaptor_object=None),\n",
      " LMDemo(inputs={'inputs': {'question': 'James writes a 3-page letter to 2 '\n",
      "                                       'different friends twice a week.  How '\n",
      "                                       'many pages does he write a year?'}},\n",
      "        outputs={'outputs': {'answer': '624'}},\n",
      "        adaptor_object=None)]\n"
     ]
    }
   ],
   "source": [
    "from pprint import pprint\n",
    "\n",
    "pprint(function_traces[\"solver\"][\"args\"][\"request\"].zenbase.task_demos)\n"
   ],
   "metadata": {
    "collapsed": false,
    "ExecuteTime": {
     "end_time": "2024-07-12T00:38:16.593729Z",
     "start_time": "2024-07-12T00:38:16.589843Z"
    }
   },
   "execution_count": 21
  },
  {
   "cell_type": "markdown",
   "source": [
    "## How to save the function and load it later"
   ],
   "metadata": {
    "collapsed": false
   }
  },
  {
   "cell_type": "markdown",
   "source": [
    "### Save the optimized function args to a file"
   ],
   "metadata": {
    "collapsed": false
   }
  },
  {
   "cell_type": "code",
   "outputs": [],
   "source": [
    "bootstrap_few_shot.save_optimizer_args(\"bootstrap_few_shot_args.zenbase\")"
   ],
   "metadata": {
    "collapsed": false,
    "ExecuteTime": {
     "end_time": "2024-07-12T00:38:16.599895Z",
     "start_time": "2024-07-12T00:38:16.595514Z"
    }
   },
   "execution_count": 22
  },
  {
   "cell_type": "markdown",
   "source": [
    "### Load the optimized function args with the function"
   ],
   "metadata": {
    "collapsed": false
   }
  },
  {
   "cell_type": "code",
   "outputs": [],
   "source": [
    "bootstrap_few_shot.save_optimizer_args(\"bootstrap_few_shot_args.zenbase\")\n",
    "\n",
    "optimized_function = bootstrap_few_shot.load_optimizer_and_function(\"bootstrap_few_shot_args.zenbase\", solver, zenbase_tracer)"
   ],
   "metadata": {
    "collapsed": false,
    "ExecuteTime": {
     "end_time": "2024-07-12T00:38:16.604722Z",
     "start_time": "2024-07-12T00:38:16.601336Z"
    }
   },
   "execution_count": 23
  },
  {
   "cell_type": "markdown",
   "source": [
    "### Use the loaded function and make sure it loaded the demos.\n"
   ],
   "metadata": {
    "collapsed": false
   }
  },
  {
   "cell_type": "code",
   "outputs": [
    {
     "name": "stdout",
     "output_type": "stream",
     "text": [
      "[LMDemo(inputs={'inputs': {'question': 'Natalia sold clips to 48 of her '\n",
      "                                       'friends in April, and then she sold '\n",
      "                                       'half as many clips in May. How many '\n",
      "                                       'clips did Natalia sell altogether in '\n",
      "                                       'April and May?'}},\n",
      "        outputs={'outputs': {'answer': '72'}},\n",
      "        adaptor_object=None),\n",
      " LMDemo(inputs={'inputs': {'question': 'Julie is reading a 120-page book. '\n",
      "                                       'Yesterday, she was able to read 12 '\n",
      "                                       'pages and today, she read twice as '\n",
      "                                       'many pages as yesterday. If she wants '\n",
      "                                       'to read half of the remaining pages '\n",
      "                                       'tomorrow, how many pages should she '\n",
      "                                       'read?'}},\n",
      "        outputs={'outputs': {'answer': '42'}},\n",
      "        adaptor_object=None),\n",
      " LMDemo(inputs={'inputs': {'question': 'James writes a 3-page letter to 2 '\n",
      "                                       'different friends twice a week.  How '\n",
      "                                       'many pages does he write a year?'}},\n",
      "        outputs={'outputs': {'answer': '624'}},\n",
      "        adaptor_object=None)]\n",
      "[LMDemo(inputs={'inputs': {'question': 'Natalia sold clips to 48 of her '\n",
      "                                       'friends in April, and then she sold '\n",
      "                                       'half as many clips in May. How many '\n",
      "                                       'clips did Natalia sell altogether in '\n",
      "                                       'April and May?'}},\n",
      "        outputs={'outputs': {'plan': 'Step 1: Calculate the number of clips '\n",
      "                                     'Natalia sold in May by dividing the '\n",
      "                                     'number of clips sold in April by 2.\\n'\n",
      "                                     'Number of clips sold in May = 48 / 2 = '\n",
      "                                     '24\\n'\n",
      "                                     '\\n'\n",
      "                                     'Step 2: Add the number of clips sold in '\n",
      "                                     'April and May to find the total number '\n",
      "                                     'of clips sold altogether.\\n'\n",
      "                                     'Total clips sold = 48 (April) + 24 (May) '\n",
      "                                     '= 72\\n'\n",
      "                                     '\\n'\n",
      "                                     'Step 3: Natalia sold 72 clips altogether '\n",
      "                                     'in April and May.'}},\n",
      "        adaptor_object=None),\n",
      " LMDemo(inputs={'inputs': {'question': 'Julie is reading a 120-page book. '\n",
      "                                       'Yesterday, she was able to read 12 '\n",
      "                                       'pages and today, she read twice as '\n",
      "                                       'many pages as yesterday. If she wants '\n",
      "                                       'to read half of the remaining pages '\n",
      "                                       'tomorrow, how many pages should she '\n",
      "                                       'read?'}},\n",
      "        outputs={'outputs': {'plan': '1. Calculate how many pages Julie has '\n",
      "                                     'read so far: 12 pages yesterday + (2 * '\n",
      "                                     '12 pages) today = 12 + 24 = 36 pages.\\n'\n",
      "                                     '2. Determine how many pages are left to '\n",
      "                                     'read: 120 total pages - 36 pages read = '\n",
      "                                     '84 pages remaining.\\n'\n",
      "                                     '3. Calculate how many pages Julie wants '\n",
      "                                     'to read tomorrow: 84 pages / 2 = 42 '\n",
      "                                     'pages.\\n'\n",
      "                                     '4. Therefore, Julie should read 42 pages '\n",
      "                                     'tomorrow to achieve her goal.'}},\n",
      "        adaptor_object=None),\n",
      " LMDemo(inputs={'inputs': {'question': 'James writes a 3-page letter to 2 '\n",
      "                                       'different friends twice a week.  How '\n",
      "                                       'many pages does he write a year?'}},\n",
      "        outputs={'outputs': {'plan': 'Step 1: Find out how many pages James '\n",
      "                                     'writes to one friend in a week. \\n'\n",
      "                                     '   - He writes a 3-page letter to each '\n",
      "                                     'friend twice a week. So, for one friend, '\n",
      "                                     'he writes 3 pages x 2 = 6 pages in a '\n",
      "                                     'week.\\n'\n",
      "                                     '\\n'\n",
      "                                     'Step 2: Find out how many pages James '\n",
      "                                     'writes to both friends in a week.\\n'\n",
      "                                     '   - Since he writes 6 pages per week to '\n",
      "                                     'one friend, he writes 6 pages x 2 '\n",
      "                                     'friends = 12 pages in a week to both '\n",
      "                                     'friends.\\n'\n",
      "                                     '\\n'\n",
      "                                     'Step 3: Find out how many pages James '\n",
      "                                     'writes in a year.\\n'\n",
      "                                     '   - In a year, there are 52 weeks. So, '\n",
      "                                     'he writes 12 pages/week x 52 weeks/year '\n",
      "                                     '= 624 pages in a year.\\n'\n",
      "                                     '\\n'\n",
      "                                     'Step 4: Therefore, James writes 624 '\n",
      "                                     'pages in a year.'}},\n",
      "        adaptor_object=None)]\n",
      "[LMDemo(inputs={'inputs': {'plan': 'Step 1: Calculate the number of clips '\n",
      "                                   'Natalia sold in May by dividing the number '\n",
      "                                   'of clips sold in April by 2.\\n'\n",
      "                                   'Number of clips sold in May = 48 / 2 = 24\\n'\n",
      "                                   '\\n'\n",
      "                                   'Step 2: Add the number of clips sold in '\n",
      "                                   'April and May to find the total number of '\n",
      "                                   'clips sold altogether.\\n'\n",
      "                                   'Total clips sold = 48 (April) + 24 (May) = '\n",
      "                                   '72\\n'\n",
      "                                   '\\n'\n",
      "                                   'Step 3: Natalia sold 72 clips altogether '\n",
      "                                   'in April and May.',\n",
      "                           'question': 'Natalia sold clips to 48 of her '\n",
      "                                       'friends in April, and then she sold '\n",
      "                                       'half as many clips in May. How many '\n",
      "                                       'clips did Natalia sell altogether in '\n",
      "                                       'April and May?'}},\n",
      "        outputs={'outputs': {'operation': 'The primary mathematical operation '\n",
      "                                          'needed is addition.'}},\n",
      "        adaptor_object=None),\n",
      " LMDemo(inputs={'inputs': {'plan': '1. Calculate how many pages Julie has read '\n",
      "                                   'so far: 12 pages yesterday + (2 * 12 '\n",
      "                                   'pages) today = 12 + 24 = 36 pages.\\n'\n",
      "                                   '2. Determine how many pages are left to '\n",
      "                                   'read: 120 total pages - 36 pages read = 84 '\n",
      "                                   'pages remaining.\\n'\n",
      "                                   '3. Calculate how many pages Julie wants to '\n",
      "                                   'read tomorrow: 84 pages / 2 = 42 pages.\\n'\n",
      "                                   '4. Therefore, Julie should read 42 pages '\n",
      "                                   'tomorrow to achieve her goal.',\n",
      "                           'question': 'Julie is reading a 120-page book. '\n",
      "                                       'Yesterday, she was able to read 12 '\n",
      "                                       'pages and today, she read twice as '\n",
      "                                       'many pages as yesterday. If she wants '\n",
      "                                       'to read half of the remaining pages '\n",
      "                                       'tomorrow, how many pages should she '\n",
      "                                       'read?'}},\n",
      "        outputs={'outputs': {'operation': 'The primary mathematical operation '\n",
      "                                          'needed is division.'}},\n",
      "        adaptor_object=None),\n",
      " LMDemo(inputs={'inputs': {'plan': 'Step 1: Find out how many pages James '\n",
      "                                   'writes to one friend in a week. \\n'\n",
      "                                   '   - He writes a 3-page letter to each '\n",
      "                                   'friend twice a week. So, for one friend, '\n",
      "                                   'he writes 3 pages x 2 = 6 pages in a '\n",
      "                                   'week.\\n'\n",
      "                                   '\\n'\n",
      "                                   'Step 2: Find out how many pages James '\n",
      "                                   'writes to both friends in a week.\\n'\n",
      "                                   '   - Since he writes 6 pages per week to '\n",
      "                                   'one friend, he writes 6 pages x 2 friends '\n",
      "                                   '= 12 pages in a week to both friends.\\n'\n",
      "                                   '\\n'\n",
      "                                   'Step 3: Find out how many pages James '\n",
      "                                   'writes in a year.\\n'\n",
      "                                   '   - In a year, there are 52 weeks. So, he '\n",
      "                                   'writes 12 pages/week x 52 weeks/year = 624 '\n",
      "                                   'pages in a year.\\n'\n",
      "                                   '\\n'\n",
      "                                   'Step 4: Therefore, James writes 624 pages '\n",
      "                                   'in a year.',\n",
      "                           'question': 'James writes a 3-page letter to 2 '\n",
      "                                       'different friends twice a week.  How '\n",
      "                                       'many pages does he write a year?'}},\n",
      "        outputs={'outputs': {'operation': 'Multiplication'}},\n",
      "        adaptor_object=None)]\n"
     ]
    }
   ],
   "source": [
    "zenbase_tracer.all_traces = {}\n",
    "optimized_function({\"inputs\":{\"question\": \"If I have 30% of shares, and Mo has 24.5% of shares, how many of our 10M shares are unassigned?\"}})\n",
    "function_traces = [v for k, v in zenbase_tracer.all_traces.items()][0][\"optimized\"]\n",
    "from pprint import pprint\n",
    "\n",
    "pprint(function_traces[\"solver\"][\"args\"][\"request\"].zenbase.task_demos)\n",
    "pprint(function_traces[\"planner_chain\"][\"args\"][\"request\"].zenbase.task_demos)\n",
    "pprint(function_traces[\"operation_finder\"][\"args\"][\"request\"].zenbase.task_demos)"
   ],
   "metadata": {
    "collapsed": false,
    "ExecuteTime": {
     "end_time": "2024-07-12T00:38:19.640743Z",
     "start_time": "2024-07-12T00:38:16.606053Z"
    }
   },
   "execution_count": 24
  }
 ],
 "metadata": {
  "kernelspec": {
   "display_name": ".venv",
   "language": "python",
   "name": "python3"
  },
  "language_info": {
   "codemirror_mode": {
    "name": "ipython",
    "version": 3
   },
   "file_extension": ".py",
   "mimetype": "text/x-python",
   "name": "python",
   "nbconvert_exporter": "python",
   "pygments_lexer": "ipython3",
   "version": "3.10.13"
  }
 },
 "nbformat": 4,
 "nbformat_minor": 2
}
