{
 "cells": [
  {
   "cell_type": "markdown",
   "metadata": {
    "id": "3RPGi7OWI1NE"
   },
   "source": [
    "# <center>RumbleDB sandbox</center>\n"
   ]
  },
  {
   "cell_type": "markdown",
   "metadata": {
    "id": "2iHQucQKI1NJ"
   },
   "source": [
    "This is a RumbleDB sandbox that allows you to play with simple JSONiq queries.\n",
    "\n",
    "It is a jupyter notebook that you can also download and execute on your own machine, but if you arrived here from the RumbleDB website, it is likely to be shown within Google's Colab environment.\n",
    "\n",
    "To get started, you first need to execute the cell below to activate the RumbleDB magic (you do not need to understand what it does, this is just initialization Python code)."
   ]
  },
  {
   "cell_type": "code",
   "execution_count": 1,
   "metadata": {
    "id": "ddc4QtdFI1NK"
   },
   "outputs": [
    {
     "name": "stdout",
     "output_type": "stream",
     "text": [
      "Requirement already satisfied: rumbledb in /Library/Frameworks/Python.framework/Versions/3.11/lib/python3.11/site-packages (1.17.3)\n",
      "Requirement already satisfied: requests in /Library/Frameworks/Python.framework/Versions/3.11/lib/python3.11/site-packages (from rumbledb) (2.31.0)\n",
      "Requirement already satisfied: jupyter in /Library/Frameworks/Python.framework/Versions/3.11/lib/python3.11/site-packages (from rumbledb) (1.0.0)\n",
      "Requirement already satisfied: notebook in /Library/Frameworks/Python.framework/Versions/3.11/lib/python3.11/site-packages (from jupyter->rumbledb) (7.1.3)\n",
      "Requirement already satisfied: qtconsole in /Library/Frameworks/Python.framework/Versions/3.11/lib/python3.11/site-packages (from jupyter->rumbledb) (5.5.1)\n",
      "Requirement already satisfied: jupyter-console in /Library/Frameworks/Python.framework/Versions/3.11/lib/python3.11/site-packages (from jupyter->rumbledb) (6.6.3)\n",
      "Requirement already satisfied: nbconvert in /Library/Frameworks/Python.framework/Versions/3.11/lib/python3.11/site-packages (from jupyter->rumbledb) (7.16.4)\n",
      "Requirement already satisfied: ipykernel in /Library/Frameworks/Python.framework/Versions/3.11/lib/python3.11/site-packages (from jupyter->rumbledb) (6.29.4)\n",
      "Requirement already satisfied: ipywidgets in /Library/Frameworks/Python.framework/Versions/3.11/lib/python3.11/site-packages (from jupyter->rumbledb) (8.1.2)\n",
      "Requirement already satisfied: charset-normalizer<4,>=2 in /Library/Frameworks/Python.framework/Versions/3.11/lib/python3.11/site-packages (from requests->rumbledb) (3.1.0)\n",
      "Requirement already satisfied: idna<4,>=2.5 in /Library/Frameworks/Python.framework/Versions/3.11/lib/python3.11/site-packages (from requests->rumbledb) (3.4)\n",
      "Requirement already satisfied: urllib3<3,>=1.21.1 in /Library/Frameworks/Python.framework/Versions/3.11/lib/python3.11/site-packages (from requests->rumbledb) (2.0.2)\n",
      "Requirement already satisfied: certifi>=2017.4.17 in /Library/Frameworks/Python.framework/Versions/3.11/lib/python3.11/site-packages (from requests->rumbledb) (2024.2.2)\n",
      "Requirement already satisfied: appnope in /Library/Frameworks/Python.framework/Versions/3.11/lib/python3.11/site-packages (from ipykernel->jupyter->rumbledb) (0.1.4)\n",
      "Requirement already satisfied: comm>=0.1.1 in /Library/Frameworks/Python.framework/Versions/3.11/lib/python3.11/site-packages (from ipykernel->jupyter->rumbledb) (0.2.2)\n",
      "Requirement already satisfied: debugpy>=1.6.5 in /Library/Frameworks/Python.framework/Versions/3.11/lib/python3.11/site-packages (from ipykernel->jupyter->rumbledb) (1.8.1)\n",
      "Requirement already satisfied: ipython>=7.23.1 in /Library/Frameworks/Python.framework/Versions/3.11/lib/python3.11/site-packages (from ipykernel->jupyter->rumbledb) (8.24.0)\n",
      "Requirement already satisfied: jupyter-client>=6.1.12 in /Library/Frameworks/Python.framework/Versions/3.11/lib/python3.11/site-packages (from ipykernel->jupyter->rumbledb) (8.6.1)\n",
      "Requirement already satisfied: jupyter-core!=5.0.*,>=4.12 in /Library/Frameworks/Python.framework/Versions/3.11/lib/python3.11/site-packages (from ipykernel->jupyter->rumbledb) (5.7.2)\n",
      "Requirement already satisfied: matplotlib-inline>=0.1 in /Library/Frameworks/Python.framework/Versions/3.11/lib/python3.11/site-packages (from ipykernel->jupyter->rumbledb) (0.1.7)\n",
      "Requirement already satisfied: nest-asyncio in /Library/Frameworks/Python.framework/Versions/3.11/lib/python3.11/site-packages (from ipykernel->jupyter->rumbledb) (1.6.0)\n",
      "Requirement already satisfied: packaging in /Library/Frameworks/Python.framework/Versions/3.11/lib/python3.11/site-packages (from ipykernel->jupyter->rumbledb) (23.1)\n",
      "Requirement already satisfied: psutil in /Library/Frameworks/Python.framework/Versions/3.11/lib/python3.11/site-packages (from ipykernel->jupyter->rumbledb) (5.9.8)\n",
      "Requirement already satisfied: pyzmq>=24 in /Library/Frameworks/Python.framework/Versions/3.11/lib/python3.11/site-packages (from ipykernel->jupyter->rumbledb) (26.0.2)\n",
      "Requirement already satisfied: tornado>=6.1 in /Library/Frameworks/Python.framework/Versions/3.11/lib/python3.11/site-packages (from ipykernel->jupyter->rumbledb) (6.4)\n",
      "Requirement already satisfied: traitlets>=5.4.0 in /Library/Frameworks/Python.framework/Versions/3.11/lib/python3.11/site-packages (from ipykernel->jupyter->rumbledb) (5.14.3)\n",
      "Requirement already satisfied: widgetsnbextension~=4.0.10 in /Library/Frameworks/Python.framework/Versions/3.11/lib/python3.11/site-packages (from ipywidgets->jupyter->rumbledb) (4.0.10)\n",
      "Requirement already satisfied: jupyterlab-widgets~=3.0.10 in /Library/Frameworks/Python.framework/Versions/3.11/lib/python3.11/site-packages (from ipywidgets->jupyter->rumbledb) (3.0.10)\n",
      "Requirement already satisfied: prompt-toolkit>=3.0.30 in /Library/Frameworks/Python.framework/Versions/3.11/lib/python3.11/site-packages (from jupyter-console->jupyter->rumbledb) (3.0.43)\n",
      "Requirement already satisfied: pygments in /Library/Frameworks/Python.framework/Versions/3.11/lib/python3.11/site-packages (from jupyter-console->jupyter->rumbledb) (2.17.2)\n",
      "Requirement already satisfied: beautifulsoup4 in /Library/Frameworks/Python.framework/Versions/3.11/lib/python3.11/site-packages (from nbconvert->jupyter->rumbledb) (4.12.2)\n",
      "Requirement already satisfied: bleach!=5.0.0 in /Library/Frameworks/Python.framework/Versions/3.11/lib/python3.11/site-packages (from nbconvert->jupyter->rumbledb) (6.1.0)\n",
      "Requirement already satisfied: defusedxml in /Library/Frameworks/Python.framework/Versions/3.11/lib/python3.11/site-packages (from nbconvert->jupyter->rumbledb) (0.7.1)\n",
      "Requirement already satisfied: jinja2>=3.0 in /Library/Frameworks/Python.framework/Versions/3.11/lib/python3.11/site-packages (from nbconvert->jupyter->rumbledb) (3.1.3)\n",
      "Requirement already satisfied: jupyterlab-pygments in /Library/Frameworks/Python.framework/Versions/3.11/lib/python3.11/site-packages (from nbconvert->jupyter->rumbledb) (0.3.0)\n",
      "Requirement already satisfied: markupsafe>=2.0 in /Library/Frameworks/Python.framework/Versions/3.11/lib/python3.11/site-packages (from nbconvert->jupyter->rumbledb) (2.1.5)\n",
      "Requirement already satisfied: mistune<4,>=2.0.3 in /Library/Frameworks/Python.framework/Versions/3.11/lib/python3.11/site-packages (from nbconvert->jupyter->rumbledb) (3.0.2)\n",
      "Requirement already satisfied: nbclient>=0.5.0 in /Library/Frameworks/Python.framework/Versions/3.11/lib/python3.11/site-packages (from nbconvert->jupyter->rumbledb) (0.10.0)\n",
      "Requirement already satisfied: nbformat>=5.7 in /Library/Frameworks/Python.framework/Versions/3.11/lib/python3.11/site-packages (from nbconvert->jupyter->rumbledb) (5.10.4)\n",
      "Requirement already satisfied: pandocfilters>=1.4.1 in /Library/Frameworks/Python.framework/Versions/3.11/lib/python3.11/site-packages (from nbconvert->jupyter->rumbledb) (1.5.1)\n",
      "Requirement already satisfied: tinycss2 in /Library/Frameworks/Python.framework/Versions/3.11/lib/python3.11/site-packages (from nbconvert->jupyter->rumbledb) (1.3.0)\n",
      "Requirement already satisfied: jupyter-server<3,>=2.4.0 in /Library/Frameworks/Python.framework/Versions/3.11/lib/python3.11/site-packages (from notebook->jupyter->rumbledb) (2.14.0)\n",
      "Requirement already satisfied: jupyterlab-server<3,>=2.22.1 in /Library/Frameworks/Python.framework/Versions/3.11/lib/python3.11/site-packages (from notebook->jupyter->rumbledb) (2.27.1)\n",
      "Collecting jupyterlab<4.2,>=4.1.1 (from notebook->jupyter->rumbledb)\n",
      "  Downloading jupyterlab-4.1.8-py3-none-any.whl.metadata (16 kB)\n",
      "Requirement already satisfied: notebook-shim<0.3,>=0.2 in /Library/Frameworks/Python.framework/Versions/3.11/lib/python3.11/site-packages (from notebook->jupyter->rumbledb) (0.2.4)\n",
      "Requirement already satisfied: qtpy>=2.4.0 in /Library/Frameworks/Python.framework/Versions/3.11/lib/python3.11/site-packages (from qtconsole->jupyter->rumbledb) (2.4.1)\n",
      "Requirement already satisfied: six>=1.9.0 in /Library/Frameworks/Python.framework/Versions/3.11/lib/python3.11/site-packages (from bleach!=5.0.0->nbconvert->jupyter->rumbledb) (1.16.0)\n",
      "Requirement already satisfied: webencodings in /Library/Frameworks/Python.framework/Versions/3.11/lib/python3.11/site-packages (from bleach!=5.0.0->nbconvert->jupyter->rumbledb) (0.5.1)\n",
      "Requirement already satisfied: decorator in /Library/Frameworks/Python.framework/Versions/3.11/lib/python3.11/site-packages (from ipython>=7.23.1->ipykernel->jupyter->rumbledb) (5.1.1)\n",
      "Requirement already satisfied: jedi>=0.16 in /Library/Frameworks/Python.framework/Versions/3.11/lib/python3.11/site-packages (from ipython>=7.23.1->ipykernel->jupyter->rumbledb) (0.19.1)\n",
      "Requirement already satisfied: stack-data in /Library/Frameworks/Python.framework/Versions/3.11/lib/python3.11/site-packages (from ipython>=7.23.1->ipykernel->jupyter->rumbledb) (0.6.3)\n",
      "Requirement already satisfied: typing-extensions>=4.6 in /Library/Frameworks/Python.framework/Versions/3.11/lib/python3.11/site-packages (from ipython>=7.23.1->ipykernel->jupyter->rumbledb) (4.11.0)\n",
      "Requirement already satisfied: pexpect>4.3 in /Library/Frameworks/Python.framework/Versions/3.11/lib/python3.11/site-packages (from ipython>=7.23.1->ipykernel->jupyter->rumbledb) (4.9.0)\n",
      "Requirement already satisfied: python-dateutil>=2.8.2 in /Library/Frameworks/Python.framework/Versions/3.11/lib/python3.11/site-packages (from jupyter-client>=6.1.12->ipykernel->jupyter->rumbledb) (2.8.2)\n",
      "Requirement already satisfied: platformdirs>=2.5 in /Library/Frameworks/Python.framework/Versions/3.11/lib/python3.11/site-packages (from jupyter-core!=5.0.*,>=4.12->ipykernel->jupyter->rumbledb) (4.2.1)\n",
      "Requirement already satisfied: anyio>=3.1.0 in /Library/Frameworks/Python.framework/Versions/3.11/lib/python3.11/site-packages (from jupyter-server<3,>=2.4.0->notebook->jupyter->rumbledb) (4.3.0)\n",
      "Requirement already satisfied: argon2-cffi>=21.1 in /Library/Frameworks/Python.framework/Versions/3.11/lib/python3.11/site-packages (from jupyter-server<3,>=2.4.0->notebook->jupyter->rumbledb) (23.1.0)\n",
      "Requirement already satisfied: jupyter-events>=0.9.0 in /Library/Frameworks/Python.framework/Versions/3.11/lib/python3.11/site-packages (from jupyter-server<3,>=2.4.0->notebook->jupyter->rumbledb) (0.10.0)\n",
      "Requirement already satisfied: jupyter-server-terminals>=0.4.4 in /Library/Frameworks/Python.framework/Versions/3.11/lib/python3.11/site-packages (from jupyter-server<3,>=2.4.0->notebook->jupyter->rumbledb) (0.5.3)\n",
      "Requirement already satisfied: overrides>=5.0 in /Library/Frameworks/Python.framework/Versions/3.11/lib/python3.11/site-packages (from jupyter-server<3,>=2.4.0->notebook->jupyter->rumbledb) (7.7.0)\n",
      "Requirement already satisfied: prometheus-client>=0.9 in /Library/Frameworks/Python.framework/Versions/3.11/lib/python3.11/site-packages (from jupyter-server<3,>=2.4.0->notebook->jupyter->rumbledb) (0.20.0)\n",
      "Requirement already satisfied: send2trash>=1.8.2 in /Library/Frameworks/Python.framework/Versions/3.11/lib/python3.11/site-packages (from jupyter-server<3,>=2.4.0->notebook->jupyter->rumbledb) (1.8.3)\n",
      "Requirement already satisfied: terminado>=0.8.3 in /Library/Frameworks/Python.framework/Versions/3.11/lib/python3.11/site-packages (from jupyter-server<3,>=2.4.0->notebook->jupyter->rumbledb) (0.18.1)\n",
      "Requirement already satisfied: websocket-client>=1.7 in /Library/Frameworks/Python.framework/Versions/3.11/lib/python3.11/site-packages (from jupyter-server<3,>=2.4.0->notebook->jupyter->rumbledb) (1.8.0)\n",
      "Requirement already satisfied: async-lru>=1.0.0 in /Library/Frameworks/Python.framework/Versions/3.11/lib/python3.11/site-packages (from jupyterlab<4.2,>=4.1.1->notebook->jupyter->rumbledb) (2.0.4)\n",
      "Requirement already satisfied: httpx>=0.25.0 in /Library/Frameworks/Python.framework/Versions/3.11/lib/python3.11/site-packages (from jupyterlab<4.2,>=4.1.1->notebook->jupyter->rumbledb) (0.27.0)\n",
      "Requirement already satisfied: jupyter-lsp>=2.0.0 in /Library/Frameworks/Python.framework/Versions/3.11/lib/python3.11/site-packages (from jupyterlab<4.2,>=4.1.1->notebook->jupyter->rumbledb) (2.2.5)\n",
      "Requirement already satisfied: babel>=2.10 in /Library/Frameworks/Python.framework/Versions/3.11/lib/python3.11/site-packages (from jupyterlab-server<3,>=2.22.1->notebook->jupyter->rumbledb) (2.14.0)\n",
      "Requirement already satisfied: json5>=0.9.0 in /Library/Frameworks/Python.framework/Versions/3.11/lib/python3.11/site-packages (from jupyterlab-server<3,>=2.22.1->notebook->jupyter->rumbledb) (0.9.25)\n",
      "Requirement already satisfied: jsonschema>=4.18.0 in /Library/Frameworks/Python.framework/Versions/3.11/lib/python3.11/site-packages (from jupyterlab-server<3,>=2.22.1->notebook->jupyter->rumbledb) (4.21.1)\n",
      "Requirement already satisfied: fastjsonschema>=2.15 in /Library/Frameworks/Python.framework/Versions/3.11/lib/python3.11/site-packages (from nbformat>=5.7->nbconvert->jupyter->rumbledb) (2.19.1)\n",
      "Requirement already satisfied: wcwidth in /Library/Frameworks/Python.framework/Versions/3.11/lib/python3.11/site-packages (from prompt-toolkit>=3.0.30->jupyter-console->jupyter->rumbledb) (0.2.13)\n",
      "Requirement already satisfied: soupsieve>1.2 in /Library/Frameworks/Python.framework/Versions/3.11/lib/python3.11/site-packages (from beautifulsoup4->nbconvert->jupyter->rumbledb) (2.4.1)\n",
      "Requirement already satisfied: sniffio>=1.1 in /Library/Frameworks/Python.framework/Versions/3.11/lib/python3.11/site-packages (from anyio>=3.1.0->jupyter-server<3,>=2.4.0->notebook->jupyter->rumbledb) (1.3.1)\n",
      "Requirement already satisfied: argon2-cffi-bindings in /Library/Frameworks/Python.framework/Versions/3.11/lib/python3.11/site-packages (from argon2-cffi>=21.1->jupyter-server<3,>=2.4.0->notebook->jupyter->rumbledb) (21.2.0)\n",
      "Requirement already satisfied: httpcore==1.* in /Library/Frameworks/Python.framework/Versions/3.11/lib/python3.11/site-packages (from httpx>=0.25.0->jupyterlab<4.2,>=4.1.1->notebook->jupyter->rumbledb) (1.0.5)\n",
      "Requirement already satisfied: h11<0.15,>=0.13 in /Library/Frameworks/Python.framework/Versions/3.11/lib/python3.11/site-packages (from httpcore==1.*->httpx>=0.25.0->jupyterlab<4.2,>=4.1.1->notebook->jupyter->rumbledb) (0.14.0)\n",
      "Requirement already satisfied: parso<0.9.0,>=0.8.3 in /Library/Frameworks/Python.framework/Versions/3.11/lib/python3.11/site-packages (from jedi>=0.16->ipython>=7.23.1->ipykernel->jupyter->rumbledb) (0.8.4)\n",
      "Requirement already satisfied: attrs>=22.2.0 in /Library/Frameworks/Python.framework/Versions/3.11/lib/python3.11/site-packages (from jsonschema>=4.18.0->jupyterlab-server<3,>=2.22.1->notebook->jupyter->rumbledb) (23.2.0)\n",
      "Requirement already satisfied: jsonschema-specifications>=2023.03.6 in /Library/Frameworks/Python.framework/Versions/3.11/lib/python3.11/site-packages (from jsonschema>=4.18.0->jupyterlab-server<3,>=2.22.1->notebook->jupyter->rumbledb) (2023.12.1)\n",
      "Requirement already satisfied: referencing>=0.28.4 in /Library/Frameworks/Python.framework/Versions/3.11/lib/python3.11/site-packages (from jsonschema>=4.18.0->jupyterlab-server<3,>=2.22.1->notebook->jupyter->rumbledb) (0.35.0)\n",
      "Requirement already satisfied: rpds-py>=0.7.1 in /Library/Frameworks/Python.framework/Versions/3.11/lib/python3.11/site-packages (from jsonschema>=4.18.0->jupyterlab-server<3,>=2.22.1->notebook->jupyter->rumbledb) (0.18.0)\n",
      "Requirement already satisfied: python-json-logger>=2.0.4 in /Library/Frameworks/Python.framework/Versions/3.11/lib/python3.11/site-packages (from jupyter-events>=0.9.0->jupyter-server<3,>=2.4.0->notebook->jupyter->rumbledb) (2.0.7)\n",
      "Requirement already satisfied: pyyaml>=5.3 in /Library/Frameworks/Python.framework/Versions/3.11/lib/python3.11/site-packages (from jupyter-events>=0.9.0->jupyter-server<3,>=2.4.0->notebook->jupyter->rumbledb) (6.0.1)\n",
      "Requirement already satisfied: rfc3339-validator in /Library/Frameworks/Python.framework/Versions/3.11/lib/python3.11/site-packages (from jupyter-events>=0.9.0->jupyter-server<3,>=2.4.0->notebook->jupyter->rumbledb) (0.1.4)\n",
      "Requirement already satisfied: rfc3986-validator>=0.1.1 in /Library/Frameworks/Python.framework/Versions/3.11/lib/python3.11/site-packages (from jupyter-events>=0.9.0->jupyter-server<3,>=2.4.0->notebook->jupyter->rumbledb) (0.1.1)\n",
      "Requirement already satisfied: ptyprocess>=0.5 in /Library/Frameworks/Python.framework/Versions/3.11/lib/python3.11/site-packages (from pexpect>4.3->ipython>=7.23.1->ipykernel->jupyter->rumbledb) (0.7.0)\n",
      "Requirement already satisfied: executing>=1.2.0 in /Library/Frameworks/Python.framework/Versions/3.11/lib/python3.11/site-packages (from stack-data->ipython>=7.23.1->ipykernel->jupyter->rumbledb) (2.0.1)\n",
      "Requirement already satisfied: asttokens>=2.1.0 in /Library/Frameworks/Python.framework/Versions/3.11/lib/python3.11/site-packages (from stack-data->ipython>=7.23.1->ipykernel->jupyter->rumbledb) (2.4.1)\n",
      "Requirement already satisfied: pure-eval in /Library/Frameworks/Python.framework/Versions/3.11/lib/python3.11/site-packages (from stack-data->ipython>=7.23.1->ipykernel->jupyter->rumbledb) (0.2.2)\n",
      "Requirement already satisfied: fqdn in /Library/Frameworks/Python.framework/Versions/3.11/lib/python3.11/site-packages (from jsonschema[format-nongpl]>=4.18.0->jupyter-events>=0.9.0->jupyter-server<3,>=2.4.0->notebook->jupyter->rumbledb) (1.5.1)\n",
      "Requirement already satisfied: isoduration in /Library/Frameworks/Python.framework/Versions/3.11/lib/python3.11/site-packages (from jsonschema[format-nongpl]>=4.18.0->jupyter-events>=0.9.0->jupyter-server<3,>=2.4.0->notebook->jupyter->rumbledb) (20.11.0)\n",
      "Requirement already satisfied: jsonpointer>1.13 in /Library/Frameworks/Python.framework/Versions/3.11/lib/python3.11/site-packages (from jsonschema[format-nongpl]>=4.18.0->jupyter-events>=0.9.0->jupyter-server<3,>=2.4.0->notebook->jupyter->rumbledb) (2.4)\n",
      "Requirement already satisfied: uri-template in /Library/Frameworks/Python.framework/Versions/3.11/lib/python3.11/site-packages (from jsonschema[format-nongpl]>=4.18.0->jupyter-events>=0.9.0->jupyter-server<3,>=2.4.0->notebook->jupyter->rumbledb) (1.3.0)\n",
      "Requirement already satisfied: webcolors>=1.11 in /Library/Frameworks/Python.framework/Versions/3.11/lib/python3.11/site-packages (from jsonschema[format-nongpl]>=4.18.0->jupyter-events>=0.9.0->jupyter-server<3,>=2.4.0->notebook->jupyter->rumbledb) (1.13)\n",
      "Requirement already satisfied: cffi>=1.0.1 in /Library/Frameworks/Python.framework/Versions/3.11/lib/python3.11/site-packages (from argon2-cffi-bindings->argon2-cffi>=21.1->jupyter-server<3,>=2.4.0->notebook->jupyter->rumbledb) (1.16.0)\n",
      "Requirement already satisfied: pycparser in /Library/Frameworks/Python.framework/Versions/3.11/lib/python3.11/site-packages (from cffi>=1.0.1->argon2-cffi-bindings->argon2-cffi>=21.1->jupyter-server<3,>=2.4.0->notebook->jupyter->rumbledb) (2.22)\n",
      "Requirement already satisfied: arrow>=0.15.0 in /Library/Frameworks/Python.framework/Versions/3.11/lib/python3.11/site-packages (from isoduration->jsonschema[format-nongpl]>=4.18.0->jupyter-events>=0.9.0->jupyter-server<3,>=2.4.0->notebook->jupyter->rumbledb) (1.3.0)\n",
      "Requirement already satisfied: types-python-dateutil>=2.8.10 in /Library/Frameworks/Python.framework/Versions/3.11/lib/python3.11/site-packages (from arrow>=0.15.0->isoduration->jsonschema[format-nongpl]>=4.18.0->jupyter-events>=0.9.0->jupyter-server<3,>=2.4.0->notebook->jupyter->rumbledb) (2.9.0.20240316)\n",
      "Downloading jupyterlab-4.1.8-py3-none-any.whl (11.4 MB)\n",
      "\u001b[2K   \u001b[38;2;114;156;31m━━━━━━━━━━━━━━━━━━━━━━━━━━━━━━━━━━━━━━━━\u001b[0m \u001b[32m11.4/11.4 MB\u001b[0m \u001b[31m19.9 MB/s\u001b[0m eta \u001b[36m0:00:00\u001b[0mm eta \u001b[36m0:00:01\u001b[0m0:01\u001b[0m:01\u001b[0m\n",
      "\u001b[?25hInstalling collected packages: jupyterlab\n",
      "  Attempting uninstall: jupyterlab\n",
      "    Found existing installation: jupyterlab 4.2.0\n",
      "    Uninstalling jupyterlab-4.2.0:\n",
      "      Successfully uninstalled jupyterlab-4.2.0\n",
      "Successfully installed jupyterlab-4.1.8\n",
      "env: RUMBLEDB_SERVER=http://public.rumbledb.org:9090/jsoniq\n"
     ]
    }
   ],
   "source": []
  },
  {
   "cell_type": "markdown",
   "metadata": {
    "id": "WMo26Mb6I1NL"
   },
   "source": [
    "By default, this notebook uses a small public backend provided by us. Each query runs on just one machine that is very limited in CPU: one core and memory: 1GB, and with only the http scheme activated. This is sufficient to discover RumbleDB and play a bit, but of course is not intended for any production use. If you need to use RumbleDB in production, you can use it with an installation of Spark either on your machine or on a cluster.\n",
    "\n",
    "This sandbox backend may occasionally break, especially if too many users use it at the same time, so please bear with us! The system is automatically restarted every day so, if it stops working, you can either try again in 24 hours or notify us.\n"
   ]
  },
  {
   "cell_type": "markdown",
   "metadata": {
    "id": "TP4EB4jLI1NL"
   },
   "source": [
    "It is straightforward to execute your own RumbleDB server on your own Spark cluster (and then you can make full use of all the input file systems and file formats). In this case, just replace the above server with your own hostname and port. Note that if you run RumbleDB as a server locally, you will also need to download and use this notebook locally rather than in this Google Colab environment as, obviously, your personal computer cannot be accessed from the Web.\n",
    "\n",
    "Now we are all set! You can now start reading and executing the JSONiq queries as you go, and you can even edit them!"
   ]
  },
  {
   "cell_type": "markdown",
   "metadata": {
    "id": "rYROc4ZqI1NL"
   },
   "source": [
    "## JSON\n",
    "\n",
    "As explained on the [official JSON Web site](http://www.json.org/), JSON is a lightweight data-interchange format designed for humans as well as for computers. It supports as values:\n",
    "- objects (string-to-value maps)\n",
    "- arrays (ordered sequences of values)\n",
    "- strings\n",
    "- numbers\n",
    "- booleans (true, false)\n",
    "- null\n",
    "\n",
    "JSONiq provides declarative querying and updating capabilities on JSON data.\n",
    "\n",
    "## Elevator Pitch\n",
    "\n",
    "JSONiq is based on XQuery, which is a W3C standard (like XML and HTML). XQuery is a very powerful declarative language that originally manipulates XML data, but it turns out that it is also a very good fit for manipulating JSON natively.\n",
    "JSONiq, since it extends XQuery, is a very powerful general-purpose declarative programming language. Our experience is that, for the same task, you will probably write about 80% less code compared to imperative languages like JavaScript, Python or Ruby. Additionally, you get the benefits of strong type checking without actually having to write type declarations.\n",
    "Here is an appetizer before we start the tutorial from scratch.\n"
   ]
  },
  {
   "cell_type": "code",
   "execution_count": 2,
   "metadata": {
    "id": "ir0uWt4iI1NL"
   },
   "outputs": [
    {
     "name": "stdout",
     "output_type": "stream",
     "text": [
      "Took: 0.9231011867523193 ms\n",
      "There was an error on line 3 in file:/home/ubuntu/:\n",
      "\n",
      "[\n",
      " ^\n",
      "\n",
      "Code: [XPST0003]\n",
      "Message: Parser failed. [\n",
      "Metadata: file:/home/ubuntu/:LINE:3:COLUMN:1:\n",
      "This code can also be looked up in the documentation and specifications for more information.\n",
      "\n"
     ]
    }
   ],
   "source": [
    "%%jsoniq\n",
    "let $stores :=\n",
    "[\n",
    "  { \"store number\" : 1, \"state\" : \"MA\" },\n",
    "  { \"store number\" : 2, \"state\" : \"MA\" },\n",
    "  { \"store number\" : 3, \"state\" : \"CA\" },\n",
    "  { \"store number\" : 4, \"state\" : \"CA\" }\n",
    "]\n",
    "\n",
    "let $sales := [\n",
    "   { \"product\" : \"broiler\", \"store number\" : 1, \"quantity\" : 20  },\n",
    "   { \"product\" : \"toaster\", \"store number\" : 2, \"quantity\" : 100 },\n",
    "   { \"product\" : \"toaster\", \"store number\" : 2, \"quantity\" : 50 },\n",
    "   { \"product\" : \"toaster\", \"store number\" : 3, \"quantity\" : 50 },\n",
    "   { \"product\" : \"blender\", \"store number\" : 3, \"quantity\" : 100 },\n",
    "   { \"product\" : \"blender\", \"store number\" : 3, \"quantity\" : 150 },\n",
    "   { \"product\" : \"socks\", \"store number\" : 1, \"quantity\" : 500 },\n",
    "   { \"product\" : \"socks\", \"store number\" : 2, \"quantity\" : 10 },\n",
    "   { \"product\" : \"shirt\", \"store number\" : 3, \"quantity\" : 10 }\n",
    "]\n",
    "let $join :=\n",
    "  for $store in $stores[], $sale in $sales[]\n",
    "  where $store.\"store number\" = $sale.\"store number\"\n",
    "  return {\n",
    "    \"nb\" : $store.\"store number\",\n",
    "    \"state\" : $store.state,\n",
    "    \"sold\" : $sale.product\n",
    "  }\n",
    "return [$join]\n",
    "\n"
   ]
  },
  {
   "cell_type": "markdown",
   "metadata": {
    "id": "y_gqN0y2I1NM"
   },
   "source": [
    "## All JSON values are JSONiq, too\n",
    "\n",
    "The first thing you need to know is that a well-formed JSON document is a JSONiq expression as well.\n",
    "This means that you can copy-and-paste any JSON document into a query. The following are JSONiq queries that are \"idempotent\" (they just output themselves):"
   ]
  },
  {
   "cell_type": "code",
   "execution_count": null,
   "metadata": {
    "id": "Nv8zlFMsI1NM"
   },
   "outputs": [],
   "source": [
    "%%jsoniq\n",
    "{ \"pi\" : 3.14, \"sq2\" : 1.4}"
   ]
  },
  {
   "cell_type": "code",
   "execution_count": null,
   "metadata": {
    "id": "Qo_8mgujI1NM"
   },
   "outputs": [],
   "source": [
    "%%jsoniq\n",
    "[ 2, 3, 5, 7, 11, 13 ]"
   ]
  },
  {
   "cell_type": "code",
   "execution_count": null,
   "metadata": {
    "id": "KvG4a90fI1NM"
   },
   "outputs": [],
   "source": [
    "%%jsoniq\n",
    "{\n",
    "      \"operations\" : [\n",
    "        { \"binary\" : [ \"and\", \"or\"] },\n",
    "        { \"unary\" : [\"not\"] }\n",
    "      ],\n",
    "      \"bits\" : [\n",
    "        0, 1\n",
    "      ]\n",
    "    }"
   ]
  },
  {
   "cell_type": "code",
   "execution_count": null,
   "metadata": {
    "id": "eWVbWoT6I1NM"
   },
   "outputs": [],
   "source": [
    "%%jsoniq\n",
    "[ { \"Question\" : \"Ultimate\" }, [\"Life\", \"the universe\", \"and everything\"] ]"
   ]
  },
  {
   "cell_type": "markdown",
   "metadata": {
    "id": "BIhF-pCEI1NM"
   },
   "source": [
    "This works with objects, arrays (even nested), strings, numbers, booleans, null.\n",
    "\n",
    "It also works the other way round: if your query outputs an object, you can use it as a JSON document.\n",
    "JSONiq is a declarative language. This means that you only need to say what you want - the compiler will take care of the how.\n",
    "\n",
    "In the above queries, you are basically saying: I want to output this JSON content, and here it is."
   ]
  },
  {
   "cell_type": "markdown",
   "metadata": {
    "id": "A4XEmlHoI1NM"
   },
   "source": [
    "In fact JSONiq makes JSON \"dynamic\": try to replace numbers with arithmetic formulas, keys with concatenations of strings, etc and see how the resulting JSON object is automatically created."
   ]
  },
  {
   "cell_type": "code",
   "execution_count": null,
   "metadata": {
    "id": "RIfjJcqgI1NN"
   },
   "outputs": [],
   "source": [
    "%%jsoniq\n",
    "{\n",
    "    \"foo\" : 2 + 2,\n",
    "    \"foo\" || \"bar\" : if(2 gt 1) then true else false\n",
    "}"
   ]
  },
  {
   "cell_type": "markdown",
   "metadata": {
    "id": "SQnWvHaTI1NN"
   },
   "source": [
    "## Navigating an existing JSON dataset\n",
    "\n",
    "Next, let us look at an existing dataset on the Web. We picked a [GitHub archive file](https://gharchive.org)\n",
    "that we stored for convenience at this location: https://www.rumbledb.org/samples/git-archive.json.\n",
    "\n",
    "Accessing a JSON dataset can be done in two ways depending on the exact format:\n",
    "\n",
    "- If this is a file that contains a single JSON object spread over multiple lines, use json-doc(URL).\n",
    "- If this is a file that contains one JSON object per line (JSON Lines), use json-file(URL).\n",
    "\n",
    "The GitHub archive dataset is in the JSON Lines format, so we open it with json-file."
   ]
  },
  {
   "cell_type": "code",
   "execution_count": null,
   "metadata": {
    "id": "M4apLP7tI1NN"
   },
   "outputs": [],
   "source": [
    "%%jsoniq\n",
    "json-file(\"http://www.rumbledb.org/samples/git-archive-small.json\")"
   ]
  },
  {
   "cell_type": "markdown",
   "metadata": {
    "id": "a7-bDb-8I1NO"
   },
   "source": [
    "This is a large file and the previous query output 500 JSON objects. To look closer, let us start looking at just the first object with a number predicate."
   ]
  },
  {
   "cell_type": "code",
   "execution_count": null,
   "metadata": {
    "id": "3g9awGJkI1NO"
   },
   "outputs": [],
   "source": [
    "%%jsoniq\n",
    "json-file(\"http://www.rumbledb.org/samples/git-archive-small.json\")[1]"
   ]
  },
  {
   "cell_type": "markdown",
   "metadata": {
    "id": "4hyTWPKkI1NO"
   },
   "source": [
    "We can see that there are nested objects and arrays. This is perfect for JSONiq. Let us now figure out all the keys used in this dataset with the keys() function."
   ]
  },
  {
   "cell_type": "code",
   "execution_count": null,
   "metadata": {
    "id": "leJ6aUZMI1NO"
   },
   "outputs": [],
   "source": [
    "%%jsoniq\n",
    "keys(json-file(\"http://www.rumbledb.org/samples/git-archive-small.json\"))"
   ]
  },
  {
   "cell_type": "markdown",
   "metadata": {
    "id": "RVZUQrspI1NO"
   },
   "source": [
    "Let us look closer at the key called \"type\". What values does it take? We can use dot-based navigation to navigate down to these values. This will work nicely on the entire dataset."
   ]
  },
  {
   "cell_type": "code",
   "execution_count": null,
   "metadata": {
    "id": "5iWIDhTxI1NO"
   },
   "outputs": [],
   "source": [
    "%%jsoniq\n",
    "json-file(\"http://www.rumbledb.org/samples/git-archive-small.json\").type"
   ]
  },
  {
   "cell_type": "markdown",
   "metadata": {
    "id": "DCUNvu7-I1NO"
   },
   "source": [
    "It looks like there are a lot of duplicates in there. Let us use distinct-values() to figure out all unique values."
   ]
  },
  {
   "cell_type": "code",
   "execution_count": null,
   "metadata": {
    "id": "Eyx9KIanI1NO"
   },
   "outputs": [],
   "source": [
    "%%jsoniq\n",
    "distinct-values(json-file(\"http://www.rumbledb.org/samples/git-archive-small.json\").type)"
   ]
  },
  {
   "cell_type": "markdown",
   "metadata": {
    "id": "LhOac5tRI1NO"
   },
   "source": [
    "So we see that for the key \"type\", all values are strings and there are only... how many, by the way? Let us use count()."
   ]
  },
  {
   "cell_type": "code",
   "execution_count": null,
   "metadata": {
    "id": "cf_OB9BjI1NO"
   },
   "outputs": [],
   "source": [
    "%%jsoniq\n",
    "count(distinct-values(json-file(\"http://www.rumbledb.org/samples/git-archive-small.json\").type))"
   ]
  },
  {
   "cell_type": "markdown",
   "metadata": {
    "id": "8krq-4OZI1NP"
   },
   "source": [
    "So there are 13. Note that count() works just as well on the entire dataset, to know how many objects there are."
   ]
  },
  {
   "cell_type": "code",
   "execution_count": null,
   "metadata": {
    "id": "t4C2bkBXI1NP"
   },
   "outputs": [],
   "source": [
    "%%jsoniq\n",
    "count(json-file(\"http://www.rumbledb.org/samples/git-archive-small.json\"))"
   ]
  },
  {
   "cell_type": "markdown",
   "metadata": {
    "id": "f6VB4pdJI1NP"
   },
   "source": [
    "Let us know look at nested objects. It seems the key \"actor\" has these, so let us now use the dot object lookup to find all these values."
   ]
  },
  {
   "cell_type": "code",
   "execution_count": null,
   "metadata": {
    "id": "tMw3X5P7I1NP"
   },
   "outputs": [],
   "source": [
    "%%jsoniq\n",
    "json-file(\"http://www.rumbledb.org/samples/git-archive-small.json\").actor"
   ]
  },
  {
   "cell_type": "markdown",
   "metadata": {
    "id": "bdHy5_wtI1NP"
   },
   "source": [
    "We can chain dot object lookups to navigate further down, for example to logins. Let us figure out how many distinct logins there are."
   ]
  },
  {
   "cell_type": "code",
   "execution_count": null,
   "metadata": {
    "id": "Ekq_fHvRI1NP"
   },
   "outputs": [],
   "source": [
    "%%jsoniq\n",
    "count(distinct-values(json-file(\"http://www.rumbledb.org/samples/git-archive-small.json\").actor.login))"
   ]
  },
  {
   "cell_type": "markdown",
   "metadata": {
    "id": "rYVDvjhhI1NP"
   },
   "source": [
    "The id field inside the actor object seems to be an integer. What is the highest value? The max() function also works at large scales, just like count() and also min(), avg() and sum()."
   ]
  },
  {
   "cell_type": "code",
   "execution_count": null,
   "metadata": {
    "id": "lrPUOJI7I1NQ"
   },
   "outputs": [],
   "source": [
    "%%jsoniq\n",
    "max(json-file(\"http://www.rumbledb.org/samples/git-archive-small.json\").actor.id)"
   ]
  },
  {
   "cell_type": "markdown",
   "metadata": {
    "id": "ppotnGxCI1NQ"
   },
   "source": [
    "Alright, let us know look for nested arrays. There does not seem to have any inside the actor object, so let us try the key \"payload\". Let us just look at the first one."
   ]
  },
  {
   "cell_type": "code",
   "execution_count": null,
   "metadata": {
    "id": "oUmX0L8PI1NQ"
   },
   "outputs": [],
   "source": [
    "%%jsoniq\n",
    "json-file(\"http://www.rumbledb.org/samples/git-archive-small.json\")[1].payload"
   ]
  },
  {
   "cell_type": "markdown",
   "metadata": {
    "id": "qK4n2zeyI1NR"
   },
   "source": [
    "Here we see that there is a nested array associated with key \"commits\"."
   ]
  },
  {
   "cell_type": "code",
   "execution_count": null,
   "metadata": {
    "id": "tuy3HOyfI1NR"
   },
   "outputs": [],
   "source": [
    "%%jsoniq\n",
    "json-file(\"http://www.rumbledb.org/samples/git-archive-small.json\")[1].payload.commits"
   ]
  },
  {
   "cell_type": "markdown",
   "metadata": {
    "id": "w7FU81FBI1NR"
   },
   "source": [
    "In this case, there is only one object in this array. Is there, by any chance, any one of these arrays that has more than one commit? For this, we can use a Boolean predicate. Let us evaluate the predicate\n",
    "\n",
    "size($$) gt 1\n",
    "\n",
    "which uses the size function and the gt (greater than) comparison and where $$ is the current array being tested."
   ]
  },
  {
   "cell_type": "code",
   "execution_count": null,
   "metadata": {
    "id": "v_3HkYASI1NS"
   },
   "outputs": [],
   "source": [
    "%%jsoniq\n",
    "json-file(\"http://www.rumbledb.org/samples/git-archive-small.json\").payload.commits[size($$) gt 1]"
   ]
  },
  {
   "cell_type": "markdown",
   "metadata": {
    "id": "H9ZiuwM2I1NS"
   },
   "source": [
    "Let us just take the first one to have more visibility."
   ]
  },
  {
   "cell_type": "code",
   "execution_count": null,
   "metadata": {
    "id": "bCUgILLMI1NS"
   },
   "outputs": [],
   "source": [
    "%%jsoniq\n",
    "json-file(\"http://www.rumbledb.org/samples/git-archive-small.json\").payload.commits[size($$) gt 1][1]"
   ]
  },
  {
   "cell_type": "markdown",
   "metadata": {
    "id": "mo516d8RI1NT"
   },
   "source": [
    "We can expand it to a sequence of objects using the [] array unboxing syntax."
   ]
  },
  {
   "cell_type": "code",
   "execution_count": null,
   "metadata": {
    "id": "m_LezlBfI1NT"
   },
   "outputs": [],
   "source": [
    "%%jsoniq\n",
    "json-file(\"http://www.rumbledb.org/samples/git-archive-small.json\").payload.commits[size($$) gt 1][1][]"
   ]
  },
  {
   "cell_type": "markdown",
   "metadata": {
    "id": "adtWdWdDI1NT"
   },
   "source": [
    "We can also lookup a specific position, say, the second object, with the [[ ]] array lookup syntax."
   ]
  },
  {
   "cell_type": "code",
   "execution_count": null,
   "metadata": {
    "id": "KIE5JpcSI1NT"
   },
   "outputs": [],
   "source": [
    "%%jsoniq\n",
    "json-file(\"http://www.rumbledb.org/samples/git-archive-small.json\").payload.commits[size($$) gt 1][1][[2]]"
   ]
  },
  {
   "cell_type": "markdown",
   "metadata": {
    "id": "yUA9GzJSI1NT"
   },
   "source": [
    "And now, please hold for something awesome. We can unbox all arrays of the entire collection at the same time by just using the [] syntax on the entire dataset."
   ]
  },
  {
   "cell_type": "code",
   "execution_count": null,
   "metadata": {
    "id": "7kq51MHJI1NT"
   },
   "outputs": [],
   "source": [
    "%%jsoniq\n",
    "json-file(\"http://www.rumbledb.org/samples/git-archive-small.json\").payload.commits[]"
   ]
  },
  {
   "cell_type": "markdown",
   "metadata": {
    "id": "5nrhTHZZI1NT"
   },
   "source": [
    "These are objects. It is all too tempting to navigate further down with more dot object-lookup syntax. All at the same time, obviously. Let us figure out how many unique emails there are in all commits of all events."
   ]
  },
  {
   "cell_type": "code",
   "execution_count": null,
   "metadata": {
    "id": "CmvDvBhhI1NT"
   },
   "outputs": [],
   "source": [
    "%%jsoniq\n",
    "count(distinct-values(json-file(\"http://www.rumbledb.org/samples/git-archive-small.json\").payload.commits[].author.email))"
   ]
  },
  {
   "cell_type": "markdown",
   "metadata": {
    "id": "cIgnZah9I1NT"
   },
   "source": [
    "Now, how many unique emails are there in first commits?"
   ]
  },
  {
   "cell_type": "code",
   "execution_count": null,
   "metadata": {
    "id": "sFavfJCWI1NT"
   },
   "outputs": [],
   "source": [
    "%%jsoniq\n",
    "count(distinct-values(json-file(\"http://www.rumbledb.org/samples/git-archive-small.json\").payload.commits[[1]].author.email))"
   ]
  },
  {
   "cell_type": "markdown",
   "metadata": {
    "id": "-O2UeYvzI1NT"
   },
   "source": [
    "You have now learned how to navigate large JSON datasets with the dot object lookup syntax, the [] array unboxing syntax, the [[ ]] array lookup syntax, number predicates, and Boolean predicates.\n",
    "\n",
    "All of these work nicely on very large sequences, and you can chain them arbitrarily. In fact, this will all happen in parallel on the cores of your machine or even on a large cluster.\n",
    "\n",
    "You also saw how to aggregate large sequences of values with min, max, count, avg and sum.\n",
    "\n",
    "Finally, you saw how to eliminate duplicates with distinct-values."
   ]
  },
  {
   "cell_type": "markdown",
   "metadata": {
    "id": "4nh1sUyAI1NU"
   },
   "source": [
    "# Variables"
   ]
  },
  {
   "cell_type": "markdown",
   "metadata": {
    "id": "xf4xtZCOI1NU"
   },
   "source": [
    "Some of the queries seen previously involve several chained lookups and function calls. It can become complex"
   ]
  },
  {
   "cell_type": "code",
   "execution_count": null,
   "metadata": {
    "id": "9463SXPtI1NU"
   },
   "outputs": [],
   "source": [
    "%%jsoniq\n",
    "count(distinct-values(json-file(\"http://www.rumbledb.org/samples/git-archive-small.json\").actor.login))"
   ]
  },
  {
   "cell_type": "markdown",
   "metadata": {
    "id": "e4Mue45JI1NU"
   },
   "source": [
    "It is then a natural thing to use variables to store intermediate results. This can be achieved with a series of let clauses. The final result is then put in a return clause."
   ]
  },
  {
   "cell_type": "code",
   "execution_count": null,
   "metadata": {
    "id": "hpOUDn1jI1NU"
   },
   "outputs": [],
   "source": [
    "%%jsoniq\n",
    "let $path := \"http://www.rumbledb.org/samples/git-archive-small.json\"\n",
    "let $events := json-file($path)\n",
    "let $actors := $events.actor\n",
    "let $logins := $actors.login\n",
    "let $distinct-logins := distinct-values($logins)\n",
    "return count($distinct-logins)"
   ]
  },
  {
   "cell_type": "markdown",
   "metadata": {
    "id": "NZhFqaiOI1NU"
   },
   "source": [
    "Note that types are not needed, however they exist! It is possible to add a static type to each variable.\n",
    "Since values can be sequences, you can add suffixes for cardinality: * for a sequence of arbitrary length, ? for zero or one item, + for one or more items."
   ]
  },
  {
   "cell_type": "code",
   "execution_count": null,
   "metadata": {
    "id": "HfconXe5I1NU"
   },
   "outputs": [],
   "source": [
    "%%jsoniq\n",
    "let $path as string := \"http://www.rumbledb.org/samples/git-archive-small.json\"\n",
    "let $events as object* := json-file($path)\n",
    "let $actors as object* := $events.actor\n",
    "let $logins as string* := $actors.login\n",
    "let $distinct-logins as string* := distinct-values($logins)\n",
    "let $count as integer := count($distinct-logins)\n",
    "return $count"
   ]
  },
  {
   "cell_type": "markdown",
   "metadata": {
    "id": "IVuc4vGwI1NU"
   },
   "source": [
    "As you can see, variables can be used to store single items, as well as enormous sequences. RumbleDB will automatically select the best way to evaluate your query.\n",
    "\n",
    "Note that it is possible to reuse variable names. However, these are not assignments: these are bindings. Reusing a variable name hides the previous binding."
   ]
  },
  {
   "cell_type": "code",
   "execution_count": null,
   "metadata": {
    "id": "dnnBs0xhI1NU"
   },
   "outputs": [],
   "source": [
    "%%jsoniq\n",
    "let $v as string := \"http://www.rumbledb.org/samples/git-archive-small.json\"\n",
    "let $v as object* := json-file($v)\n",
    "let $v as object* := $v.actor\n",
    "let $v as string* := $v.login\n",
    "let $v as string* := distinct-values($v)\n",
    "let $v as integer := count($v)\n",
    "return $v"
   ]
  },
  {
   "cell_type": "markdown",
   "metadata": {
    "id": "aYaFBkk6I1NU"
   },
   "source": [
    "## Iteration"
   ]
  },
  {
   "cell_type": "markdown",
   "metadata": {
    "id": "BWwkQs2fI1NU"
   },
   "source": [
    "It is possible to iterate on the elements in a sequence, like so:"
   ]
  },
  {
   "cell_type": "code",
   "execution_count": null,
   "metadata": {
    "id": "U0qIIOoUI1NU"
   },
   "outputs": [],
   "source": [
    "%%jsoniq\n",
    "for $i in 1 to 10\n",
    "return $i * 2"
   ]
  },
  {
   "cell_type": "markdown",
   "metadata": {
    "id": "wya6CWuOI1NU"
   },
   "source": [
    "The sequence to iterator on can itself come from a dataset, such as the one we were using previously:"
   ]
  },
  {
   "cell_type": "code",
   "execution_count": null,
   "metadata": {
    "id": "7TavYwiqI1NU"
   },
   "outputs": [],
   "source": [
    "%%jsoniq\n",
    "for $event in json-file(\"http://www.rumbledb.org/samples/git-archive-small.json\")\n",
    "return size($event.payload.commits)"
   ]
  },
  {
   "cell_type": "markdown",
   "metadata": {
    "id": "leU3hqi9I1NU"
   },
   "source": [
    "For clauses can be mixed with let clauses:"
   ]
  },
  {
   "cell_type": "code",
   "execution_count": null,
   "metadata": {
    "id": "s2sKBdXHI1NV"
   },
   "outputs": [],
   "source": [
    "%%jsoniq\n",
    "let $path := \"http://www.rumbledb.org/samples/git-archive-small.json\"\n",
    "for $event in json-file($path)\n",
    "let $commits := $event.payload.commits\n",
    "return size($commits)"
   ]
  },
  {
   "cell_type": "markdown",
   "metadata": {
    "id": "d5IMwqwTI1NV"
   },
   "source": [
    "And the results can also be nested in a more complex query: for example, let us compute the max of all these array sizes."
   ]
  },
  {
   "cell_type": "code",
   "execution_count": null,
   "metadata": {
    "id": "um5OB2jxI1NV"
   },
   "outputs": [],
   "source": [
    "%%jsoniq\n",
    "max(\n",
    "  let $path := \"http://www.rumbledb.org/samples/git-archive-small.json\"\n",
    "  for $event in json-file($path)\n",
    "  let $commits := $event.payload.commits\n",
    "  return size($commits)\n",
    ")"
   ]
  },
  {
   "cell_type": "markdown",
   "metadata": {
    "id": "Rx8iK-N6I1NV"
   },
   "source": [
    "A third kind of clause is the where clause: it allows you to filter events. Let us only keep those with more than 10 commits, and count them."
   ]
  },
  {
   "cell_type": "code",
   "execution_count": null,
   "metadata": {
    "id": "DyYh8e9GI1NV"
   },
   "outputs": [],
   "source": [
    "%%jsoniq\n",
    "count(\n",
    "  let $path := \"http://www.rumbledb.org/samples/git-archive-small.json\"\n",
    "  for $event in json-file($path)\n",
    "  let $commits := $event.payload.commits\n",
    "  where size($commits) gt 10\n",
    "  return $event\n",
    ")"
   ]
  },
  {
   "cell_type": "markdown",
   "metadata": {
    "id": "ovTVKbOxI1NV"
   },
   "source": [
    "## Simple calculations"
   ]
  },
  {
   "cell_type": "markdown",
   "metadata": {
    "id": "V1IH3aoCI1NV"
   },
   "source": [
    "Let us now look closer arithmetics, comparison and logic expressions. They are particularly useful in a where clause or in a Boolean predicate, however these expressions can be used just about anywhere as this is a functional language."
   ]
  },
  {
   "cell_type": "markdown",
   "metadata": {
    "id": "_y5vyQqDI1NV"
   },
   "source": [
    "### Arithmetics"
   ]
  },
  {
   "cell_type": "markdown",
   "metadata": {
    "id": "CHUUsHIVI1NV"
   },
   "source": [
    "JSONiq works like a calculator and can do arithmetics with the four basic operations."
   ]
  },
  {
   "cell_type": "code",
   "execution_count": null,
   "metadata": {
    "id": "rdz9St47I1NV"
   },
   "outputs": [],
   "source": [
    "%%jsoniq\n",
    " (38 + 2) div 2 + 11 * 2\n"
   ]
  },
  {
   "cell_type": "markdown",
   "metadata": {
    "id": "mSavFBKVI1NV"
   },
   "source": [
    "(mind the division operator which is the \"div\" keyword. The slash operator has different semantics).\n",
    "\n",
    "Like JSON, JSONiq works with decimals and doubles:"
   ]
  },
  {
   "cell_type": "code",
   "execution_count": null,
   "metadata": {
    "id": "eBSfrusyI1NV"
   },
   "outputs": [],
   "source": [
    "%%jsoniq\n",
    " 6.022e23 * 42"
   ]
  },
  {
   "cell_type": "markdown",
   "metadata": {
    "id": "cS92kuPXI1NV"
   },
   "source": [
    "JSONiq also support modulos, integer division, and has a rich function library (trigonometry, logarithms, exponential, powers, etc)."
   ]
  },
  {
   "cell_type": "markdown",
   "metadata": {
    "id": "_kE7sMx_I1NW"
   },
   "source": [
    "## Comparison"
   ]
  },
  {
   "cell_type": "markdown",
   "metadata": {
    "id": "EsXoGtV9I1NW"
   },
   "source": [
    "Values (numbers, strings, dates, etc) can be compared with the binary operators eq, ne, gt, ge, lt and le.\n",
    "Let us change the comparison used in the where clause with other kinds."
   ]
  },
  {
   "cell_type": "code",
   "execution_count": null,
   "metadata": {
    "id": "CYzdU31PI1NW"
   },
   "outputs": [],
   "source": [
    "%%jsoniq\n",
    "count(\n",
    "  let $path := \"http://www.rumbledb.org/samples/git-archive-small.json\"\n",
    "  for $event in json-file($path)\n",
    "  let $commits := $event.payload.commits\n",
    "  where size($commits) gt 10\n",
    "  return $event\n",
    ")"
   ]
  },
  {
   "cell_type": "code",
   "execution_count": null,
   "metadata": {
    "id": "n-NUaapzI1NW"
   },
   "outputs": [],
   "source": [
    "%%jsoniq\n",
    "count(\n",
    "  let $path := \"http://www.rumbledb.org/samples/git-archive-small.json\"\n",
    "  for $event in json-file($path)\n",
    "  let $commits := $event.payload.commits\n",
    "  where size($commits) eq 10\n",
    "  return $event\n",
    ")"
   ]
  },
  {
   "cell_type": "code",
   "execution_count": null,
   "metadata": {
    "id": "4syh4V2lI1NW"
   },
   "outputs": [],
   "source": [
    "%%jsoniq\n",
    "count(\n",
    "  let $path := \"http://www.rumbledb.org/samples/git-archive-small.json\"\n",
    "  for $event in json-file($path)\n",
    "  let $commits := $event.payload.commits\n",
    "  where size($commits) ne 10\n",
    "  return $event\n",
    ")"
   ]
  },
  {
   "cell_type": "code",
   "execution_count": null,
   "metadata": {
    "id": "lcqm7HLWI1NW"
   },
   "outputs": [],
   "source": [
    "%%jsoniq\n",
    "count(\n",
    "  let $path := \"http://www.rumbledb.org/samples/git-archive-small.json\"\n",
    "  for $event in json-file($path)\n",
    "  let $commits := $event.payload.commits\n",
    "  where size($commits) le 10\n",
    "  return $event\n",
    ")"
   ]
  },
  {
   "cell_type": "markdown",
   "metadata": {
    "id": "d6ZQXyL3I1NW"
   },
   "source": [
    "Why not = or < or >=? This is because these are more powerful. In fact, they implicitly perform an existential quantification over the operands."
   ]
  },
  {
   "cell_type": "code",
   "execution_count": null,
   "metadata": {
    "id": "mgDYFeMwI1NW"
   },
   "outputs": [],
   "source": [
    "%%jsoniq\n",
    "1 to 10 = 5"
   ]
  },
  {
   "cell_type": "code",
   "execution_count": null,
   "metadata": {
    "id": "txDsSMCAI1NW"
   },
   "outputs": [],
   "source": [
    "%%jsoniq\n",
    "1 to 10 > 11 to 20"
   ]
  },
  {
   "cell_type": "markdown",
   "metadata": {
    "id": "rHyfpMXcI1NW"
   },
   "source": [
    "### Logical operations\n",
    "\n",
    "JSONiq supports Boolean logic."
   ]
  },
  {
   "cell_type": "code",
   "execution_count": null,
   "metadata": {
    "id": "0CuSLaDGI1NW"
   },
   "outputs": [],
   "source": [
    "%%jsoniq\n",
    "true and false"
   ]
  },
  {
   "cell_type": "code",
   "execution_count": null,
   "metadata": {
    "id": "cvzwISN1I1NW"
   },
   "outputs": [],
   "source": [
    "%%jsoniq\n",
    "(true or false) and (false or true)"
   ]
  },
  {
   "cell_type": "markdown",
   "metadata": {
    "id": "6K7N2gR-I1NX"
   },
   "source": [
    "The unary not is also available:"
   ]
  },
  {
   "cell_type": "code",
   "execution_count": null,
   "metadata": {
    "cell_status": {
     "execute_time": {
      "duration": 243.537109375,
      "end_time": 1557235032261.665
     }
    },
    "id": "0wsnK82uI1NX"
   },
   "outputs": [],
   "source": [
    "%%jsoniq\n",
    "not true"
   ]
  },
  {
   "cell_type": "code",
   "execution_count": null,
   "metadata": {
    "id": "W4ys9H6eI1NX"
   },
   "outputs": [],
   "source": [
    "Note that JSONiq, unlike SQL, does two-valued logic. Nulls are automatically converted to false."
   ]
  },
  {
   "cell_type": "code",
   "execution_count": null,
   "metadata": {
    "id": "vDT31GfrI1NX"
   },
   "outputs": [],
   "source": [
    "%%jsoniq\n",
    "null and true"
   ]
  },
  {
   "cell_type": "markdown",
   "metadata": {
    "id": "dAyJNxTcI1NX"
   },
   "source": [
    "Some non-Booleans can also get converted. For example, non-empty strings are converted to true and empty strings to false."
   ]
  },
  {
   "cell_type": "code",
   "execution_count": null,
   "metadata": {
    "id": "ddat-WUaI1NX"
   },
   "outputs": [],
   "source": [
    "%%jsoniq\n",
    "not \"\""
   ]
  },
  {
   "cell_type": "code",
   "execution_count": null,
   "metadata": {
    "id": "g5Lkb0p9I1NX"
   },
   "outputs": [],
   "source": [
    "%%jsoniq\n",
    "not \"non empty\""
   ]
  },
  {
   "cell_type": "markdown",
   "metadata": {
    "id": "a_5i3juMI1NX"
   },
   "source": [
    "Zero is converted to false, non-zero numbers to true."
   ]
  },
  {
   "cell_type": "code",
   "execution_count": null,
   "metadata": {
    "id": "hiz6K-1aI1NX"
   },
   "outputs": [],
   "source": [
    "%%jsoniq\n",
    "not 0"
   ]
  },
  {
   "cell_type": "code",
   "execution_count": null,
   "metadata": {
    "id": "vhTKN-GRI1NX"
   },
   "outputs": [],
   "source": [
    "%%jsoniq\n",
    "not 1e10"
   ]
  },
  {
   "cell_type": "markdown",
   "metadata": {
    "id": "nr-aYiQFI1NX"
   },
   "source": [
    "### Strings\n",
    "\n",
    "JSONiq is capable of manipulating strings as well, using functions:\n"
   ]
  },
  {
   "cell_type": "code",
   "execution_count": null,
   "metadata": {
    "cell_status": {
     "execute_time": {
      "duration": 21398.401123046875,
      "end_time": 1557212587338.105
     }
    },
    "id": "0enCuXPiI1NX"
   },
   "outputs": [],
   "source": [
    "%%jsoniq\n",
    "concat(\"Hello \", \"Captain \", \"Kirk\")"
   ]
  },
  {
   "cell_type": "code",
   "execution_count": null,
   "metadata": {
    "cell_status": {
     "execute_time": {
      "duration": 752.509033203125,
      "end_time": 1557234001018.501
     }
    },
    "id": "HEfdq8wlI1NX"
   },
   "outputs": [],
   "source": [
    "%%jsoniq\n",
    "substring(\"Mister Spock\", 8, 5)"
   ]
  },
  {
   "cell_type": "markdown",
   "metadata": {
    "id": "JO0-B5RYI1NX"
   },
   "source": [
    "JSONiq comes up with a rich string function library out of the box, inherited from its base language. These functions are listed [here](https://www.w3.org/TR/xpath-functions-30/) (actually, you will find many more for numbers, dates, etc).\n"
   ]
  },
  {
   "cell_type": "markdown",
   "metadata": {
    "cell_status": {
     "execute_time": {
      "duration": 17337.39599609375,
      "end_time": 1557230774662.657
     }
    },
    "id": "fnxxux8bI1NY"
   },
   "source": [
    "\n",
    "### Sequences\n",
    "\n",
    "Until now, we have only been working with single values (an object, an array, a number, a string, a boolean). JSONiq supports sequences of values. You can build a sequence using commas:\n"
   ]
  },
  {
   "cell_type": "code",
   "execution_count": null,
   "metadata": {
    "id": "hb5QTkiwI1NY"
   },
   "outputs": [],
   "source": [
    "%%jsoniq\n",
    " (1, 2, 3, 4, 5, 6, 7, 8, 9, 10)"
   ]
  },
  {
   "cell_type": "code",
   "execution_count": null,
   "metadata": {
    "cell_status": {
     "execute_time": {
      "duration": 222241.63500976562,
      "end_time": 1557387411306.792
     }
    },
    "id": "eUdPrBwXI1NY"
   },
   "outputs": [],
   "source": [
    "%%jsoniq\n",
    "1, true, 4.2e1, \"Life\""
   ]
  },
  {
   "cell_type": "markdown",
   "metadata": {
    "id": "ft1dvXHCI1NY"
   },
   "source": [
    "The \"to\" operator is very convenient, too:"
   ]
  },
  {
   "cell_type": "code",
   "execution_count": null,
   "metadata": {
    "cell_status": {
     "execute_time": {
      "duration": 39579.559814453125,
      "end_time": 1557387951481.842
     }
    },
    "id": "nChWWnsfI1NY"
   },
   "outputs": [],
   "source": [
    "%%jsoniq\n",
    " (1 to 100)"
   ]
  },
  {
   "cell_type": "markdown",
   "metadata": {
    "id": "8ig5Z-lnI1NY"
   },
   "source": [
    "Some functions even work on sequences:"
   ]
  },
  {
   "cell_type": "code",
   "execution_count": null,
   "metadata": {
    "cell_status": {
     "execute_time": {
      "duration": 27601.31787109375,
      "end_time": 1557171455208.987
     }
    },
    "id": "3X1ityzII1NY"
   },
   "outputs": [],
   "source": [
    "%%jsoniq\n",
    "sum(1 to 100)"
   ]
  },
  {
   "cell_type": "code",
   "execution_count": null,
   "metadata": {
    "cell_status": {
     "execute_time": {
      "duration": 55527.44091796875,
      "end_time": 1557229508578.007
     }
    },
    "id": "eyrXDayRI1NY"
   },
   "outputs": [],
   "source": [
    "%%jsoniq\n",
    "string-join((\"These\", \"are\", \"some\", \"words\"), \"-\")"
   ]
  },
  {
   "cell_type": "code",
   "execution_count": null,
   "metadata": {
    "cell_status": {
     "execute_time": {
      "duration": 13343.739013671875,
      "end_time": 1557224627704.526
     }
    },
    "id": "WXViGa4iI1NY"
   },
   "outputs": [],
   "source": [
    "%%jsoniq\n",
    "count(10 to 20)"
   ]
  },
  {
   "cell_type": "code",
   "execution_count": null,
   "metadata": {
    "cell_status": {
     "execute_time": {
      "duration": 19340.81201171875,
      "end_time": 1557220260002.04
     }
    },
    "id": "vVLhYNVJI1NY"
   },
   "outputs": [],
   "source": [
    "%%jsoniq\n",
    "avg(1 to 100)"
   ]
  },
  {
   "cell_type": "markdown",
   "metadata": {
    "id": "quIyId3CI1NY"
   },
   "source": [
    "Unlike arrays, sequences are flat. The sequence (3) is identical to the integer 3, and (1, (2, 3)) is identical to (1, 2, 3)."
   ]
  },
  {
   "cell_type": "markdown",
   "metadata": {
    "id": "ojDXBbObI1NY"
   },
   "source": [
    "and even filter out some values:"
   ]
  },
  {
   "cell_type": "code",
   "execution_count": null,
   "metadata": {
    "id": "0o7TtVGfI1NY"
   },
   "outputs": [],
   "source": [
    "%%jsoniq\n",
    "let $sequence := 1 to 10\n",
    "for $value in $sequence\n",
    "let $square := $value * 2\n",
    "where $square < 10\n",
    "return $square"
   ]
  },
  {
   "cell_type": "markdown",
   "metadata": {
    "id": "sX5cOYGZI1NY"
   },
   "source": [
    "Note that you can only iterate over sequences, not arrays. To iterate over an array, you can obtain the sequence of its values with the [] operator, like so:\n"
   ]
  },
  {
   "cell_type": "code",
   "execution_count": null,
   "metadata": {
    "id": "3Gu4ajjVI1NY"
   },
   "outputs": [],
   "source": [
    "%%jsoniq\n",
    "[1, 2, 3][]"
   ]
  },
  {
   "cell_type": "markdown",
   "metadata": {
    "id": "4EWNx68QI1NY"
   },
   "source": [
    "### Conditions\n",
    "\n",
    "You can make the output depend on a condition with an if-then-else construct:"
   ]
  },
  {
   "cell_type": "code",
   "execution_count": null,
   "metadata": {
    "id": "-ObKuwIAI1NY"
   },
   "outputs": [],
   "source": [
    "%%jsoniq\n",
    "for $x in 1 to 10\n",
    "return if ($x < 5) then $x\n",
    "                   else -$x"
   ]
  },
  {
   "cell_type": "markdown",
   "metadata": {
    "id": "ArhcRHS5I1NY"
   },
   "source": [
    "Note that the else clause is required - however, it can be the empty sequence () which is often when you need if only the then clause is relevant to you."
   ]
  },
  {
   "cell_type": "markdown",
   "metadata": {
    "id": "J2tPUYxPI1NY"
   },
   "source": [
    "### Composability of Expressions\n",
    "\n",
    "Now that you know of a couple of elementary JSONiq expressions, you can combine them in more elaborate expressions. For example, you can put any sequence of values in an array:"
   ]
  },
  {
   "cell_type": "code",
   "execution_count": null,
   "metadata": {
    "id": "qlxEpdrmI1NZ"
   },
   "outputs": [],
   "source": [
    "%%jsoniq\n",
    "[ 1 to 10 ]"
   ]
  },
  {
   "cell_type": "markdown",
   "metadata": {
    "id": "xww9NNjDI1NZ"
   },
   "source": [
    "Or you can dynamically compute the value of object pairs (or their key):"
   ]
  },
  {
   "cell_type": "code",
   "execution_count": null,
   "metadata": {
    "id": "RFwE8lMQI1NZ"
   },
   "outputs": [],
   "source": [
    "%%jsoniq\n",
    "{\n",
    "      \"Greeting\" : (let $d := \"Mister Spock\"\n",
    "                    return concat(\"Hello, \", $d)),\n",
    "      \"Farewell\" : string-join((\"Live\", \"long\", \"and\", \"prosper\"),\n",
    "                               \" \")\n",
    "}"
   ]
  },
  {
   "cell_type": "markdown",
   "metadata": {
    "id": "rjhpw9eEI1NZ"
   },
   "source": [
    "You can dynamically generate object singletons (with a single pair):\n"
   ]
  },
  {
   "cell_type": "code",
   "execution_count": null,
   "metadata": {
    "id": "bI_oxiBTI1NZ"
   },
   "outputs": [],
   "source": [
    "%%jsoniq\n",
    "{ concat(\"Integer \", 2) : 2 * 2 }"
   ]
  },
  {
   "cell_type": "markdown",
   "metadata": {
    "id": "NZpa-AQJI1NZ"
   },
   "source": [
    "and then merge lots of them into a new object with the {| |} notation:"
   ]
  },
  {
   "cell_type": "code",
   "execution_count": null,
   "metadata": {
    "id": "UzNoWJqtI1NZ"
   },
   "outputs": [],
   "source": [
    "%%jsoniq\n",
    "{|\n",
    "    for $i in 1 to 10\n",
    "    return { concat(\"Square of \", $i) : $i * $i }\n",
    "|}"
   ]
  },
  {
   "cell_type": "markdown",
   "metadata": {
    "id": "7TYYkOKTI1NZ"
   },
   "source": [
    "## JSON Navigation\n",
    "\n",
    "Up to now, you have learnt how to compose expressions so as to do some computations and to build objects and arrays. It also works the other way round: if you have some JSON data, you can access it and navigate.\n",
    "All you need to know is: JSONiq views\n",
    "an array as an ordered list of values,\n",
    "an object as a set of name/value pairs\n"
   ]
  },
  {
   "cell_type": "markdown",
   "metadata": {
    "id": "A-7lPiCFI1NZ"
   },
   "source": [
    "### Objects\n",
    "\n",
    "You can use the dot operator to retrieve the value associated with a key. Quotes are optional, except if the key has special characters such as spaces. It will return the value associated thereto:"
   ]
  },
  {
   "cell_type": "code",
   "execution_count": null,
   "metadata": {
    "id": "BOtPPpgeI1NZ"
   },
   "outputs": [],
   "source": [
    "%%jsoniq\n",
    "let $person := {\n",
    "    \"first name\" : \"Sarah\",\n",
    "    \"age\" : 13,\n",
    "    \"gender\" : \"female\",\n",
    "    \"friends\" : [ \"Jim\", \"Mary\", \"Jennifer\"]\n",
    "}\n",
    "return $person.\"first name\""
   ]
  },
  {
   "cell_type": "markdown",
   "metadata": {
    "id": "kRh0QAL5I1NZ"
   },
   "source": [
    "You can also ask for all keys in an object:"
   ]
  },
  {
   "cell_type": "code",
   "execution_count": null,
   "metadata": {
    "id": "qW_2OXNDI1NZ"
   },
   "outputs": [],
   "source": [
    "%%jsoniq\n",
    "let $person := {\n",
    "    \"name\" : \"Sarah\",\n",
    "    \"age\" : 13,\n",
    "    \"gender\" : \"female\",\n",
    "    \"friends\" : [ \"Jim\", \"Mary\", \"Jennifer\"]\n",
    "}\n",
    "return { \"keys\" : [ keys($person)] }"
   ]
  },
  {
   "cell_type": "markdown",
   "metadata": {
    "id": "BI0I3gkfI1NZ"
   },
   "source": [
    "### Arrays\n",
    "\n",
    "The [[]] operator retrieves the entry at the given position:"
   ]
  },
  {
   "cell_type": "code",
   "execution_count": null,
   "metadata": {
    "id": "B10uFVBKI1NZ"
   },
   "outputs": [],
   "source": [
    "%%jsoniq\n",
    "let $friends := [ \"Jim\", \"Mary\", \"Jennifer\"]\n",
    "return $friends[[1+1]]"
   ]
  },
  {
   "cell_type": "markdown",
   "metadata": {
    "id": "8igSP30cI1NZ"
   },
   "source": [
    "It is also possible to get the size of an array:"
   ]
  },
  {
   "cell_type": "code",
   "execution_count": null,
   "metadata": {
    "id": "magu-XfbI1NZ"
   },
   "outputs": [],
   "source": [
    "%%jsoniq\n",
    "let $person := {\n",
    "    \"name\" : \"Sarah\",\n",
    "    \"age\" : 13,\n",
    "    \"gender\" : \"female\",\n",
    "    \"friends\" : [ \"Jim\", \"Mary\", \"Jennifer\"]\n",
    "}\n",
    "return { \"how many friends\" : size($person.friends) }"
   ]
  },
  {
   "cell_type": "markdown",
   "metadata": {
    "id": "9dYsfFn8I1NZ"
   },
   "source": [
    "Finally, the [] operator returns all elements in an array, as a sequence:"
   ]
  },
  {
   "cell_type": "code",
   "execution_count": null,
   "metadata": {
    "id": "8CuGWh6BI1NZ"
   },
   "outputs": [],
   "source": [
    "%%jsoniq\n",
    "let $person := {\n",
    "    \"name\" : \"Sarah\",\n",
    "    \"age\" : 13,\n",
    "    \"gender\" : \"female\",\n",
    "    \"friends\" : [ \"Jim\", \"Mary\", \"Jennifer\"]\n",
    "}\n",
    "return $person.friends[]"
   ]
  },
  {
   "cell_type": "markdown",
   "metadata": {
    "id": "DuKQDwdzI1NZ"
   },
   "source": [
    "### Relational Algebra\n",
    "\n",
    "Do you remember SQL's SELECT FROM WHERE statements? JSONiq inherits selection, projection and join capability from XQuery, too."
   ]
  },
  {
   "cell_type": "code",
   "execution_count": null,
   "metadata": {
    "id": "Eru7S2gBI1Na"
   },
   "outputs": [],
   "source": [
    "%%jsoniq\n",
    "let $stores :=\n",
    "[\n",
    "    { \"store number\" : 1, \"state\" : \"MA\" },\n",
    "    { \"store number\" : 2, \"state\" : \"MA\" },\n",
    "    { \"store number\" : 3, \"state\" : \"CA\" },\n",
    "    { \"store number\" : 4, \"state\" : \"CA\" }\n",
    "]\n",
    "let $sales := [\n",
    "    { \"product\" : \"broiler\", \"store number\" : 1, \"quantity\" : 20  },\n",
    "    { \"product\" : \"toaster\", \"store number\" : 2, \"quantity\" : 100 },\n",
    "    { \"product\" : \"toaster\", \"store number\" : 2, \"quantity\" : 50 },\n",
    "    { \"product\" : \"toaster\", \"store number\" : 3, \"quantity\" : 50 },\n",
    "    { \"product\" : \"blender\", \"store number\" : 3, \"quantity\" : 100 },\n",
    "    { \"product\" : \"blender\", \"store number\" : 3, \"quantity\" : 150 },\n",
    "    { \"product\" : \"socks\", \"store number\" : 1, \"quantity\" : 500 },\n",
    "    { \"product\" : \"socks\", \"store number\" : 2, \"quantity\" : 10 },\n",
    "    { \"product\" : \"shirt\", \"store number\" : 3, \"quantity\" : 10 }\n",
    "]\n",
    "let $join :=\n",
    "    for $store in $stores[], $sale in $sales[]\n",
    "    where $store.\"store number\" = $sale.\"store number\"\n",
    "    return {\n",
    "        \"nb\" : $store.\"store number\",\n",
    "        \"state\" : $store.state,\n",
    "        \"sold\" : $sale.product\n",
    "    }\n",
    "return [$join]"
   ]
  },
  {
   "cell_type": "markdown",
   "metadata": {
    "id": "rDbI7NmAI1Na"
   },
   "source": [
    "### Access datasets\n",
    "\n",
    "RumbleDB can read input from many file systems and many file formats. If you are using our backend, you can only use json-doc() with any URI pointing to a JSON file and navigate it as you see fit.\n",
    "\n",
    "You can read data from your local disk, from S3, from HDFS, and also from the Web. For this tutorial, we'll read from the Web because, well, we are already on the Web.\n",
    "\n",
    "We have put a sample at http://rumbledb.org/samples/products-small.json that contains 100,000 small objects like:\n",
    "\n"
   ]
  },
  {
   "cell_type": "code",
   "execution_count": null,
   "metadata": {
    "id": "Fx1QrBdhI1Na"
   },
   "outputs": [],
   "source": [
    "%%jsoniq\n",
    "json-file(\"http://rumbledb.org/samples/products-small.json\", 10)[1]"
   ]
  },
  {
   "cell_type": "markdown",
   "metadata": {
    "id": "xH9cNDPhI1Na"
   },
   "source": [
    "The second parameter to json-file, 10, indicates to RumbleDB that it should organize the data in ten partitions after downloading it, and process it in parallel. If you were reading from HDFS or S3, the parallelization of these partitions would be pushed down to the distributed file system.\n",
    "\n",
    "JSONiq supports the relational algebra. For example, you can do a selection with a where clause, like so:"
   ]
  },
  {
   "cell_type": "code",
   "execution_count": null,
   "metadata": {
    "id": "aRrVzypcI1Na"
   },
   "outputs": [],
   "source": [
    "%%jsoniq\n",
    "for $product in json-file(\"http://rumbledb.org/samples/products-small.json\", 10)\n",
    "where $product.quantity ge 995\n",
    "return $product"
   ]
  },
  {
   "cell_type": "markdown",
   "metadata": {
    "collapsed": true,
    "id": "xM7GN0GlI1Na",
    "jupyter": {
     "outputs_hidden": true
    }
   },
   "source": [
    "Notice that by default only the first 200 items are shown. In a typical setup, it is possible to output the result of a query to a distributed system, so it is also possible to output all the results if needed. In this case, however, as this is printed on your screen, it is more convenient not to materialize the entire sequence.\n",
    "\n",
    "For a projection, there is project():"
   ]
  },
  {
   "cell_type": "code",
   "execution_count": null,
   "metadata": {
    "id": "B0IzDVvkI1Na"
   },
   "outputs": [],
   "source": [
    "%%jsoniq\n",
    "for $product in json-file(\"http://rumbledb.org/samples/products-small.json\", 10)\n",
    "where $product.quantity ge 995\n",
    "return project($product, (\"store-number\", \"product\"))"
   ]
  },
  {
   "cell_type": "markdown",
   "metadata": {
    "id": "-j9dD5HhI1Na"
   },
   "source": [
    "You can also page the results (like OFFSET and LIMIT in SQL) with a count clause and a where clause"
   ]
  },
  {
   "cell_type": "code",
   "execution_count": null,
   "metadata": {
    "id": "QUlfxb4DI1Na"
   },
   "outputs": [],
   "source": [
    "%%jsoniq\n",
    "for $product in json-file(\"http://rumbledb.org/samples/products-small.json\", 10)\n",
    "where $product.quantity ge 995\n",
    "count $c\n",
    "where $c gt 10 and $c le 20\n",
    "return project($product, (\"store-number\", \"product\"))"
   ]
  },
  {
   "cell_type": "markdown",
   "metadata": {
    "id": "_A5KZjsxI1Na"
   },
   "source": [
    "JSONiq also supports grouping with a group by clause:"
   ]
  },
  {
   "cell_type": "code",
   "execution_count": null,
   "metadata": {
    "id": "lJExepcHI1Na"
   },
   "outputs": [],
   "source": [
    "%%jsoniq\n",
    "for $product in json-file(\"http://rumbledb.org/samples/products-small.json\", 10)\n",
    "group by $store-number := $product.store-number\n",
    "return {\n",
    "    \"store\" : $store-number,\n",
    "    \"count\" : count($product)\n",
    "}"
   ]
  },
  {
   "cell_type": "markdown",
   "metadata": {
    "id": "Vb_YQ9ElI1Na"
   },
   "source": [
    "As well as ordering with an order by clause:"
   ]
  },
  {
   "cell_type": "code",
   "execution_count": null,
   "metadata": {
    "id": "Lstp4hzGI1Na"
   },
   "outputs": [],
   "source": [
    "%%jsoniq\n",
    "for $product in json-file(\"http://rumbledb.org/samples/products-small.json\", 10)\n",
    "group by $store-number := $product.store-number\n",
    "order by $store-number ascending\n",
    "return {\n",
    "    \"store\" : $store-number,\n",
    "    \"count\" : count($product)\n",
    "}"
   ]
  },
  {
   "cell_type": "markdown",
   "metadata": {
    "id": "RAgEnYVRI1Na"
   },
   "source": [
    "JSONiq supports denormalized data, so you are not forced to aggregate after a grouping, you can also nest data like so:"
   ]
  },
  {
   "cell_type": "code",
   "execution_count": null,
   "metadata": {
    "id": "Tb7IsV6jI1Na"
   },
   "outputs": [],
   "source": [
    "%%jsoniq\n",
    "for $product in json-file(\"http://rumbledb.org/samples/products-small.json\", 10)\n",
    "group by $store-number := $product.store-number\n",
    "order by $store-number ascending\n",
    "return {\n",
    "    \"store\" : $store-number,\n",
    "    \"products\" : [ distinct-values($product.product) ]\n",
    "}"
   ]
  },
  {
   "cell_type": "markdown",
   "metadata": {
    "id": "9vYrlhBGI1Na"
   },
   "source": [
    "Or"
   ]
  },
  {
   "cell_type": "code",
   "execution_count": null,
   "metadata": {
    "id": "LphBjAb1I1Na"
   },
   "outputs": [],
   "source": [
    "%%jsoniq\n",
    "for $product in json-file(\"http://rumbledb.org/samples/products-small.json\", 10)\n",
    "group by $store-number := $product.store-number\n",
    "order by $store-number ascending\n",
    "return {\n",
    "    \"store\" : $store-number,\n",
    "    \"products\" : [ project($product[position() le 10], (\"product\", \"quantity\")) ],\n",
    "    \"inventory\" : sum($product.quantity)\n",
    "}"
   ]
  },
  {
   "cell_type": "markdown",
   "metadata": {
    "id": "AMlCRczHI1Nb"
   },
   "source": [
    "That's it! You know the basics of JSONiq. Now you can also download the RumbleDB jar and run it on your own laptop. Or [on a Spark cluster, reading data from and to HDFS](https://rumble.readthedocs.io/en/latest/Run%20on%20a%20cluster/), etc.\n"
   ]
  },
  {
   "cell_type": "code",
   "execution_count": null,
   "metadata": {
    "id": "o6lxSsbHI1Nb"
   },
   "outputs": [],
   "source": []
  }
 ],
 "metadata": {
  "anaconda-cloud": {},
  "colab": {
   "provenance": []
  },
  "kernelspec": {
   "display_name": "Python 3 (ipykernel)",
   "language": "python",
   "name": "python3"
  },
  "language_info": {
   "codemirror_mode": {
    "name": "ipython",
    "version": 3
   },
   "file_extension": ".py",
   "mimetype": "text/x-python",
   "name": "python",
   "nbconvert_exporter": "python",
   "pygments_lexer": "ipython3",
   "version": "3.11.3"
  }
 },
 "nbformat": 4,
 "nbformat_minor": 4
}
