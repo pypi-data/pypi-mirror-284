{
 "cells": [
  {
   "cell_type": "code",
   "execution_count": 1,
   "id": "8b5b40e1-9172-4288-8db2-f3891ccf84dd",
   "metadata": {},
   "outputs": [
    {
     "ename": "ModuleNotFoundError",
     "evalue": "No module named 'src.soupernova.soupernova'",
     "output_type": "error",
     "traceback": [
      "\u001b[0;31m---------------------------------------------------------------------------\u001b[0m",
      "\u001b[0;31mModuleNotFoundError\u001b[0m                       Traceback (most recent call last)",
      "Cell \u001b[0;32mIn[1], line 1\u001b[0m\n\u001b[0;32m----> 1\u001b[0m \u001b[38;5;28;01mfrom\u001b[39;00m \u001b[38;5;21;01msrc\u001b[39;00m\u001b[38;5;21;01m.\u001b[39;00m\u001b[38;5;21;01msoupernova\u001b[39;00m \u001b[38;5;28;01mimport\u001b[39;00m SouperNova\n",
      "File \u001b[0;32m~/Development/soupernova/src/soupernova/__init__.py:5\u001b[0m\n\u001b[1;32m      1\u001b[0m \u001b[38;5;66;03m# SPDX-FileCopyrightText: 2024-present Matt Craig <mattwcraig@gmail.com>\u001b[39;00m\n\u001b[1;32m      2\u001b[0m \u001b[38;5;66;03m#\u001b[39;00m\n\u001b[1;32m      3\u001b[0m \u001b[38;5;66;03m# SPDX-License-Identifier: MIT\u001b[39;00m\n\u001b[0;32m----> 5\u001b[0m \u001b[38;5;28;01mfrom\u001b[39;00m \u001b[38;5;21;01m.\u001b[39;00m\u001b[38;5;21;01msoupernova\u001b[39;00m \u001b[38;5;28;01mimport\u001b[39;00m SouperNova\n",
      "\u001b[0;31mModuleNotFoundError\u001b[0m: No module named 'src.soupernova.soupernova'"
     ]
    }
   ],
   "source": [
    "from soupernova import SouperNova"
   ]
  },
  {
   "cell_type": "code",
   "execution_count": 4,
   "id": "b850327a-12a4-4226-a6e9-2ff7523f6c16",
   "metadata": {},
   "outputs": [
    {
     "name": "stderr",
     "output_type": "stream",
     "text": [
      "WARNING: FITSFixedWarning: RADECSYS= 'FK5 ' / Equatorial coordinate system \n",
      "the RADECSYS keyword is deprecated, use RADESYSa. [astropy.wcs.wcs]\n",
      "WARNING: Some non-standard WCS keywords were excluded: A_ORDER, A_0_2, A_1_1, A_2_0, B_ORDER, B_0_2, B_1_1, B_2_0, AP_ORDER, AP_0_0, AP_0_1, AP_0_2, AP_1_0, AP_1_1, AP_2_0, BP_ORDER, BP_0_0, BP_0_1, BP_0_2, BP_1_0, BP_1_1, BP_2_0 Use the ``relax`` kwarg to control this. [astropy.wcs.wcs]\n"
     ]
    }
   ],
   "source": [
    "sn = SouperNova(file=\"/Users/mattcraig/Downloads/wasp-10-b-S001-R001-C105-r.fit\")"
   ]
  },
  {
   "cell_type": "code",
   "execution_count": 5,
   "id": "b1578b51-6711-4194-9796-cc767ffda3ba",
   "metadata": {},
   "outputs": [
    {
     "data": {
      "application/vnd.jupyter.widget-view+json": {
       "model_id": "377a1fbecc7d4899b34640db5460beae",
       "version_major": 2,
       "version_minor": 0
      },
      "text/plain": [
       "SouperNova(children=(ImageWidget(children=(Image(value=b'\\xff\\xd8\\xff\\xe0\\x00\\x10JFIF\\x00\\x01\\x01\\x00\\x00\\x01\\…"
      ]
     },
     "execution_count": 5,
     "metadata": {},
     "output_type": "execute_result"
    }
   ],
   "source": [
    "sn"
   ]
  },
  {
   "cell_type": "code",
   "execution_count": null,
   "id": "f4dc992e-dae5-4cc4-93fe-a37a1f32f729",
   "metadata": {},
   "outputs": [],
   "source": []
  }
 ],
 "metadata": {
  "kernelspec": {
   "display_name": "Python 3 (ipykernel)",
   "language": "python",
   "name": "python3"
  },
  "language_info": {
   "codemirror_mode": {
    "name": "ipython",
    "version": 3
   },
   "file_extension": ".py",
   "mimetype": "text/x-python",
   "name": "python",
   "nbconvert_exporter": "python",
   "pygments_lexer": "ipython3",
   "version": "3.12.4"
  }
 },
 "nbformat": 4,
 "nbformat_minor": 5
}
