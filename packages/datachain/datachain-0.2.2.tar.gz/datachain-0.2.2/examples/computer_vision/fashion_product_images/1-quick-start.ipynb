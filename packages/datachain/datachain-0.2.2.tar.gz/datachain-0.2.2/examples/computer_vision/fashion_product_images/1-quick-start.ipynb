{
 "cells": [
  {
   "cell_type": "markdown",
   "id": "cd9bdbec",
   "metadata": {},
   "source": [
    "# 🚀 Getting Started with DataChain\n",
    "\n",
    "<img src=\"static/images/datachain-overview.png\" alt=\"DataChain Overview\" style=\"width: 600px;\"/>\n",
    "\n",
    "DataChain is a powerful tool for managing datasets and ML workflows. This tutorial explores how **DataChain** helps Computer Vision projects:\n",
    "- 🗂️ **Manage and version datasets and annotations** effectively.\n",
    "- 🔍 **Handle large-scale operations**, applying complex filters and transformations to millions of data entries.\n",
    "- ⏰ **Save valuable time and resources** by avoiding redundant computations for previously processed samples.\n",
    "- 🌊 **Directly stream curated data into PyTorch**, eliminating the need for intermediate resharing.\n",
    "\n",
    "## 📋 Agenda\n",
    "\n",
    "- 🖼️ Create a `fashion-product-images` dataset from an image directory\n",
    "- 📂 Load the dataset\n",
    "- 🔍 Explore filtering techniques\n",
    "  \n",
    "## 🛠 Prerequisites\n",
    "\n",
    "Before you begin, ensure you have:\n",
    "- ⚙️ DataChain installed in your environment (follow the instructions in `examples/fashion-product-images/README.md`)"
   ]
  },
  {
   "cell_type": "markdown",
   "id": "8463ea57-80a1-45a8-9611-2f43a4c84c1a",
   "metadata": {},
   "source": [
    "## Imports"
   ]
  },
  {
   "cell_type": "code",
   "execution_count": 2,
   "id": "74f03f34-ae13-4289-951d-555f7d14d3f3",
   "metadata": {
    "execution": {
     "iopub.execute_input": "2024-07-01T10:40:02.685754Z",
     "iopub.status.busy": "2024-07-01T10:40:02.685561Z",
     "iopub.status.idle": "2024-07-01T10:40:03.359154Z",
     "shell.execute_reply": "2024-07-01T10:40:03.358479Z",
     "shell.execute_reply.started": "2024-07-01T10:40:02.685739Z"
    },
    "scrolled": true
   },
   "outputs": [],
   "source": [
    "%load_ext autoreload\n",
    "%autoreload 2\n",
    "\n",
    "# Import datachain \n",
    "from datachain.lib.dc import DataChain, C\n",
    "from datachain.query import udf\n",
    "\n",
    "import pandas as pd\n",
    "from typing import Iterator, Tuple"
   ]
  },
  {
   "cell_type": "markdown",
   "id": "3de7923c-5fc8-4fb9-a62f-3c6990ad4d3a",
   "metadata": {},
   "source": [
    "# 🆕 Create a DataChain\n",
    "\n",
    "There are multiple ways of creating of DataChain and persisting it as a dataset. First, import the necessary modules and load your dataset using a `DataChain` class. \n",
    "\n",
    "- From cloud storages (AWS S3, GCP, Azure...) or local directory\n",
    "- From previously saved dataset version\n",
    "- From values \n",
    "\n",
    "Here are a few examples: \n",
    "\n",
    "```python\n",
    "# from cloud storages as S3, gs or Azure: \n",
    "DataChain.from_storage(\"s3://my-bucket/my-dir/\")\n",
    "\n",
    "# from previously saved dataset: \n",
    "DataChain.from_dataset(\"name\", version=1)\n",
    "\n",
    "# from values: \n",
    "DataChain.from_features(fib=[1, 2, 3, 5, 8])\n",
    "```\n",
    "\n",
    "Data in DataChain is presented as Python classes with an arbitrary set of fields,\n",
    "including nested classes. The data classes have to inherit from `Feature` class based on `Pydantic`\n",
    "\n",
    "<img src=\"static/images/dataset-1.png\" alt=\"Dataset\" style=\"width: 600px;\"/>\n",
    "\n",
    "**Note:** The DataChain represents file samples as pointers to their respective storage locations. This means a newly created dataset version does not duplicate files in storage, and storage remains the single source of truth for the original samples"
   ]
  },
  {
   "cell_type": "markdown",
   "id": "2b863f3d-4fe7-42a0-ac17-3f37c4e70529",
   "metadata": {},
   "source": [
    "## Create a DataChain from a GCP bucket"
   ]
  },
  {
   "cell_type": "code",
   "execution_count": 5,
   "id": "34c53875-a886-41b3-9611-4c800d009d1e",
   "metadata": {
    "execution": {
     "iopub.execute_input": "2024-07-01T10:44:30.076418Z",
     "iopub.status.busy": "2024-07-01T10:44:30.075848Z",
     "iopub.status.idle": "2024-07-01T10:45:24.282921Z",
     "shell.execute_reply": "2024-07-01T10:45:24.282638Z",
     "shell.execute_reply.started": "2024-07-01T10:44:30.076372Z"
    },
    "scrolled": true
   },
   "outputs": [
    {
     "name": "stderr",
     "output_type": "stream",
     "text": [
      "Listing gs://datachain-demo: 49505 objects [00:51, 960.67 objects/s] \n",
      "Processed: 44441 rows [00:01, 29300.38 rows/s]"
     ]
    },
    {
     "name": "stdout",
     "output_type": "stream",
     "text": [
      "   id vtype  dir_type                         parent       name  \\\n",
      "0   1               0  fashion-product-images/images  10000.jpg   \n",
      "1   2               0  fashion-product-images/images  10001.jpg   \n",
      "2   3               0  fashion-product-images/images  10002.jpg   \n",
      "\n",
      "               etag           version  is_latest  \\\n",
      "0  CPzf74/e+4YDEAE=  1719489653370876          1   \n",
      "1  CKaGwIne+4YDEAE=  1719489640006438          1   \n",
      "2  CKTW55fe+4YDEAE=  1719489670015780          1   \n",
      "\n",
      "                     last_modified  size  ...         file__source  \\\n",
      "0 2024-06-27 12:00:53.421000+00:00  1030  ...  gs://datachain-demo   \n",
      "1 2024-06-27 12:00:40.056000+00:00  1210  ...  gs://datachain-demo   \n",
      "2 2024-06-27 12:01:10.067000+00:00   807  ...  gs://datachain-demo   \n",
      "\n",
      "                    file__parent  file__name file__size     file__version  \\\n",
      "0  fashion-product-images/images   10000.jpg       1030  1719489653370876   \n",
      "1  fashion-product-images/images   10001.jpg       1210  1719489640006438   \n",
      "2  fashion-product-images/images   10002.jpg        807  1719489670015780   \n",
      "\n",
      "         file__etag file__is_latest       file__last_modified  file__location  \\\n",
      "0  CPzf74/e+4YDEAE=               1 1970-01-01 00:00:00+00:00            None   \n",
      "1  CKaGwIne+4YDEAE=               1 1970-01-01 00:00:00+00:00            None   \n",
      "2  CKTW55fe+4YDEAE=               1 1970-01-01 00:00:00+00:00            None   \n",
      "\n",
      "  file__vtype  \n",
      "0              \n",
      "1              \n",
      "2\n",
      "[limited by 3 objects]\n"
     ]
    },
    {
     "name": "stderr",
     "output_type": "stream",
     "text": [
      "\n"
     ]
    }
   ],
   "source": [
    "# Create a DataChain\n",
    "\n",
    "ds = (\n",
    "    DataChain.from_storage(\"gs://datachain-demo/fashion-product-images\", type=\"image\")\n",
    "    .filter(C.name.glob(\"*.jpg\"))\n",
    "    .save()\n",
    ")\n",
    "ds.show(3)"
   ]
  },
  {
   "cell_type": "markdown",
   "id": "a7fcde1f-54bf-438b-bc11-6e3ab6fda937",
   "metadata": {},
   "source": [
    "## Create a DataChain from a local directory of images"
   ]
  },
  {
   "cell_type": "markdown",
   "id": "c9e60cca-2400-4676-9396-31c930b04549",
   "metadata": {},
   "source": [
    "**(OPTIONAL) You may skip this and work with data in our public dataset.**\n",
    "\n",
    "You may create a DataChain from a directory if images are stored locally. Download data from Kaggle to follow the example. \n",
    "\n",
    "**Manually**\n",
    "- Download the Fashion Product Images (Small) dataset from kaggle.com: [Fashion Product Images (Small) dataset from Kaggle.com](https://www.kaggle.com/datasets/paramaggarwal/fashion-product-images-small/data) dataset contributed by Param Aggarwal.\n",
    "- Unzip data into the (`data`) directory in `examples/fashion-product-images`\n",
    "\n",
    "**Using a script below:**\n",
    "1. Obtain your Kaggle credentials file (`kaggle.json`) and save it to the (`~/.kaggle`) directory so that it's available at (`~/.kaggle/kaggle.json`).\n",
    "2. Download the desired dataset from Kaggle.\n",
    "3. Unzip the downloaded data into the (`data`) directory."
   ]
  },
  {
   "cell_type": "code",
   "execution_count": 2,
   "id": "2306fec4-cc54-4355-9bd9-668ca6eef980",
   "metadata": {
    "execution": {
     "iopub.execute_input": "2024-06-28T14:50:53.524506Z",
     "iopub.status.busy": "2024-06-28T14:50:53.523827Z",
     "iopub.status.idle": "2024-06-28T14:50:53.539724Z",
     "shell.execute_reply": "2024-06-28T14:50:53.539027Z",
     "shell.execute_reply.started": "2024-06-28T14:50:53.524471Z"
    }
   },
   "outputs": [],
   "source": [
    "## Prepare credentials \n",
    "# !mkdir -p ~/.kaggle\n",
    "# !cp kaggle.json ~/.kaggle/\n",
    "# !chmod 600 ~/.kaggle/kaggle.json\n",
    "\n",
    "## Download data \n",
    "# !pip install -q kaggle\n",
    "# !kaggle datasets download -d paramaggarwal/fashion-product-images-small\n",
    "\n",
    "## Unzip files \n",
    "# unzip fashion-product-images-small.zip \"images/*\" -d data2\n",
    "# unzip fashion-product-images-small.zip \"styles.csv\" -d data2\n",
    "\n",
    "## (optional) Remove unnecessary redundant directory in the source data \n",
    "# ![ -d \"data/myntradataset\" ] && rm -r \"data/myntradataset\" "
   ]
  },
  {
   "cell_type": "code",
   "execution_count": 4,
   "id": "09dc9b12-9a02-40be-b158-0da7b2552b8a",
   "metadata": {
    "execution": {
     "iopub.execute_input": "2024-07-01T10:41:42.995296Z",
     "iopub.status.busy": "2024-07-01T10:41:42.994741Z",
     "iopub.status.idle": "2024-07-01T10:41:43.051816Z",
     "shell.execute_reply": "2024-07-01T10:41:43.051318Z",
     "shell.execute_reply.started": "2024-07-01T10:41:42.995261Z"
    }
   },
   "outputs": [],
   "source": [
    "# Create a DataChain\n",
    "\n",
    "# DATA_PATH = \"data/images\"\n",
    "\n",
    "# ds = (\n",
    "#     DataChain.from_storage(DATA_PATH, type=\"image\")\n",
    "#     .filter(C.name.glob(\"*.jpg\"))\n",
    "# )"
   ]
  },
  {
   "cell_type": "markdown",
   "id": "487cc386-5c70-4662-b56e-9f6c7016fd14",
   "metadata": {},
   "source": [
    "## Preview DataChain content"
   ]
  },
  {
   "cell_type": "code",
   "execution_count": 4,
   "id": "a5235e62-cba6-409f-ab3e-8ef469895b74",
   "metadata": {
    "execution": {
     "iopub.execute_input": "2024-06-28T14:50:53.576885Z",
     "iopub.status.busy": "2024-06-28T14:50:53.576725Z",
     "iopub.status.idle": "2024-06-28T14:50:55.390512Z",
     "shell.execute_reply": "2024-06-28T14:50:55.390177Z",
     "shell.execute_reply.started": "2024-06-28T14:50:53.576866Z"
    },
    "scrolled": true
   },
   "outputs": [
    {
     "name": "stderr",
     "output_type": "stream",
     "text": [
      "Processed: 44441 rows [00:01, 27796.21 rows/s]"
     ]
    },
    {
     "name": "stdout",
     "output_type": "stream",
     "text": [
      "   id vtype  dir_type                                             parent  \\\n",
      "0   1               0  Users/mikhailrozhkov/dev/products/dvcx/dvcx/ex...   \n",
      "1   2               0  Users/mikhailrozhkov/dev/products/dvcx/dvcx/ex...   \n",
      "2   3               0  Users/mikhailrozhkov/dev/products/dvcx/dvcx/ex...   \n",
      "\n",
      "        name                   etag version  is_latest  \\\n",
      "0   9733.jpg  0x1.76bbcf3800000p+30                  1   \n",
      "1  14147.jpg  0x1.76bbcc8800000p+30                  1   \n",
      "2  52112.jpg  0x1.76bbcf0000000p+30                  1   \n",
      "\n",
      "              last_modified   size  ... file__source  \\\n",
      "0 2019-10-22 12:19:26+00:00   1694  ...     file:///   \n",
      "1 2019-10-22 12:16:34+00:00  10078  ...     file:///   \n",
      "2 2019-10-22 12:19:12+00:00  24511  ...     file:///   \n",
      "\n",
      "                                        file__parent  file__name file__size  \\\n",
      "0  Users/mikhailrozhkov/dev/products/dvcx/dvcx/ex...    9733.jpg       1694   \n",
      "1  Users/mikhailrozhkov/dev/products/dvcx/dvcx/ex...   14147.jpg      10078   \n",
      "2  Users/mikhailrozhkov/dev/products/dvcx/dvcx/ex...   52112.jpg      24511   \n",
      "\n",
      "  file__version             file__etag file__is_latest  \\\n",
      "0                0x1.76bbcf3800000p+30               1   \n",
      "1                0x1.76bbcc8800000p+30               1   \n",
      "2                0x1.76bbcf0000000p+30               1   \n",
      "\n",
      "        file__last_modified  file__location file__vtype  \n",
      "0 1970-01-01 00:00:00+00:00            None              \n",
      "1 1970-01-01 00:00:00+00:00            None              \n",
      "2 1970-01-01 00:00:00+00:00            None\n",
      "[limited by 3 objects]\n"
     ]
    },
    {
     "name": "stderr",
     "output_type": "stream",
     "text": [
      "\n"
     ]
    }
   ],
   "source": [
    "# Preview with `.show()`\n",
    "\n",
    "ds.show(3)"
   ]
  },
  {
   "cell_type": "code",
   "execution_count": 5,
   "id": "1e083a61-fa92-4f47-8d17-4d303faf7622",
   "metadata": {
    "execution": {
     "iopub.execute_input": "2024-06-28T14:50:55.391754Z",
     "iopub.status.busy": "2024-06-28T14:50:55.391627Z",
     "iopub.status.idle": "2024-06-28T14:50:57.662890Z",
     "shell.execute_reply": "2024-06-28T14:50:57.662632Z",
     "shell.execute_reply.started": "2024-06-28T14:50:55.391745Z"
    },
    "scrolled": true
   },
   "outputs": [
    {
     "name": "stderr",
     "output_type": "stream",
     "text": [
      "Processed: 44441 rows [00:01, 27464.91 rows/s]\n"
     ]
    },
    {
     "name": "stdout",
     "output_type": "stream",
     "text": [
      "(44441, 25)\n"
     ]
    },
    {
     "data": {
      "text/html": [
       "<div>\n",
       "<style scoped>\n",
       "    .dataframe tbody tr th:only-of-type {\n",
       "        vertical-align: middle;\n",
       "    }\n",
       "\n",
       "    .dataframe tbody tr th {\n",
       "        vertical-align: top;\n",
       "    }\n",
       "\n",
       "    .dataframe thead th {\n",
       "        text-align: right;\n",
       "    }\n",
       "</style>\n",
       "<table border=\"1\" class=\"dataframe\">\n",
       "  <thead>\n",
       "    <tr style=\"text-align: right;\">\n",
       "      <th></th>\n",
       "      <th>id</th>\n",
       "      <th>vtype</th>\n",
       "      <th>dir_type</th>\n",
       "      <th>parent</th>\n",
       "      <th>name</th>\n",
       "      <th>etag</th>\n",
       "      <th>version</th>\n",
       "      <th>is_latest</th>\n",
       "      <th>last_modified</th>\n",
       "      <th>size</th>\n",
       "      <th>...</th>\n",
       "      <th>file__source</th>\n",
       "      <th>file__parent</th>\n",
       "      <th>file__name</th>\n",
       "      <th>file__size</th>\n",
       "      <th>file__version</th>\n",
       "      <th>file__etag</th>\n",
       "      <th>file__is_latest</th>\n",
       "      <th>file__last_modified</th>\n",
       "      <th>file__location</th>\n",
       "      <th>file__vtype</th>\n",
       "    </tr>\n",
       "  </thead>\n",
       "  <tbody>\n",
       "    <tr>\n",
       "      <th>0</th>\n",
       "      <td>1</td>\n",
       "      <td></td>\n",
       "      <td>0</td>\n",
       "      <td>Users/mikhailrozhkov/dev/products/dvcx/dvcx/ex...</td>\n",
       "      <td>9733.jpg</td>\n",
       "      <td>0x1.76bbcf3800000p+30</td>\n",
       "      <td></td>\n",
       "      <td>1</td>\n",
       "      <td>2019-10-22 12:19:26+00:00</td>\n",
       "      <td>1694</td>\n",
       "      <td>...</td>\n",
       "      <td>file:///</td>\n",
       "      <td>Users/mikhailrozhkov/dev/products/dvcx/dvcx/ex...</td>\n",
       "      <td>9733.jpg</td>\n",
       "      <td>1694</td>\n",
       "      <td></td>\n",
       "      <td>0x1.76bbcf3800000p+30</td>\n",
       "      <td>1</td>\n",
       "      <td>1970-01-01 00:00:00+00:00</td>\n",
       "      <td>None</td>\n",
       "      <td></td>\n",
       "    </tr>\n",
       "    <tr>\n",
       "      <th>1</th>\n",
       "      <td>2</td>\n",
       "      <td></td>\n",
       "      <td>0</td>\n",
       "      <td>Users/mikhailrozhkov/dev/products/dvcx/dvcx/ex...</td>\n",
       "      <td>14147.jpg</td>\n",
       "      <td>0x1.76bbcc8800000p+30</td>\n",
       "      <td></td>\n",
       "      <td>1</td>\n",
       "      <td>2019-10-22 12:16:34+00:00</td>\n",
       "      <td>10078</td>\n",
       "      <td>...</td>\n",
       "      <td>file:///</td>\n",
       "      <td>Users/mikhailrozhkov/dev/products/dvcx/dvcx/ex...</td>\n",
       "      <td>14147.jpg</td>\n",
       "      <td>10078</td>\n",
       "      <td></td>\n",
       "      <td>0x1.76bbcc8800000p+30</td>\n",
       "      <td>1</td>\n",
       "      <td>1970-01-01 00:00:00+00:00</td>\n",
       "      <td>None</td>\n",
       "      <td></td>\n",
       "    </tr>\n",
       "    <tr>\n",
       "      <th>2</th>\n",
       "      <td>3</td>\n",
       "      <td></td>\n",
       "      <td>0</td>\n",
       "      <td>Users/mikhailrozhkov/dev/products/dvcx/dvcx/ex...</td>\n",
       "      <td>52112.jpg</td>\n",
       "      <td>0x1.76bbcf0000000p+30</td>\n",
       "      <td></td>\n",
       "      <td>1</td>\n",
       "      <td>2019-10-22 12:19:12+00:00</td>\n",
       "      <td>24511</td>\n",
       "      <td>...</td>\n",
       "      <td>file:///</td>\n",
       "      <td>Users/mikhailrozhkov/dev/products/dvcx/dvcx/ex...</td>\n",
       "      <td>52112.jpg</td>\n",
       "      <td>24511</td>\n",
       "      <td></td>\n",
       "      <td>0x1.76bbcf0000000p+30</td>\n",
       "      <td>1</td>\n",
       "      <td>1970-01-01 00:00:00+00:00</td>\n",
       "      <td>None</td>\n",
       "      <td></td>\n",
       "    </tr>\n",
       "    <tr>\n",
       "      <th>3</th>\n",
       "      <td>4</td>\n",
       "      <td></td>\n",
       "      <td>0</td>\n",
       "      <td>Users/mikhailrozhkov/dev/products/dvcx/dvcx/ex...</td>\n",
       "      <td>6400.jpg</td>\n",
       "      <td>0x1.76bbcf3000000p+30</td>\n",
       "      <td></td>\n",
       "      <td>1</td>\n",
       "      <td>2019-10-22 12:19:24+00:00</td>\n",
       "      <td>20042</td>\n",
       "      <td>...</td>\n",
       "      <td>file:///</td>\n",
       "      <td>Users/mikhailrozhkov/dev/products/dvcx/dvcx/ex...</td>\n",
       "      <td>6400.jpg</td>\n",
       "      <td>20042</td>\n",
       "      <td></td>\n",
       "      <td>0x1.76bbcf3000000p+30</td>\n",
       "      <td>1</td>\n",
       "      <td>1970-01-01 00:00:00+00:00</td>\n",
       "      <td>None</td>\n",
       "      <td></td>\n",
       "    </tr>\n",
       "    <tr>\n",
       "      <th>4</th>\n",
       "      <td>5</td>\n",
       "      <td></td>\n",
       "      <td>0</td>\n",
       "      <td>Users/mikhailrozhkov/dev/products/dvcx/dvcx/ex...</td>\n",
       "      <td>34297.jpg</td>\n",
       "      <td>0x1.76bbce9000000p+30</td>\n",
       "      <td></td>\n",
       "      <td>1</td>\n",
       "      <td>2019-10-22 12:18:44+00:00</td>\n",
       "      <td>15617</td>\n",
       "      <td>...</td>\n",
       "      <td>file:///</td>\n",
       "      <td>Users/mikhailrozhkov/dev/products/dvcx/dvcx/ex...</td>\n",
       "      <td>34297.jpg</td>\n",
       "      <td>15617</td>\n",
       "      <td></td>\n",
       "      <td>0x1.76bbce9000000p+30</td>\n",
       "      <td>1</td>\n",
       "      <td>1970-01-01 00:00:00+00:00</td>\n",
       "      <td>None</td>\n",
       "      <td></td>\n",
       "    </tr>\n",
       "  </tbody>\n",
       "</table>\n",
       "<p>5 rows × 25 columns</p>\n",
       "</div>"
      ],
      "text/plain": [
       "   id vtype  dir_type                                             parent  \\\n",
       "0   1               0  Users/mikhailrozhkov/dev/products/dvcx/dvcx/ex...   \n",
       "1   2               0  Users/mikhailrozhkov/dev/products/dvcx/dvcx/ex...   \n",
       "2   3               0  Users/mikhailrozhkov/dev/products/dvcx/dvcx/ex...   \n",
       "3   4               0  Users/mikhailrozhkov/dev/products/dvcx/dvcx/ex...   \n",
       "4   5               0  Users/mikhailrozhkov/dev/products/dvcx/dvcx/ex...   \n",
       "\n",
       "        name                   etag version  is_latest  \\\n",
       "0   9733.jpg  0x1.76bbcf3800000p+30                  1   \n",
       "1  14147.jpg  0x1.76bbcc8800000p+30                  1   \n",
       "2  52112.jpg  0x1.76bbcf0000000p+30                  1   \n",
       "3   6400.jpg  0x1.76bbcf3000000p+30                  1   \n",
       "4  34297.jpg  0x1.76bbce9000000p+30                  1   \n",
       "\n",
       "              last_modified   size  ... file__source  \\\n",
       "0 2019-10-22 12:19:26+00:00   1694  ...     file:///   \n",
       "1 2019-10-22 12:16:34+00:00  10078  ...     file:///   \n",
       "2 2019-10-22 12:19:12+00:00  24511  ...     file:///   \n",
       "3 2019-10-22 12:19:24+00:00  20042  ...     file:///   \n",
       "4 2019-10-22 12:18:44+00:00  15617  ...     file:///   \n",
       "\n",
       "                                        file__parent  file__name file__size  \\\n",
       "0  Users/mikhailrozhkov/dev/products/dvcx/dvcx/ex...    9733.jpg       1694   \n",
       "1  Users/mikhailrozhkov/dev/products/dvcx/dvcx/ex...   14147.jpg      10078   \n",
       "2  Users/mikhailrozhkov/dev/products/dvcx/dvcx/ex...   52112.jpg      24511   \n",
       "3  Users/mikhailrozhkov/dev/products/dvcx/dvcx/ex...    6400.jpg      20042   \n",
       "4  Users/mikhailrozhkov/dev/products/dvcx/dvcx/ex...   34297.jpg      15617   \n",
       "\n",
       "  file__version             file__etag file__is_latest  \\\n",
       "0                0x1.76bbcf3800000p+30               1   \n",
       "1                0x1.76bbcc8800000p+30               1   \n",
       "2                0x1.76bbcf0000000p+30               1   \n",
       "3                0x1.76bbcf3000000p+30               1   \n",
       "4                0x1.76bbce9000000p+30               1   \n",
       "\n",
       "        file__last_modified  file__location file__vtype  \n",
       "0 1970-01-01 00:00:00+00:00            None              \n",
       "1 1970-01-01 00:00:00+00:00            None              \n",
       "2 1970-01-01 00:00:00+00:00            None              \n",
       "3 1970-01-01 00:00:00+00:00            None              \n",
       "4 1970-01-01 00:00:00+00:00            None              \n",
       "\n",
       "[5 rows x 25 columns]"
      ]
     },
     "execution_count": 5,
     "metadata": {},
     "output_type": "execute_result"
    }
   ],
   "source": [
    "# Preview with Pandas\n",
    "\n",
    "df = ds.to_pandas()\n",
    "\n",
    "print(df.shape)\n",
    "df.head()"
   ]
  },
  {
   "cell_type": "markdown",
   "id": "db3f982f-ea1a-4ad9-8b59-9b1f586136e3",
   "metadata": {},
   "source": [
    "# 🏷️ Add Metadata\n",
    "\n",
    "In DataChain, you can add annotations and attributes to files.  In the following steps, you'll add metadata from a CSV file. Here's how you can do it:\n",
    "1. Load/prepare annotations\n",
    "2. Define a mapping function or UDF\n",
    "3. Apply the function to generate new columns\n",
    "4. Save an annotated dataset\n",
    "\n",
    "<img src=\"static/images/dataset-2.png\" alt=\"Dataset\" style=\"width: 600px;\"/>"
   ]
  },
  {
   "cell_type": "markdown",
   "id": "bcfc530f-dd71-404d-9b1e-d8fc8d05bbf2",
   "metadata": {},
   "source": [
    "## Load metadata from CSV in GCP\n",
    "\n",
    "- With Datachain, you can create a chain from a single CSV, JSON, or Parquet file or parse multiple files at once\n",
    "The example below shows how to parse a single CSV file of metadata using `parse_csv()` method"
   ]
  },
  {
   "cell_type": "code",
   "execution_count": 22,
   "id": "02adaac4-1bdc-4360-812e-fd46ee0b452c",
   "metadata": {
    "execution": {
     "iopub.execute_input": "2024-07-01T10:58:11.898482Z",
     "iopub.status.busy": "2024-07-01T10:58:11.898111Z",
     "iopub.status.idle": "2024-07-01T10:58:24.949544Z",
     "shell.execute_reply": "2024-07-01T10:58:24.949160Z",
     "shell.execute_reply.started": "2024-07-01T10:58:11.898459Z"
    },
    "scrolled": true
   },
   "outputs": [
    {
     "name": "stderr",
     "output_type": "stream",
     "text": [
      "Processed: 1 rows [00:00, 1128.71 rows/s]\n"
     ]
    },
    {
     "name": "stdout",
     "output_type": "stream",
     "text": [
      "Inferred tabular data schema: {'source': <class 'datachain.lib.arrow.Source'>, 'c0': <class 'int'>, 'id': <class 'int'>, 'gender': <class 'str'>, 'mastercategory': <class 'str'>, 'subcategory': <class 'str'>, 'articletype': <class 'str'>, 'basecolour': <class 'str'>, 'season': <class 'str'>, 'year': <class 'float'>, 'usage': <class 'str'>, 'productdisplayname': <class 'str'>}\n"
     ]
    },
    {
     "name": "stderr",
     "output_type": "stream",
     "text": [
      "Processed: 1 rows [00:00, 1538.63 rows/s]\n",
      "Processed: 0 rows [00:00, ? rows/s]\n",
      "Generated: 0 rows [00:00, ? rows/s]\u001b[A\n",
      "Generated: 10001 rows [00:00, 28080.55 rows/s]\u001b[A\n",
      "Generated: 20001 rows [00:00, 26139.45 rows/s]\u001b[A\n",
      "Generated: 30001 rows [00:01, 25289.88 rows/s]\u001b[A\n",
      "Processed: 1 rows [00:01,  1.98s/ rows]rows/s]\u001b[A\n",
      "Generated: 44446 rows [00:01, 22407.51 rows/s]"
     ]
    },
    {
     "name": "stdout",
     "output_type": "stream",
     "text": [
      "   id source__file__source    source__file__parent source__file__name  \\\n",
      "0   1  gs://datachain-demo  fashion-product-images   styles_clean.csv   \n",
      "1   2  gs://datachain-demo  fashion-product-images   styles_clean.csv   \n",
      "2   3  gs://datachain-demo  fashion-product-images   styles_clean.csv   \n",
      "\n",
      "   source__file__size source__file__version source__file__etag  \\\n",
      "0             4675018      1719830629903847   COfbk67UhYcDEAE=   \n",
      "1             4675018      1719830629903847   COfbk67UhYcDEAE=   \n",
      "2             4675018      1719830629903847   COfbk67UhYcDEAE=   \n",
      "\n",
      "   source__file__is_latest source__file__last_modified source__file__location  \\\n",
      "0                        1   1970-01-01 00:00:00+00:00                   None   \n",
      "1                        1   1970-01-01 00:00:00+00:00                   None   \n",
      "2                        1   1970-01-01 00:00:00+00:00                   None   \n",
      "\n",
      "   ...     c0  gender  mastercategory subcategory articletype basecolour  \\\n",
      "0  ...  12904     Men         Apparel     Topwear     Tshirts       Blue   \n",
      "1  ...  12627     Men         Apparel     Topwear     Tshirts       Blue   \n",
      "2  ...  16357     Men         Apparel     Topwear     Tshirts       Blue   \n",
      "\n",
      "   season    year   usage                                productdisplayname  \n",
      "0  Summer  2011.0  Sports  Nike Sahara Team India Fanwear Round Neck Jersey  \n",
      "1  Winter  2015.0  Sports           Nike Men Blue T20 Indian Cricket Jersey  \n",
      "2  Summer  2013.0  Sports               Nike Mean Team India Cricket Jersey\n",
      "[limited by 3 objects]\n"
     ]
    },
    {
     "name": "stderr",
     "output_type": "stream",
     "text": [
      "\n"
     ]
    }
   ],
   "source": [
    "# Load metadata from CSV \n",
    "ds_meta = (\n",
    "    DataChain.from_storage(\"gs://datachain-demo/fashion-product-images/styles_clean.csv\")\n",
    "    .parse_csv()\n",
    "    .save()\n",
    ")\n",
    "\n",
    "ds_meta.show(3)"
   ]
  },
  {
   "cell_type": "code",
   "execution_count": 23,
   "id": "91cc1fab-e519-4409-a7f6-c212da4d7e33",
   "metadata": {
    "execution": {
     "iopub.execute_input": "2024-07-01T10:58:24.950223Z",
     "iopub.status.busy": "2024-07-01T10:58:24.950139Z",
     "iopub.status.idle": "2024-07-01T10:58:25.769499Z",
     "shell.execute_reply": "2024-07-01T10:58:25.769087Z",
     "shell.execute_reply.started": "2024-07-01T10:58:24.950215Z"
    },
    "scrolled": true
   },
   "outputs": [
    {
     "name": "stderr",
     "output_type": "stream",
     "text": [
      "Processed: 44446 rows [00:00, 66907.51 rows/s]"
     ]
    },
    {
     "name": "stdout",
     "output_type": "stream",
     "text": [
      "   id source__file__source    source__file__parent source__file__name  \\\n",
      "0   1  gs://datachain-demo  fashion-product-images   styles_clean.csv   \n",
      "1   2  gs://datachain-demo  fashion-product-images   styles_clean.csv   \n",
      "2   3  gs://datachain-demo  fashion-product-images   styles_clean.csv   \n",
      "\n",
      "   source__file__size source__file__version source__file__etag  \\\n",
      "0             4675018      1719830629903847   COfbk67UhYcDEAE=   \n",
      "1             4675018      1719830629903847   COfbk67UhYcDEAE=   \n",
      "2             4675018      1719830629903847   COfbk67UhYcDEAE=   \n",
      "\n",
      "   source__file__is_latest source__file__last_modified source__file__location  \\\n",
      "0                        1   1970-01-01 00:00:00+00:00                   None   \n",
      "1                        1   1970-01-01 00:00:00+00:00                   None   \n",
      "2                        1   1970-01-01 00:00:00+00:00                   None   \n",
      "\n",
      "   ... gender  mastercategory  subcategory articletype basecolour  season  \\\n",
      "0  ...    Men         Apparel      Topwear     Tshirts       Blue  Summer   \n",
      "1  ...    Men         Apparel      Topwear     Tshirts       Blue  Winter   \n",
      "2  ...    Men         Apparel      Topwear     Tshirts       Blue  Summer   \n",
      "\n",
      "     year   usage                                productdisplayname   filename  \n",
      "0  2011.0  Sports  Nike Sahara Team India Fanwear Round Neck Jersey  12904.jpg  \n",
      "1  2015.0  Sports           Nike Men Blue T20 Indian Cricket Jersey  12627.jpg  \n",
      "2  2013.0  Sports               Nike Mean Team India Cricket Jersey  16357.jpg\n",
      "[limited by 3 objects]\n"
     ]
    },
    {
     "name": "stderr",
     "output_type": "stream",
     "text": [
      "\n"
     ]
    }
   ],
   "source": [
    "# Add a \"filename\" column to map each image file to its corresponding metadata\n",
    "\n",
    "ds_meta = ds_meta.map(filename=lambda c0: str(c0) + '.jpg', output=str)\n",
    "ds_meta.show(3)"
   ]
  },
  {
   "cell_type": "markdown",
   "id": "a68d7a64-a1ea-4a81-89f5-2ab365a32aeb",
   "metadata": {},
   "source": [
    "## Load metadata from a local CSV file\n",
    "\n",
    "**(OPTIONAL) You may skip this and work with data in our public dataset.**\n",
    "\n",
    "- In this example, you load the metadata from a CSV file and prepare a annotations \n",
    "- Use an image `filename` to map each image file to its corresponding metadata"
   ]
  },
  {
   "cell_type": "code",
   "execution_count": 18,
   "id": "5d113b14-42a4-4120-8ef3-e4fe42b80c50",
   "metadata": {
    "execution": {
     "iopub.execute_input": "2024-07-01T10:57:49.680616Z",
     "iopub.status.busy": "2024-07-01T10:57:49.680092Z",
     "iopub.status.idle": "2024-07-01T10:57:49.700256Z",
     "shell.execute_reply": "2024-07-01T10:57:49.699818Z",
     "shell.execute_reply.started": "2024-07-01T10:57:49.680583Z"
    },
    "scrolled": true
   },
   "outputs": [],
   "source": [
    "# # Load Annotations from 'data/styles.csv'\n",
    "\n",
    "# ANNOTATIONS_PATH = \"data/styles.csv\"\n",
    "\n",
    "# annotations = pd.read_csv(\n",
    "#     ANNOTATIONS_PATH,\n",
    "#     usecols=[\"id\", \"gender\", \"masterCategory\", \"subCategory\", \"articleType\", \"baseColour\", \"season\", \"year\", \"usage\", \"productDisplayName\"],\n",
    "# )\n",
    "\n",
    "# annotations.head(3)"
   ]
  },
  {
   "cell_type": "code",
   "execution_count": 19,
   "id": "147ebcc6-0089-40dd-9e8b-6677ac9617a6",
   "metadata": {
    "execution": {
     "iopub.execute_input": "2024-07-01T10:57:52.216380Z",
     "iopub.status.busy": "2024-07-01T10:57:52.215975Z",
     "iopub.status.idle": "2024-07-01T10:57:52.264133Z",
     "shell.execute_reply": "2024-07-01T10:57:52.262788Z",
     "shell.execute_reply.started": "2024-07-01T10:57:52.216352Z"
    },
    "scrolled": true
   },
   "outputs": [],
   "source": [
    "# # Preprocess columns\n",
    "# annotations[\"baseColour\"] = annotations[\"baseColour\"].fillna('')\n",
    "# annotations[\"season\"] = annotations[\"season\"].fillna('')\n",
    "# annotations[\"usage\"] = annotations[\"usage\"].fillna('')\n",
    "# annotations[\"productDisplayName\"] = annotations[\"productDisplayName\"].fillna('')\n",
    "\n",
    "# # Add 'filename' column for each image\n",
    "# annotations[\"filename\"] = annotations[\"id\"].apply(lambda s: str(s) + \".jpg\")\n",
    "# annotations = annotations.drop(\"id\", axis=1)"
   ]
  },
  {
   "cell_type": "code",
   "execution_count": 20,
   "id": "ac6468d7-0a7c-4653-9cde-cc60dfd02c4a",
   "metadata": {
    "execution": {
     "iopub.execute_input": "2024-07-01T10:57:55.227920Z",
     "iopub.status.busy": "2024-07-01T10:57:55.227390Z",
     "iopub.status.idle": "2024-07-01T10:57:55.254880Z",
     "shell.execute_reply": "2024-07-01T10:57:55.253634Z",
     "shell.execute_reply.started": "2024-07-01T10:57:55.227886Z"
    },
    "scrolled": true
   },
   "outputs": [],
   "source": [
    "# ### Create a metadata Datachain allows to generate a chain from Pandas DataFrame \n",
    "\n",
    "# ds_meta = DataChain.from_pandas(annotations)\n",
    "# ds_meta.show(3)"
   ]
  },
  {
   "cell_type": "markdown",
   "id": "a45dfe51-064f-46d9-a347-ef2b01691a62",
   "metadata": {},
   "source": [
    "## Merge the original image and metadata datachains\n",
    "\n",
    "- The `merge` method merges two chains based on the specified criteria\n",
    "- Parameters:\n",
    "  - `right_ds`: Chain to join with.\n",
    "  - `on`: Predicate or list of Predicates to join on. If both chains have the same predicates then this predicate is enough for the join. Otherwise, `right_on` parameter has to specify the predicates for the other chain.\n",
    "  - `right_on`: Optional predicate or list of Predicates for the `right_ds` to join.\n",
    "  - `inner`: Whether to run inner join or outer join. Default is False.\n",
    "  - `rname`: name prefix for conflicting signal names. Default: \"{name}_right\""
   ]
  },
  {
   "cell_type": "code",
   "execution_count": 24,
   "id": "7f164604-eb7a-4f6a-b1a4-f8270af4fe36",
   "metadata": {
    "execution": {
     "iopub.execute_input": "2024-07-01T10:58:32.266037Z",
     "iopub.status.busy": "2024-07-01T10:58:32.265629Z",
     "iopub.status.idle": "2024-07-01T10:58:35.075506Z",
     "shell.execute_reply": "2024-07-01T10:58:35.075234Z",
     "shell.execute_reply.started": "2024-07-01T10:58:32.266008Z"
    },
    "scrolled": true
   },
   "outputs": [
    {
     "name": "stderr",
     "output_type": "stream",
     "text": [
      "Processed: 44441 rows [00:01, 26269.21 rows/s]\n",
      "Processed: 44446 rows [00:00, 65820.94 rows/s]\n"
     ]
    },
    {
     "name": "stdout",
     "output_type": "stream",
     "text": [
      "   id vtype  dir_type                         parent       name  \\\n",
      "0   1               0  fashion-product-images/images  10000.jpg   \n",
      "1   2               0  fashion-product-images/images  10001.jpg   \n",
      "2   3               0  fashion-product-images/images  10002.jpg   \n",
      "\n",
      "               etag           version  is_latest  \\\n",
      "0  CPzf74/e+4YDEAE=  1719489653370876          1   \n",
      "1  CKaGwIne+4YDEAE=  1719489640006438          1   \n",
      "2  CKTW55fe+4YDEAE=  1719489670015780          1   \n",
      "\n",
      "                     last_modified  size  ...  gender mastercategory  \\\n",
      "0 2024-06-27 12:00:53.421000+00:00  1030  ...  Unisex       Footwear   \n",
      "1 2024-06-27 12:00:40.056000+00:00  1210  ...     Men       Footwear   \n",
      "2 2024-06-27 12:01:10.067000+00:00   807  ...  Unisex    Accessories   \n",
      "\n",
      "   subcategory   articletype basecolour  season    year   usage  \\\n",
      "0   Flip Flops    Flip Flops  Navy Blue  Winter  2012.0  Casual   \n",
      "1        Shoes  Casual Shoes      Black  Summer  2013.0  Casual   \n",
      "2        Socks         Socks      White  Summer  2012.0  Casual   \n",
      "\n",
      "                              productdisplayname   filename  \n",
      "0  Disney Unisex Kids Basic Navy Blue Flip Flops  10000.jpg  \n",
      "1               Clarks Men Black Leather Loafers  10001.jpg  \n",
      "2            ADIDAS Unisex White Pack of 3 Socks  10002.jpg\n",
      "[limited by 3 objects]\n"
     ]
    }
   ],
   "source": [
    "ds_annotated = ds.merge(ds_meta, on=\"name\", right_on=\"filename\")\n",
    "ds_annotated.show(3)"
   ]
  },
  {
   "cell_type": "markdown",
   "id": "2ea1ec3a-7e35-4b19-a241-65fc8723770e",
   "metadata": {},
   "source": [
    "# 💾 Save Dataset\n",
    "\n",
    "Saving datasets in DataChain allows you to:\n",
    "\n",
    "- Persist the dataset and its metadata for future use\n",
    "- Version the dataset to track changes over time\n",
    "- Share the dataset with others in your team or organization\n",
    "- Easily load the dataset in other DataChain workflows or notebooks\n",
    "\n",
    "By saving the annotated dataset, you ensure the metadata is stored alongside the image data, making it convenient to access and use the enriched dataset in your DataChain projects.\n",
    "\n",
    "To save the annotated dataset in DataChain, you can use the `.save()` method on the ds_annotated dataset object. \n",
    "\n",
    "<img src=\"static/images/dataset-3.png\" alt=\"Dataset\" style=\"width: 600px;\"/>"
   ]
  },
  {
   "cell_type": "code",
   "execution_count": 25,
   "id": "93c328f7-5a67-4207-a9fb-c8c35d7904c0",
   "metadata": {
    "execution": {
     "iopub.execute_input": "2024-07-01T10:58:40.210183Z",
     "iopub.status.busy": "2024-07-01T10:58:40.209660Z",
     "iopub.status.idle": "2024-07-01T10:58:43.052510Z",
     "shell.execute_reply": "2024-07-01T10:58:43.052235Z",
     "shell.execute_reply.started": "2024-07-01T10:58:40.210149Z"
    },
    "scrolled": true
   },
   "outputs": [
    {
     "name": "stderr",
     "output_type": "stream",
     "text": [
      "Processed: 44441 rows [00:01, 27774.44 rows/s]\n",
      "Processed: 44446 rows [00:00, 66249.91 rows/s]\n"
     ]
    },
    {
     "data": {
      "text/plain": [
       "<datachain.lib.dc.DataChain at 0x332501b90>"
      ]
     },
     "execution_count": 25,
     "metadata": {},
     "output_type": "execute_result"
    }
   ],
   "source": [
    "ds_annotated.save(\"fashion-product-images\")"
   ]
  },
  {
   "cell_type": "markdown",
   "id": "77221bd7-43aa-40a3-96b9-db09f65b5182",
   "metadata": {
    "execution": {
     "iopub.execute_input": "2024-06-14T12:11:45.499458Z",
     "iopub.status.busy": "2024-06-14T12:11:45.499239Z",
     "iopub.status.idle": "2024-06-14T12:11:45.515159Z",
     "shell.execute_reply": "2024-06-14T12:11:45.514534Z",
     "shell.execute_reply.started": "2024-06-14T12:11:45.499444Z"
    }
   },
   "source": [
    "This line of code saves the `ds_annotated` dataset as a new dataset named \"fashion-product-images\" in DataChain.\n",
    "\n",
    "The `.save()` method takes the name of the dataset as a parameter and creates a new dataset with that name in DataChain. The saved dataset will include all the data and metadata from the original dataset, as well as the newly added metadata signals from the `ImageMetadata` UDF.\n",
    "\n",
    "After executing this code, you will have a new dataset named \"fashion-product-images\" in your DataChain workspace, which contains the annotated image data. You can later load this dataset using `DataChain.from_dataset(\"fashion-product-images\")` to access the annotated data in your DataChain workflows."
   ]
  },
  {
   "cell_type": "markdown",
   "id": "b439c177-646f-4f32-9d3c-8af033d1648a",
   "metadata": {},
   "source": [
    "# 🔍 Explore Data"
   ]
  },
  {
   "attachments": {},
   "cell_type": "markdown",
   "id": "32a56f12-61a5-49c1-b74b-5dadf9491c37",
   "metadata": {},
   "source": [
    "The dataset contains metadata about the images. We can view this metadata in two ways: \n",
    "- using method `.show()` \n",
    "- using the `.to_pandas()` method to review as a Pandas DataFrame "
   ]
  },
  {
   "cell_type": "code",
   "execution_count": 12,
   "id": "002bba93-992a-43ff-8983-db58169d0238",
   "metadata": {
    "execution": {
     "iopub.execute_input": "2024-06-28T14:51:03.886184Z",
     "iopub.status.busy": "2024-06-28T14:51:03.886102Z",
     "iopub.status.idle": "2024-06-28T14:51:03.941432Z",
     "shell.execute_reply": "2024-06-28T14:51:03.941038Z",
     "shell.execute_reply.started": "2024-06-28T14:51:03.886176Z"
    },
    "scrolled": true
   },
   "outputs": [],
   "source": [
    "# Load Image Catalog\n",
    "\n",
    "ds = DataChain.from_dataset(name=\"fashion-product-images\")"
   ]
  },
  {
   "cell_type": "markdown",
   "id": "4cbf10f1-6c0a-4277-b4db-bdfcecd705a1",
   "metadata": {
    "execution": {
     "iopub.execute_input": "2024-06-04T11:37:19.946871Z",
     "iopub.status.busy": "2024-06-04T11:37:19.946216Z",
     "iopub.status.idle": "2024-06-04T11:37:19.976279Z",
     "shell.execute_reply": "2024-06-04T11:37:19.975561Z",
     "shell.execute_reply.started": "2024-06-04T11:37:19.946820Z"
    }
   },
   "source": [
    "This line creates a DataChain object named `ds` that refers to previously saved dataset named `fashion-product-images`."
   ]
  },
  {
   "cell_type": "markdown",
   "id": "e60a11b9-d0e9-424c-a264-29ee61a91f92",
   "metadata": {},
   "source": [
    "## Use DataChain API `show()`"
   ]
  },
  {
   "cell_type": "code",
   "execution_count": 13,
   "id": "0e5915e6-7562-49c8-99aa-c002d9320388",
   "metadata": {
    "execution": {
     "iopub.execute_input": "2024-06-28T14:51:03.941886Z",
     "iopub.status.busy": "2024-06-28T14:51:03.941806Z",
     "iopub.status.idle": "2024-06-28T14:51:03.960421Z",
     "shell.execute_reply": "2024-06-28T14:51:03.960101Z",
     "shell.execute_reply.started": "2024-06-28T14:51:03.941879Z"
    },
    "scrolled": true
   },
   "outputs": [
    {
     "name": "stdout",
     "output_type": "stream",
     "text": [
      "   id vtype  dir_type                                             parent  \\\n",
      "0   1               0  Users/mikhailrozhkov/dev/products/dvcx/dvcx/ex...   \n",
      "1   2               0  Users/mikhailrozhkov/dev/products/dvcx/dvcx/ex...   \n",
      "2   3               0  Users/mikhailrozhkov/dev/products/dvcx/dvcx/ex...   \n",
      "\n",
      "        name                   etag version  is_latest  \\\n",
      "0   9733.jpg  0x1.76bbcf3800000p+30                  1   \n",
      "1  14147.jpg  0x1.76bbcc8800000p+30                  1   \n",
      "2  52112.jpg  0x1.76bbcf0000000p+30                  1   \n",
      "\n",
      "              last_modified   size  ... gender mastercategory  subcategory  \\\n",
      "0 2019-10-22 12:19:26+00:00   1694  ...    Men        Apparel      Topwear   \n",
      "1 2019-10-22 12:16:34+00:00  10078  ...    Men    Accessories    Cufflinks   \n",
      "2 2019-10-22 12:19:12+00:00  24511  ...  Women        Apparel      Topwear   \n",
      "\n",
      "  articletype basecolour  season    year   usage  \\\n",
      "0      Shirts      Green    Fall  2011.0  Casual   \n",
      "1   Cufflinks      Steel    Fall  2011.0  Formal   \n",
      "2      Kurtis      Multi  Summer  2012.0  Ethnic   \n",
      "\n",
      "                             productdisplayname   filename  \n",
      "0         Indian Terrain Men Chase Green Shirts   9733.jpg  \n",
      "1  Belmonte Men Bright Assorted Steel Cufflinks  14147.jpg  \n",
      "2             Myntra Women Multi Coloured Kurti  52112.jpg\n",
      "[limited by 3 objects]\n"
     ]
    }
   ],
   "source": [
    "ds.show(3)"
   ]
  },
  {
   "cell_type": "markdown",
   "id": "a8f7bac1-9dc3-423a-bd7c-6bdd80ee8523",
   "metadata": {},
   "source": [
    "## Convert to Pandas DataFrame\n",
    "\n",
    "This line converts the DataChain dataset (`ds`) into a pandas DataFrame (`df`), making it easier to explore the data using familiar pandas functionalities.\n",
    "- For example, review of the distribution of values in these columns"
   ]
  },
  {
   "cell_type": "code",
   "execution_count": 14,
   "id": "631cb803-695a-4312-8da4-55b854fef85b",
   "metadata": {
    "execution": {
     "iopub.execute_input": "2024-06-28T14:51:03.963092Z",
     "iopub.status.busy": "2024-06-28T14:51:03.962983Z",
     "iopub.status.idle": "2024-06-28T14:51:04.659159Z",
     "shell.execute_reply": "2024-06-28T14:51:04.658902Z",
     "shell.execute_reply.started": "2024-06-28T14:51:03.963084Z"
    }
   },
   "outputs": [
    {
     "name": "stdout",
     "output_type": "stream",
     "text": [
      "(44441, 36)\n",
      "Index(['id', 'vtype', 'dir_type', 'parent', 'name', 'etag', 'version',\n",
      "       'is_latest', 'last_modified', 'size', 'owner_name', 'owner_id',\n",
      "       'random', 'location', 'source', 'file__source', 'file__parent',\n",
      "       'file__name', 'file__size', 'file__version', 'file__etag',\n",
      "       'file__is_latest', 'file__last_modified', 'file__location',\n",
      "       'file__vtype', 'right_id', 'gender', 'mastercategory', 'subcategory',\n",
      "       'articletype', 'basecolour', 'season', 'year', 'usage',\n",
      "       'productdisplayname', 'filename'],\n",
      "      dtype='object')\n"
     ]
    },
    {
     "data": {
      "text/html": [
       "<div>\n",
       "<style scoped>\n",
       "    .dataframe tbody tr th:only-of-type {\n",
       "        vertical-align: middle;\n",
       "    }\n",
       "\n",
       "    .dataframe tbody tr th {\n",
       "        vertical-align: top;\n",
       "    }\n",
       "\n",
       "    .dataframe thead th {\n",
       "        text-align: right;\n",
       "    }\n",
       "</style>\n",
       "<table border=\"1\" class=\"dataframe\">\n",
       "  <thead>\n",
       "    <tr style=\"text-align: right;\">\n",
       "      <th></th>\n",
       "      <th>id</th>\n",
       "      <th>vtype</th>\n",
       "      <th>dir_type</th>\n",
       "      <th>parent</th>\n",
       "      <th>name</th>\n",
       "      <th>etag</th>\n",
       "      <th>version</th>\n",
       "      <th>is_latest</th>\n",
       "      <th>last_modified</th>\n",
       "      <th>size</th>\n",
       "      <th>...</th>\n",
       "      <th>gender</th>\n",
       "      <th>mastercategory</th>\n",
       "      <th>subcategory</th>\n",
       "      <th>articletype</th>\n",
       "      <th>basecolour</th>\n",
       "      <th>season</th>\n",
       "      <th>year</th>\n",
       "      <th>usage</th>\n",
       "      <th>productdisplayname</th>\n",
       "      <th>filename</th>\n",
       "    </tr>\n",
       "  </thead>\n",
       "  <tbody>\n",
       "    <tr>\n",
       "      <th>0</th>\n",
       "      <td>1</td>\n",
       "      <td></td>\n",
       "      <td>0</td>\n",
       "      <td>Users/mikhailrozhkov/dev/products/dvcx/dvcx/ex...</td>\n",
       "      <td>9733.jpg</td>\n",
       "      <td>0x1.76bbcf3800000p+30</td>\n",
       "      <td></td>\n",
       "      <td>1</td>\n",
       "      <td>2019-10-22 12:19:26+00:00</td>\n",
       "      <td>1694</td>\n",
       "      <td>...</td>\n",
       "      <td>Men</td>\n",
       "      <td>Apparel</td>\n",
       "      <td>Topwear</td>\n",
       "      <td>Shirts</td>\n",
       "      <td>Green</td>\n",
       "      <td>Fall</td>\n",
       "      <td>2011.0</td>\n",
       "      <td>Casual</td>\n",
       "      <td>Indian Terrain Men Chase Green Shirts</td>\n",
       "      <td>9733.jpg</td>\n",
       "    </tr>\n",
       "    <tr>\n",
       "      <th>1</th>\n",
       "      <td>2</td>\n",
       "      <td></td>\n",
       "      <td>0</td>\n",
       "      <td>Users/mikhailrozhkov/dev/products/dvcx/dvcx/ex...</td>\n",
       "      <td>14147.jpg</td>\n",
       "      <td>0x1.76bbcc8800000p+30</td>\n",
       "      <td></td>\n",
       "      <td>1</td>\n",
       "      <td>2019-10-22 12:16:34+00:00</td>\n",
       "      <td>10078</td>\n",
       "      <td>...</td>\n",
       "      <td>Men</td>\n",
       "      <td>Accessories</td>\n",
       "      <td>Cufflinks</td>\n",
       "      <td>Cufflinks</td>\n",
       "      <td>Steel</td>\n",
       "      <td>Fall</td>\n",
       "      <td>2011.0</td>\n",
       "      <td>Formal</td>\n",
       "      <td>Belmonte Men Bright Assorted Steel Cufflinks</td>\n",
       "      <td>14147.jpg</td>\n",
       "    </tr>\n",
       "    <tr>\n",
       "      <th>2</th>\n",
       "      <td>3</td>\n",
       "      <td></td>\n",
       "      <td>0</td>\n",
       "      <td>Users/mikhailrozhkov/dev/products/dvcx/dvcx/ex...</td>\n",
       "      <td>52112.jpg</td>\n",
       "      <td>0x1.76bbcf0000000p+30</td>\n",
       "      <td></td>\n",
       "      <td>1</td>\n",
       "      <td>2019-10-22 12:19:12+00:00</td>\n",
       "      <td>24511</td>\n",
       "      <td>...</td>\n",
       "      <td>Women</td>\n",
       "      <td>Apparel</td>\n",
       "      <td>Topwear</td>\n",
       "      <td>Kurtis</td>\n",
       "      <td>Multi</td>\n",
       "      <td>Summer</td>\n",
       "      <td>2012.0</td>\n",
       "      <td>Ethnic</td>\n",
       "      <td>Myntra Women Multi Coloured Kurti</td>\n",
       "      <td>52112.jpg</td>\n",
       "    </tr>\n",
       "  </tbody>\n",
       "</table>\n",
       "<p>3 rows × 36 columns</p>\n",
       "</div>"
      ],
      "text/plain": [
       "   id vtype  dir_type                                             parent  \\\n",
       "0   1               0  Users/mikhailrozhkov/dev/products/dvcx/dvcx/ex...   \n",
       "1   2               0  Users/mikhailrozhkov/dev/products/dvcx/dvcx/ex...   \n",
       "2   3               0  Users/mikhailrozhkov/dev/products/dvcx/dvcx/ex...   \n",
       "\n",
       "        name                   etag version  is_latest  \\\n",
       "0   9733.jpg  0x1.76bbcf3800000p+30                  1   \n",
       "1  14147.jpg  0x1.76bbcc8800000p+30                  1   \n",
       "2  52112.jpg  0x1.76bbcf0000000p+30                  1   \n",
       "\n",
       "              last_modified   size  ... gender mastercategory  subcategory  \\\n",
       "0 2019-10-22 12:19:26+00:00   1694  ...    Men        Apparel      Topwear   \n",
       "1 2019-10-22 12:16:34+00:00  10078  ...    Men    Accessories    Cufflinks   \n",
       "2 2019-10-22 12:19:12+00:00  24511  ...  Women        Apparel      Topwear   \n",
       "\n",
       "  articletype basecolour  season    year   usage  \\\n",
       "0      Shirts      Green    Fall  2011.0  Casual   \n",
       "1   Cufflinks      Steel    Fall  2011.0  Formal   \n",
       "2      Kurtis      Multi  Summer  2012.0  Ethnic   \n",
       "\n",
       "                             productdisplayname   filename  \n",
       "0         Indian Terrain Men Chase Green Shirts   9733.jpg  \n",
       "1  Belmonte Men Bright Assorted Steel Cufflinks  14147.jpg  \n",
       "2             Myntra Women Multi Coloured Kurti  52112.jpg  \n",
       "\n",
       "[3 rows x 36 columns]"
      ]
     },
     "execution_count": 14,
     "metadata": {},
     "output_type": "execute_result"
    }
   ],
   "source": [
    "df = ds.to_pandas()\n",
    "\n",
    "print(df.shape)\n",
    "print(df.columns)\n",
    "df.head(3)"
   ]
  },
  {
   "cell_type": "code",
   "execution_count": 15,
   "id": "cada1e20-6dc5-42c8-b8fd-555fd046e473",
   "metadata": {
    "execution": {
     "iopub.execute_input": "2024-06-28T14:51:04.659627Z",
     "iopub.status.busy": "2024-06-28T14:51:04.659541Z",
     "iopub.status.idle": "2024-06-28T14:51:04.678409Z",
     "shell.execute_reply": "2024-06-28T14:51:04.678040Z",
     "shell.execute_reply.started": "2024-06-28T14:51:04.659619Z"
    },
    "scrolled": true
   },
   "outputs": [
    {
     "name": "stdout",
     "output_type": "stream",
     "text": [
      "mastercategory\n",
      "Apparel           21395\n",
      "Accessories       11289\n",
      "Footwear           9222\n",
      "Personal Care      2404\n",
      "Free Items          105\n",
      "Sporting Goods       25\n",
      "Home                  1\n",
      "Name: count, dtype: int64\n",
      "subcategory\n",
      "Topwear                     15401\n",
      "Shoes                        7344\n",
      "Bags                         3055\n",
      "Bottomwear                   2693\n",
      "Watches                      2542\n",
      "Innerwear                    1808\n",
      "Jewellery                    1080\n",
      "Eyewear                      1073\n",
      "Fragrance                    1012\n",
      "Sandal                        963\n",
      "Wallets                       933\n",
      "Flip Flops                    915\n",
      "Belts                         811\n",
      "Socks                         698\n",
      "Lips                          527\n",
      "Dress                         478\n",
      "Loungewear and Nightwear      470\n",
      "Saree                         427\n",
      "Nails                         329\n",
      "Makeup                        307\n",
      "Headwear                      293\n",
      "Ties                          258\n",
      "Accessories                   143\n",
      "Scarves                       118\n",
      "Cufflinks                     108\n",
      "Apparel Set                   106\n",
      "Free Gifts                    104\n",
      "Stoles                         90\n",
      "Skin Care                      77\n",
      "Skin                           69\n",
      "Eyes                           43\n",
      "Mufflers                       38\n",
      "Shoe Accessories               24\n",
      "Sports Equipment               21\n",
      "Gloves                         20\n",
      "Hair                           19\n",
      "Bath and Body                  12\n",
      "Water Bottle                    7\n",
      "Perfumes                        6\n",
      "Umbrellas                       6\n",
      "Beauty Accessories              4\n",
      "Wristbands                      4\n",
      "Sports Accessories              3\n",
      "Home Furnishing                 1\n",
      "Vouchers                        1\n",
      "Name: count, dtype: int64\n"
     ]
    }
   ],
   "source": [
    "print(df.mastercategory.value_counts())\n",
    "print(df.subcategory.value_counts())"
   ]
  },
  {
   "cell_type": "markdown",
   "id": "53029906-c9dd-4e89-bce0-80a4c6c98bca",
   "metadata": {
    "execution": {
     "iopub.execute_input": "2024-06-04T11:40:37.618594Z",
     "iopub.status.busy": "2024-06-04T11:40:37.618110Z",
     "iopub.status.idle": "2024-06-04T11:40:37.647602Z",
     "shell.execute_reply": "2024-06-04T11:40:37.647056Z",
     "shell.execute_reply.started": "2024-06-04T11:40:37.618566Z"
    }
   },
   "source": [
    "This code snippet demonstrates how to leverage DataChain to load and get a basic understanding of your dataset using `pandas`.\n",
    "\n",
    "**Note**: DataChain offers functionalities beyond pandas conversion. Explore the documentation for more advanced data manipulation techniques!"
   ]
  },
  {
   "cell_type": "markdown",
   "id": "7740441a-c97b-4457-ba68-1f9763d677cf",
   "metadata": {},
   "source": [
    "# 🕵️‍♀️ Filtering Data\n",
    "\n",
    "DataChain allows you to filter the dataset based on specific conditions.\n",
    "- `.filter()` method applies querying expressions to columns  \n",
    "- use a `C` object to refer to the dataset column by names like `C.NAME` (e.g. `C.mastercategory`)"
   ]
  },
  {
   "cell_type": "markdown",
   "id": "17e09b5a-ce01-429e-aaa5-700ea86c6f3e",
   "metadata": {
    "execution": {
     "iopub.execute_input": "2024-05-21T12:33:59.874849Z",
     "iopub.status.busy": "2024-05-21T12:33:59.874075Z",
     "iopub.status.idle": "2024-05-21T12:33:59.888412Z",
     "shell.execute_reply": "2024-05-21T12:33:59.887852Z",
     "shell.execute_reply.started": "2024-05-21T12:33:59.874797Z"
    }
   },
   "source": [
    "## Show only images with `Apparel` category"
   ]
  },
  {
   "cell_type": "code",
   "execution_count": 16,
   "id": "0957ec7f-ea03-42bf-bed5-933d21f91077",
   "metadata": {
    "execution": {
     "iopub.execute_input": "2024-06-28T14:51:04.678980Z",
     "iopub.status.busy": "2024-06-28T14:51:04.678856Z",
     "iopub.status.idle": "2024-06-28T14:51:04.695422Z",
     "shell.execute_reply": "2024-06-28T14:51:04.695095Z",
     "shell.execute_reply.started": "2024-06-28T14:51:04.678970Z"
    },
    "scrolled": true
   },
   "outputs": [
    {
     "name": "stdout",
     "output_type": "stream",
     "text": [
      "   id vtype  dir_type                                             parent  \\\n",
      "0   1               0  Users/mikhailrozhkov/dev/products/dvcx/dvcx/ex...   \n",
      "1   3               0  Users/mikhailrozhkov/dev/products/dvcx/dvcx/ex...   \n",
      "2   5               0  Users/mikhailrozhkov/dev/products/dvcx/dvcx/ex...   \n",
      "\n",
      "        name                   etag version  is_latest  \\\n",
      "0   9733.jpg  0x1.76bbcf3800000p+30                  1   \n",
      "1  52112.jpg  0x1.76bbcf0000000p+30                  1   \n",
      "2  34297.jpg  0x1.76bbce9000000p+30                  1   \n",
      "\n",
      "              last_modified   size  ... gender mastercategory  subcategory  \\\n",
      "0 2019-10-22 12:19:26+00:00   1694  ...    Men        Apparel      Topwear   \n",
      "1 2019-10-22 12:19:12+00:00  24511  ...  Women        Apparel      Topwear   \n",
      "2 2019-10-22 12:18:44+00:00  15617  ...  Women        Apparel      Topwear   \n",
      "\n",
      "  articletype basecolour  season    year   usage  \\\n",
      "0      Shirts      Green    Fall  2011.0  Casual   \n",
      "1      Kurtis      Multi  Summer  2012.0  Ethnic   \n",
      "2     Dupatta       Gold  Summer  2012.0  Ethnic   \n",
      "\n",
      "                      productdisplayname   filename  \n",
      "0  Indian Terrain Men Chase Green Shirts   9733.jpg  \n",
      "1      Myntra Women Multi Coloured Kurti  52112.jpg  \n",
      "2     Fabindia Women Gold Tussar Dupatta  34297.jpg\n",
      "[limited by 3 objects]\n"
     ]
    }
   ],
   "source": [
    "(\n",
    "    ds.filter(C.mastercategory == \"Apparel\").show(3)\n",
    ")\n"
   ]
  },
  {
   "cell_type": "markdown",
   "id": "494a4005-dcec-4b6c-896b-4adf549179b1",
   "metadata": {
    "execution": {
     "iopub.execute_input": "2024-05-21T12:34:01.475478Z",
     "iopub.status.busy": "2024-05-21T12:34:01.474991Z",
     "iopub.status.idle": "2024-05-21T12:34:01.479369Z",
     "shell.execute_reply": "2024-05-21T12:34:01.478754Z",
     "shell.execute_reply.started": "2024-05-21T12:34:01.475450Z"
    }
   },
   "source": [
    "## Show only `Topwear` products"
   ]
  },
  {
   "cell_type": "code",
   "execution_count": 17,
   "id": "38f45264-1394-4585-a748-abdcc2233b55",
   "metadata": {
    "execution": {
     "iopub.execute_input": "2024-06-28T14:51:04.696078Z",
     "iopub.status.busy": "2024-06-28T14:51:04.695897Z",
     "iopub.status.idle": "2024-06-28T14:51:04.711126Z",
     "shell.execute_reply": "2024-06-28T14:51:04.710799Z",
     "shell.execute_reply.started": "2024-06-28T14:51:04.696068Z"
    },
    "scrolled": true
   },
   "outputs": [
    {
     "name": "stdout",
     "output_type": "stream",
     "text": [
      "   id vtype  dir_type                                             parent  \\\n",
      "0   1               0  Users/mikhailrozhkov/dev/products/dvcx/dvcx/ex...   \n",
      "1   3               0  Users/mikhailrozhkov/dev/products/dvcx/dvcx/ex...   \n",
      "2   5               0  Users/mikhailrozhkov/dev/products/dvcx/dvcx/ex...   \n",
      "\n",
      "        name                   etag version  is_latest  \\\n",
      "0   9733.jpg  0x1.76bbcf3800000p+30                  1   \n",
      "1  52112.jpg  0x1.76bbcf0000000p+30                  1   \n",
      "2  34297.jpg  0x1.76bbce9000000p+30                  1   \n",
      "\n",
      "              last_modified   size  ... gender mastercategory  subcategory  \\\n",
      "0 2019-10-22 12:19:26+00:00   1694  ...    Men        Apparel      Topwear   \n",
      "1 2019-10-22 12:19:12+00:00  24511  ...  Women        Apparel      Topwear   \n",
      "2 2019-10-22 12:18:44+00:00  15617  ...  Women        Apparel      Topwear   \n",
      "\n",
      "  articletype basecolour  season    year   usage  \\\n",
      "0      Shirts      Green    Fall  2011.0  Casual   \n",
      "1      Kurtis      Multi  Summer  2012.0  Ethnic   \n",
      "2     Dupatta       Gold  Summer  2012.0  Ethnic   \n",
      "\n",
      "                      productdisplayname   filename  \n",
      "0  Indian Terrain Men Chase Green Shirts   9733.jpg  \n",
      "1      Myntra Women Multi Coloured Kurti  52112.jpg  \n",
      "2     Fabindia Women Gold Tussar Dupatta  34297.jpg\n",
      "[limited by 3 objects]\n"
     ]
    }
   ],
   "source": [
    "(\n",
    "    ds.filter(C.subcategory == \"Topwear\").show(3)\n",
    ")"
   ]
  },
  {
   "cell_type": "markdown",
   "id": "647a0473-dc40-4afe-8359-f6663cc68c9e",
   "metadata": {
    "execution": {
     "iopub.execute_input": "2024-05-09T10:22:13.226793Z",
     "iopub.status.busy": "2024-05-09T10:22:13.226290Z",
     "iopub.status.idle": "2024-05-09T10:22:13.231593Z",
     "shell.execute_reply": "2024-05-09T10:22:13.230415Z",
     "shell.execute_reply.started": "2024-05-09T10:22:13.226764Z"
    }
   },
   "source": [
    "## Chain multiple filters together\n",
    "\n",
    "Show only 'Topwear' apparel products for a 'Summer' season"
   ]
  },
  {
   "cell_type": "code",
   "execution_count": 18,
   "id": "35f0a631-5081-4616-813c-c258ed397b6b",
   "metadata": {
    "execution": {
     "iopub.execute_input": "2024-06-28T14:51:04.711715Z",
     "iopub.status.busy": "2024-06-28T14:51:04.711544Z",
     "iopub.status.idle": "2024-06-28T14:51:04.864121Z",
     "shell.execute_reply": "2024-06-28T14:51:04.863864Z",
     "shell.execute_reply.started": "2024-06-28T14:51:04.711705Z"
    }
   },
   "outputs": [
    {
     "data": {
      "text/plain": [
       "(8830, 36)"
      ]
     },
     "execution_count": 18,
     "metadata": {},
     "output_type": "execute_result"
    }
   ],
   "source": [
    "(\n",
    "    ds\n",
    "    .filter(C.mastercategory == \"Apparel\")\n",
    "    .filter(C.subcategory == \"Topwear\")\n",
    "    .filter(C.season == \"Summer\")\n",
    "    .to_pandas().shape\n",
    "    # .show(3)\n",
    " )"
   ]
  },
  {
   "cell_type": "markdown",
   "id": "6c0b99fa-8820-405b-b2fd-70527992c3c3",
   "metadata": {
    "execution": {
     "iopub.execute_input": "2024-06-26T12:44:11.299947Z",
     "iopub.status.busy": "2024-06-26T12:44:11.299464Z",
     "iopub.status.idle": "2024-06-26T12:44:11.325798Z",
     "shell.execute_reply": "2024-06-26T12:44:11.325135Z",
     "shell.execute_reply.started": "2024-06-26T12:44:11.299918Z"
    }
   },
   "source": [
    "You may use one line filter with multiple expressions joined with logical operators like `&` (AND) and  `|` (OR)"
   ]
  },
  {
   "cell_type": "code",
   "execution_count": 19,
   "id": "9b0f8a23-3de8-4ba4-a986-8a7a08bb3342",
   "metadata": {
    "execution": {
     "iopub.execute_input": "2024-06-28T14:51:04.864634Z",
     "iopub.status.busy": "2024-06-28T14:51:04.864558Z",
     "iopub.status.idle": "2024-06-28T14:51:05.020203Z",
     "shell.execute_reply": "2024-06-28T14:51:05.019948Z",
     "shell.execute_reply.started": "2024-06-28T14:51:04.864626Z"
    }
   },
   "outputs": [
    {
     "data": {
      "text/plain": [
       "(8830, 36)"
      ]
     },
     "execution_count": 19,
     "metadata": {},
     "output_type": "execute_result"
    }
   ],
   "source": [
    "(\n",
    "    ds\n",
    "    .filter((C.mastercategory == \"Apparel\") & (C.subcategory == \"Topwear\") & (C.season == \"Summer\"))\n",
    "    .to_pandas().shape\n",
    "    # .show(3)\n",
    " )"
   ]
  },
  {
   "cell_type": "markdown",
   "id": "ae12c167-b9d7-4751-9c36-4d8eb45a5a1a",
   "metadata": {},
   "source": [
    "## Save Dataset\n",
    "\n",
    "Let's save \"fashion-topwear\" to make it version and reusable"
   ]
  },
  {
   "cell_type": "code",
   "execution_count": 20,
   "id": "2d782294-28fd-4b96-9f8a-91fe6dfa35cc",
   "metadata": {
    "execution": {
     "iopub.execute_input": "2024-06-28T14:51:05.020741Z",
     "iopub.status.busy": "2024-06-28T14:51:05.020664Z",
     "iopub.status.idle": "2024-06-28T14:51:05.349549Z",
     "shell.execute_reply": "2024-06-28T14:51:05.349272Z",
     "shell.execute_reply.started": "2024-06-28T14:51:05.020734Z"
    }
   },
   "outputs": [
    {
     "data": {
      "text/plain": [
       "(15401, 36)"
      ]
     },
     "execution_count": 20,
     "metadata": {},
     "output_type": "execute_result"
    }
   ],
   "source": [
    "(\n",
    "    DataChain(name=\"fashion-product-images\")\n",
    "    .filter(C.mastercategory == \"Apparel\")\n",
    "    .filter(C.subcategory == \"Topwear\")\n",
    "    .save(\"fashion-topwear\")\n",
    "    .to_pandas().shape\n",
    ")"
   ]
  },
  {
   "cell_type": "markdown",
   "id": "eb74d319-10db-4fde-980b-5d6bfd7560e3",
   "metadata": {},
   "source": [
    "# ☁️ Run in Studio (SaaS)\n",
    "\n",
    "<a href=\"https://dvc.ai/\">\n",
    "    <img src=\"static/images/studio.png\" alt=\"DataChain Studio SaaS\" style=\"width: 600px;\"/>\n",
    "</a>"
   ]
  },
  {
   "cell_type": "markdown",
   "id": "530dd9f7-7dc8-4365-b93b-6d7bd18c5e8b",
   "metadata": {},
   "source": [
    "To run these examples in Studio, follow the quide\n",
    "\n",
    "1. Open Studio / YOUR_TEAM / `datasets` workspace\n",
    "2. Create a new Python Script\n",
    "3. Copy/past a script from `scripts/1-quick-start.py`\n",
    "4. Click the Run button\n"
   ]
  },
  {
   "cell_type": "markdown",
   "id": "94fd11d6",
   "metadata": {},
   "source": [
    "# 🎉 Summary \n",
    "\n",
    "👏 **Congratulations on completing this tutorial! You're a DataChain superstar! 🌟** You've taken the first steps in harnessing the power of DataChain for your computer vision projects. In this tutorial, we covered:\n",
    "- Creating the `fashion-product-images` dataset from existing images\n",
    "- Filtering the dataset based on specific conditions\n",
    "- Essential DataChain methods:\n",
    "    - `.show()` for displaying dataset samples\n",
    "    - `.to_pandas()` for converting datasets to Pandas DataFrames\n",
    "    - `.filter()` for applying custom filters to datasets\n",
    "    - `.gen()` for generated metadata\n",
    "    - `.merge()` for attaching metadata to images\n",
    "\n",
    "But this is just the beginning! DataChain offers many features for streamlining your ML workflows, including data transformations, versioning, and much more. 🚀\n",
    "\n",
    "## What's Next?\n",
    "\n",
    "Excited to learn more? Check out the next parts of our tutorial series:\n",
    "- 📂 Saving and Versioning Datasets \n",
    "- 🧩 Splitting Datasets for Training, Validation, and Testing\n",
    "- 🎨 Generating and Managing Embeddings\n",
    "- 🔍 Performing Similarity Search\n",
    "- 🧹 Finding and Removing Redundant Images\n",
    "- 🧠 Training Models\n",
    "- 🔮 Running Inference and Saving Predictions\n",
    "- 📊 Analyzing Predictions\n",
    "\n",
    "By mastering these techniques, you'll be well on your way to building powerful and efficient computer vision pipelines with DataChain.\n",
    "\n",
    "## 🤝 Get Involved\n",
    "\n",
    "We'd love to have you join our growing community of DataChain users and contributors! Here's how you can get involved:\n",
    "\n",
    "- ⭐ Give us a star on [GitHub](https://github.com/iterative/dvcx) to show your support\n",
    "- 🌐 Visit the [dvc.ai website](https://dvc.ai/) to learn more about our products and services\n",
    "- 📞 Contact us to discuss on scaling 🚀 DataChain for your project!\n",
    "- 🙌 Follow us on [LinkedIn](https://www.linkedin.com/company/dvc-ai/) and [Twitter](https://x.com/DVCorg) for the latest updates and insights\n",
    "\n",
    "Thanks for choosing DataChain, and happy coding! 😄"
   ]
  }
 ],
 "metadata": {
  "kernelspec": {
   "display_name": "Python 3 (ipykernel)",
   "language": "python",
   "name": "python3"
  },
  "language_info": {
   "codemirror_mode": {
    "name": "ipython",
    "version": 3
   },
   "file_extension": ".py",
   "mimetype": "text/x-python",
   "name": "python",
   "nbconvert_exporter": "python",
   "pygments_lexer": "ipython3",
   "version": "3.11.6"
  }
 },
 "nbformat": 4,
 "nbformat_minor": 5
}
