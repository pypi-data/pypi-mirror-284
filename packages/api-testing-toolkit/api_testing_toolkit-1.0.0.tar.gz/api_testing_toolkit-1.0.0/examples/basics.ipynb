{
 "cells": [
  {
   "cell_type": "code",
   "execution_count": 1,
   "id": "f3b2f744-1db9-4e86-9523-5c6a5f20106e",
   "metadata": {},
   "outputs": [],
   "source": [
    "import requests\n",
    "from api_testing_toolkit import load_env, dr"
   ]
  },
  {
   "cell_type": "code",
   "execution_count": 2,
   "id": "f74f5794-b8e8-4ad2-ba3e-feaa33e67b8c",
   "metadata": {},
   "outputs": [],
   "source": [
    "env = load_env('example')"
   ]
  },
  {
   "cell_type": "code",
   "execution_count": 5,
   "id": "85fdee8b-54d3-4a42-8605-e01aa3d286f7",
   "metadata": {},
   "outputs": [
    {
     "data": {
      "application/json": {
       "completed": false,
       "id": 1,
       "title": "delectus aut autem",
       "userId": 1
      },
      "text/plain": [
       "<IPython.core.display.JSON object>"
      ]
     },
     "metadata": {
      "application/json": {
       "expanded": true,
       "root": "root"
      }
     },
     "output_type": "display_data"
    },
    {
     "name": "stdout",
     "output_type": "stream",
     "text": [
      "\n"
     ]
    }
   ],
   "source": [
    "r = requests.get('{}/todos/1'.format(env['host']))\n",
    "dr(r)"
   ]
  },
  {
   "cell_type": "code",
   "execution_count": 6,
   "id": "27ca5e55-f6f4-4868-9abd-5887ff59adaa",
   "metadata": {},
   "outputs": [
    {
     "data": {
      "application/json": {
       "completed": true,
       "id": 1,
       "title": "lol hi",
       "userId": 1
      },
      "text/plain": [
       "<IPython.core.display.JSON object>"
      ]
     },
     "metadata": {
      "application/json": {
       "expanded": true,
       "root": "root"
      }
     },
     "output_type": "display_data"
    },
    {
     "name": "stdout",
     "output_type": "stream",
     "text": [
      "\n"
     ]
    }
   ],
   "source": [
    "r = requests.patch('{}/todos/1'.format(env['host']), json={\n",
    "    'title': 'lol hi',\n",
    "    'completed': True\n",
    "})\n",
    "dr(r)"
   ]
  }
 ],
 "metadata": {
  "kernelspec": {
   "display_name": "Python 3 (ipykernel)",
   "language": "python",
   "name": "python3"
  },
  "language_info": {
   "codemirror_mode": {
    "name": "ipython",
    "version": 3
   },
   "file_extension": ".py",
   "mimetype": "text/x-python",
   "name": "python",
   "nbconvert_exporter": "python",
   "pygments_lexer": "ipython3",
   "version": "3.12.2"
  }
 },
 "nbformat": 4,
 "nbformat_minor": 5
}
