{
 "cells": [
  {
   "cell_type": "markdown",
   "metadata": {},
   "source": [
    "# Getting started: handsearching with paperfetcher\n",
    "\n",
    "*Written on Aug 2, 2021 by Akash Pallath.* \n",
    "\n",
    "*Last updated on May 22, 2022 by Akash Pallath.*\n",
    "\n",
    "---"
   ]
  },
  {
   "cell_type": "markdown",
   "metadata": {},
   "source": [
    "To get started, let's import paperfetcher's handsearch module."
   ]
  },
  {
   "cell_type": "code",
   "execution_count": 1,
   "metadata": {},
   "outputs": [],
   "source": [
    "from paperfetcher import handsearch"
   ]
  },
  {
   "cell_type": "markdown",
   "metadata": {},
   "source": [
    "Let's perform a simple task: to search for all journal articles in the *Journal of Physical Chemistry B* (JPCB) published between January 01, 2021 and June 01, 2021.\n",
    "\n",
    "A quick Google search reveals that the ISSN for the web edition of JPCB is 1520-5207.\n",
    "\n",
    "Now let's use this information to create a search object:"
   ]
  },
  {
   "cell_type": "code",
   "execution_count": 2,
   "metadata": {},
   "outputs": [],
   "source": [
    "# Create a search object\n",
    "search = handsearch.CrossrefSearch(ISSN=\"1520-5207\",\n",
    "                                   from_date=\"2021-01-01\",\n",
    "                                   until_date=\"2021-06-01\")"
   ]
  },
  {
   "cell_type": "markdown",
   "metadata": {},
   "source": [
    "Let's run the search!\n",
    "\n",
    "(Ignore the warning for now. We'll get to it in a bit!)"
   ]
  },
  {
   "cell_type": "code",
   "execution_count": 3,
   "metadata": {},
   "outputs": [
    {
     "name": "stderr",
     "output_type": "stream",
     "text": [
      "/Users/apallath/Documents/paperfetcher_org/paperfetcher/paperfetcher/handsearch.py:272: UserWarning: Search with no keywords and no select can be slow and memory intensive. Consider setting select=True and using select_fields to fetch only a subset of fields.\n",
      "  warnings.warn(\"Search with no keywords and no select can be slow and memory intensive. Consider setting select=True and using select_fields to fetch only a subset of fields.\")\n",
      "2022-05-22 19:55:10.894 INFO    paperfetcher.handsearch: Fetching 568 works.\n",
      "Fetching 29 batches of 20 articles: 100%|████████████████████████████████████████████████████████████████████████████████████| 29/29 [00:30<00:00,  1.06s/it]\n"
     ]
    }
   ],
   "source": [
    "search()"
   ]
  },
  {
   "cell_type": "markdown",
   "metadata": {},
   "source": [
    "How many works did our search return?"
   ]
  },
  {
   "cell_type": "code",
   "execution_count": 4,
   "metadata": {},
   "outputs": [
    {
     "data": {
      "text/plain": [
       "568"
      ]
     },
     "execution_count": 4,
     "metadata": {},
     "output_type": "execute_result"
    }
   ],
   "source": [
    "len(search)"
   ]
  },
  {
   "cell_type": "markdown",
   "metadata": {},
   "source": [
    "This was rather slow... Can we speed this up?\n",
    "\n",
    "*Yes, we can!*\n",
    "\n",
    "**Why was the search so slow?**\n",
    "\n",
    "Paperfetcher retrieved all the metadata available on Crossref for each paper. Each paper can have a lot of metadata (abstract, citations, keywords, funding information, etc.) deposited on Crossref, and retrieving all this informating can take a lot of time (and also, memory!).\n",
    "\n",
    "**How do we make it faster?**\n",
    "\n",
    "By retrieving only the metadata we need!\n",
    "\n",
    "For example, if all we need is article DOIs and abstracts,we can do the following:"
   ]
  },
  {
   "cell_type": "code",
   "execution_count": 5,
   "metadata": {},
   "outputs": [
    {
     "name": "stderr",
     "output_type": "stream",
     "text": [
      "2022-05-22 19:55:42.434 INFO    paperfetcher.handsearch: Fetching 568 works.\n",
      "Fetching 29 batches of 20 articles: 100%|████████████████████████████████████████████████████████████████████████████████████| 29/29 [00:25<00:00,  1.13it/s]\n"
     ]
    }
   ],
   "source": [
    "search = handsearch.CrossrefSearch(ISSN=\"1520-5207\",\n",
    "                                   from_date=\"2021-01-01\",\n",
    "                                   until_date=\"2021-06-01\")\n",
    "\n",
    "search(select=True, select_fields=['DOI', 'abstract'])"
   ]
  },
  {
   "cell_type": "code",
   "execution_count": 6,
   "metadata": {},
   "outputs": [
    {
     "data": {
      "text/plain": [
       "568"
      ]
     },
     "execution_count": 6,
     "metadata": {},
     "output_type": "execute_result"
    }
   ],
   "source": [
    "len(search)"
   ]
  },
  {
   "cell_type": "markdown",
   "metadata": {},
   "source": [
    "We can refine our search with keywords.\n",
    "\n",
    "For example, let's perform search for all articles in the journal *Proceedings of the National Academy of Sciences* (online ISSN: 1091-6490) published between January 1, 2020 and January 1, 2022 containing the keyword 'hydrophobic'.\n",
    "\n",
    "As before, we create a search object, but this time, pass the keyword to the search using the `keyword_list` argument. We'll also fetch more metadata!"
   ]
  },
  {
   "cell_type": "code",
   "execution_count": 7,
   "metadata": {},
   "outputs": [
    {
     "name": "stderr",
     "output_type": "stream",
     "text": [
      "2022-05-22 19:56:08.522 INFO    paperfetcher.handsearch: Fetching 7 works.\n",
      "Fetching 1 batches of 20 articles: 100%|███████████████████████████████████████████████████████████████████████████████████████| 1/1 [00:00<00:00,  2.12it/s]\n"
     ]
    }
   ],
   "source": [
    "# Create a search object\n",
    "search = handsearch.CrossrefSearch(ISSN=\"1091-6490\", \n",
    "                                   keyword_list=[\"hydrophobic\"], \n",
    "                                   from_date=\"2020-01-01\",\n",
    "                                   until_date=\"2022-01-01\")\n",
    "\n",
    "search(select=True, select_fields=['DOI', 'URL', 'title', 'author', 'issued', 'abstract'])"
   ]
  },
  {
   "cell_type": "markdown",
   "metadata": {},
   "source": [
    "How many works did our search return?"
   ]
  },
  {
   "cell_type": "code",
   "execution_count": 8,
   "metadata": {},
   "outputs": [
    {
     "data": {
      "text/plain": [
       "7"
      ]
     },
     "execution_count": 8,
     "metadata": {},
     "output_type": "execute_result"
    }
   ],
   "source": [
    "len(search)"
   ]
  },
  {
   "cell_type": "markdown",
   "metadata": {},
   "source": [
    "## Extracting data from the search results\n",
    "\n",
    "paperfetcher provides many different ways to access the search result data, using special data structures called Datasets. \n",
    "\n",
    "For example, we can make a Dataset of DOIs from the search results:"
   ]
  },
  {
   "cell_type": "code",
   "execution_count": 9,
   "metadata": {},
   "outputs": [],
   "source": [
    "doi_ds = search.get_DOIDataset()"
   ]
  },
  {
   "cell_type": "markdown",
   "metadata": {},
   "source": [
    "We can display this as a DataFrame:"
   ]
  },
  {
   "cell_type": "code",
   "execution_count": 10,
   "metadata": {},
   "outputs": [
    {
     "data": {
      "text/html": [
       "<div>\n",
       "<style scoped>\n",
       "    .dataframe tbody tr th:only-of-type {\n",
       "        vertical-align: middle;\n",
       "    }\n",
       "\n",
       "    .dataframe tbody tr th {\n",
       "        vertical-align: top;\n",
       "    }\n",
       "\n",
       "    .dataframe thead th {\n",
       "        text-align: right;\n",
       "    }\n",
       "</style>\n",
       "<table border=\"1\" class=\"dataframe\">\n",
       "  <thead>\n",
       "    <tr style=\"text-align: right;\">\n",
       "      <th></th>\n",
       "      <th>DOI</th>\n",
       "    </tr>\n",
       "  </thead>\n",
       "  <tbody>\n",
       "    <tr>\n",
       "      <th>0</th>\n",
       "      <td>10.1073/pnas.2023867118</td>\n",
       "    </tr>\n",
       "    <tr>\n",
       "      <th>1</th>\n",
       "      <td>10.1073/pnas.2018234118</td>\n",
       "    </tr>\n",
       "    <tr>\n",
       "      <th>2</th>\n",
       "      <td>10.1073/pnas.2020205118</td>\n",
       "    </tr>\n",
       "    <tr>\n",
       "      <th>3</th>\n",
       "      <td>10.1073/pnas.2008122117</td>\n",
       "    </tr>\n",
       "    <tr>\n",
       "      <th>4</th>\n",
       "      <td>10.1073/pnas.2009310117</td>\n",
       "    </tr>\n",
       "    <tr>\n",
       "      <th>5</th>\n",
       "      <td>10.1073/pnas.2008209117</td>\n",
       "    </tr>\n",
       "    <tr>\n",
       "      <th>6</th>\n",
       "      <td>10.1073/pnas.1918981117</td>\n",
       "    </tr>\n",
       "  </tbody>\n",
       "</table>\n",
       "</div>"
      ],
      "text/plain": [
       "                       DOI\n",
       "0  10.1073/pnas.2023867118\n",
       "1  10.1073/pnas.2018234118\n",
       "2  10.1073/pnas.2020205118\n",
       "3  10.1073/pnas.2008122117\n",
       "4  10.1073/pnas.2009310117\n",
       "5  10.1073/pnas.2008209117\n",
       "6  10.1073/pnas.1918981117"
      ]
     },
     "execution_count": 10,
     "metadata": {},
     "output_type": "execute_result"
    }
   ],
   "source": [
    "doi_ds.to_df()"
   ]
  },
  {
   "cell_type": "markdown",
   "metadata": {},
   "source": [
    "Or save it to a text file:"
   ]
  },
  {
   "cell_type": "code",
   "execution_count": 11,
   "metadata": {},
   "outputs": [],
   "source": [
    "doi_ds.save_txt(\"out/handsearching_DOIs.txt\")"
   ]
  },
  {
   "cell_type": "markdown",
   "metadata": {},
   "source": [
    "**What if we want more information?**\n",
    "\n",
    "We can extract information corresponding to all the fields that Crossref stores and store them in a `CitationsDataset`. The way in which Crossref stores some of these fields can be pretty complex. paperfetcher provides 'parsers' to convert these fields into human-readable strings.\n",
    "\n",
    "Let's create a dataset containing the DOI, URL, article title, author list, and publication date. As per the Crossref API, these fields are:\n",
    "`DOI`, `URL`, `title`, `author`, and `issued`.\n",
    "\n",
    "`title` and `author` and `issued` require special parsers. The rest don't.\n",
    "\n",
    "In order to extract these fields, however, the metadata for these fields needs to be available. That's why we selected all these fields when running the search! If we didn't, we wouldn't be able to perform the next few steps."
   ]
  },
  {
   "cell_type": "code",
   "execution_count": 12,
   "metadata": {},
   "outputs": [],
   "source": [
    "# Import the parsers module\n",
    "from paperfetcher import parsers"
   ]
  },
  {
   "cell_type": "code",
   "execution_count": 13,
   "metadata": {},
   "outputs": [],
   "source": [
    "ds = search.get_CitationsDataset(field_list=['DOI', 'URL', 'title', 'author', 'issued'],\n",
    "                                 field_parsers_list=[None, None, parsers.crossref_title_parser,\n",
    "                                                     parsers.crossref_authors_parser, \n",
    "                                                     parsers.crossref_date_parser])"
   ]
  },
  {
   "cell_type": "markdown",
   "metadata": {},
   "source": [
    "We can view the data as a pandas DataFrame"
   ]
  },
  {
   "cell_type": "code",
   "execution_count": 14,
   "metadata": {},
   "outputs": [
    {
     "data": {
      "text/html": [
       "<div>\n",
       "<style scoped>\n",
       "    .dataframe tbody tr th:only-of-type {\n",
       "        vertical-align: middle;\n",
       "    }\n",
       "\n",
       "    .dataframe tbody tr th {\n",
       "        vertical-align: top;\n",
       "    }\n",
       "\n",
       "    .dataframe thead th {\n",
       "        text-align: right;\n",
       "    }\n",
       "</style>\n",
       "<table border=\"1\" class=\"dataframe\">\n",
       "  <thead>\n",
       "    <tr style=\"text-align: right;\">\n",
       "      <th></th>\n",
       "      <th>DOI</th>\n",
       "      <th>URL</th>\n",
       "      <th>title</th>\n",
       "      <th>author</th>\n",
       "      <th>issued</th>\n",
       "    </tr>\n",
       "  </thead>\n",
       "  <tbody>\n",
       "    <tr>\n",
       "      <th>0</th>\n",
       "      <td>10.1073/pnas.2023867118</td>\n",
       "      <td>http://dx.doi.org/10.1073/pnas.2023867118</td>\n",
       "      <td>Size dependence of hydrophobic hydration at el...</td>\n",
       "      <td>Serva, Salanne, Havenith, Pezzotti</td>\n",
       "      <td>2021-4-5</td>\n",
       "    </tr>\n",
       "    <tr>\n",
       "      <th>1</th>\n",
       "      <td>10.1073/pnas.2018234118</td>\n",
       "      <td>http://dx.doi.org/10.1073/pnas.2018234118</td>\n",
       "      <td>Identifying hydrophobic protein patches to inf...</td>\n",
       "      <td>Rego, Xi, Patel</td>\n",
       "      <td>2021-2</td>\n",
       "    </tr>\n",
       "    <tr>\n",
       "      <th>2</th>\n",
       "      <td>10.1073/pnas.2020205118</td>\n",
       "      <td>http://dx.doi.org/10.1073/pnas.2020205118</td>\n",
       "      <td>Affinity of small-molecule solutes to hydropho...</td>\n",
       "      <td>Monroe, Jiao, Davis, Robinson Brown, Katz, Shell</td>\n",
       "      <td>2020-12-28</td>\n",
       "    </tr>\n",
       "    <tr>\n",
       "      <th>3</th>\n",
       "      <td>10.1073/pnas.2008122117</td>\n",
       "      <td>http://dx.doi.org/10.1073/pnas.2008122117</td>\n",
       "      <td>Comparative roles of charge, &lt;i&gt;π&lt;/i&gt; , and hy...</td>\n",
       "      <td>Das, Lin, Vernon, Forman-Kay, Chan</td>\n",
       "      <td>2020-11-2</td>\n",
       "    </tr>\n",
       "    <tr>\n",
       "      <th>4</th>\n",
       "      <td>10.1073/pnas.2009310117</td>\n",
       "      <td>http://dx.doi.org/10.1073/pnas.2009310117</td>\n",
       "      <td>Spontaneous outflow efficiency of confined liq...</td>\n",
       "      <td>Gao, Li, Zhang, Lu, Xu</td>\n",
       "      <td>2020-9-28</td>\n",
       "    </tr>\n",
       "    <tr>\n",
       "      <th>5</th>\n",
       "      <td>10.1073/pnas.2008209117</td>\n",
       "      <td>http://dx.doi.org/10.1073/pnas.2008209117</td>\n",
       "      <td>Enhanced receptor binding of SARS-CoV-2 throug...</td>\n",
       "      <td>Wang, Liu, Gao</td>\n",
       "      <td>2020-6-5</td>\n",
       "    </tr>\n",
       "    <tr>\n",
       "      <th>6</th>\n",
       "      <td>10.1073/pnas.1918981117</td>\n",
       "      <td>http://dx.doi.org/10.1073/pnas.1918981117</td>\n",
       "      <td>Short solvent model for ion correlations and h...</td>\n",
       "      <td>Gao, Remsing, Weeks</td>\n",
       "      <td>2020-1-7</td>\n",
       "    </tr>\n",
       "  </tbody>\n",
       "</table>\n",
       "</div>"
      ],
      "text/plain": [
       "                       DOI                                        URL  \\\n",
       "0  10.1073/pnas.2023867118  http://dx.doi.org/10.1073/pnas.2023867118   \n",
       "1  10.1073/pnas.2018234118  http://dx.doi.org/10.1073/pnas.2018234118   \n",
       "2  10.1073/pnas.2020205118  http://dx.doi.org/10.1073/pnas.2020205118   \n",
       "3  10.1073/pnas.2008122117  http://dx.doi.org/10.1073/pnas.2008122117   \n",
       "4  10.1073/pnas.2009310117  http://dx.doi.org/10.1073/pnas.2009310117   \n",
       "5  10.1073/pnas.2008209117  http://dx.doi.org/10.1073/pnas.2008209117   \n",
       "6  10.1073/pnas.1918981117  http://dx.doi.org/10.1073/pnas.1918981117   \n",
       "\n",
       "                                               title  \\\n",
       "0  Size dependence of hydrophobic hydration at el...   \n",
       "1  Identifying hydrophobic protein patches to inf...   \n",
       "2  Affinity of small-molecule solutes to hydropho...   \n",
       "3  Comparative roles of charge, <i>π</i> , and hy...   \n",
       "4  Spontaneous outflow efficiency of confined liq...   \n",
       "5  Enhanced receptor binding of SARS-CoV-2 throug...   \n",
       "6  Short solvent model for ion correlations and h...   \n",
       "\n",
       "                                             author      issued  \n",
       "0                Serva, Salanne, Havenith, Pezzotti    2021-4-5  \n",
       "1                                   Rego, Xi, Patel      2021-2  \n",
       "2  Monroe, Jiao, Davis, Robinson Brown, Katz, Shell  2020-12-28  \n",
       "3                Das, Lin, Vernon, Forman-Kay, Chan   2020-11-2  \n",
       "4                            Gao, Li, Zhang, Lu, Xu   2020-9-28  \n",
       "5                                    Wang, Liu, Gao    2020-6-5  \n",
       "6                               Gao, Remsing, Weeks    2020-1-7  "
      ]
     },
     "execution_count": 14,
     "metadata": {},
     "output_type": "execute_result"
    }
   ],
   "source": [
    "ds.to_df()"
   ]
  },
  {
   "cell_type": "markdown",
   "metadata": {},
   "source": [
    "We can also save this to a text file using the `save_txt` method:"
   ]
  },
  {
   "cell_type": "code",
   "execution_count": 15,
   "metadata": {},
   "outputs": [],
   "source": [
    "ds.save_txt(\"out/handsearching_citations.txt\")"
   ]
  },
  {
   "cell_type": "markdown",
   "metadata": {},
   "source": [
    "Or save it as a CSV file using the `save_csv` method:"
   ]
  },
  {
   "cell_type": "code",
   "execution_count": 16,
   "metadata": {},
   "outputs": [],
   "source": [
    "ds.save_csv(\"out/handsearching_citations.csv\")"
   ]
  },
  {
   "cell_type": "markdown",
   "metadata": {},
   "source": [
    "Or save it as an Excel file using the `save_excel` method:"
   ]
  },
  {
   "cell_type": "code",
   "execution_count": 17,
   "metadata": {},
   "outputs": [],
   "source": [
    "ds.save_excel(\"out/handsearching_citations.xlsx\")"
   ]
  },
  {
   "cell_type": "markdown",
   "metadata": {},
   "source": [
    "## Exporting data to RIS format\n",
    "\n",
    "Citation data stored in the RIS (Research Information Systems) file format can easily be imported into systematic review screening tools (such as Covidence) and citation management software (such as Zotero). Paperfetcher can export search results to RIS files. Let's take a look:\n",
    "\n",
    "**Exporting to RIS format without abstracts**\n",
    "\n",
    "Paperfetcher uses [Crossref's content negotiation service](https://www.crossref.org/documentation/retrieve-metadata/content-negotiation/) to get RIS data for each DOI. Unfortunately, this does not contain abstracts. However, there is a workaround, which we'll get to in a bit.\n",
    "\n",
    "First, let's see how to export data to RIS format without abstracts:"
   ]
  },
  {
   "cell_type": "code",
   "execution_count": 18,
   "metadata": {},
   "outputs": [
    {
     "name": "stderr",
     "output_type": "stream",
     "text": [
      "Converting results to RIS format.: 100%|███████████████████████████████████████████████████████████████████████████████████████| 7/7 [00:01<00:00,  3.96it/s]\n"
     ]
    }
   ],
   "source": [
    "ds = search.get_RISDataset()"
   ]
  },
  {
   "cell_type": "code",
   "execution_count": 19,
   "metadata": {},
   "outputs": [],
   "source": [
    "ds.save_ris(\"out/handsearching.ris\")"
   ]
  },
  {
   "cell_type": "markdown",
   "metadata": {},
   "source": [
    "**Exporting to RIS format with abstracts**\n",
    "\n",
    "Recall that we have already retrieved abstracts during our search. We can insert these abstracts as an extra field into the RIS dataset. Here's how:"
   ]
  },
  {
   "cell_type": "code",
   "execution_count": 20,
   "metadata": {},
   "outputs": [
    {
     "name": "stderr",
     "output_type": "stream",
     "text": [
      "Converting results to RIS format.: 100%|███████████████████████████████████████████████████████████████████████████████████████| 7/7 [00:02<00:00,  3.13it/s]\n"
     ]
    }
   ],
   "source": [
    "ds = search.get_RISDataset(extra_field_list=[\"abstract\"],\n",
    "                           extra_field_parser_list=[None],\n",
    "                           extra_field_rispy_tags=[\"notes_abstract\"])"
   ]
  },
  {
   "cell_type": "code",
   "execution_count": 21,
   "metadata": {},
   "outputs": [],
   "source": [
    "ds.save_ris(\"out/handsearching_abstracts.ris\")"
   ]
  }
 ],
 "metadata": {
  "kernelspec": {
   "display_name": "Python 3 (ipykernel)",
   "language": "python",
   "name": "python3"
  },
  "language_info": {
   "codemirror_mode": {
    "name": "ipython",
    "version": 3
   },
   "file_extension": ".py",
   "mimetype": "text/x-python",
   "name": "python",
   "nbconvert_exporter": "python",
   "pygments_lexer": "ipython3",
   "version": "3.7.10"
  }
 },
 "nbformat": 4,
 "nbformat_minor": 4
}
