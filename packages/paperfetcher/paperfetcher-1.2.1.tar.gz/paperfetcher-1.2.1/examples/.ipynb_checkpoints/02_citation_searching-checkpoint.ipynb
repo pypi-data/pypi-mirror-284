{
 "cells": [
  {
   "cell_type": "markdown",
   "metadata": {},
   "source": [
    "# Getting started: citation searching (a.k.a. snowball-search) with paperfetcher\n",
    "\n",
    "*Written on Oct 3, 2021 by Akash Pallath.* \n",
    "\n",
    "*Last updated on May 22, 2022 by Akash Pallath.*\n",
    "\n",
    "---"
   ]
  },
  {
   "cell_type": "markdown",
   "metadata": {},
   "source": [
    "To get started, let's import paperfetcher's snowballsearch package."
   ]
  },
  {
   "cell_type": "code",
   "execution_count": 1,
   "metadata": {},
   "outputs": [],
   "source": [
    "from paperfetcher import snowballsearch"
   ]
  },
  {
   "cell_type": "markdown",
   "metadata": {},
   "source": [
    "## Snowballing backwards (i.e. backward reference chasing/backward reference search)\n",
    "\n",
    "Backward reference chasing involves retrieving articles which are referenced by an "
   ]
  },
  {
   "cell_type": "markdown",
   "metadata": {},
   "source": [
    "Let's perform a simple task: to fetch all the references from two review papers with DOIs:\n",
    "- 10.1021/acs.jpcb.1c02191\n",
    "- 10.1073/pnas.2018234118\n",
    "\n",
    "First, we create a search object, and initialize it with a list of strings, each string being a DOI."
   ]
  },
  {
   "cell_type": "code",
   "execution_count": 2,
   "metadata": {},
   "outputs": [],
   "source": [
    "search = snowballsearch.CrossrefSearch([\"10.1021/acs.jpcb.1c02191\",\n",
    "                                        \"10.1073/pnas.2018234118\"])"
   ]
  },
  {
   "cell_type": "markdown",
   "metadata": {},
   "source": [
    "Let's run the search!\n",
    "\n",
    "(Ignore any warnings for now. You can read the paperfetcher documentation to learn more about them later!)"
   ]
  },
  {
   "cell_type": "code",
   "execution_count": 3,
   "metadata": {},
   "outputs": [
    {
     "name": "stderr",
     "output_type": "stream",
     "text": [
      " 50%|█████     | 1/2 [00:00<00:00,  1.62it/s]/Users/apallath/Documents/paperfetcher_org/paperfetcher/paperfetcher/snowballsearch.py:131: UserWarning: In references of 10.1073/pnas.2018234118, reference object {'key': '2021020113253880000_118.6.e2018234118.53', 'first-page': '1001', 'article-title': 'The MDM2-p53 interaction', 'volume': '1', 'author': 'Moll', 'year': '2003', 'journal-title': 'Mol. Canc. Res.'} does not have a DOI field.\n",
      "  warnings.warn(\"In references of %s, reference object %s does not have a DOI field.\" % (doi, dict))  # warn but continue\n",
      "100%|██████████| 2/2 [00:01<00:00,  1.70it/s]\n"
     ]
    }
   ],
   "source": [
    "search()"
   ]
  },
  {
   "cell_type": "markdown",
   "metadata": {},
   "source": [
    "How many works did our search return?"
   ]
  },
  {
   "cell_type": "code",
   "execution_count": 4,
   "metadata": {},
   "outputs": [
    {
     "data": {
      "text/plain": [
       "140"
      ]
     },
     "execution_count": 4,
     "metadata": {},
     "output_type": "execute_result"
    }
   ],
   "source": [
    "len(search)"
   ]
  },
  {
   "cell_type": "markdown",
   "metadata": {},
   "source": [
    "# Extracting data from the search results\n",
    "\n",
    "You can get a Dataset of DOIs from the search results:"
   ]
  },
  {
   "cell_type": "code",
   "execution_count": 5,
   "metadata": {},
   "outputs": [],
   "source": [
    "doi_ds = search.get_DOIDataset()"
   ]
  },
  {
   "cell_type": "markdown",
   "metadata": {},
   "source": [
    "You can display this as a DataFrame"
   ]
  },
  {
   "cell_type": "code",
   "execution_count": 6,
   "metadata": {},
   "outputs": [
    {
     "data": {
      "text/html": [
       "<div>\n",
       "<style scoped>\n",
       "    .dataframe tbody tr th:only-of-type {\n",
       "        vertical-align: middle;\n",
       "    }\n",
       "\n",
       "    .dataframe tbody tr th {\n",
       "        vertical-align: top;\n",
       "    }\n",
       "\n",
       "    .dataframe thead th {\n",
       "        text-align: right;\n",
       "    }\n",
       "</style>\n",
       "<table border=\"1\" class=\"dataframe\">\n",
       "  <thead>\n",
       "    <tr style=\"text-align: right;\">\n",
       "      <th></th>\n",
       "      <th>DOI</th>\n",
       "    </tr>\n",
       "  </thead>\n",
       "  <tbody>\n",
       "    <tr>\n",
       "      <th>0</th>\n",
       "      <td>10.1021/nn204166z</td>\n",
       "    </tr>\n",
       "    <tr>\n",
       "      <th>1</th>\n",
       "      <td>10.1021/acs.jctc.8b01208</td>\n",
       "    </tr>\n",
       "    <tr>\n",
       "      <th>2</th>\n",
       "      <td>10.2174/138920308785132712</td>\n",
       "    </tr>\n",
       "    <tr>\n",
       "      <th>3</th>\n",
       "      <td>10.1021/la9011839</td>\n",
       "    </tr>\n",
       "    <tr>\n",
       "      <th>4</th>\n",
       "      <td>10.1073/pnas.0708088105</td>\n",
       "    </tr>\n",
       "    <tr>\n",
       "      <th>...</th>\n",
       "      <td>...</td>\n",
       "    </tr>\n",
       "    <tr>\n",
       "      <th>135</th>\n",
       "      <td>10.1021/ja020496f</td>\n",
       "    </tr>\n",
       "    <tr>\n",
       "      <th>136</th>\n",
       "      <td>10.1006/jmbi.1998.2439</td>\n",
       "    </tr>\n",
       "    <tr>\n",
       "      <th>137</th>\n",
       "      <td>10.1021/jp2107523</td>\n",
       "    </tr>\n",
       "    <tr>\n",
       "      <th>138</th>\n",
       "      <td>10.1073/pnas.1804177115</td>\n",
       "    </tr>\n",
       "    <tr>\n",
       "      <th>139</th>\n",
       "      <td>10.1063/1.3701175</td>\n",
       "    </tr>\n",
       "  </tbody>\n",
       "</table>\n",
       "<p>140 rows × 1 columns</p>\n",
       "</div>"
      ],
      "text/plain": [
       "                            DOI\n",
       "0             10.1021/nn204166z\n",
       "1      10.1021/acs.jctc.8b01208\n",
       "2    10.2174/138920308785132712\n",
       "3             10.1021/la9011839\n",
       "4       10.1073/pnas.0708088105\n",
       "..                          ...\n",
       "135           10.1021/ja020496f\n",
       "136      10.1006/jmbi.1998.2439\n",
       "137           10.1021/jp2107523\n",
       "138     10.1073/pnas.1804177115\n",
       "139           10.1063/1.3701175\n",
       "\n",
       "[140 rows x 1 columns]"
      ]
     },
     "execution_count": 6,
     "metadata": {},
     "output_type": "execute_result"
    }
   ],
   "source": [
    "doi_ds.to_df()"
   ]
  },
  {
   "cell_type": "markdown",
   "metadata": {},
   "source": [
    "And save it to a text file!"
   ]
  },
  {
   "cell_type": "code",
   "execution_count": 7,
   "metadata": {},
   "outputs": [],
   "source": [
    "doi_ds.save_txt(\"snowball_DOI_dataset.txt\")"
   ]
  }
 ],
 "metadata": {
  "kernelspec": {
   "display_name": "Python 3 (ipykernel)",
   "language": "python",
   "name": "python3"
  },
  "language_info": {
   "codemirror_mode": {
    "name": "ipython",
    "version": 3
   },
   "file_extension": ".py",
   "mimetype": "text/x-python",
   "name": "python",
   "nbconvert_exporter": "python",
   "pygments_lexer": "ipython3",
   "version": "3.7.10"
  }
 },
 "nbformat": 4,
 "nbformat_minor": 4
}
