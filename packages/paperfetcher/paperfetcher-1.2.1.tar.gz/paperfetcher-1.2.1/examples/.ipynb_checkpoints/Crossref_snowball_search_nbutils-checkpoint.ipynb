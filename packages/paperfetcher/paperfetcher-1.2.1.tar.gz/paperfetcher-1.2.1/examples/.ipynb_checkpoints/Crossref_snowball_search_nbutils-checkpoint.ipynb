{
 "cells": [
  {
   "cell_type": "code",
   "execution_count": 1,
   "metadata": {},
   "outputs": [],
   "source": [
    "# Import packages\n",
    "from paperfetcher.nbutils import CrossrefSnowballSearchDOIWidget"
   ]
  },
  {
   "cell_type": "code",
   "execution_count": 2,
   "metadata": {},
   "outputs": [
    {
     "data": {
      "application/vnd.jupyter.widget-view+json": {
       "model_id": "d1b687c38f4744ff97ba615afe2e7351",
       "version_major": 2,
       "version_minor": 0
      },
      "text/plain": [
       "GridBox(children=(Label(value='Name of search (A-Za-z0-9):'), Text(value='untitled_snowball'), Label(value='Se…"
      ]
     },
     "metadata": {},
     "output_type": "display_data"
    },
    {
     "name": "stderr",
     "output_type": "stream",
     "text": [
      " 50%|█████     | 1/2 [00:00<00:00,  1.55it/s]/Users/apallath/Documents/paperfetcher_org/paperfetcher/paperfetcher/snowballsearch.py:131: UserWarning: In references of \n",
      "10.1073/pnas.2018234118, reference object {'key': '2021020113253880000_118.6.e2018234118.53', 'first-page': '1001', 'article-title': 'The MDM2-p53 interaction', 'volume': '1', 'author': 'Moll', 'year': '2003', 'journal-title': 'Mol. Canc. Res.'} does not have a DOI field.\n",
      "  warnings.warn(\"In references of %s, reference object %s does not have a DOI field.\" % (doi, dict))  # warn but continue\n",
      "100%|██████████| 2/2 [00:01<00:00,  1.64it/s]\n"
     ]
    }
   ],
   "source": [
    "widget = CrossrefSnowballSearchDOIWidget()\n",
    "widget()"
   ]
  }
 ],
 "metadata": {
  "kernelspec": {
   "display_name": "Python 3",
   "language": "python",
   "name": "python3"
  },
  "language_info": {
   "codemirror_mode": {
    "name": "ipython",
    "version": 3
   },
   "file_extension": ".py",
   "mimetype": "text/x-python",
   "name": "python",
   "nbconvert_exporter": "python",
   "pygments_lexer": "ipython3",
   "version": "3.7.6"
  }
 },
 "nbformat": 4,
 "nbformat_minor": 4
}
