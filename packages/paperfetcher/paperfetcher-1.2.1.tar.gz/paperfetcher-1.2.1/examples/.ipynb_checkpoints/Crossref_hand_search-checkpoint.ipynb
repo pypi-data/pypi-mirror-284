{
 "cells": [
  {
   "cell_type": "markdown",
   "metadata": {},
   "source": [
    "# Getting started: a quick hand-search using the Crossref service\n",
    "\n",
    "*Written on Aug 2, 2021 by Akash Pallath.* \n",
    "\n",
    "*Last updated on Sep 12, 2021 by Akash Pallath.*\n",
    "\n",
    "---"
   ]
  },
  {
   "cell_type": "markdown",
   "metadata": {},
   "source": [
    "To get started, let's import the paperfetcher handsearch package."
   ]
  },
  {
   "cell_type": "code",
   "execution_count": 1,
   "metadata": {},
   "outputs": [],
   "source": [
    "from paperfetcher import handsearch"
   ]
  },
  {
   "cell_type": "markdown",
   "metadata": {},
   "source": [
    "Let's perform a simple task: to search for all journal articles in the *Journal of Physical Chemistry B* (JPCB) published between January 01, 2021 and June 01, 2021.\n",
    "\n",
    "A quick Google search reveals that the ISSN for the web edition of JPCB is 1520-5207.\n",
    "\n",
    "Now let's use this information to create a search object:"
   ]
  },
  {
   "cell_type": "code",
   "execution_count": 2,
   "metadata": {},
   "outputs": [],
   "source": [
    "# Create a search object\n",
    "search = handsearch.CrossrefSearch(ISSN=\"1520-5207\",\n",
    "                                   from_date=\"2021-01-01\",\n",
    "                                   until_date=\"2021-06-01\")"
   ]
  },
  {
   "cell_type": "markdown",
   "metadata": {},
   "source": [
    "Let's run the search!\n",
    "\n",
    "(Ignore the warning for now. You can read the paperfetcher documentation to learn more about it later!)"
   ]
  },
  {
   "cell_type": "code",
   "execution_count": 3,
   "metadata": {},
   "outputs": [
    {
     "name": "stderr",
     "output_type": "stream",
     "text": [
      "/Users/apallath/opt/anaconda3/lib/python3.7/site-packages/paperfetcher/handsearch.py:200: UserWarning: Search with no keywords and no select can be slow and memory intensive. Consider usetting select=True and using select_fields to fetch only a subset of fields.\n",
      "  warnings.warn(\"Search with no keywords and no select can be slow and memory intensive. Consider usetting select=True and using select_fields to fetch only a subset of fields.\")\n",
      "100%|██████████| 29/29 [00:20<00:00,  1.41it/s]\n"
     ]
    }
   ],
   "source": [
    "search()"
   ]
  },
  {
   "cell_type": "markdown",
   "metadata": {},
   "source": [
    "How many works did our search return?"
   ]
  },
  {
   "cell_type": "code",
   "execution_count": 4,
   "metadata": {},
   "outputs": [
    {
     "data": {
      "text/plain": [
       "568"
      ]
     },
     "execution_count": 4,
     "metadata": {},
     "output_type": "execute_result"
    }
   ],
   "source": [
    "len(search)"
   ]
  },
  {
   "cell_type": "markdown",
   "metadata": {},
   "source": [
    "We can refine our search to select papers matching the keywords 'polymer' and 'solvation'.\n",
    "\n",
    "As before, we create a search object, but this time, pass the two keywords to the search using the `keyword_list` argument:"
   ]
  },
  {
   "cell_type": "code",
   "execution_count": 5,
   "metadata": {},
   "outputs": [],
   "source": [
    "# Create a search object\n",
    "search = handsearch.CrossrefSearch(ISSN=\"1520-5207\", \n",
    "                                   keyword_list=[\"polymer\", \"solvation\"], \n",
    "                                   from_date=\"2021-01-01\",\n",
    "                                   until_date=\"2021-06-01\")"
   ]
  },
  {
   "cell_type": "markdown",
   "metadata": {},
   "source": [
    "Let's run the search!"
   ]
  },
  {
   "cell_type": "code",
   "execution_count": 6,
   "metadata": {},
   "outputs": [
    {
     "name": "stderr",
     "output_type": "stream",
     "text": [
      "100%|██████████| 2/2 [00:01<00:00,  1.12it/s]\n"
     ]
    }
   ],
   "source": [
    "search()"
   ]
  },
  {
   "cell_type": "markdown",
   "metadata": {},
   "source": [
    "How many works did our search return?"
   ]
  },
  {
   "cell_type": "code",
   "execution_count": 7,
   "metadata": {},
   "outputs": [
    {
     "data": {
      "text/plain": [
       "22"
      ]
     },
     "execution_count": 7,
     "metadata": {},
     "output_type": "execute_result"
    }
   ],
   "source": [
    "len(search)"
   ]
  },
  {
   "cell_type": "markdown",
   "metadata": {},
   "source": [
    "## Extracting data from the search results\n",
    "\n",
    "paperfetcher provides many different ways to access the search result data, using special data structures called Datasets. \n",
    "\n",
    "For example, you can get a Dataset of DOIs from the search results:"
   ]
  },
  {
   "cell_type": "code",
   "execution_count": 8,
   "metadata": {},
   "outputs": [],
   "source": [
    "doi_ds = search.get_DOIDataset()"
   ]
  },
  {
   "cell_type": "markdown",
   "metadata": {},
   "source": [
    "You can display this as a DataFrame"
   ]
  },
  {
   "cell_type": "code",
   "execution_count": 9,
   "metadata": {},
   "outputs": [
    {
     "data": {
      "text/html": [
       "<div>\n",
       "<style scoped>\n",
       "    .dataframe tbody tr th:only-of-type {\n",
       "        vertical-align: middle;\n",
       "    }\n",
       "\n",
       "    .dataframe tbody tr th {\n",
       "        vertical-align: top;\n",
       "    }\n",
       "\n",
       "    .dataframe thead th {\n",
       "        text-align: right;\n",
       "    }\n",
       "</style>\n",
       "<table border=\"1\" class=\"dataframe\">\n",
       "  <thead>\n",
       "    <tr style=\"text-align: right;\">\n",
       "      <th></th>\n",
       "      <th>DOI</th>\n",
       "    </tr>\n",
       "  </thead>\n",
       "  <tbody>\n",
       "    <tr>\n",
       "      <th>0</th>\n",
       "      <td>10.1021/acs.jpcb.1c01837</td>\n",
       "    </tr>\n",
       "    <tr>\n",
       "      <th>1</th>\n",
       "      <td>10.1021/acs.jpcb.1c01460</td>\n",
       "    </tr>\n",
       "    <tr>\n",
       "      <th>2</th>\n",
       "      <td>10.1021/acs.jpcb.1c02191</td>\n",
       "    </tr>\n",
       "    <tr>\n",
       "      <th>3</th>\n",
       "      <td>10.1021/acs.jpcb.1c01177</td>\n",
       "    </tr>\n",
       "    <tr>\n",
       "      <th>4</th>\n",
       "      <td>10.1021/acs.jpcb.1c01953</td>\n",
       "    </tr>\n",
       "    <tr>\n",
       "      <th>5</th>\n",
       "      <td>10.1021/acs.jpcb.1c01070</td>\n",
       "    </tr>\n",
       "    <tr>\n",
       "      <th>6</th>\n",
       "      <td>10.1021/acs.jpcb.1c00885</td>\n",
       "    </tr>\n",
       "    <tr>\n",
       "      <th>7</th>\n",
       "      <td>10.1021/acs.jpcb.0c10283</td>\n",
       "    </tr>\n",
       "    <tr>\n",
       "      <th>8</th>\n",
       "      <td>10.1021/acs.jpcb.1c01898</td>\n",
       "    </tr>\n",
       "    <tr>\n",
       "      <th>9</th>\n",
       "      <td>10.1021/acs.jpcb.0c10831</td>\n",
       "    </tr>\n",
       "    <tr>\n",
       "      <th>10</th>\n",
       "      <td>10.1021/acs.jpcb.1c00097</td>\n",
       "    </tr>\n",
       "    <tr>\n",
       "      <th>11</th>\n",
       "      <td>10.1021/acs.jpcb.0c08707</td>\n",
       "    </tr>\n",
       "    <tr>\n",
       "      <th>12</th>\n",
       "      <td>10.1021/acs.jpcb.0c11279</td>\n",
       "    </tr>\n",
       "    <tr>\n",
       "      <th>13</th>\n",
       "      <td>10.1021/acs.jpcb.0c09824</td>\n",
       "    </tr>\n",
       "    <tr>\n",
       "      <th>14</th>\n",
       "      <td>10.1021/acs.jpcb.0c10285</td>\n",
       "    </tr>\n",
       "    <tr>\n",
       "      <th>15</th>\n",
       "      <td>10.1021/acs.jpcb.0c09489</td>\n",
       "    </tr>\n",
       "    <tr>\n",
       "      <th>16</th>\n",
       "      <td>10.1021/acs.jpcb.0c10329</td>\n",
       "    </tr>\n",
       "    <tr>\n",
       "      <th>17</th>\n",
       "      <td>10.1021/acs.jpcb.0c09455</td>\n",
       "    </tr>\n",
       "    <tr>\n",
       "      <th>18</th>\n",
       "      <td>10.1021/acs.jpcb.0c10622</td>\n",
       "    </tr>\n",
       "    <tr>\n",
       "      <th>19</th>\n",
       "      <td>10.1021/acs.jpcb.0c08614</td>\n",
       "    </tr>\n",
       "    <tr>\n",
       "      <th>20</th>\n",
       "      <td>10.1021/acs.jpcb.0c08674</td>\n",
       "    </tr>\n",
       "    <tr>\n",
       "      <th>21</th>\n",
       "      <td>10.1021/acs.jpcb.0c08809</td>\n",
       "    </tr>\n",
       "  </tbody>\n",
       "</table>\n",
       "</div>"
      ],
      "text/plain": [
       "                         DOI\n",
       "0   10.1021/acs.jpcb.1c01837\n",
       "1   10.1021/acs.jpcb.1c01460\n",
       "2   10.1021/acs.jpcb.1c02191\n",
       "3   10.1021/acs.jpcb.1c01177\n",
       "4   10.1021/acs.jpcb.1c01953\n",
       "5   10.1021/acs.jpcb.1c01070\n",
       "6   10.1021/acs.jpcb.1c00885\n",
       "7   10.1021/acs.jpcb.0c10283\n",
       "8   10.1021/acs.jpcb.1c01898\n",
       "9   10.1021/acs.jpcb.0c10831\n",
       "10  10.1021/acs.jpcb.1c00097\n",
       "11  10.1021/acs.jpcb.0c08707\n",
       "12  10.1021/acs.jpcb.0c11279\n",
       "13  10.1021/acs.jpcb.0c09824\n",
       "14  10.1021/acs.jpcb.0c10285\n",
       "15  10.1021/acs.jpcb.0c09489\n",
       "16  10.1021/acs.jpcb.0c10329\n",
       "17  10.1021/acs.jpcb.0c09455\n",
       "18  10.1021/acs.jpcb.0c10622\n",
       "19  10.1021/acs.jpcb.0c08614\n",
       "20  10.1021/acs.jpcb.0c08674\n",
       "21  10.1021/acs.jpcb.0c08809"
      ]
     },
     "execution_count": 9,
     "metadata": {},
     "output_type": "execute_result"
    }
   ],
   "source": [
    "doi_ds.to_df()"
   ]
  },
  {
   "cell_type": "markdown",
   "metadata": {},
   "source": [
    "Or save it to a text file!"
   ]
  },
  {
   "cell_type": "code",
   "execution_count": 10,
   "metadata": {},
   "outputs": [],
   "source": [
    "doi_ds.save_txt(\"DOI_dataset.txt\")"
   ]
  },
  {
   "cell_type": "markdown",
   "metadata": {},
   "source": [
    "**What if you want more information?**\n",
    "\n",
    "You can extract information corresponding to all the fields that Crossref stores and store them in a `CitationsDataset`. The way in which Crossref stores some of these fields can be pretty complex. paperfetcher provides 'parsers' to convert these fields into human-readable strings.\n",
    "\n",
    "Here's a quick-and-dirty example: let's create a dataset containing the DOI, URL, article title, author list, and publication date. As per the Crossref API, these fields are:\n",
    "`DOI`, `URL`, `title`, `author`, and `issued`.\n",
    "\n",
    "`title` and `author` and `issued` require special parsers. The rest don't.\n",
    "\n",
    "Let's jump right to it!"
   ]
  },
  {
   "cell_type": "code",
   "execution_count": 11,
   "metadata": {},
   "outputs": [],
   "source": [
    "# Import the parsers module\n",
    "from paperfetcher import parsers"
   ]
  },
  {
   "cell_type": "code",
   "execution_count": 12,
   "metadata": {},
   "outputs": [],
   "source": [
    "ds = search.get_CitationsDataset(field_list=['DOI', 'URL', 'title', 'author', 'issued'],\n",
    "                                 field_parsers_list=[None, None, parsers.crossref_title_parser,\n",
    "                                                     parsers.crossref_authors_parser, \n",
    "                                                     parsers.crossref_date_parser])"
   ]
  },
  {
   "cell_type": "code",
   "execution_count": 13,
   "metadata": {},
   "outputs": [
    {
     "data": {
      "text/html": [
       "<div>\n",
       "<style scoped>\n",
       "    .dataframe tbody tr th:only-of-type {\n",
       "        vertical-align: middle;\n",
       "    }\n",
       "\n",
       "    .dataframe tbody tr th {\n",
       "        vertical-align: top;\n",
       "    }\n",
       "\n",
       "    .dataframe thead th {\n",
       "        text-align: right;\n",
       "    }\n",
       "</style>\n",
       "<table border=\"1\" class=\"dataframe\">\n",
       "  <thead>\n",
       "    <tr style=\"text-align: right;\">\n",
       "      <th></th>\n",
       "      <th>DOI</th>\n",
       "      <th>URL</th>\n",
       "      <th>title</th>\n",
       "      <th>author</th>\n",
       "      <th>issued</th>\n",
       "    </tr>\n",
       "  </thead>\n",
       "  <tbody>\n",
       "    <tr>\n",
       "      <th>0</th>\n",
       "      <td>10.1021/acs.jpcb.1c01837</td>\n",
       "      <td>http://dx.doi.org/10.1021/acs.jpcb.1c01837</td>\n",
       "      <td>Continuous Illumination of a Conjugated Polyme...</td>\n",
       "      <td>AlShetwi, Schiefer, Sommer, Reiter</td>\n",
       "      <td>2021-5-24</td>\n",
       "    </tr>\n",
       "    <tr>\n",
       "      <th>1</th>\n",
       "      <td>10.1021/acs.jpcb.1c01460</td>\n",
       "      <td>http://dx.doi.org/10.1021/acs.jpcb.1c01460</td>\n",
       "      <td>Hydrogen Bonding Strength Determines Water Dif...</td>\n",
       "      <td>Bayles, Fisher, Valentine, Nowbahar, Helgeson,...</td>\n",
       "      <td>2021-5-12</td>\n",
       "    </tr>\n",
       "    <tr>\n",
       "      <th>2</th>\n",
       "      <td>10.1021/acs.jpcb.1c02191</td>\n",
       "      <td>http://dx.doi.org/10.1021/acs.jpcb.1c02191</td>\n",
       "      <td>Characterizing the Interplay between Polymer S...</td>\n",
       "      <td>Dhabal, Jiang, Pallath, Patel</td>\n",
       "      <td>2021-5-12</td>\n",
       "    </tr>\n",
       "    <tr>\n",
       "      <th>3</th>\n",
       "      <td>10.1021/acs.jpcb.1c01177</td>\n",
       "      <td>http://dx.doi.org/10.1021/acs.jpcb.1c01177</td>\n",
       "      <td>Concentration-Dependent Solvation Structure an...</td>\n",
       "      <td>Bazak, Wong, Duanmu, Han, Reed, Murugesan</td>\n",
       "      <td>2021-5-10</td>\n",
       "    </tr>\n",
       "    <tr>\n",
       "      <th>4</th>\n",
       "      <td>10.1021/acs.jpcb.1c01953</td>\n",
       "      <td>http://dx.doi.org/10.1021/acs.jpcb.1c01953</td>\n",
       "      <td>Multiscale Approaches for Confined Ring Polyme...</td>\n",
       "      <td>Chubak, Likos, Egorov</td>\n",
       "      <td>2021-5-3</td>\n",
       "    </tr>\n",
       "    <tr>\n",
       "      <th>5</th>\n",
       "      <td>10.1021/acs.jpcb.1c01070</td>\n",
       "      <td>http://dx.doi.org/10.1021/acs.jpcb.1c01070</td>\n",
       "      <td>Length-Scale Effects in Hydrophobic Polymer Co...</td>\n",
       "      <td>van der Vegt</td>\n",
       "      <td>2021-4-27</td>\n",
       "    </tr>\n",
       "    <tr>\n",
       "      <th>6</th>\n",
       "      <td>10.1021/acs.jpcb.1c00885</td>\n",
       "      <td>http://dx.doi.org/10.1021/acs.jpcb.1c00885</td>\n",
       "      <td>Glassy and Polymer Dynamics of Elastomers by 1...</td>\n",
       "      <td>Nardelli, Martini, Carignani, Rossi, Borsacchi...</td>\n",
       "      <td>2021-4-22</td>\n",
       "    </tr>\n",
       "    <tr>\n",
       "      <th>7</th>\n",
       "      <td>10.1021/acs.jpcb.0c10283</td>\n",
       "      <td>http://dx.doi.org/10.1021/acs.jpcb.0c10283</td>\n",
       "      <td>Investigating Primary Charge Separation in the...</td>\n",
       "      <td>Brütting, Foerster, Kümmel</td>\n",
       "      <td>2021-3-31</td>\n",
       "    </tr>\n",
       "    <tr>\n",
       "      <th>8</th>\n",
       "      <td>10.1021/acs.jpcb.1c01898</td>\n",
       "      <td>http://dx.doi.org/10.1021/acs.jpcb.1c01898</td>\n",
       "      <td>Correction to “Imaging Switchable Protein Inte...</td>\n",
       "      <td>Dutta, Bishop, Zepeda O, Chatterjee, Flatebo, ...</td>\n",
       "      <td>2021-3-30</td>\n",
       "    </tr>\n",
       "    <tr>\n",
       "      <th>9</th>\n",
       "      <td>10.1021/acs.jpcb.0c10831</td>\n",
       "      <td>http://dx.doi.org/10.1021/acs.jpcb.0c10831</td>\n",
       "      <td>Real-Time Observation of Solvation Dynamics of...</td>\n",
       "      <td>Bahry, Denisov, Moisy, Ma, Mostafavi</td>\n",
       "      <td>2021-3-2</td>\n",
       "    </tr>\n",
       "    <tr>\n",
       "      <th>10</th>\n",
       "      <td>10.1021/acs.jpcb.1c00097</td>\n",
       "      <td>http://dx.doi.org/10.1021/acs.jpcb.1c00097</td>\n",
       "      <td>Molecular Modeling and Simulation of Polymer N...</td>\n",
       "      <td>Lu, Wu, Jayaraman</td>\n",
       "      <td>2021-3-1</td>\n",
       "    </tr>\n",
       "    <tr>\n",
       "      <th>11</th>\n",
       "      <td>10.1021/acs.jpcb.0c08707</td>\n",
       "      <td>http://dx.doi.org/10.1021/acs.jpcb.0c08707</td>\n",
       "      <td>A Perspective on the Design of Ion-Containing ...</td>\n",
       "      <td>Ma, Olvera de la Cruz</td>\n",
       "      <td>2021-2-26</td>\n",
       "    </tr>\n",
       "    <tr>\n",
       "      <th>12</th>\n",
       "      <td>10.1021/acs.jpcb.0c11279</td>\n",
       "      <td>http://dx.doi.org/10.1021/acs.jpcb.0c11279</td>\n",
       "      <td>Insights into the Thermal Response of a Poly(e...</td>\n",
       "      <td>Rick</td>\n",
       "      <td>2021-2-19</td>\n",
       "    </tr>\n",
       "    <tr>\n",
       "      <th>13</th>\n",
       "      <td>10.1021/acs.jpcb.0c09824</td>\n",
       "      <td>http://dx.doi.org/10.1021/acs.jpcb.0c09824</td>\n",
       "      <td>Distinct Solvation Structures of CO2 and SO2 i...</td>\n",
       "      <td>Malik, Dhattarwal, Kashyap</td>\n",
       "      <td>2021-2-12</td>\n",
       "    </tr>\n",
       "    <tr>\n",
       "      <th>14</th>\n",
       "      <td>10.1021/acs.jpcb.0c10285</td>\n",
       "      <td>http://dx.doi.org/10.1021/acs.jpcb.0c10285</td>\n",
       "      <td>Charge Density Gradient Propelled Ultrafast Sw...</td>\n",
       "      <td>Zhang, Wang, Yang, Zhang, Sun, Yu, Fan, Li, Ch...</td>\n",
       "      <td>2021-2-11</td>\n",
       "    </tr>\n",
       "    <tr>\n",
       "      <th>15</th>\n",
       "      <td>10.1021/acs.jpcb.0c09489</td>\n",
       "      <td>http://dx.doi.org/10.1021/acs.jpcb.0c09489</td>\n",
       "      <td>Revealing the Frank–Evans “Iceberg” Structures...</td>\n",
       "      <td>Grabowska, Kuffel, Zielkiewicz</td>\n",
       "      <td>2021-2-4</td>\n",
       "    </tr>\n",
       "    <tr>\n",
       "      <th>16</th>\n",
       "      <td>10.1021/acs.jpcb.0c10329</td>\n",
       "      <td>http://dx.doi.org/10.1021/acs.jpcb.0c10329</td>\n",
       "      <td>Analytical 2-Dimensional Model of Nonpolar and...</td>\n",
       "      <td>Yadav, Bandyopadhyay, Urbic, Dill</td>\n",
       "      <td>2021-2-4</td>\n",
       "    </tr>\n",
       "    <tr>\n",
       "      <th>17</th>\n",
       "      <td>10.1021/acs.jpcb.0c09455</td>\n",
       "      <td>http://dx.doi.org/10.1021/acs.jpcb.0c09455</td>\n",
       "      <td>Bimodal Polymer End-Linked Nanoparticle Networ...</td>\n",
       "      <td>Chen, Zhang, Wan, Liu, Zhang</td>\n",
       "      <td>2021-2-3</td>\n",
       "    </tr>\n",
       "    <tr>\n",
       "      <th>18</th>\n",
       "      <td>10.1021/acs.jpcb.0c10622</td>\n",
       "      <td>http://dx.doi.org/10.1021/acs.jpcb.0c10622</td>\n",
       "      <td>MeTFSI (Me = Li, Na) Solvation in Ethylene Car...</td>\n",
       "      <td>Wróbel, Kubisiak, Eilmes</td>\n",
       "      <td>2021-1-22</td>\n",
       "    </tr>\n",
       "    <tr>\n",
       "      <th>19</th>\n",
       "      <td>10.1021/acs.jpcb.0c08614</td>\n",
       "      <td>http://dx.doi.org/10.1021/acs.jpcb.0c08614</td>\n",
       "      <td>Local Structural Fingerprints of Nanoparticle-...</td>\n",
       "      <td>Gooneie</td>\n",
       "      <td>2021-1-15</td>\n",
       "    </tr>\n",
       "    <tr>\n",
       "      <th>20</th>\n",
       "      <td>10.1021/acs.jpcb.0c08674</td>\n",
       "      <td>http://dx.doi.org/10.1021/acs.jpcb.0c08674</td>\n",
       "      <td>Machine Learning Aided Design of Polymer with ...</td>\n",
       "      <td>Xu, Lu, Ju, Tian, Li, Lu</td>\n",
       "      <td>2021-1-7</td>\n",
       "    </tr>\n",
       "    <tr>\n",
       "      <th>21</th>\n",
       "      <td>10.1021/acs.jpcb.0c08809</td>\n",
       "      <td>http://dx.doi.org/10.1021/acs.jpcb.0c08809</td>\n",
       "      <td>Aggregation of the Dipeptide Leu–Gly in Alcoho...</td>\n",
       "      <td>To, Sakamoto, Sadakane, Matsugami, Takamuku</td>\n",
       "      <td>2021-1-4</td>\n",
       "    </tr>\n",
       "  </tbody>\n",
       "</table>\n",
       "</div>"
      ],
      "text/plain": [
       "                         DOI                                         URL  \\\n",
       "0   10.1021/acs.jpcb.1c01837  http://dx.doi.org/10.1021/acs.jpcb.1c01837   \n",
       "1   10.1021/acs.jpcb.1c01460  http://dx.doi.org/10.1021/acs.jpcb.1c01460   \n",
       "2   10.1021/acs.jpcb.1c02191  http://dx.doi.org/10.1021/acs.jpcb.1c02191   \n",
       "3   10.1021/acs.jpcb.1c01177  http://dx.doi.org/10.1021/acs.jpcb.1c01177   \n",
       "4   10.1021/acs.jpcb.1c01953  http://dx.doi.org/10.1021/acs.jpcb.1c01953   \n",
       "5   10.1021/acs.jpcb.1c01070  http://dx.doi.org/10.1021/acs.jpcb.1c01070   \n",
       "6   10.1021/acs.jpcb.1c00885  http://dx.doi.org/10.1021/acs.jpcb.1c00885   \n",
       "7   10.1021/acs.jpcb.0c10283  http://dx.doi.org/10.1021/acs.jpcb.0c10283   \n",
       "8   10.1021/acs.jpcb.1c01898  http://dx.doi.org/10.1021/acs.jpcb.1c01898   \n",
       "9   10.1021/acs.jpcb.0c10831  http://dx.doi.org/10.1021/acs.jpcb.0c10831   \n",
       "10  10.1021/acs.jpcb.1c00097  http://dx.doi.org/10.1021/acs.jpcb.1c00097   \n",
       "11  10.1021/acs.jpcb.0c08707  http://dx.doi.org/10.1021/acs.jpcb.0c08707   \n",
       "12  10.1021/acs.jpcb.0c11279  http://dx.doi.org/10.1021/acs.jpcb.0c11279   \n",
       "13  10.1021/acs.jpcb.0c09824  http://dx.doi.org/10.1021/acs.jpcb.0c09824   \n",
       "14  10.1021/acs.jpcb.0c10285  http://dx.doi.org/10.1021/acs.jpcb.0c10285   \n",
       "15  10.1021/acs.jpcb.0c09489  http://dx.doi.org/10.1021/acs.jpcb.0c09489   \n",
       "16  10.1021/acs.jpcb.0c10329  http://dx.doi.org/10.1021/acs.jpcb.0c10329   \n",
       "17  10.1021/acs.jpcb.0c09455  http://dx.doi.org/10.1021/acs.jpcb.0c09455   \n",
       "18  10.1021/acs.jpcb.0c10622  http://dx.doi.org/10.1021/acs.jpcb.0c10622   \n",
       "19  10.1021/acs.jpcb.0c08614  http://dx.doi.org/10.1021/acs.jpcb.0c08614   \n",
       "20  10.1021/acs.jpcb.0c08674  http://dx.doi.org/10.1021/acs.jpcb.0c08674   \n",
       "21  10.1021/acs.jpcb.0c08809  http://dx.doi.org/10.1021/acs.jpcb.0c08809   \n",
       "\n",
       "                                                title  \\\n",
       "0   Continuous Illumination of a Conjugated Polyme...   \n",
       "1   Hydrogen Bonding Strength Determines Water Dif...   \n",
       "2   Characterizing the Interplay between Polymer S...   \n",
       "3   Concentration-Dependent Solvation Structure an...   \n",
       "4   Multiscale Approaches for Confined Ring Polyme...   \n",
       "5   Length-Scale Effects in Hydrophobic Polymer Co...   \n",
       "6   Glassy and Polymer Dynamics of Elastomers by 1...   \n",
       "7   Investigating Primary Charge Separation in the...   \n",
       "8   Correction to “Imaging Switchable Protein Inte...   \n",
       "9   Real-Time Observation of Solvation Dynamics of...   \n",
       "10  Molecular Modeling and Simulation of Polymer N...   \n",
       "11  A Perspective on the Design of Ion-Containing ...   \n",
       "12  Insights into the Thermal Response of a Poly(e...   \n",
       "13  Distinct Solvation Structures of CO2 and SO2 i...   \n",
       "14  Charge Density Gradient Propelled Ultrafast Sw...   \n",
       "15  Revealing the Frank–Evans “Iceberg” Structures...   \n",
       "16  Analytical 2-Dimensional Model of Nonpolar and...   \n",
       "17  Bimodal Polymer End-Linked Nanoparticle Networ...   \n",
       "18  MeTFSI (Me = Li, Na) Solvation in Ethylene Car...   \n",
       "19  Local Structural Fingerprints of Nanoparticle-...   \n",
       "20  Machine Learning Aided Design of Polymer with ...   \n",
       "21  Aggregation of the Dipeptide Leu–Gly in Alcoho...   \n",
       "\n",
       "                                               author     issued  \n",
       "0                  AlShetwi, Schiefer, Sommer, Reiter  2021-5-24  \n",
       "1   Bayles, Fisher, Valentine, Nowbahar, Helgeson,...  2021-5-12  \n",
       "2                       Dhabal, Jiang, Pallath, Patel  2021-5-12  \n",
       "3           Bazak, Wong, Duanmu, Han, Reed, Murugesan  2021-5-10  \n",
       "4                               Chubak, Likos, Egorov   2021-5-3  \n",
       "5                                        van der Vegt  2021-4-27  \n",
       "6   Nardelli, Martini, Carignani, Rossi, Borsacchi...  2021-4-22  \n",
       "7                          Brütting, Foerster, Kümmel  2021-3-31  \n",
       "8   Dutta, Bishop, Zepeda O, Chatterjee, Flatebo, ...  2021-3-30  \n",
       "9                Bahry, Denisov, Moisy, Ma, Mostafavi   2021-3-2  \n",
       "10                                  Lu, Wu, Jayaraman   2021-3-1  \n",
       "11                              Ma, Olvera de la Cruz  2021-2-26  \n",
       "12                                               Rick  2021-2-19  \n",
       "13                         Malik, Dhattarwal, Kashyap  2021-2-12  \n",
       "14  Zhang, Wang, Yang, Zhang, Sun, Yu, Fan, Li, Ch...  2021-2-11  \n",
       "15                     Grabowska, Kuffel, Zielkiewicz   2021-2-4  \n",
       "16                  Yadav, Bandyopadhyay, Urbic, Dill   2021-2-4  \n",
       "17                       Chen, Zhang, Wan, Liu, Zhang   2021-2-3  \n",
       "18                           Wróbel, Kubisiak, Eilmes  2021-1-22  \n",
       "19                                            Gooneie  2021-1-15  \n",
       "20                           Xu, Lu, Ju, Tian, Li, Lu   2021-1-7  \n",
       "21        To, Sakamoto, Sadakane, Matsugami, Takamuku   2021-1-4  "
      ]
     },
     "execution_count": 13,
     "metadata": {},
     "output_type": "execute_result"
    }
   ],
   "source": [
    "ds.to_df()"
   ]
  },
  {
   "cell_type": "markdown",
   "metadata": {},
   "source": [
    "We can also save this to a text file using the `save_txt` method. But let's try something new - saving this information to an Excel file! It's very easy:"
   ]
  },
  {
   "cell_type": "code",
   "execution_count": 14,
   "metadata": {},
   "outputs": [],
   "source": [
    "ds.save_excel(\"results.xlsx\")"
   ]
  },
  {
   "cell_type": "markdown",
   "metadata": {},
   "source": [
    "That's all for this Getting Started notebook! \n",
    "\n",
    "Check out the paperfetcher documentation or the source code on Github for more!"
   ]
  }
 ],
 "metadata": {
  "kernelspec": {
   "display_name": "Python 3",
   "language": "python",
   "name": "python3"
  },
  "language_info": {
   "codemirror_mode": {
    "name": "ipython",
    "version": 3
   },
   "file_extension": ".py",
   "mimetype": "text/x-python",
   "name": "python",
   "nbconvert_exporter": "python",
   "pygments_lexer": "ipython3",
   "version": "3.7.6"
  }
 },
 "nbformat": 4,
 "nbformat_minor": 4
}
