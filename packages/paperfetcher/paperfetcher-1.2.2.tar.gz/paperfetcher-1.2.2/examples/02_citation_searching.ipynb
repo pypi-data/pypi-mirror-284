{
 "cells": [
  {
   "cell_type": "markdown",
   "metadata": {},
   "source": [
    "# Getting started: citation searching (a.k.a. snowball-search) with paperfetcher\n",
    "\n",
    "*Written on Oct 3, 2021 by Akash Pallath.* \n",
    "\n",
    "*Last updated on May 22, 2022 by Akash Pallath.*\n",
    "\n",
    "---"
   ]
  },
  {
   "cell_type": "markdown",
   "metadata": {},
   "source": [
    "To get started, let's import paperfetcher's snowballsearch package."
   ]
  },
  {
   "cell_type": "code",
   "execution_count": 1,
   "metadata": {},
   "outputs": [],
   "source": [
    "from paperfetcher import snowballsearch"
   ]
  },
  {
   "cell_type": "markdown",
   "metadata": {},
   "source": [
    "## Snowballing backwards (also called backward reference chasing, backward reference search, or backward citation search) with Crossref\n",
    "\n",
    "Backward reference chasing involves retrieving all articles which are referenced (cited) by a set of starting articles. \n",
    "\n",
    "Let's fetch all the references from two review papers with DOIs:\n",
    "- 10.1021/acs.jpcb.1c02191\n",
    "- 10.1073/pnas.2018234118\n",
    "using the Crossref service.\n",
    "\n",
    "First, we create a search object, and initialize it with a list of strings, each string being a DOI."
   ]
  },
  {
   "cell_type": "code",
   "execution_count": 2,
   "metadata": {},
   "outputs": [],
   "source": [
    "search = snowballsearch.CrossrefBackwardReferenceSearch([\"10.1021/acs.jpcb.1c02191\",\n",
    "                                                         \"10.1073/pnas.2018234118\"])"
   ]
  },
  {
   "cell_type": "markdown",
   "metadata": {},
   "source": [
    "Let's run the search!\n",
    "\n",
    "(Ignore the warning - it just says that one of the retrieved articles does not have a DOI in Crossref. Read paperfetcher's documentation to learn more about this warning!)"
   ]
  },
  {
   "cell_type": "code",
   "execution_count": 3,
   "metadata": {},
   "outputs": [
    {
     "name": "stderr",
     "output_type": "stream",
     "text": [
      " 50%|█████████████████████████████████████████████████████████████                                                             | 1/2 [00:00<00:00,  1.50it/s]/Users/apallath/Documents/paperfetcher_org/paperfetcher/paperfetcher/snowballsearch.py:145: UserWarning: In references of 10.1073/pnas.2018234118, reference object {'key': 'e_1_3_4_53_2', 'first-page': '1001', 'article-title': 'The MDM2-p53 interaction', 'volume': '1', 'author': 'Moll U. M.', 'year': '2003', 'unstructured': 'U. M. Moll, O. Petrenko, The MDM2-p53 interaction. Mol. Canc. Res. 1, 1001–1008 (2003).', 'journal-title': 'Mol. Canc. Res.'} does not have a DOI field. Skipping this reference.\n",
      "  warnings.warn(\"In references of %s, reference object %s does not have a DOI field. Skipping this reference.\" % (doi, dict))  # warn but continue\n",
      "100%|██████████████████████████████████████████████████████████████████████████████████████████████████████████████████████████| 2/2 [00:01<00:00,  1.59it/s]\n"
     ]
    }
   ],
   "source": [
    "search()"
   ]
  },
  {
   "cell_type": "markdown",
   "metadata": {},
   "source": [
    "How many works did our search return?"
   ]
  },
  {
   "cell_type": "code",
   "execution_count": 4,
   "metadata": {},
   "outputs": [
    {
     "data": {
      "text/plain": [
       "140"
      ]
     },
     "execution_count": 4,
     "metadata": {},
     "output_type": "execute_result"
    }
   ],
   "source": [
    "len(search)"
   ]
  },
  {
   "cell_type": "markdown",
   "metadata": {},
   "source": [
    "# Extracting data from the search results\n",
    "\n",
    "Just as we did for handsearching, we can get a Dataset of DOIs from the search results:"
   ]
  },
  {
   "cell_type": "code",
   "execution_count": 5,
   "metadata": {},
   "outputs": [],
   "source": [
    "doi_ds = search.get_DOIDataset()"
   ]
  },
  {
   "cell_type": "markdown",
   "metadata": {},
   "source": [
    "We can display this as a DataFrame:"
   ]
  },
  {
   "cell_type": "code",
   "execution_count": 6,
   "metadata": {},
   "outputs": [
    {
     "data": {
      "text/html": [
       "<div>\n",
       "<style scoped>\n",
       "    .dataframe tbody tr th:only-of-type {\n",
       "        vertical-align: middle;\n",
       "    }\n",
       "\n",
       "    .dataframe tbody tr th {\n",
       "        vertical-align: top;\n",
       "    }\n",
       "\n",
       "    .dataframe thead th {\n",
       "        text-align: right;\n",
       "    }\n",
       "</style>\n",
       "<table border=\"1\" class=\"dataframe\">\n",
       "  <thead>\n",
       "    <tr style=\"text-align: right;\">\n",
       "      <th></th>\n",
       "      <th>DOI</th>\n",
       "    </tr>\n",
       "  </thead>\n",
       "  <tbody>\n",
       "    <tr>\n",
       "      <th>0</th>\n",
       "      <td>10.1021/ar2000869</td>\n",
       "    </tr>\n",
       "    <tr>\n",
       "      <th>1</th>\n",
       "      <td>10.1073/pnas.93.17.8951</td>\n",
       "    </tr>\n",
       "    <tr>\n",
       "      <th>2</th>\n",
       "      <td>10.1021/jp2107523</td>\n",
       "    </tr>\n",
       "    <tr>\n",
       "      <th>3</th>\n",
       "      <td>10.1021/acs.jpcb.6b10797</td>\n",
       "    </tr>\n",
       "    <tr>\n",
       "      <th>4</th>\n",
       "      <td>10.1073/pnas.1113256108</td>\n",
       "    </tr>\n",
       "    <tr>\n",
       "      <th>...</th>\n",
       "      <td>...</td>\n",
       "    </tr>\n",
       "    <tr>\n",
       "      <th>135</th>\n",
       "      <td>10.1073/pnas.1110703108</td>\n",
       "    </tr>\n",
       "    <tr>\n",
       "      <th>136</th>\n",
       "      <td>10.2174/138920308785132712</td>\n",
       "    </tr>\n",
       "    <tr>\n",
       "      <th>137</th>\n",
       "      <td>10.1021/jz200319g</td>\n",
       "    </tr>\n",
       "    <tr>\n",
       "      <th>138</th>\n",
       "      <td>10.1146/annurev-chembioeng-061010-114156</td>\n",
       "    </tr>\n",
       "    <tr>\n",
       "      <th>139</th>\n",
       "      <td>10.1002/jcc.21989</td>\n",
       "    </tr>\n",
       "  </tbody>\n",
       "</table>\n",
       "<p>140 rows × 1 columns</p>\n",
       "</div>"
      ],
      "text/plain": [
       "                                          DOI\n",
       "0                           10.1021/ar2000869\n",
       "1                     10.1073/pnas.93.17.8951\n",
       "2                           10.1021/jp2107523\n",
       "3                    10.1021/acs.jpcb.6b10797\n",
       "4                     10.1073/pnas.1113256108\n",
       "..                                        ...\n",
       "135                   10.1073/pnas.1110703108\n",
       "136                10.2174/138920308785132712\n",
       "137                         10.1021/jz200319g\n",
       "138  10.1146/annurev-chembioeng-061010-114156\n",
       "139                         10.1002/jcc.21989\n",
       "\n",
       "[140 rows x 1 columns]"
      ]
     },
     "execution_count": 6,
     "metadata": {},
     "output_type": "execute_result"
    }
   ],
   "source": [
    "doi_ds.to_df()"
   ]
  },
  {
   "cell_type": "markdown",
   "metadata": {},
   "source": [
    "Or save it to a text file:"
   ]
  },
  {
   "cell_type": "code",
   "execution_count": 7,
   "metadata": {},
   "outputs": [],
   "source": [
    "doi_ds.save_txt(\"out/snowball_back.txt\")"
   ]
  },
  {
   "cell_type": "markdown",
   "metadata": {},
   "source": [
    "We can also convert it to RIS format:"
   ]
  },
  {
   "cell_type": "code",
   "execution_count": 8,
   "metadata": {},
   "outputs": [
    {
     "name": "stderr",
     "output_type": "stream",
     "text": [
      "Converting results to RIS format.: 100%|███████████████████████████████████████████████████████████████████████████████████| 140/140 [00:28<00:00,  4.89it/s]\n"
     ]
    }
   ],
   "source": [
    "ris_ds = search.get_RISDataset()"
   ]
  },
  {
   "cell_type": "markdown",
   "metadata": {},
   "source": [
    "And save it to an RIS file:"
   ]
  },
  {
   "cell_type": "code",
   "execution_count": 9,
   "metadata": {},
   "outputs": [],
   "source": [
    "ris_ds.save_ris(\"out/snowball_back.ris\")"
   ]
  },
  {
   "cell_type": "markdown",
   "metadata": {},
   "source": [
    "## Snowballing backwards with COCI\n",
    "\n",
    "We can also perform backward snowballing with COCI, the OpenCitations Index of Crossref DOI-to-DOI citations.\n",
    "\n",
    "The syntax is similar to that of Crossref:"
   ]
  },
  {
   "cell_type": "code",
   "execution_count": 10,
   "metadata": {},
   "outputs": [
    {
     "name": "stderr",
     "output_type": "stream",
     "text": [
      "100%|██████████████████████████████████████████████████████████████████████████████████████████████████████████████████████████| 2/2 [00:02<00:00,  1.24s/it]\n"
     ]
    },
    {
     "data": {
      "text/html": [
       "<div>\n",
       "<style scoped>\n",
       "    .dataframe tbody tr th:only-of-type {\n",
       "        vertical-align: middle;\n",
       "    }\n",
       "\n",
       "    .dataframe tbody tr th {\n",
       "        vertical-align: top;\n",
       "    }\n",
       "\n",
       "    .dataframe thead th {\n",
       "        text-align: right;\n",
       "    }\n",
       "</style>\n",
       "<table border=\"1\" class=\"dataframe\">\n",
       "  <thead>\n",
       "    <tr style=\"text-align: right;\">\n",
       "      <th></th>\n",
       "      <th>DOI</th>\n",
       "    </tr>\n",
       "  </thead>\n",
       "  <tbody>\n",
       "    <tr>\n",
       "      <th>0</th>\n",
       "      <td>10.1021/ar2000869</td>\n",
       "    </tr>\n",
       "    <tr>\n",
       "      <th>1</th>\n",
       "      <td>10.1073/pnas.93.17.8951</td>\n",
       "    </tr>\n",
       "    <tr>\n",
       "      <th>2</th>\n",
       "      <td>10.1021/jp2107523</td>\n",
       "    </tr>\n",
       "    <tr>\n",
       "      <th>3</th>\n",
       "      <td>10.1021/acs.jpcb.6b10797</td>\n",
       "    </tr>\n",
       "    <tr>\n",
       "      <th>4</th>\n",
       "      <td>10.1073/pnas.1113256108</td>\n",
       "    </tr>\n",
       "    <tr>\n",
       "      <th>...</th>\n",
       "      <td>...</td>\n",
       "    </tr>\n",
       "    <tr>\n",
       "      <th>135</th>\n",
       "      <td>10.1073/pnas.1110703108</td>\n",
       "    </tr>\n",
       "    <tr>\n",
       "      <th>136</th>\n",
       "      <td>10.2174/138920308785132712</td>\n",
       "    </tr>\n",
       "    <tr>\n",
       "      <th>137</th>\n",
       "      <td>10.1021/jz200319g</td>\n",
       "    </tr>\n",
       "    <tr>\n",
       "      <th>138</th>\n",
       "      <td>10.1146/annurev-chembioeng-061010-114156</td>\n",
       "    </tr>\n",
       "    <tr>\n",
       "      <th>139</th>\n",
       "      <td>10.1002/jcc.21989</td>\n",
       "    </tr>\n",
       "  </tbody>\n",
       "</table>\n",
       "<p>140 rows × 1 columns</p>\n",
       "</div>"
      ],
      "text/plain": [
       "                                          DOI\n",
       "0                           10.1021/ar2000869\n",
       "1                     10.1073/pnas.93.17.8951\n",
       "2                           10.1021/jp2107523\n",
       "3                    10.1021/acs.jpcb.6b10797\n",
       "4                     10.1073/pnas.1113256108\n",
       "..                                        ...\n",
       "135                   10.1073/pnas.1110703108\n",
       "136                10.2174/138920308785132712\n",
       "137                         10.1021/jz200319g\n",
       "138  10.1146/annurev-chembioeng-061010-114156\n",
       "139                         10.1002/jcc.21989\n",
       "\n",
       "[140 rows x 1 columns]"
      ]
     },
     "execution_count": 10,
     "metadata": {},
     "output_type": "execute_result"
    }
   ],
   "source": [
    "search = snowballsearch.COCIBackwardReferenceSearch([\"10.1021/acs.jpcb.1c02191\",\n",
    "                                                     \"10.1073/pnas.2018234118\"])\n",
    "search()\n",
    "doi_ds = search.get_DOIDataset()\n",
    "doi_ds.to_df()"
   ]
  },
  {
   "cell_type": "markdown",
   "metadata": {},
   "source": [
    "## Snowballing forwards (also called forward citation chasing or forward citation search) with COCI\n",
    "\n",
    "Forward citation chasing involves retrieving all articles which cite a set of starting articles. \n",
    "\n",
    "Let's fetch all the citations of two review papers with DOIs:\n",
    "- 10.1021/acs.jpcb.1c02191\n",
    "- 10.1073/pnas.2018234118\n",
    "using the COCI service. We cannot use the Crossref service for this task.\n",
    "\n",
    "The syntax is similar to that of backward search:"
   ]
  },
  {
   "cell_type": "code",
   "execution_count": 11,
   "metadata": {},
   "outputs": [
    {
     "name": "stderr",
     "output_type": "stream",
     "text": [
      "100%|██████████████████████████████████████████████████████████████████████████████████████████████████████████████████████████| 2/2 [00:01<00:00,  1.06it/s]\n"
     ]
    },
    {
     "data": {
      "text/html": [
       "<div>\n",
       "<style scoped>\n",
       "    .dataframe tbody tr th:only-of-type {\n",
       "        vertical-align: middle;\n",
       "    }\n",
       "\n",
       "    .dataframe tbody tr th {\n",
       "        vertical-align: top;\n",
       "    }\n",
       "\n",
       "    .dataframe thead th {\n",
       "        text-align: right;\n",
       "    }\n",
       "</style>\n",
       "<table border=\"1\" class=\"dataframe\">\n",
       "  <thead>\n",
       "    <tr style=\"text-align: right;\">\n",
       "      <th></th>\n",
       "      <th>DOI</th>\n",
       "    </tr>\n",
       "  </thead>\n",
       "  <tbody>\n",
       "    <tr>\n",
       "      <th>0</th>\n",
       "      <td>10.1002/pol.20210526</td>\n",
       "    </tr>\n",
       "    <tr>\n",
       "      <th>1</th>\n",
       "      <td>10.1021/acs.jpcb.1c02191</td>\n",
       "    </tr>\n",
       "    <tr>\n",
       "      <th>2</th>\n",
       "      <td>10.1016/j.bpj.2021.07.016</td>\n",
       "    </tr>\n",
       "    <tr>\n",
       "      <th>3</th>\n",
       "      <td>10.1021/acs.jpcb.1c08603</td>\n",
       "    </tr>\n",
       "    <tr>\n",
       "      <th>4</th>\n",
       "      <td>10.1021/acsomega.1c05064</td>\n",
       "    </tr>\n",
       "    <tr>\n",
       "      <th>5</th>\n",
       "      <td>10.1101/2021.03.17.435885</td>\n",
       "    </tr>\n",
       "    <tr>\n",
       "      <th>6</th>\n",
       "      <td>10.1038/s41557-021-00864-2</td>\n",
       "    </tr>\n",
       "  </tbody>\n",
       "</table>\n",
       "</div>"
      ],
      "text/plain": [
       "                          DOI\n",
       "0        10.1002/pol.20210526\n",
       "1    10.1021/acs.jpcb.1c02191\n",
       "2   10.1016/j.bpj.2021.07.016\n",
       "3    10.1021/acs.jpcb.1c08603\n",
       "4    10.1021/acsomega.1c05064\n",
       "5   10.1101/2021.03.17.435885\n",
       "6  10.1038/s41557-021-00864-2"
      ]
     },
     "execution_count": 11,
     "metadata": {},
     "output_type": "execute_result"
    }
   ],
   "source": [
    "search = snowballsearch.COCIForwardCitationSearch([\"10.1021/acs.jpcb.1c02191\",\n",
    "                                                   \"10.1073/pnas.2018234118\"])\n",
    "search()\n",
    "doi_ds = search.get_DOIDataset()\n",
    "doi_ds.to_df()"
   ]
  },
  {
   "cell_type": "markdown",
   "metadata": {},
   "source": [
    "Again, we can save the search results to a text file:"
   ]
  },
  {
   "cell_type": "code",
   "execution_count": 12,
   "metadata": {},
   "outputs": [],
   "source": [
    "doi_ds.save_txt(\"out/snowball_fwd.txt\")"
   ]
  },
  {
   "cell_type": "markdown",
   "metadata": {},
   "source": [
    "Or to an RIS file:"
   ]
  },
  {
   "cell_type": "code",
   "execution_count": 13,
   "metadata": {},
   "outputs": [
    {
     "name": "stderr",
     "output_type": "stream",
     "text": [
      "Converting results to RIS format.: 100%|███████████████████████████████████████████████████████████████████████████████████████| 7/7 [00:01<00:00,  4.73it/s]\n"
     ]
    }
   ],
   "source": [
    "ris_ds = search.get_RISDataset()\n",
    "ris_ds.save_ris(\"out/snowball_fwd.ris\")"
   ]
  }
 ],
 "metadata": {
  "kernelspec": {
   "display_name": "Python 3 (ipykernel)",
   "language": "python",
   "name": "python3"
  },
  "language_info": {
   "codemirror_mode": {
    "name": "ipython",
    "version": 3
   },
   "file_extension": ".py",
   "mimetype": "text/x-python",
   "name": "python",
   "nbconvert_exporter": "python",
   "pygments_lexer": "ipython3",
   "version": "3.7.10"
  }
 },
 "nbformat": 4,
 "nbformat_minor": 4
}
