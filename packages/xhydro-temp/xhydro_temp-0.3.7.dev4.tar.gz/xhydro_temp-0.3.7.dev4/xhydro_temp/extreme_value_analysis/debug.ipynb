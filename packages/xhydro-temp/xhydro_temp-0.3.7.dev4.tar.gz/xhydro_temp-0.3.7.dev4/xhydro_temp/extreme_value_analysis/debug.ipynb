{
 "cells": [
  {
   "cell_type": "code",
   "execution_count": 1,
   "id": "dd76b0d398266b4",
   "metadata": {
    "collapsed": false,
    "ExecuteTime": {
     "end_time": "2024-07-09T14:58:18.915441300Z",
     "start_time": "2024-07-09T14:57:55.850599400Z"
    }
   },
   "outputs": [
    {
     "name": "stdout",
     "output_type": "stream",
     "text": [
      "Detected IPython. Loading juliacall extension. See https://juliapy.github.io/PythonCall.jl/stable/compat/#IPython\n",
      "(1, 10, 3)\n"
     ]
    }
   ],
   "source": [
    "%load_ext autoreload\n",
    "%autoreload 2\n",
    "%reload_ext autoreload\n",
    "\n",
    "from xhydro_temp.extreme_value_analysis.parameterestimation import *"
   ]
  },
  {
   "cell_type": "code",
   "outputs": [
    {
     "data": {
      "text/plain": "True"
     },
     "execution_count": 4,
     "metadata": {},
     "output_type": "execute_result"
    }
   ],
   "source": [
    "import io\n",
    "import contextlib\n",
    "import juliapkg\n",
    "\n",
    "def check_function_output(func, expected_output, *args, **kwargs):\n",
    "    f = io.StringIO()\n",
    "    with contextlib.redirect_stdout(f):\n",
    "        func(*args, **kwargs)\n",
    "    output = f.getvalue()\n",
    "    return expected_output in output\n",
    "\n",
    "# Example function\n",
    "def example_function():\n",
    "    print(\"Hello, World!\")\n",
    "\n",
    "# Check if the example function prints \"Hello, World!\"\n",
    "result = check_function_output(juliapkg.deps.status, \"Extremes\")\n",
    "result\n"
   ],
   "metadata": {
    "collapsed": false,
    "ExecuteTime": {
     "end_time": "2024-07-09T16:04:34.066483500Z",
     "start_time": "2024-07-09T16:04:33.986368300Z"
    }
   },
   "id": "3d2b7d9427e22b9d",
   "execution_count": 4
  },
  {
   "cell_type": "code",
   "outputs": [],
   "source": [],
   "metadata": {
    "collapsed": false
   },
   "id": "58ae7ba6d1423009"
  }
 ],
 "metadata": {
  "kernelspec": {
   "display_name": "Python 3 (ipykernel)",
   "language": "python",
   "name": "python3"
  },
  "language_info": {
   "codemirror_mode": {
    "name": "ipython",
    "version": 3
   },
   "file_extension": ".py",
   "mimetype": "text/x-python",
   "name": "python",
   "nbconvert_exporter": "python",
   "pygments_lexer": "ipython3",
   "version": "3.12.3"
  }
 },
 "nbformat": 4,
 "nbformat_minor": 5
}
