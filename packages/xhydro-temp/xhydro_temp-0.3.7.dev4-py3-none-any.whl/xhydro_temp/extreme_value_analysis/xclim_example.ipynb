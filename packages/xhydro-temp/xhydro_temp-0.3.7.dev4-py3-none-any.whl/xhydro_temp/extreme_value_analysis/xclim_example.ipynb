{
 "cells": [
  {
   "cell_type": "code",
   "execution_count": null,
   "metadata": {},
   "outputs": [],
   "source": [
    "from __future__ import annotations\n",
    "\n",
    "import warnings\n",
    "\n",
    "import numpy as np\n",
    "import xarray as xr\n",
    "from scipy.stats import bernoulli, gamma\n",
    "\n",
    "from xclim.core.missing import missing_pct\n",
    "from xclim.indices.generic import select_resample_op\n",
    "from xclim.indices.stats import fa, fit, frequency_analysis, parametric_quantile\n",
    "\n",
    "warnings.simplefilter(\"ignore\")\n",
    "\n",
    "\n",
    "# Create synthetic daily precipitation time series (mm/d)\n",
    "n = 50 * 366\n",
    "start = np.datetime64(\"1950-01-01\")\n",
    "time = start + np.timedelta64(1, \"D\") * range(n)\n",
    "# time = xr.cftime_range(start=\"1950-01-01\", periods=n)\n",
    "\n",
    "# Generate wet (1) /dry (0) days, then multiply by rain magnitude.\n",
    "wet = bernoulli.rvs(0.1, size=n)\n",
    "intensity = gamma(a=4, loc=1, scale=6).rvs(n)\n",
    "pr = xr.DataArray(\n",
    "    wet * intensity,\n",
    "    dims=(\"time\",),\n",
    "    coords={\"time\": time},\n",
    "    attrs={\"units\": \"mm/d\", \"standard_name\": \"precipitation_flux\"},\n",
    ")\n",
    "pr"
   ]
  },
  {
   "cell_type": "code",
   "execution_count": null,
   "metadata": {},
   "outputs": [],
   "source": [
    "# Compute the design value\n",
    "frequency_analysis(\n",
    "    pr, t=20, dist=\"genextreme\", mode=\"max\", freq=\"YS\", month=[5, 6, 7, 8, 9, 10]\n",
    ")\n",
    "sub = select_resample_op(pr, op=\"max\", freq=\"YS\", month=[5, 6, 7, 8, 9, 10])"
   ]
  },
  {
   "cell_type": "code",
   "execution_count": null,
   "metadata": {},
   "outputs": [],
   "source": [
    "from lmoments3.distr import gev\n",
    "\n",
    "# The fitting dimension is hard-coded as `time`.\n",
    "xclim_params = fit(sub, dist=gev, method=\"PWM\")\n",
    "xclim_params"
   ]
  }
 ],
 "metadata": {
  "kernelspec": {
   "display_name": "xhydro-dev",
   "language": "python",
   "name": "python3"
  },
  "language_info": {
   "codemirror_mode": {
    "name": "ipython",
    "version": 3
   },
   "file_extension": ".py",
   "mimetype": "text/x-python",
   "name": "python",
   "nbconvert_exporter": "python",
   "pygments_lexer": "ipython3",
   "version": "3.12.3"
  }
 },
 "nbformat": 4,
 "nbformat_minor": 2
}
