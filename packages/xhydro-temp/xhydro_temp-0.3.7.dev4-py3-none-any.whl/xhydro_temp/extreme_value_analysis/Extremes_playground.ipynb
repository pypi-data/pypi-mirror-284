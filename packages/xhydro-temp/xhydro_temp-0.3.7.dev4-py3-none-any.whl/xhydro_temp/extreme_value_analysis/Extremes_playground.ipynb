{
 "cells": [
  {
   "cell_type": "code",
   "execution_count": 2,
   "metadata": {
    "is_executing": true
   },
   "outputs": [],
   "source": [
    "using Extremes"
   ]
  },
  {
   "cell_type": "code",
   "execution_count": 11,
   "metadata": {
    "collapsed": false,
    "is_executing": true
   },
   "outputs": [
    {
     "data": {
      "text/plain": [
       "17-element Vector{Float64}:\n",
       "  31.4\n",
       "  38.8\n",
       "  63.78\n",
       "  54.82\n",
       " 123.2\n",
       " 108.2\n",
       " 108.1\n",
       "  98.52\n",
       "  42.24\n",
       "  33.45\n",
       "  60.0\n",
       "  84.23\n",
       "  48.07\n",
       "  77.71\n",
       "  38.37\n",
       "  42.02\n",
       "  46.0"
      ]
     },
     "metadata": {},
     "output_type": "display_data"
    }
   ],
   "source": [
    "y = [\n",
    "    31.4, 38.8, 63.78, 54.82, 123.2, 108.2, 108.1, 98.52,\n",
    "    42.24, 33.45, 60.0, 84.23, 48.07, 77.71, 38.37, 42.02,\n",
    "    46.0\n",
    "]"
   ]
  },
  {
   "cell_type": "code",
   "execution_count": 22,
   "metadata": {
    "collapsed": false,
    "is_executing": true
   },
   "outputs": [
    {
     "data": {
      "text/plain": [
       "1-element Vector{Tuple{Float64, Float64, Float64}}:\n",
       " (46.987584008046504, 16.492506293527303, 0.445392084357781)"
      ]
     },
     "metadata": {},
     "output_type": "display_data"
    }
   ],
   "source": [
    "fm = Extremes.gevfit(y)\n",
    "p = params(fm)\n",
    "p"
   ]
  },
  {
   "cell_type": "code",
   "execution_count": 23,
   "metadata": {},
   "outputs": [
    {
     "data": {
      "text/plain": [
       "3-element Vector{Vector{Float64}}:\n",
       " [37.00001668612565, 56.97515132996736]\n",
       " [2.244111433665206, 3.361700793763129]\n",
       " [-0.22991649841882722, 1.1207006671343893]"
      ]
     },
     "metadata": {},
     "output_type": "display_data"
    }
   ],
   "source": [
    "Extremes.cint(fm)"
   ]
  },
  {
   "cell_type": "code",
   "execution_count": null,
   "metadata": {
    "collapsed": false
   },
   "outputs": [],
   "source": [
    "# DONT EXECUTE THIS CELL!!!\n",
    "\n",
    "#using Extremes, Distributions\n",
    "#using DelimitedFiles  # Import DelimitedFiles for writedlm function\n",
    "\n",
    "#pd = GeneralizedExtremeValue(0, 1, -0.2)\n",
    "#y = rand(pd, 5000)\n",
    "\n",
    "# Write y to a text file\n",
    "#writedlm(\"output2.txt\", y)\n",
    "\n"
   ]
  },
  {
   "cell_type": "code",
   "execution_count": null,
   "metadata": {
    "collapsed": false
   },
   "outputs": [],
   "source": [
    "#params(gevfit(y))"
   ]
  },
  {
   "cell_type": "code",
   "execution_count": null,
   "metadata": {
    "collapsed": false
   },
   "outputs": [],
   "source": []
  }
 ],
 "metadata": {
  "kernelspec": {
   "display_name": "Julia 1.10.3",
   "language": "julia",
   "name": "julia-1.10"
  },
  "language_info": {
   "file_extension": ".jl",
   "mimetype": "application/julia",
   "name": "julia",
   "version": "1.10.3"
  }
 },
 "nbformat": 4,
 "nbformat_minor": 2
}
