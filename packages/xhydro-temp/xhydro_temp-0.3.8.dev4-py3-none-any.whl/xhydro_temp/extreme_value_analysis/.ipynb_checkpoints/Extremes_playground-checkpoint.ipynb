{
 "cells": [
  {
   "cell_type": "code",
   "outputs": [],
   "source": [
    "using Extremes"
   ],
   "metadata": {
    "collapsed": false,
    "is_executing": true
   }
  },
  {
   "cell_type": "code",
   "outputs": [],
   "source": [
    "y = [\n",
    "    31.4, 38.8, 63.78, 54.82, 123.2, 108.2, 108.1, 98.52,\n",
    "    42.24, 33.45, 60.0, 84.23, 48.07, 77.71, 38.37, 42.02,\n",
    "    46.0\n",
    "]\n",
    "\n",
    "\n",
    "y"
   ],
   "metadata": {
    "collapsed": false,
    "is_executing": true
   },
   "execution_count": null
  },
  {
   "cell_type": "code",
   "outputs": [],
   "source": [
    "fm = Extremes.gpfit(y)\n",
    "p = params(fm)\n",
    "p"
   ],
   "metadata": {
    "collapsed": false
   },
   "execution_count": null
  },
  {
   "cell_type": "code",
   "outputs": [],
   "source": [
    "# DONT EXECUTE THIS CELL!!!\n",
    "\n",
    "#using Extremes, Distributions\n",
    "#using DelimitedFiles  # Import DelimitedFiles for writedlm function\n",
    "\n",
    "#pd = GeneralizedExtremeValue(0, 1, -0.2)\n",
    "#y = rand(pd, 5000)\n",
    "\n",
    "# Write y to a text file\n",
    "#writedlm(\"output2.txt\", y)\n",
    "\n"
   ],
   "metadata": {
    "collapsed": false
   },
   "execution_count": null
  },
  {
   "cell_type": "code",
   "outputs": [],
   "source": [
    "#params(gevfit(y))"
   ],
   "metadata": {
    "collapsed": false
   },
   "execution_count": null
  }
 ],
 "metadata": {
  "kernelspec": {
   "name": "julia-1.9",
   "language": "julia",
   "display_name": "Julia 1.9.4"
  },
  "language_info": {
   "file_extension": ".jl",
   "mimetype": "application/julia",
   "name": "julia",
   "version": "1.10.3"
  }
 },
 "nbformat": 4,
 "nbformat_minor": 2
}
