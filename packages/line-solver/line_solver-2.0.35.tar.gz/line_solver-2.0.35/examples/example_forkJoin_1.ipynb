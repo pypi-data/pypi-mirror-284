{
 "cells": [
  {
   "cell_type": "code",
   "id": "initial_id",
   "metadata": {
    "collapsed": true,
    "ExecuteTime": {
     "end_time": "2024-07-11T21:33:10.962420Z",
     "start_time": "2024-07-11T21:33:10.958539Z"
    }
   },
   "source": [
    "import time\n",
    "from line_solver import *\n",
    "GlobalConstants.setVerbose(VerboseLevel.STD)"
   ],
   "outputs": [],
   "execution_count": 4
  },
  {
   "cell_type": "code",
   "source": [
    "t = time.time()\n",
    "model = Network('model')\n",
    "\n",
    "source = Source(model,'Source')\n",
    "queue1 = Queue(model,'Queue1',SchedStrategy.FCFS)\n",
    "queue2 = Queue(model,'Queue2',SchedStrategy.FCFS)\n",
    "fork = Fork(model,'Fork')\n",
    "join = Join(model,'Join', fork)\n",
    "sink = Sink(model,'Sink')\n",
    "\n",
    "jobclass1 = OpenClass(model, 'class1')\n",
    "\n",
    "source.setArrival(jobclass1, Exp(0.05))\n",
    "queue1.setService(jobclass1, Exp(1.0))\n",
    "queue2.setService(jobclass1, Exp(2.0))\n",
    "\n",
    "P = model.initRoutingMatrix()\n",
    "P.set(jobclass1, jobclass1, source, fork, 1.0)\n",
    "P.set(jobclass1, jobclass1, fork, queue1, 1.0)\n",
    "P.set(jobclass1, jobclass1, fork, queue2, 1.0)\n",
    "P.set(jobclass1, jobclass1, queue1, join, 1.0)\n",
    "P.set(jobclass1, jobclass1, queue2, join, 1.0)\n",
    "P.set(jobclass1, jobclass1, join, sink, 1.0)\n",
    "\n",
    "model.link(P)"
   ],
   "metadata": {
    "collapsed": false,
    "ExecuteTime": {
     "end_time": "2024-07-11T21:33:11.055633Z",
     "start_time": "2024-07-11T21:33:10.964760Z"
    }
   },
   "id": "3b204d2d5a3a029f",
   "outputs": [],
   "execution_count": 5
  },
  {
   "cell_type": "code",
   "source": [
    "solver = np.array([], dtype=object)\n",
    "#solver = np.append(solver, SolverJMT(model,'seed',23000,'verbose',False,'keep',True))\n",
    "solver = np.append(solver, SolverMVA(model)) # this worked before, so a regression error\n",
    "\n",
    "AvgTable = np.empty(len(solver), dtype=object)\n",
    "for s in range(len(solver)):\n",
    "    print(f'\\nSOLVER: {solver[s].getName()}')\n",
    "    AvgTable[s] = solver[s].getAvgTable()\n",
    "    "
   ],
   "metadata": {
    "collapsed": false,
    "ExecuteTime": {
     "end_time": "2024-07-11T21:33:11.328446Z",
     "start_time": "2024-07-11T21:33:11.057367Z"
    }
   },
   "id": "19b311ca76098e3c",
   "outputs": [
    {
     "name": "stdout",
     "output_type": "stream",
     "text": [
      "\n",
      "SOLVER: SolverMVA\n",
      "  Station JobClass      QLen      Util     RespT    ResidT      ArvR      Tput\n",
      "0  Source   class1  0.000000  0.000000  0.000000  0.000000  0.000000  0.050000\n",
      "1  Queue1   class1  0.052574  0.049988  1.051739  0.525870  0.025000  0.049988\n",
      "2  Queue2   class1  0.025618  0.024994  0.512489  0.256244  0.025000  0.049988\n",
      "3    Join   class1  0.043721  0.000000  0.437313  0.437313  0.099976  0.050000\n"
     ]
    }
   ],
   "execution_count": 6
  }
 ],
 "metadata": {
  "kernelspec": {
   "display_name": "Python 3",
   "language": "python",
   "name": "python3"
  },
  "language_info": {
   "codemirror_mode": {
    "name": "ipython",
    "version": 2
   },
   "file_extension": ".py",
   "mimetype": "text/x-python",
   "name": "python",
   "nbconvert_exporter": "python",
   "pygments_lexer": "ipython2",
   "version": "2.7.6"
  }
 },
 "nbformat": 4,
 "nbformat_minor": 5
}
