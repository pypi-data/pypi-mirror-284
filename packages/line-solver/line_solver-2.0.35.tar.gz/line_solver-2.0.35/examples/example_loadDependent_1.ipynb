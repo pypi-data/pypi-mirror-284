{
 "cells": [
  {
   "cell_type": "markdown",
   "source": "WARNING: this example is not fully functional yet",
   "metadata": {
    "collapsed": false
   },
   "id": "f504839c7e753f35"
  },
  {
   "cell_type": "code",
   "source": [
    "from line_solver import *\n",
    "GlobalConstants.setVerbose(VerboseLevel.STD)"
   ],
   "metadata": {
    "collapsed": false,
    "ExecuteTime": {
     "end_time": "2024-07-11T21:33:23.070704Z",
     "start_time": "2024-07-11T21:33:23.067102Z"
    }
   },
   "id": "2a6c869fa9057919",
   "outputs": [],
   "execution_count": 11
  },
  {
   "cell_type": "code",
   "source": [
    "N = 16 # number of jobs\n",
    "c = 2 # number of servers\n",
    "\n",
    "model = Network('model')\n",
    "node = np.empty(2, dtype=object)\n",
    "node[0] = Delay(model, 'Delay')\n",
    "node[1] = Queue(model, 'Queue1', SchedStrategy.FCFS)\n",
    "\n",
    "jobclass = ClosedClass(model, 'Class1', N, node[0], 0)\n",
    "\n",
    "node[0].setService(jobclass, Exp.fitMean(1.0)) # mean = 1\n",
    "node[1].setService(jobclass, Exp.fitMean(1.5)) # mean = 1.5\n",
    "node[1].setNumberOfServers(c)\n",
    "\n",
    "model.link(Network.serialRouting(node))\n",
    "\n",
    "# TODO: NC not functional yet on load-dependent models\n",
    "# msT=SolverNC(model).getAvgTable()\n",
    "# print(msT)"
   ],
   "metadata": {
    "collapsed": false,
    "ExecuteTime": {
     "end_time": "2024-07-11T21:33:23.176222Z",
     "start_time": "2024-07-11T21:33:23.072574Z"
    }
   },
   "id": "872654342869e1c9",
   "outputs": [],
   "execution_count": 12
  },
  {
   "cell_type": "code",
   "source": [
    "# casted with scaling function that depends on the total queue\n",
    "ldmodel = Network('model')\n",
    "node = np.empty(2, dtype=object)\n",
    "node[0] = Delay(ldmodel, 'Delay')\n",
    "node[1] = Queue(ldmodel, 'Queue1', SchedStrategy.FCFS)\n",
    "\n",
    "jobclass = ClosedClass(ldmodel, 'Class1', N, node[0], 0)\n",
    "\n",
    "node[0].setService(jobclass, Exp.fitMean(1.0)) # mean = 1\n",
    "node[1].setService(jobclass, Exp.fitMean(1.5)) # mean = 1.5\n",
    "\n",
    "node[1].setLoadDependence(np.minimum(np.arange(0,N,1),c)) # multi-server with c servers\n",
    "\n",
    "ldmodel.link(Network.serialRouting(node))\n",
    "\n",
    "#lldAvgTableCTMC=SolverCTMC(ldmodel).getAvgTable\n",
    "\n",
    "# TODO: not implemented yet in JLINE"
   ],
   "metadata": {
    "collapsed": false,
    "ExecuteTime": {
     "end_time": "2024-07-11T21:33:23.284722Z",
     "start_time": "2024-07-11T21:33:23.177779Z"
    }
   },
   "id": "3b4929fbdb789da7",
   "outputs": [],
   "execution_count": 13
  },
  {
   "metadata": {
    "ExecuteTime": {
     "end_time": "2024-07-11T21:33:23.447645Z",
     "start_time": "2024-07-11T21:33:23.287232Z"
    }
   },
   "cell_type": "code",
   "source": "lldAvgTableNC=SolverNC(ldmodel).getAvgTable()",
   "id": "171a4faf09e518e2",
   "outputs": [
    {
     "name": "stdout",
     "output_type": "stream",
     "text": [
      "  Station JobClass       QLen      Util  RespT  ResidT      ArvR      Tput\n",
      "0   Delay   Class1   1.333333  1.333333    1.0     1.0  1.333333  1.333333\n",
      "1  Queue1   Class1  14.666667  1.000000   11.0    11.0  1.333333  1.333333\n"
     ]
    }
   ],
   "execution_count": 14
  },
  {
   "metadata": {
    "ExecuteTime": {
     "end_time": "2024-07-11T21:33:23.562690Z",
     "start_time": "2024-07-11T21:33:23.449202Z"
    }
   },
   "cell_type": "code",
   "source": "lldAvgTableRD=SolverNC(ldmodel,'method','rd').getAvgTable()",
   "id": "c057d2f06c8a195a",
   "outputs": [
    {
     "name": "stdout",
     "output_type": "stream",
     "text": [
      "  Station JobClass       QLen      Util      RespT     ResidT      ArvR  \\\n",
      "0   Delay   Class1   1.324313  1.324313   1.000000   1.000000  1.324313   \n",
      "1  Queue1   Class1  14.675687  0.993235  11.081735  11.081735  1.324313   \n",
      "\n",
      "       Tput  \n",
      "0  1.324313  \n",
      "1  1.324313  \n"
     ]
    }
   ],
   "execution_count": 15
  },
  {
   "metadata": {
    "ExecuteTime": {
     "end_time": "2024-07-11T21:33:23.673353Z",
     "start_time": "2024-07-11T21:33:23.564118Z"
    }
   },
   "cell_type": "code",
   "source": "lldAvgTableNRP=SolverNC(ldmodel,'method','nrp').getAvgTable()",
   "id": "479058fc6045d8ca",
   "outputs": [
    {
     "name": "stdout",
     "output_type": "stream",
     "text": [
      "  Station JobClass       QLen      Util  RespT  ResidT      ArvR      Tput\n",
      "0   Delay   Class1   1.333333  1.333333    1.0     1.0  1.333333  1.333333\n",
      "1  Queue1   Class1  14.666667  1.000000   11.0    11.0  1.333333  1.333333\n"
     ]
    }
   ],
   "execution_count": 16
  },
  {
   "metadata": {
    "ExecuteTime": {
     "end_time": "2024-07-11T21:33:23.786967Z",
     "start_time": "2024-07-11T21:33:23.674799Z"
    }
   },
   "cell_type": "code",
   "source": "lldAvgTableNRL=SolverNC(ldmodel,'method','nrl').getAvgTable()",
   "id": "20401292f216d012",
   "outputs": [
    {
     "name": "stdout",
     "output_type": "stream",
     "text": [
      "  Station JobClass       QLen      Util      RespT     ResidT      ArvR  \\\n",
      "0   Delay   Class1   1.333357  1.333357   1.000000   1.000000  1.333357   \n",
      "1  Queue1   Class1  14.666643  1.000000  10.999787  10.999787  1.333357   \n",
      "\n",
      "       Tput  \n",
      "0  1.333357  \n",
      "1  1.333357  \n"
     ]
    }
   ],
   "execution_count": 17
  },
  {
   "metadata": {
    "ExecuteTime": {
     "end_time": "2024-07-11T21:33:23.876051Z",
     "start_time": "2024-07-11T21:33:23.788294Z"
    }
   },
   "cell_type": "code",
   "source": "lldAvgTableMVALD=SolverMVA(ldmodel,'method','exact').getAvgTable()",
   "id": "e5a0acb919526898",
   "outputs": [
    {
     "name": "stdout",
     "output_type": "stream",
     "text": [
      "  Station JobClass       QLen      Util  RespT  ResidT      ArvR      Tput\n",
      "0   Delay   Class1   1.333333  1.333333    1.0     1.0  1.333333  1.333333\n",
      "1  Queue1   Class1  14.666667  1.000000   11.0    11.0  1.333333  1.333333\n"
     ]
    }
   ],
   "execution_count": 18
  },
  {
   "metadata": {
    "ExecuteTime": {
     "end_time": "2024-07-11T21:33:23.969248Z",
     "start_time": "2024-07-11T21:33:23.877344Z"
    }
   },
   "cell_type": "code",
   "source": "lldAvgTableQD=SolverMVA(ldmodel,'method','qd').getAvgTable()",
   "id": "dc1f1ee1d02f4b22",
   "outputs": [
    {
     "name": "stdout",
     "output_type": "stream",
     "text": [
      "  Station JobClass       QLen      Util      RespT     ResidT      ArvR  \\\n",
      "0   Delay   Class1   1.325854  1.325851   1.000002   1.000002  1.325851   \n",
      "1  Queue1   Class1  14.674177  0.994390  11.067742  11.067742  1.325851   \n",
      "\n",
      "       Tput  \n",
      "0  1.325851  \n",
      "1  1.325851  \n"
     ]
    }
   ],
   "execution_count": 19
  },
  {
   "cell_type": "code",
   "source": [
    "# casted with scaling function that depends on the per-class queue population\n",
    "# cdmodel = Network('model');\n",
    "# node{1} = Delay(cdmodel, 'Delay');\n",
    "# node{2} = Queue(cdmodel, 'Queue1', SchedStrategy.FCFS);\n",
    "# jobclass{1} = ClosedClass(cdmodel, 'Class1', N, node{1}, 0);\n",
    "# node{1}.setService(jobclass{1}, Exp.fitMean(1.0)); % mean = 1\n",
    "# node{2}.setService(jobclass{1}, Exp.fitMean(1.5)); % mean = 1.5\n",
    "# node{2}.setClassDependence(@(ni) min(sum(ni),c)); % ni is a vector where ni(r) is the number of jobs in class r at station i\n",
    "# \n",
    "# cdmodel.link(Network.serialRouting(node));\n",
    "# \n",
    "# cdAvgTableCTMC=SolverCTMC(cdmodel).getAvgTable\n",
    "# cdAvgTableCD=SolverMVA(cdmodel,'method','qd').getAvgTable"
   ],
   "metadata": {
    "collapsed": false,
    "ExecuteTime": {
     "end_time": "2024-07-11T21:33:24.050086Z",
     "start_time": "2024-07-11T21:33:23.971767Z"
    }
   },
   "id": "initial_id",
   "outputs": [],
   "execution_count": 20
  }
 ],
 "metadata": {
  "kernelspec": {
   "display_name": "Python 3",
   "language": "python",
   "name": "python3"
  },
  "language_info": {
   "codemirror_mode": {
    "name": "ipython",
    "version": 2
   },
   "file_extension": ".py",
   "mimetype": "text/x-python",
   "name": "python",
   "nbconvert_exporter": "python",
   "pygments_lexer": "ipython2",
   "version": "2.7.6"
  }
 },
 "nbformat": 4,
 "nbformat_minor": 5
}
