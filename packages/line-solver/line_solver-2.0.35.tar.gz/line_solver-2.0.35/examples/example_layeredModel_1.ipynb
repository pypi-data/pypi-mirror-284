{
 "cells": [
  {
   "cell_type": "markdown",
   "source": [
    "WARNING: this example is not fully functional yet\n",
    "\n",
    "This example illustrates the execution on a layered queueing network model.\n",
    "Performance indexes now refer to processors, tasks, entries, and activities.\n",
    "Indexes refer to the submodel (layer) where the processor or task acts as a server.\n",
    "NaN indexes indicate that the metric is not supported by the node type."
   ],
   "metadata": {
    "collapsed": false
   }
  },
  {
   "cell_type": "code",
   "metadata": {
    "ExecuteTime": {
     "end_time": "2024-07-11T21:33:19.121409Z",
     "start_time": "2024-07-11T21:33:19.117483Z"
    }
   },
   "source": [
    "from line_solver import *\n",
    "GlobalConstants.setVerbose(VerboseLevel.STD)"
   ],
   "outputs": [],
   "execution_count": 3
  },
  {
   "cell_type": "code",
   "source": [
    "model = LayeredNetwork('myLayeredModel')\n",
    "P = np.empty(2, dtype=object)\n",
    "P[0] = Processor(model, 'P1', 1, SchedStrategy.PS)\n",
    "P[1] = Processor(model, 'P2', 1, SchedStrategy.PS)\n",
    "T = np.empty(2, dtype=object)\n",
    "T[0] = Task(model, 'T1', 10, SchedStrategy.REF).on(P[0]).setThinkTime(Exp.fitMean(100))\n",
    "T[1] = Task(model, 'T2', 1, SchedStrategy.FCFS).on(P[1]).setThinkTime(Immediate())\n",
    "E = np.empty(2, dtype=object)\n",
    "E[0] = Entry(model, 'E1').on(T[0])\n",
    "E[1] = Entry(model, 'E2').on(T[1])\n",
    "A = np.empty(4, dtype=object)\n",
    "A[0] = Activity(model, 'AS1', Exp.fitMean(1.6)).on(T[0]).boundTo(E[0])\n",
    "A[1] = Activity(model, 'AS2', Immediate()).on(T[0]).synchCall(E[1],1)\n",
    "A[2] = Activity(model, 'AS3', Exp.fitMean(5)).on(T[1]).boundTo(E[1])\n",
    "A[3] = Activity(model, 'AS4', Exp.fitMean(1)).on(T[1]).repliesTo(E[1])\n",
    "T[0].addPrecedence(ActivityPrecedence.Sequence(A[0], A[1]))\n",
    "T[1].addPrecedence(ActivityPrecedence.Serial(A[2], A[3]))\n",
    "\n",
    "SolverLQNS(model).getAvgTable()"
   ],
   "metadata": {
    "collapsed": false,
    "ExecuteTime": {
     "end_time": "2024-07-11T21:33:19.299950Z",
     "start_time": "2024-07-11T21:33:19.123973Z"
    }
   },
   "outputs": [
    {
     "ename": "java.lang.ClassCastException",
     "evalue": "java.lang.ClassCastException: class jline.lang.layered.Activity cannot be cast to class java.lang.String (jline.lang.layered.Activity is in unnamed module of loader org.jpype.classloader.DynamicClassLoader @24d46ca6; java.lang.String is in module java.base of loader 'bootstrap')",
     "output_type": "error",
     "traceback": [
      "\u001B[0;31m---------------------------------------------------------------------------\u001B[0m",
      "\u001B[0;31mException\u001B[0m                                 Traceback (most recent call last)",
      "\u001B[0;32m/usr/local/lib/python3.10/dist-packages/_jpype.cpython-310-x86_64-linux-gnu.so\u001B[0m in \u001B[0;36mjline.lang.layered.ActivityPrecedence.Serial\u001B[0;34m()\u001B[0m\n",
      "\u001B[0;31mException\u001B[0m: Java Exception",
      "\nThe above exception was the direct cause of the following exception:\n",
      "\u001B[0;31mjava.lang.ClassCastException\u001B[0m              Traceback (most recent call last)",
      "\u001B[0;32m/tmp/ipykernel_1595154/692364924.py\u001B[0m in \u001B[0;36m<module>\u001B[0;34m\u001B[0m\n\u001B[1;32m     15\u001B[0m \u001B[0mA\u001B[0m\u001B[0;34m[\u001B[0m\u001B[0;36m3\u001B[0m\u001B[0;34m]\u001B[0m \u001B[0;34m=\u001B[0m \u001B[0mActivity\u001B[0m\u001B[0;34m(\u001B[0m\u001B[0mmodel\u001B[0m\u001B[0;34m,\u001B[0m \u001B[0;34m'AS4'\u001B[0m\u001B[0;34m,\u001B[0m \u001B[0mExp\u001B[0m\u001B[0;34m.\u001B[0m\u001B[0mfitMean\u001B[0m\u001B[0;34m(\u001B[0m\u001B[0;36m1\u001B[0m\u001B[0;34m)\u001B[0m\u001B[0;34m)\u001B[0m\u001B[0;34m.\u001B[0m\u001B[0mon\u001B[0m\u001B[0;34m(\u001B[0m\u001B[0mT\u001B[0m\u001B[0;34m[\u001B[0m\u001B[0;36m1\u001B[0m\u001B[0;34m]\u001B[0m\u001B[0;34m)\u001B[0m\u001B[0;34m.\u001B[0m\u001B[0mrepliesTo\u001B[0m\u001B[0;34m(\u001B[0m\u001B[0mE\u001B[0m\u001B[0;34m[\u001B[0m\u001B[0;36m1\u001B[0m\u001B[0;34m]\u001B[0m\u001B[0;34m)\u001B[0m\u001B[0;34m\u001B[0m\u001B[0;34m\u001B[0m\u001B[0m\n\u001B[1;32m     16\u001B[0m \u001B[0mT\u001B[0m\u001B[0;34m[\u001B[0m\u001B[0;36m0\u001B[0m\u001B[0;34m]\u001B[0m\u001B[0;34m.\u001B[0m\u001B[0maddPrecedence\u001B[0m\u001B[0;34m(\u001B[0m\u001B[0mActivityPrecedence\u001B[0m\u001B[0;34m.\u001B[0m\u001B[0mSequence\u001B[0m\u001B[0;34m(\u001B[0m\u001B[0mA\u001B[0m\u001B[0;34m[\u001B[0m\u001B[0;36m0\u001B[0m\u001B[0;34m]\u001B[0m\u001B[0;34m,\u001B[0m \u001B[0mA\u001B[0m\u001B[0;34m[\u001B[0m\u001B[0;36m1\u001B[0m\u001B[0;34m]\u001B[0m\u001B[0;34m)\u001B[0m\u001B[0;34m)\u001B[0m\u001B[0;34m\u001B[0m\u001B[0;34m\u001B[0m\u001B[0m\n\u001B[0;32m---> 17\u001B[0;31m \u001B[0mT\u001B[0m\u001B[0;34m[\u001B[0m\u001B[0;36m1\u001B[0m\u001B[0;34m]\u001B[0m\u001B[0;34m.\u001B[0m\u001B[0maddPrecedence\u001B[0m\u001B[0;34m(\u001B[0m\u001B[0mActivityPrecedence\u001B[0m\u001B[0;34m.\u001B[0m\u001B[0mSerial\u001B[0m\u001B[0;34m(\u001B[0m\u001B[0mA\u001B[0m\u001B[0;34m[\u001B[0m\u001B[0;36m2\u001B[0m\u001B[0;34m]\u001B[0m\u001B[0;34m,\u001B[0m \u001B[0mA\u001B[0m\u001B[0;34m[\u001B[0m\u001B[0;36m3\u001B[0m\u001B[0;34m]\u001B[0m\u001B[0;34m)\u001B[0m\u001B[0;34m)\u001B[0m\u001B[0;34m\u001B[0m\u001B[0;34m\u001B[0m\u001B[0m\n\u001B[0m\u001B[1;32m     18\u001B[0m \u001B[0;34m\u001B[0m\u001B[0m\n\u001B[1;32m     19\u001B[0m \u001B[0mSolverLQNS\u001B[0m\u001B[0;34m(\u001B[0m\u001B[0mmodel\u001B[0m\u001B[0;34m)\u001B[0m\u001B[0;34m.\u001B[0m\u001B[0mgetAvgTable\u001B[0m\u001B[0;34m(\u001B[0m\u001B[0;34m)\u001B[0m\u001B[0;34m\u001B[0m\u001B[0;34m\u001B[0m\u001B[0m\n",
      "\u001B[0;32m~/Dropbox/code/line-solver.git/python/line_solver/layered.py\u001B[0m in \u001B[0;36mSerial\u001B[0;34m(act0, act1)\u001B[0m\n\u001B[1;32m    218\u001B[0m     \u001B[0;34m@\u001B[0m\u001B[0mstaticmethod\u001B[0m\u001B[0;34m\u001B[0m\u001B[0;34m\u001B[0m\u001B[0m\n\u001B[1;32m    219\u001B[0m     \u001B[0;32mdef\u001B[0m \u001B[0mSerial\u001B[0m\u001B[0;34m(\u001B[0m\u001B[0mact0\u001B[0m\u001B[0;34m,\u001B[0m \u001B[0mact1\u001B[0m\u001B[0;34m)\u001B[0m\u001B[0;34m:\u001B[0m\u001B[0;34m\u001B[0m\u001B[0;34m\u001B[0m\u001B[0m\n\u001B[0;32m--> 220\u001B[0;31m         return jpype.JPackage('jline').lang.layered.ActivityPrecedence.Serial(\n\u001B[0m\u001B[1;32m    221\u001B[0m             jpype.java.util.ArrayList((act0.obj, act1.obj)))\n\u001B[1;32m    222\u001B[0m \u001B[0;34m\u001B[0m\u001B[0m\n",
      "\u001B[0;31mjava.lang.ClassCastException\u001B[0m: java.lang.ClassCastException: class jline.lang.layered.Activity cannot be cast to class java.lang.String (jline.lang.layered.Activity is in unnamed module of loader org.jpype.classloader.DynamicClassLoader @24d46ca6; java.lang.String is in module java.base of loader 'bootstrap')"
     ]
    }
   ],
   "execution_count": 4
  },
  {
   "cell_type": "code",
   "source": [
    "# options = SolverLQNS.defaultOptions\n",
    "# options.keep = True # uncomment to keep the intermediate XML files generates while translating the model to LQNS\n",
    "#\n",
    "# solver[0] = SolverLQNS(model)\n",
    "# AvgTable[0] = solver[0].getAvgTable()\n",
    "# AvgTable[0]\n",
    "#\n",
    "# useLQNSnaming = true\n",
    "# AvgTable[1] = solver[0].getAvgTable(useLQNSnaming)\n",
    "# AvgTable[1]\n",
    "#\n",
    "#\n",
    "# useLQNSnaming = true\n",
    "# [AvgTable[2], CallAvgTable[2]] = solver[0].getRawAvgTables()\n",
    "# AvgTable[2]\n",
    "# CallAvgTable[2]\n",
    "#\n",
    "# AvgTable[3]=SolverLN(model).getAvgTable"
   ],
   "metadata": {
    "collapsed": false
   },
   "outputs": [],
   "execution_count": null
  }
 ],
 "metadata": {
  "kernelspec": {
   "display_name": "Python 3",
   "language": "python",
   "name": "python3"
  },
  "language_info": {
   "codemirror_mode": {
    "name": "ipython",
    "version": 3
   },
   "file_extension": ".py",
   "mimetype": "text/x-python",
   "name": "python",
   "nbconvert_exporter": "python",
   "pygments_lexer": "ipython3",
   "version": "3.6.4"
  }
 },
 "nbformat": 4,
 "nbformat_minor": 2
}
