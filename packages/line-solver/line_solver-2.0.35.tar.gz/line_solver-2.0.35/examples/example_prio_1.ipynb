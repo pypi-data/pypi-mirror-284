{
 "cells": [
  {
   "cell_type": "code",
   "id": "initial_id",
   "metadata": {
    "collapsed": true,
    "ExecuteTime": {
     "end_time": "2024-07-11T21:33:46.409378Z",
     "start_time": "2024-07-11T21:33:45.387252Z"
    }
   },
   "source": [
    "from line_solver import *\n",
    "GlobalConstants.setVerbose(VerboseLevel.STD)"
   ],
   "outputs": [],
   "execution_count": 1
  },
  {
   "cell_type": "code",
   "source": [
    "# multiclass example with PS, SIRO, FCFS, HOL priority\n",
    "model = Network('MyNetwork')\n",
    "\n",
    "# Block 1: nodes\n",
    "node = np.empty(6, dtype=object)\n",
    "node[0] = Source(model, 'Source')\n",
    "node[1] = Queue(model, 'Queue1', SchedStrategy.PS)\n",
    "node[2] = Queue(model, 'Queue2', SchedStrategy.PS)\n",
    "node[3] = Queue(model, 'Queue3', SchedStrategy.PS)\n",
    "node[4] = Queue(model, 'Queue4', SchedStrategy.PS)\n",
    "node[5] = Sink(model, 'Sink')\n",
    "\n",
    "# Block 2: classes\n",
    "jobclass = np.empty(3, dtype=object)\n",
    "jobclass[0] = OpenClass(model, 'Class1', 0)\n",
    "jobclass[1] = OpenClass(model, 'Class2', 1) # higher priority\n",
    "jobclass[2] = OpenClass(model, 'Class3', 0)\n",
    "\n",
    "node[0].setArrival(jobclass[0], Exp.fitMean(10.0)) # (Source of Customers,Class0)\n",
    "node[0].setArrival(jobclass[1], Exp.fitMean(10.0)) # (Source of Customers,Class1)\n",
    "node[0].setArrival(jobclass[2], Exp.fitMean(10.0)) # (Source of Customers,Class2)\n",
    "node[1].setService(jobclass[0], Exp.fitMean(0.3)) # (WebServer,Class0)\n",
    "node[1].setService(jobclass[1], Exp.fitMean(0.5)) # (WebServer,Class1)\n",
    "node[1].setService(jobclass[2], Exp.fitMean(0.6)) # (WebServer,Class2)\n",
    "node[2].setService(jobclass[0], Exp.fitMean(1.1)) # (Storage1,Class0)\n",
    "node[2].setService(jobclass[1], Exp.fitMean(1.3)) # (Storage1,Class1)\n",
    "node[2].setService(jobclass[2], Exp.fitMean(1.5)) # (Storage1,Class2)\n",
    "node[3].setService(jobclass[0], Exp.fitMean(2.0)) # (Storage2,Class0)\n",
    "node[3].setService(jobclass[1], Exp.fitMean(2.1)) # (Storage2,Class1)\n",
    "node[3].setService(jobclass[2], Exp.fitMean(1.9)) # (Storage2,Class2)\n",
    "node[4].setService(jobclass[0], Exp.fitMean(2.5)) # (Storage3,Class0)\n",
    "node[4].setService(jobclass[1], Exp.fitMean(1.9)) # (Storage3,Class1)\n",
    "node[4].setService(jobclass[2], Exp.fitMean(4.3)) # (Storage3,Class2)\n",
    "\n",
    "# Block 3: topology\n",
    "P = model.initRoutingMatrix() # initialize routing matrix \n",
    "P.set(jobclass[0],jobclass[0],node[0],node[1], 1.0) # (Source of Customers,Class0) -> (WebServer,Class0)\n",
    "P.set(jobclass[0],jobclass[0],node[1],node[2], 2.50e-01) # (WebServer,Class0) -> (Storage1,Class0)\n",
    "P.set(jobclass[0],jobclass[0],node[1],node[3], 2.50e-01) # (WebServer,Class0) -> (Storage2,Class0)\n",
    "P.set(jobclass[0],jobclass[0],node[1],node[4], 2.50e-01) # (WebServer,Class0) -> (Storage3,Class0)\n",
    "P.set(jobclass[0],jobclass[0],node[1],node[5], 2.50e-01) # (WebServer,Class0) -> (Out,Class0)\n",
    "P.set(jobclass[0],jobclass[0],node[2],node[1], 1.0) # (Storage1,Class0) -> (WebServer,Class0)\n",
    "P.set(jobclass[0],jobclass[0],node[3],node[1], 1.0) # (Storage2,Class0) -> (WebServer,Class0)\n",
    "P.set(jobclass[0],jobclass[0],node[4],node[1], 1.0) # (Storage3,Class0) -> (WebServer,Class0)\n",
    "P.set(jobclass[1],jobclass[1],node[0],node[1], 1.0) # (Source of Customers,Class1) -> (WebServer,Class1)\n",
    "P.set(jobclass[1],jobclass[1],node[1],node[2],2.50e-01) # (WebServer,Class1) -> (Storage1,Class1)\n",
    "P.set(jobclass[1],jobclass[1],node[1],node[3],2.50e-01) # (WebServer,Class1) -> (Storage2,Class1)\n",
    "P.set(jobclass[1],jobclass[1],node[1],node[4],2.50e-01) # (WebServer,Class1) -> (Storage3,Class1)\n",
    "P.set(jobclass[1],jobclass[1],node[1],node[5],2.50e-01) # (WebServer,Class1) -> (Out,Class1)\n",
    "P.set(jobclass[1],jobclass[1],node[2],node[1],1.0) # (Storage1,Class1) -> (WebServer,Class1)\n",
    "P.set(jobclass[1],jobclass[1],node[3],node[1],1.0) # (Storage2,Class1) -> (WebServer,Class1)\n",
    "P.set(jobclass[1],jobclass[1],node[4],node[1],1.0) # (Storage3,Class1) -> (WebServer,Class1)\n",
    "P.set(jobclass[2],jobclass[2],node[0],node[1],1.0) # (Source of Customers,Class2) -> (WebServer,Class2)\n",
    "P.set(jobclass[2],jobclass[2],node[1],node[2],2.50e-01) # (WebServer,Class2) -> (Storage1,Class2)\n",
    "P.set(jobclass[2],jobclass[2],node[1],node[3],2.50e-01) # (WebServer,Class2) -> (Storage2,Class2)\n",
    "P.set(jobclass[2],jobclass[2],node[1],node[4],2.50e-01) # (WebServer,Class2) -> (Storage3,Class2)\n",
    "P.set(jobclass[2],jobclass[2],node[1],node[5],2.50e-01) # (WebServer,Class2) -> (Out,Class2)\n",
    "P.set(jobclass[2],jobclass[2],node[2],node[1],1.0) # (Storage1,Class2) -> (WebServer,Class2)\n",
    "P.set(jobclass[2],jobclass[2],node[3],node[1],1.0) # (Storage2,Class2) -> (WebServer,Class2)\n",
    "P.set(jobclass[2],jobclass[2],node[4],node[1],1.0) # (Storage3,Class2) -> (WebServer,Class2)\n",
    "model.link(P)"
   ],
   "metadata": {
    "collapsed": false,
    "ExecuteTime": {
     "end_time": "2024-07-11T21:33:46.441941Z",
     "start_time": "2024-07-11T21:33:46.411020Z"
    }
   },
   "id": "2d0af03a60ffaab4",
   "outputs": [],
   "execution_count": 2
  },
  {
   "cell_type": "code",
   "source": [
    "#solver = SolverCTMC(model,'keep',True)\n",
    "#AvgTable = solver.getAvgTable()\n",
    "#print(AvgTable)"
   ],
   "metadata": {
    "collapsed": false,
    "ExecuteTime": {
     "end_time": "2024-07-11T21:33:46.547461Z",
     "start_time": "2024-07-11T21:33:46.443084Z"
    }
   },
   "id": "b1ed1c4bc0a10843",
   "outputs": [],
   "execution_count": 3
  },
  {
   "cell_type": "code",
   "source": [
    "solver = SolverFluid(model)\n",
    "AvgTable = solver.getAvgTable()\n",
    "print(AvgTable)"
   ],
   "metadata": {
    "collapsed": false,
    "ExecuteTime": {
     "end_time": "2024-07-11T21:33:46.956208Z",
     "start_time": "2024-07-11T21:33:46.549021Z"
    }
   },
   "id": "e8d3f346ea510596",
   "outputs": [
    {
     "name": "stdout",
     "output_type": "stream",
     "text": [
      "   Station JobClass  QLen  Util  RespT  ResidT  ArvR  Tput\n",
      "0   Source   Class1  0.00  0.00    0.0     0.0   0.0   0.1\n",
      "1   Source   Class2  0.00  0.00    0.0     0.0   0.0   0.1\n",
      "2   Source   Class3  0.00  0.00    0.0     0.0   0.0   0.1\n",
      "3   Queue1   Class1  0.12  0.12    0.3     1.2   0.0   0.4\n",
      "4   Queue1   Class2  0.20  0.20    0.5     2.0   0.0   0.4\n",
      "5   Queue1   Class3  0.24  0.24    0.6     2.4   0.0   0.4\n",
      "6   Queue2   Class1  0.11  0.11    1.1     1.1   0.0   0.1\n",
      "7   Queue2   Class2  0.13  0.13    1.3     1.3   0.0   0.1\n",
      "8   Queue2   Class3  0.15  0.15    1.5     1.5   0.0   0.1\n",
      "9   Queue3   Class1  0.20  0.20    2.0     2.0   0.0   0.1\n",
      "10  Queue3   Class2  0.21  0.21    2.1     2.1   0.0   0.1\n",
      "11  Queue3   Class3  0.19  0.19    1.9     1.9   0.0   0.1\n",
      "12  Queue4   Class1  0.25  0.25    2.5     2.5   0.0   0.1\n",
      "13  Queue4   Class2  0.19  0.19    1.9     1.9   0.0   0.1\n",
      "14  Queue4   Class3  0.43  0.43    4.3     4.3   0.0   0.1\n",
      "   Station JobClass  QLen  Util  RespT  ResidT  ArvR  Tput\n",
      "0   Source   Class1  0.00  0.00    0.0     0.0   0.0   0.1\n",
      "1   Source   Class2  0.00  0.00    0.0     0.0   0.0   0.1\n",
      "2   Source   Class3  0.00  0.00    0.0     0.0   0.0   0.1\n",
      "3   Queue1   Class1  0.12  0.12    0.3     1.2   0.0   0.4\n",
      "4   Queue1   Class2  0.20  0.20    0.5     2.0   0.0   0.4\n",
      "5   Queue1   Class3  0.24  0.24    0.6     2.4   0.0   0.4\n",
      "6   Queue2   Class1  0.11  0.11    1.1     1.1   0.0   0.1\n",
      "7   Queue2   Class2  0.13  0.13    1.3     1.3   0.0   0.1\n",
      "8   Queue2   Class3  0.15  0.15    1.5     1.5   0.0   0.1\n",
      "9   Queue3   Class1  0.20  0.20    2.0     2.0   0.0   0.1\n",
      "10  Queue3   Class2  0.21  0.21    2.1     2.1   0.0   0.1\n",
      "11  Queue3   Class3  0.19  0.19    1.9     1.9   0.0   0.1\n",
      "12  Queue4   Class1  0.25  0.25    2.5     2.5   0.0   0.1\n",
      "13  Queue4   Class2  0.19  0.19    1.9     1.9   0.0   0.1\n",
      "14  Queue4   Class3  0.43  0.43    4.3     4.3   0.0   0.1\n"
     ]
    }
   ],
   "execution_count": 4
  },
  {
   "cell_type": "code",
   "source": [
    "solver = SolverMVA(model)\n",
    "AvgTable = solver.getAvgTable()"
   ],
   "metadata": {
    "collapsed": false,
    "ExecuteTime": {
     "end_time": "2024-07-11T21:33:46.991159Z",
     "start_time": "2024-07-11T21:33:46.958064Z"
    }
   },
   "id": "fd4b2c4a6564d3b9",
   "outputs": [
    {
     "name": "stdout",
     "output_type": "stream",
     "text": [
      "   Station JobClass      QLen  Util      RespT     ResidT  ArvR  Tput\n",
      "0   Source   Class1  0.000000  0.00   0.000000   0.000000   0.0   0.1\n",
      "1   Source   Class2  0.000000  0.00   0.000000   0.000000   0.0   0.1\n",
      "2   Source   Class3  0.000000  0.00   0.000000   0.000000   0.0   0.1\n",
      "3   Queue1   Class1  0.272727  0.12   0.681818   2.727273   0.0   0.4\n",
      "4   Queue1   Class2  0.454545  0.20   1.136364   4.545455   0.0   0.4\n",
      "5   Queue1   Class3  0.545455  0.24   1.363636   5.454545   0.0   0.4\n",
      "6   Queue2   Class1  0.180327  0.11   1.803273   1.803273   0.0   0.1\n",
      "7   Queue2   Class2  0.213114  0.13   2.131141   2.131141   0.0   0.1\n",
      "8   Queue2   Class3  0.245901  0.15   2.459009   2.459009   0.0   0.1\n",
      "9   Queue3   Class1  0.500000  0.20   5.000000   5.000000   0.0   0.1\n",
      "10  Queue3   Class2  0.525000  0.21   5.250000   5.250000   0.0   0.1\n",
      "11  Queue3   Class3  0.475000  0.19   4.750000   4.750000   0.0   0.1\n",
      "12  Queue4   Class1  1.922673  0.25  19.226730  19.226730   0.0   0.1\n",
      "13  Queue4   Class2  1.461232  0.19  14.612315  14.612315   0.0   0.1\n",
      "14  Queue4   Class3  3.306998  0.43  33.069976  33.069976   0.0   0.1\n"
     ]
    }
   ],
   "execution_count": 5
  },
  {
   "cell_type": "code",
   "source": [
    "solver = SolverJMT(model,'seed',23000,'verbose',False,'keep',True)\n",
    "AvgTable = solver.getAvgTable()"
   ],
   "metadata": {
    "collapsed": false,
    "ExecuteTime": {
     "end_time": "2024-07-11T21:33:49.388411Z",
     "start_time": "2024-07-11T21:33:46.992139Z"
    }
   },
   "id": "19b311ca76098e3c",
   "outputs": [
    {
     "name": "stdout",
     "output_type": "stream",
     "text": [
      "   Station JobClass      QLen      Util      RespT     ResidT      ArvR  \\\n",
      "0   Source   Class1  0.000000  0.000000   0.000000   0.000000  0.000000   \n",
      "1   Source   Class2  0.000000  0.000000   0.000000   0.000000  0.000000   \n",
      "2   Source   Class3  0.000000  0.000000   0.000000   0.000000  0.000000   \n",
      "3   Queue1   Class1  0.272946  0.109849   0.685192   2.740767  0.411521   \n",
      "4   Queue1   Class2  0.443453  0.195966   1.126348   4.505393  0.400662   \n",
      "5   Queue1   Class3  0.544284  0.279279   1.321805   5.287220  0.392897   \n",
      "6   Queue2   Class1  0.172218  0.107052   1.743767   1.743767  0.099794   \n",
      "7   Queue2   Class2  0.218298  0.127632   2.079977   2.079977  0.100480   \n",
      "8   Queue2   Class3  0.227148  0.138931   2.378850   2.378850  0.098998   \n",
      "9   Queue3   Class1  0.481973  0.206447   4.971708   4.971708  0.099193   \n",
      "10  Queue3   Class2  0.528716  0.184165   4.879341   4.879341  0.104556   \n",
      "11  Queue3   Class3  0.466755  0.185637   4.462205   4.462205  0.099989   \n",
      "12  Queue4   Class1  1.689345  0.258528  16.069665  16.069665  0.096386   \n",
      "13  Queue4   Class2  1.377679  0.179762  13.072399  13.072399  0.103000   \n",
      "14  Queue4   Class3  2.951920  0.419651  27.144182  27.144182  0.100874   \n",
      "\n",
      "        Tput  \n",
      "0   0.101025  \n",
      "1   0.098272  \n",
      "2   0.100770  \n",
      "3   0.411499  \n",
      "4   0.400685  \n",
      "5   0.387063  \n",
      "6   0.099889  \n",
      "7   0.098909  \n",
      "8   0.098996  \n",
      "9   0.099080  \n",
      "10  0.103405  \n",
      "11  0.100020  \n",
      "12  0.096283  \n",
      "13  0.103357  \n",
      "14  0.101082  \n"
     ]
    }
   ],
   "execution_count": 6
  }
 ],
 "metadata": {
  "kernelspec": {
   "display_name": "Python 3",
   "language": "python",
   "name": "python3"
  },
  "language_info": {
   "codemirror_mode": {
    "name": "ipython",
    "version": 2
   },
   "file_extension": ".py",
   "mimetype": "text/x-python",
   "name": "python",
   "nbconvert_exporter": "python",
   "pygments_lexer": "ipython2",
   "version": "2.7.6"
  }
 },
 "nbformat": 4,
 "nbformat_minor": 5
}
