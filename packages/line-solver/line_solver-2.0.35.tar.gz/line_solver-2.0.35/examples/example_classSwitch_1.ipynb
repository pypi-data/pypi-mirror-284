{
 "cells": [
  {
   "metadata": {},
   "cell_type": "markdown",
   "source": [
    "A basic M/M/1 with explicit definition of a classwitch node\n",
    "Recommended ClassSwitch declaration style"
   ],
   "id": "c2b0c0e34d2649ad"
  },
  {
   "cell_type": "code",
   "source": [
    "from line_solver import *\n",
    "GlobalConstants.setVerbose(VerboseLevel.STD)"
   ],
   "metadata": {
    "collapsed": false,
    "ExecuteTime": {
     "end_time": "2024-07-11T21:33:01.545984Z",
     "start_time": "2024-07-11T21:33:01.542285Z"
    }
   },
   "id": "1b0f9c5a8ccd35c7",
   "outputs": [],
   "execution_count": 7
  },
  {
   "cell_type": "code",
   "source": [
    "model = Network('mm1cs')\n",
    "\n",
    "# Block 1: nodes\n",
    "node = np.empty(4, dtype=object)\n",
    "node[0] = Source(model, 'Source 1')\n",
    "node[1] = Queue(model, 'Queue 1', SchedStrategy.FCFS)\n",
    "node[2] = Sink(model, 'Sink 1')\n",
    "node[3] = ClassSwitch(model, 'ClassSwitch 1')\n",
    "\n",
    "# Block 2: classes\n",
    "jobclass = np.empty(2, dtype=object)\n",
    "jobclass[0] = OpenClass(model, 'Class1', 0)\n",
    "jobclass[1] = OpenClass(model, 'Class2', 0)\n",
    "\n",
    "node[0].setArrival(jobclass[0], Exp.fitMean(10.00)) # (Source 1,Class1)\n",
    "node[0].setArrival(jobclass[1], Exp.fitMean(2.00)) # (Source 1,Class2)\n",
    "\n",
    "node[1].setService(jobclass[0], Exp.fitMean(1.00)) # (Queue 1,Class1)\n",
    "node[1].setService(jobclass[1], Exp.fitMean(1.00)) # (Queue 1,Class2)\n"
   ],
   "metadata": {
    "collapsed": false,
    "ExecuteTime": {
     "end_time": "2024-07-11T21:33:01.667707Z",
     "start_time": "2024-07-11T21:33:01.549500Z"
    }
   },
   "id": "c764847f8cd95da4",
   "outputs": [],
   "execution_count": 8
  },
  {
   "cell_type": "code",
   "source": [
    "# Block 3: topology\n",
    "# The class switching matrix can now be declared after the classes, so the\n",
    "# ClassSwitch node can be declared outside Block 1.\n",
    "\n",
    "csmatrix = node[3].initClassSwitchMatrix() # element (i,j) = probability that class i switches to j\n",
    "csmatrix[jobclass[0]][jobclass[0]] = 0.3\n",
    "csmatrix[jobclass[0]][jobclass[1]] = 0.7\n",
    "csmatrix[jobclass[1]][jobclass[0]] = 1.0\n",
    "csmatrix[jobclass[1]][jobclass[1]] = 0.0\n",
    "node[3].setClassSwitchingMatrix(csmatrix)\n",
    "\n",
    "P = model.initRoutingMatrix() # initialize routing matrix\n",
    "P.set(jobclass[0],jobclass[0],node[0],node[3],1.0) # (Source 1,Class1) -> (ClassSwitch 1,Class1)\n",
    "P.set(jobclass[0],jobclass[0],node[1],node[2],1.0) # (Queue 1,Class1) -> (Sink 1,Class1)\n",
    "P.set(jobclass[0],jobclass[0],node[3],node[1],1.0) # (ClassSwitch 1,Class1) -> (Queue 1,Class1)\n",
    "P.set(jobclass[1],jobclass[1],node[0],node[3],1.0) # (Source 1,Class2) -> (ClassSwitch 1,Class2)\n",
    "P.set(jobclass[1],jobclass[1],node[1],node[2],1.0) # (Queue 1,Class2) -> (Sink 1,Class2)\n",
    "P.set(jobclass[1],jobclass[1],node[3],node[1],1.0) # (ClassSwitch 1,Class2) -> (Queue 1,Class2)\n",
    "model.link(P)\n",
    "\n",
    "model.printRoutingMatrix()"
   ],
   "metadata": {
    "collapsed": false,
    "ExecuteTime": {
     "end_time": "2024-07-11T21:33:01.801844Z",
     "start_time": "2024-07-11T21:33:01.669844Z"
    }
   },
   "id": "5fcade5ed686b00b",
   "outputs": [
    {
     "name": "stdout",
     "output_type": "stream",
     "text": [
      "Source 1 [Class1] => ClassSwitch 1 [Class1] : Pr=1.0\n",
      "Source 1 [Class2] => ClassSwitch 1 [Class2] : Pr=1.0\n",
      "Queue 1 [Class1] => Sink 1 [Class1] : Pr=1.0\n",
      "Queue 1 [Class2] => Sink 1 [Class2] : Pr=1.0\n",
      "Sink 1 [Class1] => Source 1 [Class1] : Pr=0.16666666666666669\n",
      "Sink 1 [Class1] => Source 1 [Class2] : Pr=0.8333333333333334\n",
      "Sink 1 [Class2] => Source 1 [Class1] : Pr=0.16666666666666669\n",
      "Sink 1 [Class2] => Source 1 [Class2] : Pr=0.8333333333333334\n",
      "ClassSwitch 1 [Class1] => Queue 1 [Class1] : Pr=0.3\n",
      "ClassSwitch 1 [Class1] => Queue 1 [Class2] : Pr=0.7\n",
      "ClassSwitch 1 [Class2] => Queue 1 [Class1] : Pr=1.0\n"
     ]
    }
   ],
   "execution_count": 9
  },
  {
   "cell_type": "code",
   "source": "AvgTable = SolverMVA(model).getAvgTable()",
   "metadata": {
    "collapsed": false,
    "ExecuteTime": {
     "end_time": "2024-07-11T21:33:01.901811Z",
     "start_time": "2024-07-11T21:33:01.803565Z"
    }
   },
   "id": "8e0b3e924e49f205",
   "outputs": [
    {
     "name": "stdout",
     "output_type": "stream",
     "text": [
      "    Station JobClass      QLen  Util     RespT    ResidT  ArvR  Tput\n",
      "0  Source 1   Class1  0.000000  0.00  0.000000  0.000000  0.00  0.10\n",
      "1  Source 1   Class2  0.000000  0.00  0.000000  0.000000  0.00  0.50\n",
      "2   Queue 1   Class1  1.324859  0.53  2.499734  2.208099  0.53  0.53\n",
      "3   Queue 1   Class2  0.174981  0.07  2.499734  0.291636  0.07  0.07\n"
     ]
    }
   ],
   "execution_count": 10
  },
  {
   "cell_type": "code",
   "source": "AvgSysTable = SolverMVA(model).getAvgSysTable()",
   "metadata": {
    "collapsed": false,
    "ExecuteTime": {
     "end_time": "2024-07-11T21:33:02.007399Z",
     "start_time": "2024-07-11T21:33:01.903572Z"
    }
   },
   "id": "1f0ed31e7d595f28",
   "outputs": [
    {
     "name": "stdout",
     "output_type": "stream",
     "text": [
      "    Chain       JobClasses  SysRespT  SysTput\n",
      "0  Chain1  (Class1 Class2)  2.499734      0.6\n"
     ]
    }
   ],
   "execution_count": 11
  },
  {
   "metadata": {
    "ExecuteTime": {
     "end_time": "2024-07-11T21:33:02.122496Z",
     "start_time": "2024-07-11T21:33:02.009890Z"
    }
   },
   "cell_type": "code",
   "source": "AvgChainTable = SolverMVA(model).getAvgChainTable()",
   "id": "d0922fa16f57fc10",
   "outputs": [
    {
     "name": "stdout",
     "output_type": "stream",
     "text": [
      "    Station   Chain     QLen  Util     RespT    ResidT  ArvR  Tput\n",
      "0  Source 1  Chain1  0.00000   0.0  0.000000  0.000000   0.0   0.6\n",
      "1   Queue 1  Chain1  1.49984   0.6  2.499734  2.499734   0.6   0.6\n"
     ]
    }
   ],
   "execution_count": 12
  }
 ],
 "metadata": {
  "kernelspec": {
   "display_name": "Python 3",
   "language": "python",
   "name": "python3"
  },
  "language_info": {
   "codemirror_mode": {
    "name": "ipython",
    "version": 2
   },
   "file_extension": ".py",
   "mimetype": "text/x-python",
   "name": "python",
   "nbconvert_exporter": "python",
   "pygments_lexer": "ipython2",
   "version": "2.7.6"
  }
 },
 "nbformat": 4,
 "nbformat_minor": 5
}
