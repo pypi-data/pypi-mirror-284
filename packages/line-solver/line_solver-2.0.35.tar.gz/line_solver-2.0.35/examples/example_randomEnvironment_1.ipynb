{
 "cells": [
  {
   "cell_type": "markdown",
   "source": [],
   "metadata": {
    "collapsed": false
   },
   "id": "44e994d9e720b17f"
  },
  {
   "cell_type": "code",
   "source": [
    "from line_solver import *\n",
    "GlobalConstants.setVerbose(VerboseLevel.STD)"
   ],
   "metadata": {
    "collapsed": false,
    "ExecuteTime": {
     "end_time": "2024-07-11T21:33:54.129398Z",
     "start_time": "2024-07-11T21:33:53.087080Z"
    }
   },
   "id": "e5b643ca6db90f63",
   "outputs": [],
   "execution_count": 1
  },
  {
   "cell_type": "code",
   "source": [
    "N = 1\n",
    "M = 2\n",
    "E = 2\n",
    "envModel = Env('MyEnv', E)\n",
    "envName = ['Stage1', 'Stage2']\n",
    "envType = ['UP', 'DOWN']\n",
    "\n",
    "rate = np.array([[2,1],[1,2]])"
   ],
   "metadata": {
    "collapsed": false,
    "ExecuteTime": {
     "end_time": "2024-07-11T21:33:54.138287Z",
     "start_time": "2024-07-11T21:33:54.130837Z"
    }
   },
   "id": "be89dcf9f773ee40",
   "outputs": [],
   "execution_count": 2
  },
  {
   "cell_type": "code",
   "source": [
    "def example_randomEnvironment_genqn(rate, N):\n",
    "    # sn1\n",
    "    qnet = Network('qn1')\n",
    "    \n",
    "    node = np.empty(2, dtype=object)\n",
    "    node[0] = Delay(qnet, 'Queue1')\n",
    "    node[1] = Queue(qnet, 'Queue2', SchedStrategy.PS)\n",
    "\n",
    "    jobclass = np.empty(1, dtype=object)\n",
    "    jobclass[0] = ClosedClass(qnet, 'Class1', N, node[0], 0)\n",
    "    \n",
    "    node[0].setService(jobclass[0], Exp(rate[0]))\n",
    "    node[1].setService(jobclass[0], Exp(rate[1]))\n",
    "    \n",
    "    P = qnet.initRoutingMatrix()\n",
    "    P.set(jobclass[0],jobclass[0], [[0,1],[1,0]])\n",
    "    qnet.link(P)\n",
    "    return qnet"
   ],
   "metadata": {
    "collapsed": false,
    "ExecuteTime": {
     "end_time": "2024-07-11T21:33:54.229284Z",
     "start_time": "2024-07-11T21:33:54.139362Z"
    }
   },
   "id": "ee2686164cd5d763",
   "outputs": [],
   "execution_count": 3
  },
  {
   "cell_type": "code",
   "source": [
    "envSubModel = [example_randomEnvironment_genqn(rate[:,0],N), example_randomEnvironment_genqn(rate[:,1],N)]\n",
    "\n",
    "for e in range(E):\n",
    "    envModel.addStage(e, envName[e], envType[e], envSubModel[e])\n",
    " \n",
    "envRates = [[0,1], [0.5,0.5]]\n",
    "for e in range(E):\n",
    "    for h in range(E):\n",
    "        if envRates[e][h]>0.0:\n",
    "            envModel.addTransition(e, h, Exp(envRates[e][h]))\n"
   ],
   "metadata": {
    "collapsed": false,
    "ExecuteTime": {
     "end_time": "2024-07-11T21:33:54.372656Z",
     "start_time": "2024-07-11T21:33:54.230367Z"
    }
   },
   "id": "466e397ba3955800",
   "outputs": [],
   "execution_count": 4
  },
  {
   "cell_type": "markdown",
   "source": [
    "The metasolver considers an environment with 2 stages and a queueing network with 2 stations.\n",
    "Every time the stage changes, the queueing network will modify the service rates of the stations."
   ],
   "metadata": {
    "collapsed": false
   },
   "id": "71b9822ab1d183ea"
  },
  {
   "cell_type": "code",
   "source": [
    "\n",
    "##options.iter_tol = 1e-5\n",
    "# options = Solver.defaultOptions\n",
    "# options.timespan = [0,Inf]\n",
    "# options.iter_max = 100\n",
    "# options.iter_tol = 0.01\n",
    "# options.method = 'default'\n",
    "# options.verbose = true\n",
    "\n",
    "#TODO: getStageTable not implemented yet\n",
    "#envModel.getStageTable() \n",
    "\n",
    "#TODO: refactor Java Env to be closer to MATLAB \n",
    "# sfoptions = SolverFluid.defaultOptions\n",
    "# sfoptions.timespan = [0,1e3]\n",
    "# sfoptions.verbose = false\n",
    " \n",
    "solvers = np.empty(2, dtype=object)\n",
    "solvers[0] = SolverFluid(envSubModel[0])\n",
    "solvers[1] = SolverFluid(envSubModel[1])\n",
    "# envSolver = SolverEnv(envModel,@(model) SolverFluid(model, sfoptions),options)\n",
    "solver = SolverEnv(envModel, solvers)\n",
    "# [QN,UN,TN] = envSolver.getAvg()\n",
    "avgTable = solver.getAvgTable()\n",
    "print(avgTable)\n",
    "\n"
   ],
   "metadata": {
    "collapsed": false,
    "ExecuteTime": {
     "end_time": "2024-07-11T21:33:54.575696Z",
     "start_time": "2024-07-11T21:33:54.375555Z"
    }
   },
   "id": "initial_id",
   "outputs": [
    {
     "ename": "ValueError",
     "evalue": "The truth value of an array with more than one element is ambiguous. Use a.any() or a.all()",
     "output_type": "error",
     "traceback": [
      "\u001B[0;31m---------------------------------------------------------------------------\u001B[0m",
      "\u001B[0;31mValueError\u001B[0m                                Traceback (most recent call last)",
      "\u001B[0;32m/tmp/ipykernel_1596881/1061266625.py\u001B[0m in \u001B[0;36m<module>\u001B[0;34m\u001B[0m\n\u001B[1;32m     19\u001B[0m \u001B[0msolvers\u001B[0m\u001B[0;34m[\u001B[0m\u001B[0;36m1\u001B[0m\u001B[0;34m]\u001B[0m \u001B[0;34m=\u001B[0m \u001B[0mSolverFluid\u001B[0m\u001B[0;34m(\u001B[0m\u001B[0menvSubModel\u001B[0m\u001B[0;34m[\u001B[0m\u001B[0;36m1\u001B[0m\u001B[0;34m]\u001B[0m\u001B[0;34m)\u001B[0m\u001B[0;34m\u001B[0m\u001B[0;34m\u001B[0m\u001B[0m\n\u001B[1;32m     20\u001B[0m \u001B[0;31m# envSolver = SolverEnv(envModel,@(model) SolverFluid(model, sfoptions),options)\u001B[0m\u001B[0;34m\u001B[0m\u001B[0;34m\u001B[0m\u001B[0m\n\u001B[0;32m---> 21\u001B[0;31m \u001B[0msolver\u001B[0m \u001B[0;34m=\u001B[0m \u001B[0mSolverEnv\u001B[0m\u001B[0;34m(\u001B[0m\u001B[0menvModel\u001B[0m\u001B[0;34m,\u001B[0m \u001B[0msolvers\u001B[0m\u001B[0;34m)\u001B[0m\u001B[0;34m\u001B[0m\u001B[0;34m\u001B[0m\u001B[0m\n\u001B[0m\u001B[1;32m     22\u001B[0m \u001B[0;31m# [QN,UN,TN] = envSolver.getAvg()\u001B[0m\u001B[0;34m\u001B[0m\u001B[0;34m\u001B[0m\u001B[0m\n\u001B[1;32m     23\u001B[0m \u001B[0mavgTable\u001B[0m \u001B[0;34m=\u001B[0m \u001B[0msolver\u001B[0m\u001B[0;34m.\u001B[0m\u001B[0mgetAvgTable\u001B[0m\u001B[0;34m(\u001B[0m\u001B[0;34m)\u001B[0m\u001B[0;34m\u001B[0m\u001B[0;34m\u001B[0m\u001B[0m\n",
      "\u001B[0;32m~/Dropbox/code/line-solver.git/python/line_solver/solvers.py\u001B[0m in \u001B[0;36m__init__\u001B[0;34m(self, *args)\u001B[0m\n\u001B[1;32m    415\u001B[0m     \u001B[0;32mdef\u001B[0m \u001B[0m__init__\u001B[0m\u001B[0;34m(\u001B[0m\u001B[0mself\u001B[0m\u001B[0;34m,\u001B[0m \u001B[0;34m*\u001B[0m\u001B[0margs\u001B[0m\u001B[0;34m)\u001B[0m\u001B[0;34m:\u001B[0m\u001B[0;34m\u001B[0m\u001B[0;34m\u001B[0m\u001B[0m\n\u001B[1;32m    416\u001B[0m         \u001B[0moptions\u001B[0m \u001B[0;34m=\u001B[0m \u001B[0mSolverOptions\u001B[0m\u001B[0;34m(\u001B[0m\u001B[0mjpype\u001B[0m\u001B[0;34m.\u001B[0m\u001B[0mJPackage\u001B[0m\u001B[0;34m(\u001B[0m\u001B[0;34m'jline'\u001B[0m\u001B[0;34m)\u001B[0m\u001B[0;34m.\u001B[0m\u001B[0mlang\u001B[0m\u001B[0;34m.\u001B[0m\u001B[0mconstant\u001B[0m\u001B[0;34m.\u001B[0m\u001B[0mSolverType\u001B[0m\u001B[0;34m.\u001B[0m\u001B[0mENV\u001B[0m\u001B[0;34m)\u001B[0m\u001B[0;34m\u001B[0m\u001B[0;34m\u001B[0m\u001B[0m\n\u001B[0;32m--> 417\u001B[0;31m         \u001B[0msuper\u001B[0m\u001B[0;34m(\u001B[0m\u001B[0;34m)\u001B[0m\u001B[0;34m.\u001B[0m\u001B[0m__init__\u001B[0m\u001B[0;34m(\u001B[0m\u001B[0moptions\u001B[0m\u001B[0;34m,\u001B[0m \u001B[0margs\u001B[0m\u001B[0;34m)\u001B[0m\u001B[0;34m\u001B[0m\u001B[0;34m\u001B[0m\u001B[0m\n\u001B[0m\u001B[1;32m    418\u001B[0m         \u001B[0mmodel\u001B[0m \u001B[0;34m=\u001B[0m \u001B[0margs\u001B[0m\u001B[0;34m[\u001B[0m\u001B[0;36m0\u001B[0m\u001B[0;34m]\u001B[0m\u001B[0;34m\u001B[0m\u001B[0;34m\u001B[0m\u001B[0m\n\u001B[1;32m    419\u001B[0m         \u001B[0msolvers\u001B[0m \u001B[0;34m=\u001B[0m \u001B[0mjpype\u001B[0m\u001B[0;34m.\u001B[0m\u001B[0mJPackage\u001B[0m\u001B[0;34m(\u001B[0m\u001B[0;34m'jline'\u001B[0m\u001B[0;34m)\u001B[0m\u001B[0;34m.\u001B[0m\u001B[0msolvers\u001B[0m\u001B[0;34m.\u001B[0m\u001B[0mNetworkSolver\u001B[0m\u001B[0;34m[\u001B[0m\u001B[0mlen\u001B[0m\u001B[0;34m(\u001B[0m\u001B[0margs\u001B[0m\u001B[0;34m[\u001B[0m\u001B[0;36m1\u001B[0m\u001B[0;34m]\u001B[0m\u001B[0;34m)\u001B[0m\u001B[0;34m]\u001B[0m\u001B[0;34m\u001B[0m\u001B[0;34m\u001B[0m\u001B[0m\n",
      "\u001B[0;32m~/Dropbox/code/line-solver.git/python/line_solver/solvers.py\u001B[0m in \u001B[0;36m__init__\u001B[0;34m(self, options, args)\u001B[0m\n\u001B[1;32m     17\u001B[0m             \u001B[0;32mfor\u001B[0m \u001B[0mctr\u001B[0m \u001B[0;32min\u001B[0m \u001B[0mrange\u001B[0m\u001B[0;34m(\u001B[0m\u001B[0mlen\u001B[0m\u001B[0;34m(\u001B[0m\u001B[0margs\u001B[0m\u001B[0;34m)\u001B[0m\u001B[0;34m)\u001B[0m\u001B[0;34m:\u001B[0m\u001B[0;34m\u001B[0m\u001B[0;34m\u001B[0m\u001B[0m\n\u001B[1;32m     18\u001B[0m                 \u001B[0mmatch\u001B[0m \u001B[0margs\u001B[0m\u001B[0;34m[\u001B[0m\u001B[0mctr\u001B[0m\u001B[0;34m]\u001B[0m\u001B[0;34m:\u001B[0m\u001B[0;34m\u001B[0m\u001B[0;34m\u001B[0m\u001B[0m\n\u001B[0;32m---> 19\u001B[0;31m                     \u001B[0mcase\u001B[0m \u001B[0;34m'cutoff'\u001B[0m\u001B[0;34m:\u001B[0m\u001B[0;34m\u001B[0m\u001B[0;34m\u001B[0m\u001B[0m\n\u001B[0m\u001B[1;32m     20\u001B[0m                         \u001B[0mself\u001B[0m\u001B[0;34m.\u001B[0m\u001B[0msolveropt\u001B[0m\u001B[0;34m.\u001B[0m\u001B[0mobj\u001B[0m\u001B[0;34m.\u001B[0m\u001B[0mcutoff\u001B[0m\u001B[0;34m(\u001B[0m\u001B[0margs\u001B[0m\u001B[0;34m[\u001B[0m\u001B[0mctr\u001B[0m \u001B[0;34m+\u001B[0m \u001B[0;36m1\u001B[0m\u001B[0;34m]\u001B[0m\u001B[0;34m)\u001B[0m\u001B[0;34m\u001B[0m\u001B[0;34m\u001B[0m\u001B[0m\n\u001B[1;32m     21\u001B[0m                     \u001B[0mcase\u001B[0m \u001B[0;34m'method'\u001B[0m\u001B[0;34m:\u001B[0m\u001B[0;34m\u001B[0m\u001B[0;34m\u001B[0m\u001B[0m\n",
      "\u001B[0;31mValueError\u001B[0m: The truth value of an array with more than one element is ambiguous. Use a.any() or a.all()"
     ]
    }
   ],
   "execution_count": 5
  }
 ],
 "metadata": {
  "kernelspec": {
   "display_name": "Python 3",
   "language": "python",
   "name": "python3"
  },
  "language_info": {
   "codemirror_mode": {
    "name": "ipython",
    "version": 2
   },
   "file_extension": ".py",
   "mimetype": "text/x-python",
   "name": "python",
   "nbconvert_exporter": "python",
   "pygments_lexer": "ipython2",
   "version": "2.7.6"
  }
 },
 "nbformat": 4,
 "nbformat_minor": 5
}
