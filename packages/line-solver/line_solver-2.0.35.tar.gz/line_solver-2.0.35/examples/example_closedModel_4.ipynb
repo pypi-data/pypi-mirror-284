{
 "cells": [
  {
   "cell_type": "code",
   "source": [
    "from line_solver import *\n",
    "GlobalConstants.setVerbose(VerboseLevel.STD)"
   ],
   "metadata": {
    "collapsed": false,
    "ExecuteTime": {
     "end_time": "2024-07-13T14:27:54.380128Z",
     "start_time": "2024-07-13T14:27:53.366203Z"
    }
   },
   "outputs": [],
   "execution_count": 1
  },
  {
   "cell_type": "code",
   "source": [
    "model = Network('model')\n",
    "\n",
    "# Block 1: nodes\n",
    "node1 = Delay(model, \"Delay\")\n",
    "node2 = Queue(model, \"Queue1\", SchedStrategy.FCFS)\n",
    "node3 = Queue(model, \"Queue2\", SchedStrategy.FCFS)\n",
    "node2.setNumberOfServers(3)\n",
    "node3.setNumberOfServers(3)\n",
    "\n",
    "# Block 2: classes\n",
    "jobclass1 = ClosedClass(model, \"Class1\", 2, node1, 0)\n",
    "jobclass2 = ClosedClass(model, \"Class2\", 2, node1, 0)\n",
    "jobclass3 = ClosedClass(model, \"Class3\", 2, node1, 0)\n",
    "jobclass4 = ClosedClass(model, \"Class4\", 1, node1, 0)\n",
    "\n",
    "node1.setService(jobclass1, Exp(1)) # (Delay,Class1)\n",
    "node1.setService(jobclass2, Exp(1)) # (Delay,Class2)\n",
    "node1.setService(jobclass3, Exp(10)) # (Delay,Class3)\n",
    "node1.setService(jobclass4, Exp(1)) # (Delay,Class4)\n",
    "\n",
    "node2.setService(jobclass1, Exp(1)) # (Queue1,Class1)\n",
    "node2.setService(jobclass2, Erlang(1, 2)) # (Queue1,Class2)\n",
    "node2.setService(jobclass3, Exp(10)) # (Queue1,Class3)\n",
    "node2.setService(jobclass4, Exp(1)) # (Queue1,Class4)\n",
    "\n",
    "node3.setService(jobclass1, Disabled.getInstance()) # (Queue2,Class1)\n",
    "node3.setService(jobclass2, Disabled.getInstance()) # (Queue2,Class2)\n",
    "node3.setService(jobclass3, Erlang(1, 2)) # (Queue2,Class3)\n",
    "node3.setService(jobclass4, Exp(1)) # (Queue2,Class4)\n",
    "\n",
    "# Block 3: topology\n",
    "routingMatrix = model.initRoutingMatrix()\n",
    "\n",
    "routingMatrix.set(jobclass1, jobclass1, node1, node2, 0.50)\n",
    "routingMatrix.set(jobclass1, jobclass1, node2, node1, 1.00)\n",
    "routingMatrix.set(jobclass1, jobclass1, node3, node1, 1.00)\n",
    "\n",
    "routingMatrix.set(jobclass1, jobclass2, node1, node2, 0.50)\n",
    "\n",
    "routingMatrix.set(jobclass2, jobclass2, node2, node1, 1.00)\n",
    "routingMatrix.set(jobclass2, jobclass2, node3, node1, 1.00)\n",
    "\n",
    "routingMatrix.set(jobclass2, jobclass1, node1, node2, 1.00)\n",
    "\n",
    "routingMatrix.set(jobclass3, jobclass3, node1, node2, 0.25)\n",
    "routingMatrix.set(jobclass3, jobclass3, node1, node3, 0.25)\n",
    "routingMatrix.set(jobclass3, jobclass3, node2, node1, 1.00)\n",
    "routingMatrix.set(jobclass3, jobclass3, node3, node1, 1.00)\n",
    "\n",
    "routingMatrix.set(jobclass3, jobclass4, node1, node2, 0.50)\n",
    "\n",
    "routingMatrix.set(jobclass4, jobclass4, node2, node1, 1.00)\n",
    "routingMatrix.set(jobclass4, jobclass4, node3, node1, 1.00)\n",
    "\n",
    "routingMatrix.set(jobclass4, jobclass3, node1, node2, 1.00)\n",
    "\n",
    "model.link(routingMatrix)"
   ],
   "metadata": {
    "collapsed": false,
    "ExecuteTime": {
     "end_time": "2024-07-13T14:27:54.410377Z",
     "start_time": "2024-07-13T14:27:54.381683Z"
    }
   },
   "outputs": [],
   "execution_count": 2
  },
  {
   "cell_type": "code",
   "source": [
    "solver = np.array([], dtype=object)\n",
    "#solver = np.append(solver, SolverCTMC(model,'keep',True))\n",
    "solver = np.append(solver, SolverJMT(model,'seed',23000,'verbose',True,'keep',True))\n",
    "solver = np.append(solver, SolverSSA(model,'seed',23000,'verbose',False,'samples',10000))\n",
    "solver = np.append(solver, SolverFluid(model))\n",
    "solver = np.append(solver, SolverMVA(model))\n",
    "solver = np.append(solver, SolverNC(model,'exact'))\n",
    "#solver = np.append(solver, SolverMAM(model))\n",
    "#solver = np.append(solver, LINE(model))\n",
    "\n",
    "AvgTable = np.empty(len(solver), dtype=object)\n",
    "for s in range(len(solver)):\n",
    "    print(f'\\nSOLVER: {solver[s].getName()}')\n",
    "    AvgTable[s] = solver[s].getAvgTable()\n"
   ],
   "metadata": {
    "collapsed": false,
    "ExecuteTime": {
     "end_time": "2024-07-13T14:28:01.306282Z",
     "start_time": "2024-07-13T14:27:54.762411Z"
    }
   },
   "outputs": [
    {
     "name": "stdout",
     "output_type": "stream",
     "text": [
      "\n",
      "SOLVER: SolverJMT\n",
      "JMT Model: /tmp/workspace/jsim/16984906335142444519/model.jsim\n",
      "JMT Analysis completed. Runtime: 2.21 seconds\n",
      "   Station JobClass    QLen    Util   RespT  ResidT    ArvR    Tput\n",
      "0    Delay   Class1  0.9624  0.9624  0.9955  0.6636  0.9759  0.9775\n",
      "1    Delay   Class2  0.4710  0.4710  0.9964  0.3321  0.4934  0.4884\n",
      "2    Delay   Class3  0.1332  0.1332  0.1000  0.0667  1.3475  1.3475\n",
      "3    Delay   Class4  0.6728  0.6728  0.9911  0.3304  0.6810  0.6811\n",
      "4   Queue1   Class1  1.4139  0.3323  1.4149  0.9433  0.9758  0.9780\n",
      "5   Queue1   Class2  1.1780  0.3303  2.4004  0.8001  0.4883  0.4883\n",
      "6   Queue1   Class3  0.5653  0.0337  0.5611  0.2806  1.0220  1.0216\n",
      "7   Queue1   Class4  0.9404  0.2327  1.3560  0.4520  0.6795  0.6812\n",
      "10  Queue2   Class3  0.6757  0.2252  1.9819  0.3303  0.3370  0.3382\n",
      "\n",
      "SOLVER: SolverSSA\n",
      "   Station JobClass    QLen    Util   RespT  ResidT    ArvR    Tput\n",
      "0    Delay   Class1  0.9742  0.9742  1.0000  0.6667  0.9858  0.9742\n",
      "1    Delay   Class2  0.4436  0.4436  1.0000  0.3333  0.4029  0.4436\n",
      "2    Delay   Class3  0.1346  0.1346  0.1000  0.0667  1.3628  1.3460\n",
      "3    Delay   Class4  0.6693  0.6693  1.0000  0.3333  0.6744  0.6693\n",
      "4   Queue1   Class1  1.3810  0.3102  1.4009  0.9339  0.9307  0.9858\n",
      "5   Queue1   Class2  1.2012  0.3247  2.9814  0.9938  0.4871  0.4029\n",
      "6   Queue1   Class3  0.5787  0.0335  0.5789  0.2894  1.0058  0.9997\n",
      "7   Queue1   Class4  0.9273  0.2243  1.3751  0.4584  0.6730  0.6744\n",
      "10  Queue2   Class3  0.6900  0.2243  1.9005  0.3167  0.3365  0.3631\n",
      "\n",
      "SOLVER: SolverFluid\n",
      "  Station JobClass  QLen  Util  RespT  ResidT  ArvR  Tput\n",
      "0   Delay   Class1   2.0   2.0    1.0  0.6667   0.0   2.0\n",
      "1   Delay   Class2   2.0   2.0    1.0  0.3333   0.0   2.0\n",
      "2   Delay   Class3   2.0   2.0    0.1  0.0667   0.0  20.0\n",
      "3   Delay   Class4   1.0   1.0    1.0  0.3333   0.0   1.0\n",
      "\n",
      "SOLVER: SolverMVA\n",
      "   Station JobClass    QLen    Util   RespT  ResidT    ArvR    Tput\n",
      "0    Delay   Class1  0.5723  0.0864  0.4734  0.3156  1.2089  1.2089\n",
      "1    Delay   Class2  0.2861  0.0432  0.4734  0.1578  0.6045  0.6045\n",
      "2    Delay   Class3  0.0566  0.0085  0.0473  0.0316  1.1963  1.1963\n",
      "3    Delay   Class4  0.2832  0.0427  0.4734  0.1578  0.5981  0.5981\n",
      "4   Queue1   Class1  1.5708  0.4030  1.2993  0.8662  1.2089  1.2089\n",
      "5   Queue1   Class2  1.5708  0.4030  2.5987  0.8662  0.6045  0.6045\n",
      "6   Queue1   Class3  0.2676  0.0299  0.2982  0.1491  0.8972  0.8972\n",
      "7   Queue1   Class4  1.7838  0.1994  2.9822  0.9941  0.5981  0.5981\n",
      "10  Queue2   Class3  0.6089  0.1994  2.0360  0.3393  0.2991  0.2991\n",
      "\n",
      "SOLVER: SolverNC\n"
     ]
    },
    {
     "name": "stderr",
     "output_type": "stream",
     "text": [
      "java.lang.RuntimeException: The exact method requires the model to have a product-form solution. This model does not have one. You can use Network.hasProductFormSolution() to check before running the solver.\n",
      "\tat jline.solvers.nc.NCRunner.run(NCRunner.java:78)\n",
      "\tat jline.solvers.nc.SolverNC.runAnalyzer(SolverNC.java:85)\n",
      "\tat jline.solvers.NetworkSolver.getAvg(NetworkSolver.java:351)\n",
      "\tat jline.solvers.NetworkSolver.getAvgTable(NetworkSolver.java:868)\n"
     ]
    },
    {
     "ename": "java.lang.RuntimeException",
     "evalue": "java.lang.RuntimeException: Unable to compute results and therefore unable to print AvgTable.",
     "output_type": "error",
     "traceback": [
      "\u001B[0;31m---------------------------------------------------------------------------\u001B[0m",
      "\u001B[0;31mException\u001B[0m                                 Traceback (most recent call last)",
      "\u001B[0;32m/usr/local/lib/python3.10/dist-packages/_jpype.cpython-310-x86_64-linux-gnu.so\u001B[0m in \u001B[0;36mjline.solvers.NetworkSolver.getAvgTable\u001B[0;34m()\u001B[0m\n",
      "\u001B[0;31mException\u001B[0m: Java Exception",
      "\nThe above exception was the direct cause of the following exception:\n",
      "\u001B[0;31mjava.lang.RuntimeException\u001B[0m                Traceback (most recent call last)",
      "\u001B[0;32m/tmp/ipykernel_557150/4078069149.py\u001B[0m in \u001B[0;36m<module>\u001B[0;34m\u001B[0m\n\u001B[1;32m     12\u001B[0m \u001B[0;32mfor\u001B[0m \u001B[0ms\u001B[0m \u001B[0;32min\u001B[0m \u001B[0mrange\u001B[0m\u001B[0;34m(\u001B[0m\u001B[0mlen\u001B[0m\u001B[0;34m(\u001B[0m\u001B[0msolver\u001B[0m\u001B[0;34m)\u001B[0m\u001B[0;34m)\u001B[0m\u001B[0;34m:\u001B[0m\u001B[0;34m\u001B[0m\u001B[0;34m\u001B[0m\u001B[0m\n\u001B[1;32m     13\u001B[0m     \u001B[0mprint\u001B[0m\u001B[0;34m(\u001B[0m\u001B[0;34mf'\\nSOLVER: {solver[s].getName()}'\u001B[0m\u001B[0;34m)\u001B[0m\u001B[0;34m\u001B[0m\u001B[0;34m\u001B[0m\u001B[0m\n\u001B[0;32m---> 14\u001B[0;31m     \u001B[0mAvgTable\u001B[0m\u001B[0;34m[\u001B[0m\u001B[0ms\u001B[0m\u001B[0;34m]\u001B[0m \u001B[0;34m=\u001B[0m \u001B[0msolver\u001B[0m\u001B[0;34m[\u001B[0m\u001B[0ms\u001B[0m\u001B[0;34m]\u001B[0m\u001B[0;34m.\u001B[0m\u001B[0mgetAvgTable\u001B[0m\u001B[0;34m(\u001B[0m\u001B[0;34m)\u001B[0m\u001B[0;34m\u001B[0m\u001B[0;34m\u001B[0m\u001B[0m\n\u001B[0m\u001B[1;32m     15\u001B[0m \u001B[0;34m\u001B[0m\u001B[0m\n",
      "\u001B[0;32m~/Dropbox/code/line-solver.git/python/line_solver/solvers.py\u001B[0m in \u001B[0;36mgetAvgTable\u001B[0;34m(self)\u001B[0m\n\u001B[1;32m    147\u001B[0m \u001B[0;34m\u001B[0m\u001B[0m\n\u001B[1;32m    148\u001B[0m     \u001B[0;32mdef\u001B[0m \u001B[0mgetAvgTable\u001B[0m\u001B[0;34m(\u001B[0m\u001B[0mself\u001B[0m\u001B[0;34m)\u001B[0m\u001B[0;34m:\u001B[0m\u001B[0;34m\u001B[0m\u001B[0;34m\u001B[0m\u001B[0m\n\u001B[0;32m--> 149\u001B[0;31m         \u001B[0mtable\u001B[0m \u001B[0;34m=\u001B[0m \u001B[0mself\u001B[0m\u001B[0;34m.\u001B[0m\u001B[0mobj\u001B[0m\u001B[0;34m.\u001B[0m\u001B[0mgetAvgTable\u001B[0m\u001B[0;34m(\u001B[0m\u001B[0;34m)\u001B[0m\u001B[0;34m\u001B[0m\u001B[0;34m\u001B[0m\u001B[0m\n\u001B[0m\u001B[1;32m    150\u001B[0m \u001B[0;34m\u001B[0m\u001B[0m\n\u001B[1;32m    151\u001B[0m         \u001B[0;31m# convert to NumPy\u001B[0m\u001B[0;34m\u001B[0m\u001B[0;34m\u001B[0m\u001B[0m\n",
      "\u001B[0;31mjava.lang.RuntimeException\u001B[0m: java.lang.RuntimeException: Unable to compute results and therefore unable to print AvgTable."
     ]
    }
   ],
   "execution_count": 4
  }
 ],
 "metadata": {
  "kernelspec": {
   "display_name": "Python 3",
   "language": "python",
   "name": "python3"
  },
  "language_info": {
   "codemirror_mode": {
    "name": "ipython",
    "version": 3
   },
   "file_extension": ".py",
   "mimetype": "text/x-python",
   "name": "python",
   "nbconvert_exporter": "python",
   "pygments_lexer": "ipython3",
   "version": "3.6.4"
  }
 },
 "nbformat": 4,
 "nbformat_minor": 2
}
