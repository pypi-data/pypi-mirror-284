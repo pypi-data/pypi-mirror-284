{
 "cells": [
  {
   "cell_type": "code",
   "id": "4930fb9c4fab467c",
   "metadata": {
    "collapsed": true,
    "ExecuteTime": {
     "end_time": "2024-07-11T21:33:32.123785Z",
     "start_time": "2024-07-11T21:33:31.212655Z"
    }
   },
   "source": [
    "from line_solver import *\n",
    "GlobalConstants.setVerbose(VerboseLevel.STD)"
   ],
   "outputs": [],
   "execution_count": 1
  },
  {
   "cell_type": "code",
   "source": [
    "model = Network('model')\n",
    "\n",
    "node = np.empty(4, dtype=object)\n",
    "node[0] = Delay(model, 'Delay')\n",
    "node[1] = Queue(model, 'Queue1', SchedStrategy.FCFS)\n",
    "node[2] = Source(model,'Source')\n",
    "node[3] = Sink(model,'Sink')\n",
    "\n",
    "jobclass = OpenClass(model, 'Class1', 0)\n",
    "\n",
    "node[0].setService(jobclass, HyperExp(0.5,3.0,10.0))\n",
    "node[1].setService(jobclass, Exp(1))\n",
    "node[2].setArrival(jobclass, Exp(0.1))\n",
    "\n",
    "M = model.getNumberOfStations()\n",
    "K = model.getNumberOfClasses()\n",
    "\n",
    "P = model.initRoutingMatrix()\n",
    "P.set(jobclass, jobclass, [[0,1,0,0],[0,0,0,1],[1,0,0,0],[0,0,0,0]])\n",
    "\n",
    "model.link(P)"
   ],
   "metadata": {
    "collapsed": false,
    "ExecuteTime": {
     "end_time": "2024-07-11T21:33:32.159674Z",
     "start_time": "2024-07-11T21:33:32.125330Z"
    }
   },
   "id": "bf3848b78f83c1f7",
   "outputs": [],
   "execution_count": 2
  },
  {
   "cell_type": "markdown",
   "source": [
    "This example shows the execution of the solver on a 1-class 2-node open model."
   ],
   "metadata": {
    "collapsed": false
   },
   "id": "b4e133009e163fe"
  },
  {
   "cell_type": "code",
   "source": [
    "#options = Solver.defaultOptions\n",
    "#options.keep = True\n",
    "#options.verbose = 1\n",
    "#options.cutoff = 10\n",
    "#options.seed = 23000\n",
    "#options.iter_max = 200\n",
    "#options.samples = 2000\n",
    "\n",
    "# This part illustrates the execution of different solvers\n",
    "# TODO: SSA result is buggy \n",
    "solver = np.array([], dtype=object)\n",
    "#solver = np.append(solver, SolverCTMC(model,'keep',True))\n",
    "solver = np.append(solver, SolverJMT(model,'seed',23000,'verbose',False,'keep',True))\n",
    "solver = np.append(solver, SolverSSA(model,'seed',23000,'verbose',True,'samples',50000))\n",
    "solver = np.append(solver, SolverFluid(model))\n",
    "solver = np.append(solver, SolverMVA(model))\n",
    "solver = np.append(solver, SolverNC(model))\n",
    "#solver = np.append(solver, SolverMAM(model))\n",
    "#solver = np.append(solver, LINE(model))\n",
    "\n",
    "AvgTable = np.empty(len(solver), dtype=object)\n",
    "for s in range(len(solver)):\n",
    "    print(f'\\nSOLVER: {solver[s].getName()}')\n",
    "    AvgTable[s] = solver[s].getAvgTable()"
   ],
   "metadata": {
    "collapsed": false,
    "ExecuteTime": {
     "end_time": "2024-07-11T21:34:12.582698Z",
     "start_time": "2024-07-11T21:33:32.160976Z"
    }
   },
   "id": "initial_id",
   "outputs": [
    {
     "name": "stdout",
     "output_type": "stream",
     "text": [
      "\n",
      "SOLVER: SolverJMT\n",
      "  Station JobClass      QLen      Util     RespT    ResidT      ArvR      Tput\n",
      "0   Delay   Class1  0.022679  0.022679  0.214832  0.214832  0.099621  0.099607\n",
      "1  Queue1   Class1  0.113320  0.102224  1.107529  1.107529  0.099607  0.100012\n",
      "2  Source   Class1  0.000000  0.000000  0.000000  0.000000  0.000000  0.099621\n",
      "\n",
      "SOLVER: SolverSSA\n",
      "SSA samples:   50000\n",
      "  Station JobClass      QLen      Util     RespT    ResidT      ArvR      Tput\n",
      "0   Delay   Class1  0.021232  0.021232  0.213731  0.213731  0.100000  0.099338\n",
      "1  Queue1   Class1  0.111210  0.099338  1.109886  1.109886  0.099338  0.100199\n",
      "2  Source   Class1  0.000000  0.000000  0.000000  0.000000  0.000000  0.100000\n",
      "\n",
      "SOLVER: SolverFluid\n",
      "  Station JobClass      QLen      Util     RespT    ResidT  ArvR  Tput\n",
      "0   Delay   Class1  0.021667  0.021667  0.216667  0.216667   0.0   0.1\n",
      "1  Queue1   Class1  0.100000  0.100000  1.000000  1.000000   0.0   0.1\n",
      "2  Source   Class1  0.000000  0.000000  0.000000  0.000000   0.0   0.1\n",
      "\n",
      "SOLVER: SolverMVA\n",
      "  Station JobClass      QLen  Util     RespT    ResidT  ArvR  Tput\n",
      "0   Delay   Class1  0.021216   0.0  0.212156  0.212156   0.0   0.1\n",
      "1  Queue1   Class1  0.111085   0.1  1.110854  1.110854   0.0   0.1\n",
      "2  Source   Class1  0.000000   0.0  0.000000  0.000000   0.0   0.1\n",
      "\n",
      "SOLVER: SolverNC\n",
      "  Station JobClass      QLen  Util     RespT    ResidT  ArvR  Tput\n",
      "0   Delay   Class1  0.021667   0.0  0.216667  0.216667   0.0   0.1\n",
      "1  Queue1   Class1  0.111111   0.1  1.111111  1.111111   0.0   0.1\n",
      "2  Source   Class1  0.000000   0.0  0.000000  0.000000   0.0   0.1\n"
     ]
    }
   ],
   "execution_count": 3
  }
 ],
 "metadata": {
  "kernelspec": {
   "display_name": "Python 3",
   "language": "python",
   "name": "python3"
  },
  "language_info": {
   "codemirror_mode": {
    "name": "ipython",
    "version": 2
   },
   "file_extension": ".py",
   "mimetype": "text/x-python",
   "name": "python",
   "nbconvert_exporter": "python",
   "pygments_lexer": "ipython2",
   "version": "2.7.6"
  }
 },
 "nbformat": 4,
 "nbformat_minor": 5
}
