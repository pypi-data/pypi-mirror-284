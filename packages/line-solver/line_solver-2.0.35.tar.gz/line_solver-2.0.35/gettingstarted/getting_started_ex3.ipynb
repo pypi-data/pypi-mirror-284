{
 "cells": [
  {
   "cell_type": "markdown",
   "metadata": {},
   "source": [
    "WARNING: this example is not yet fully functional\n",
    "https://github.com/imperial-qore/line-solver/wiki/Getting-started#example-3-machine-interference-problem"
   ]
  },
  {
   "cell_type": "code",
   "metadata": {
    "ExecuteTime": {
     "end_time": "2024-07-11T21:37:04.241139Z",
     "start_time": "2024-07-11T21:37:03.322070Z"
    }
   },
   "source": [
    "from line_solver import *\n",
    "GlobalConstants.setVerbose(VerboseLevel.STD)"
   ],
   "outputs": [],
   "execution_count": 1
  },
  {
   "cell_type": "code",
   "metadata": {
    "ExecuteTime": {
     "end_time": "2024-07-11T21:37:04.260071Z",
     "start_time": "2024-07-11T21:37:04.242760Z"
    }
   },
   "source": [
    "model = Network('MRP')\n",
    "# Block 1: nodes\n",
    "delay = Delay(model, 'WorkingState')\n",
    "queue = Queue(model, 'RepairQueue', SchedStrategy.FCFS)\n",
    "queue.setNumberOfServers(2)\n",
    "# Block 2: classes\n",
    "cclass = ClosedClass(model, 'Machines', 3, delay)\n",
    "delay.setService(cclass, Exp(0.5))\n",
    "queue.setService(cclass, Exp(4.0))\n",
    "# Block 3: topology\n",
    "model.link(Network.serialRouting(delay, queue))"
   ],
   "outputs": [],
   "execution_count": 2
  },
  {
   "cell_type": "code",
   "source": [
    "# Block 4: solution\n",
    "solver = SolverCTMC(model)\n",
    "ctmcAvgTable = solver.getAvgTable()"
   ],
   "metadata": {
    "collapsed": false,
    "ExecuteTime": {
     "end_time": "2024-07-11T21:37:04.442266Z",
     "start_time": "2024-07-11T21:37:04.261511Z"
    }
   },
   "outputs": [
    {
     "name": "stderr",
     "output_type": "stream",
     "text": [
      "java.lang.RuntimeException: Line is unable to return results for this model.\n",
      "\tat jline.solvers.NetworkSolver.getAvg(NetworkSolver.java:362)\n",
      "\tat jline.solvers.NetworkSolver.getAvgTable(NetworkSolver.java:772)\n"
     ]
    },
    {
     "ename": "java.lang.NullPointerException",
     "evalue": "java.lang.NullPointerException",
     "output_type": "error",
     "traceback": [
      "\u001B[0;31m---------------------------------------------------------------------------\u001B[0m",
      "\u001B[0;31mException\u001B[0m                                 Traceback (most recent call last)",
      "\u001B[0;32m/usr/local/lib/python3.10/dist-packages/_jpype.cpython-310-x86_64-linux-gnu.so\u001B[0m in \u001B[0;36mjline.solvers.NetworkSolver.getAvgTable\u001B[0;34m()\u001B[0m\n",
      "\u001B[0;31mException\u001B[0m: Java Exception",
      "\nThe above exception was the direct cause of the following exception:\n",
      "\u001B[0;31mjava.lang.NullPointerException\u001B[0m            Traceback (most recent call last)",
      "\u001B[0;32m/tmp/ipykernel_1599044/715616805.py\u001B[0m in \u001B[0;36m<module>\u001B[0;34m\u001B[0m\n\u001B[1;32m      1\u001B[0m \u001B[0;31m# Block 4: solution\u001B[0m\u001B[0;34m\u001B[0m\u001B[0;34m\u001B[0m\u001B[0m\n\u001B[1;32m      2\u001B[0m \u001B[0msolver\u001B[0m \u001B[0;34m=\u001B[0m \u001B[0mSolverCTMC\u001B[0m\u001B[0;34m(\u001B[0m\u001B[0mmodel\u001B[0m\u001B[0;34m)\u001B[0m\u001B[0;34m\u001B[0m\u001B[0;34m\u001B[0m\u001B[0m\n\u001B[0;32m----> 3\u001B[0;31m \u001B[0mctmcAvgTable\u001B[0m \u001B[0;34m=\u001B[0m \u001B[0msolver\u001B[0m\u001B[0;34m.\u001B[0m\u001B[0mgetAvgTable\u001B[0m\u001B[0;34m(\u001B[0m\u001B[0;34m)\u001B[0m\u001B[0;34m\u001B[0m\u001B[0;34m\u001B[0m\u001B[0m\n\u001B[0m",
      "\u001B[0;32m~/Dropbox/code/line-solver.git/python/line_solver/solvers.py\u001B[0m in \u001B[0;36mgetAvgTable\u001B[0;34m(self)\u001B[0m\n\u001B[1;32m    116\u001B[0m \u001B[0;34m\u001B[0m\u001B[0m\n\u001B[1;32m    117\u001B[0m     \u001B[0;32mdef\u001B[0m \u001B[0mgetAvgTable\u001B[0m\u001B[0;34m(\u001B[0m\u001B[0mself\u001B[0m\u001B[0;34m)\u001B[0m\u001B[0;34m:\u001B[0m\u001B[0;34m\u001B[0m\u001B[0;34m\u001B[0m\u001B[0m\n\u001B[0;32m--> 118\u001B[0;31m         \u001B[0mtable\u001B[0m \u001B[0;34m=\u001B[0m \u001B[0mself\u001B[0m\u001B[0;34m.\u001B[0m\u001B[0mobj\u001B[0m\u001B[0;34m.\u001B[0m\u001B[0mgetAvgTable\u001B[0m\u001B[0;34m(\u001B[0m\u001B[0;34m)\u001B[0m\u001B[0;34m\u001B[0m\u001B[0;34m\u001B[0m\u001B[0m\n\u001B[0m\u001B[1;32m    119\u001B[0m \u001B[0;34m\u001B[0m\u001B[0m\n\u001B[1;32m    120\u001B[0m         \u001B[0;31m# convert to NumPy\u001B[0m\u001B[0;34m\u001B[0m\u001B[0;34m\u001B[0m\u001B[0m\n",
      "\u001B[0;31mjava.lang.NullPointerException\u001B[0m: java.lang.NullPointerException"
     ]
    }
   ],
   "execution_count": 3
  },
  {
   "cell_type": "code",
   "source": [
    "# TODO: buggy result, the last state should be 0 0 1 2\n",
    "StateSpace = solver.getStateSpace()\n",
    "print(\"\\nStateSpace =\")\n",
    "for i in range(len(StateSpace)):\n",
    "    StateSpace[i].printStateVector()"
   ],
   "metadata": {
    "collapsed": false
   },
   "outputs": [],
   "execution_count": null
  },
  {
   "cell_type": "code",
   "source": [
    "InfGen = solver.getGenerator()\n",
    "print(\"\\nInfGen =\")\n",
    "print(InfGen)\n",
    "\n",
    "# TBC\n",
    "# model.printInfGen(InfGen,StateSpace)\n",
    "#\n",
    "# [StateSpace,nodeStateSpace] = solver.getStateSpace()\n",
    "# nodeStateSpace{delay}\n",
    "# nodeStateSpace{queue}"
   ],
   "metadata": {
    "collapsed": false
   },
   "outputs": [],
   "execution_count": null
  }
 ],
 "metadata": {
  "kernelspec": {
   "display_name": "Python 3",
   "language": "python",
   "name": "python3"
  },
  "language_info": {
   "codemirror_mode": {
    "name": "ipython",
    "version": 3
   },
   "file_extension": ".py",
   "mimetype": "text/x-python",
   "name": "python",
   "nbconvert_exporter": "python",
   "pygments_lexer": "ipython3",
   "version": "3.6.4"
  }
 },
 "nbformat": 4,
 "nbformat_minor": 2
}
