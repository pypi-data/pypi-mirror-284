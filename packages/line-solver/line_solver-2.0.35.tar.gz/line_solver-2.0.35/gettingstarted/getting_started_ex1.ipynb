{
 "cells": [
  {
   "cell_type": "markdown",
   "metadata": {},
   "source": [
    "https://github.com/imperial-qore/line-solver/wiki/Getting-started#example-1-a-mm1-queue"
   ]
  },
  {
   "cell_type": "code",
   "metadata": {
    "ExecuteTime": {
     "end_time": "2024-07-13T15:49:00.487203Z",
     "start_time": "2024-07-13T15:49:00.483504Z"
    }
   },
   "source": [
    "from line_solver import *\n",
    "GlobalConstants.setVerbose(VerboseLevel.STD)"
   ],
   "outputs": [],
   "execution_count": 33
  },
  {
   "cell_type": "code",
   "metadata": {
    "ExecuteTime": {
     "end_time": "2024-07-13T15:49:00.574002Z",
     "start_time": "2024-07-13T15:49:00.498382Z"
    }
   },
   "source": [
    "model = Network('M/M/1')\n",
    "# Block 1: nodes\n",
    "source = Source(model, 'mySource')\n",
    "queue = Queue(model, 'myQueue', SchedStrategy.FCFS)\n",
    "sink = Sink(model, 'mySink')\n",
    "# Block 2: classes\n",
    "oclass = OpenClass(model, 'myClass')\n",
    "source.setArrival(oclass, Exp(1))\n",
    "queue.setService(oclass, Exp(2))\n",
    "# Block 3: topology\n",
    "model.link(Network.serialRouting(source, queue, sink))"
   ],
   "outputs": [],
   "execution_count": 34
  },
  {
   "cell_type": "code",
   "source": [
    "# Block 4: solution\n",
    "AvgTable = SolverJMT(model, 'seed', 23000, 'verbose', VerboseLevel.SILENT).getAvgTable()"
   ],
   "metadata": {
    "collapsed": false,
    "ExecuteTime": {
     "end_time": "2024-07-13T15:49:01.373770Z",
     "start_time": "2024-07-13T15:49:00.576161Z"
    }
   },
   "outputs": [
    {
     "name": "stdout",
     "output_type": "stream",
     "text": [
      "    Station JobClass    QLen    Util   RespT  ResidT    ArvR    Tput\n",
      "0  mySource  myClass  0.0000  0.0000  0.0000  0.0000  0.0000  0.9989\n",
      "1   myQueue  myClass  0.9555  0.4874  0.9543  0.9543  0.9989  0.9999\n"
     ]
    }
   ],
   "execution_count": 35
  },
  {
   "cell_type": "code",
   "source": [
    "# select a particular table row\n",
    "ARow = tget(AvgTable, queue, oclass)"
   ],
   "metadata": {
    "collapsed": false,
    "ExecuteTime": {
     "end_time": "2024-07-13T15:49:01.379462Z",
     "start_time": "2024-07-13T15:49:01.374851Z"
    }
   },
   "outputs": [],
   "execution_count": 36
  },
  {
   "cell_type": "code",
   "source": [
    "# select a particular table row by node and class label\n",
    "ARow = tget(AvgTable, 'myQueue', 'myClass')"
   ],
   "metadata": {
    "collapsed": false,
    "ExecuteTime": {
     "end_time": "2024-07-13T15:49:01.468102Z",
     "start_time": "2024-07-13T15:49:01.380889Z"
    }
   },
   "outputs": [],
   "execution_count": 37
  }
 ],
 "metadata": {
  "kernelspec": {
   "display_name": "Python 3",
   "language": "python",
   "name": "python3"
  },
  "language_info": {
   "codemirror_mode": {
    "name": "ipython",
    "version": 3
   },
   "file_extension": ".py",
   "mimetype": "text/x-python",
   "name": "python",
   "nbconvert_exporter": "python",
   "pygments_lexer": "ipython3",
   "version": "3.6.4"
  }
 },
 "nbformat": 4,
 "nbformat_minor": 2
}
