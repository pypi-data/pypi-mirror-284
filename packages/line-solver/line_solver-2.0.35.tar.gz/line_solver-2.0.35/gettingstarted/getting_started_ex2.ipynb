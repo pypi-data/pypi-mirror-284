{
 "cells": [
  {
   "cell_type": "markdown",
   "metadata": {},
   "source": [
    "WARNING: this example is not yet fully functional\n",
    "https://github.com/imperial-qore/line-solver/wiki/Getting-started#example-2-a-multiclass-mg1-queue"
   ]
  },
  {
   "cell_type": "code",
   "metadata": {
    "is_executing": true,
    "ExecuteTime": {
     "end_time": "2024-07-11T21:36:54.759100Z",
     "start_time": "2024-07-11T21:36:53.814320Z"
    }
   },
   "source": [
    "from line_solver import *\n",
    "import os\n",
    "GlobalConstants.setVerbose(VerboseLevel.STD)"
   ],
   "outputs": [],
   "execution_count": 1
  },
  {
   "cell_type": "code",
   "metadata": {
    "ExecuteTime": {
     "end_time": "2024-07-11T21:36:55.006607Z",
     "start_time": "2024-07-11T21:36:54.761007Z"
    }
   },
   "source": [
    "model = Network('M/G/1')\n",
    "source = Source(model, 'Source')\n",
    "queue = Queue(model, 'Queue', SchedStrategy.FCFS)\n",
    "sink = Sink(model, 'Sink')\n",
    "jobclass1 = OpenClass(model, 'Class1')\n",
    "jobclass2 = OpenClass(model, 'Class2')\n",
    "source.setArrival(jobclass1, Exp(0.5))\n",
    "source.setArrival(jobclass2, Exp(0.5))\n",
    "queue.setService(jobclass1, Erlang.fitMeanAndSCV(1, 1 / 3))\n",
    "queue.setService(jobclass2, Replayer(\"example_trace.txt\"))\n"
   ],
   "outputs": [],
   "execution_count": 2
  },
  {
   "cell_type": "code",
   "source": [
    "P = model.initRoutingMatrix()\n",
    "P.set(jobclass1, jobclass1, Network.serialRouting(source,queue,sink))\n",
    "P.set(jobclass2, jobclass2, Network.serialRouting(source,queue,sink))\n",
    "model.link(P)"
   ],
   "metadata": {
    "collapsed": false,
    "ExecuteTime": {
     "end_time": "2024-07-11T21:36:55.014737Z",
     "start_time": "2024-07-11T21:36:55.007929Z"
    }
   },
   "outputs": [],
   "execution_count": 3
  },
  {
   "cell_type": "code",
   "source": "jmtAvgTable = SolverJMT(model,'seed',23000).getAvgTable()",
   "metadata": {
    "collapsed": false,
    "ExecuteTime": {
     "end_time": "2024-07-11T21:36:56.334960Z",
     "start_time": "2024-07-11T21:36:55.015941Z"
    }
   },
   "outputs": [
    {
     "name": "stdout",
     "output_type": "stream",
     "text": [
      "JMT Model: /tmp/workspace/jsim/17306462530780931484/model.jsim\n",
      "JMT Analysis completed. Runtime: 1.096 seconds\n",
      "  Station JobClass      QLen      Util     RespT    ResidT      ArvR      Tput\n",
      "0  Source   Class1  0.000000  0.000000  0.000000  0.000000  0.000000  0.500173\n",
      "1  Source   Class2  0.000000  0.000000  0.000000  0.000000  0.000000  0.491145\n",
      "2   Queue   Class1  0.861526  0.498399  1.738891  1.738891  0.500173  0.499527\n",
      "3   Queue   Class2  0.437515  0.049184  0.858789  0.858789  0.491145  0.490639\n"
     ]
    }
   ],
   "execution_count": 4
  },
  {
   "cell_type": "code",
   "source": [
    "queue.setService(jobclass2, Replayer(\"example_trace.txt\").fitAPH())\n",
    "model.reset()\n",
    "# TODO: results are slightly different than in MATLAB as the latter uses also the skewness within fitAPH\n",
    "jmtAvgTable = SolverJMT(model,'seed',23000).getAvgTable()"
   ],
   "metadata": {
    "collapsed": false,
    "ExecuteTime": {
     "end_time": "2024-07-11T21:36:57.257392Z",
     "start_time": "2024-07-11T21:36:56.336317Z"
    }
   },
   "outputs": [
    {
     "name": "stdout",
     "output_type": "stream",
     "text": [
      "JMT Model: /tmp/workspace/jsim/3713088909107104766/model.jsim\n",
      "JMT Analysis completed. Runtime: 0.872 seconds\n",
      "  Station JobClass      QLen      Util     RespT    ResidT      ArvR      Tput\n",
      "0  Source   Class1  0.000000  0.000000  0.000000  0.000000  0.000000  0.501685\n",
      "1  Source   Class2  0.000000  0.000000  0.000000  0.000000  0.000000  0.506538\n",
      "2   Queue   Class1  0.880661  0.494749  1.737321  1.737321  0.501685  0.506679\n",
      "3   Queue   Class2  0.438433  0.053432  0.817414  0.817414  0.506538  0.507503\n"
     ]
    }
   ],
   "execution_count": 5
  },
  {
   "cell_type": "code",
   "source": [
    "#ctmcAvgTable2 = SolverCTMC(model,'cutoff',2,'verbose',True).getAvgTable()\n",
    "#ctmcAvgTable4 = SolverCTMC(model,'cutoff',4,'verbose',True).getAvgTable()"
   ],
   "metadata": {
    "collapsed": false,
    "ExecuteTime": {
     "end_time": "2024-07-11T21:36:57.260775Z",
     "start_time": "2024-07-11T21:36:57.258581Z"
    }
   },
   "outputs": [],
   "execution_count": 6
  }
 ],
 "metadata": {
  "kernelspec": {
   "display_name": "Python 3",
   "language": "python",
   "name": "python3"
  },
  "language_info": {
   "codemirror_mode": {
    "name": "ipython",
    "version": 3
   },
   "file_extension": ".py",
   "mimetype": "text/x-python",
   "name": "python",
   "nbconvert_exporter": "python",
   "pygments_lexer": "ipython3",
   "version": "3.6.4"
  }
 },
 "nbformat": 4,
 "nbformat_minor": 2
}
