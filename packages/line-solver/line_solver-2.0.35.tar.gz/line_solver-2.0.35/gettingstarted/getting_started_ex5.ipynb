{
 "cells": [
  {
   "cell_type": "markdown",
   "metadata": {},
   "source": [
    "WARNING: this example is not yet fully functional\n",
    "https://github.com/imperial-qore/line-solver/wiki/Getting-started#example-5-modelling-a-re-entrant-line"
   ]
  },
  {
   "cell_type": "code",
   "metadata": {
    "ExecuteTime": {
     "end_time": "2024-07-11T21:37:18.628550Z",
     "start_time": "2024-07-11T21:37:17.674443Z"
    }
   },
   "source": [
    "from line_solver import *\n",
    "GlobalConstants.setVerbose(VerboseLevel.STD)"
   ],
   "outputs": [],
   "execution_count": 1
  },
  {
   "cell_type": "code",
   "metadata": {
    "ExecuteTime": {
     "end_time": "2024-07-11T21:37:18.746275Z",
     "start_time": "2024-07-11T21:37:18.630229Z"
    }
   },
   "source": [
    "model = Network('RL')\n",
    "queue = Queue(model, 'Queue', SchedStrategy.FCFS)\n",
    "K = 3\n",
    "N = (1, 0, 0)\n",
    "jobclass = []\n",
    "for k in range(K):\n",
    "    jobclass.append(ClosedClass(model, 'Class' + str(k+1), N[k], queue))\n",
    "    queue.setService(jobclass[k], Erlang.fitMeanAndOrder(1+k, 2))\n",
    "P = model.initRoutingMatrix()\n",
    "P.set(jobclass[0], jobclass[1], queue, queue, 1.0)\n",
    "P.set(jobclass[1], jobclass[2], queue, queue, 1.0)\n",
    "P.set(jobclass[2], jobclass[0], queue, queue, 1.0)\n",
    "model.link(P)\n",
    "sn = model.getStruct()"
   ],
   "outputs": [],
   "execution_count": 2
  },
  {
   "cell_type": "code",
   "source": "ncAvgTable = SolverNC(model).getAvgTable()",
   "metadata": {
    "collapsed": false,
    "ExecuteTime": {
     "end_time": "2024-07-11T21:37:18.785201Z",
     "start_time": "2024-07-11T21:37:18.747778Z"
    }
   },
   "outputs": [
    {
     "name": "stdout",
     "output_type": "stream",
     "text": [
      "  Station JobClass      QLen      Util  RespT    ResidT      ArvR      Tput\n",
      "0   Queue   Class1  0.166667  0.166667    1.0  0.333333  0.166667  0.166667\n",
      "1   Queue   Class2  0.333333  0.333333    2.0  0.666667  0.166667  0.166667\n",
      "2   Queue   Class3  0.500000  0.500000    3.0  1.000000  0.166667  0.166667\n"
     ]
    }
   ],
   "execution_count": 3
  },
  {
   "cell_type": "code",
   "source": "ncAvgSysTable = SolverNC(model).getAvgSysTable()",
   "metadata": {
    "collapsed": false,
    "ExecuteTime": {
     "end_time": "2024-07-11T21:37:19.246015Z",
     "start_time": "2024-07-11T21:37:18.786575Z"
    }
   },
   "outputs": [
    {
     "name": "stdout",
     "output_type": "stream",
     "text": [
      "    Chain              JobClasses  SysRespT  SysTput\n",
      "0  Chain1  (Class1 Class2 Class3)       2.0      0.5\n"
     ]
    }
   ],
   "execution_count": 4
  },
  {
   "cell_type": "code",
   "source": [
    "jobclass[0].completes = False\n",
    "jobclass[1].completes = False\n",
    "ncAvgSysTable2 = SolverNC(model).getAvgSysTable()"
   ],
   "metadata": {
    "collapsed": false,
    "ExecuteTime": {
     "end_time": "2024-07-11T21:37:19.352128Z",
     "start_time": "2024-07-11T21:37:19.248764Z"
    }
   },
   "outputs": [
    {
     "name": "stdout",
     "output_type": "stream",
     "text": [
      "    Chain              JobClasses  SysRespT   SysTput\n",
      "0  Chain1  (Class1 Class2 Class3)       6.0  0.166667\n"
     ]
    }
   ],
   "execution_count": 5
  },
  {
   "metadata": {
    "ExecuteTime": {
     "end_time": "2024-07-11T21:37:19.487446Z",
     "start_time": "2024-07-11T21:37:19.353585Z"
    }
   },
   "cell_type": "code",
   "source": "ncAvgSysTable = SolverNC(model).getAvgSysTable()",
   "outputs": [
    {
     "name": "stdout",
     "output_type": "stream",
     "text": [
      "    Chain              JobClasses  SysRespT   SysTput\n",
      "0  Chain1  (Class1 Class2 Class3)       6.0  0.166667\n"
     ]
    }
   ],
   "execution_count": 6
  }
 ],
 "metadata": {
  "kernelspec": {
   "display_name": "Python 3",
   "language": "python",
   "name": "python3"
  },
  "language_info": {
   "codemirror_mode": {
    "name": "ipython",
    "version": 3
   },
   "file_extension": ".py",
   "mimetype": "text/x-python",
   "name": "python",
   "nbconvert_exporter": "python",
   "pygments_lexer": "ipython3",
   "version": "3.6.4"
  }
 },
 "nbformat": 4,
 "nbformat_minor": 2
}
