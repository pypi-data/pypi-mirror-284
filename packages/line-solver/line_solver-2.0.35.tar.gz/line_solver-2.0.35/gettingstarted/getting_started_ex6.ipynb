{
 "cells": [
  {
   "cell_type": "markdown",
   "metadata": {},
   "source": [
    "WARNING: this example is not yet fully functional\n",
    "https://github.com/imperial-qore/line-solver/wiki/Getting-started#example-6-a-queueing-network-with-caching"
   ]
  },
  {
   "cell_type": "code",
   "metadata": {
    "ExecuteTime": {
     "end_time": "2024-07-11T21:37:26.427129Z",
     "start_time": "2024-07-11T21:37:25.526563Z"
    }
   },
   "source": [
    "from line_solver import *\n",
    "GlobalConstants.setVerbose(VerboseLevel.STD)"
   ],
   "outputs": [],
   "execution_count": 1
  },
  {
   "cell_type": "code",
   "metadata": {
    "ExecuteTime": {
     "end_time": "2024-07-11T21:37:26.513933Z",
     "start_time": "2024-07-11T21:37:26.428708Z"
    }
   },
   "source": [
    "model = Network('Model')\n",
    "# Block 1: nodes\n",
    "clientDelay = Delay(model, 'Client')\n",
    "cacheNode = Cache(model, 'Cache', 1000, 50, ReplacementStrategy.LRU)\n",
    "cacheDelay = Delay(model, 'CacheDelay')"
   ],
   "outputs": [],
   "execution_count": 2
  },
  {
   "cell_type": "code",
   "source": [
    "# Block 2: classes\n",
    "clientClass = ClosedClass(model, 'ClientClass', 1, clientDelay, 0)\n",
    "hitClass = ClosedClass(model, 'HitClass', 0, clientDelay, 0)\n",
    "missClass = ClosedClass(model, 'MissClass', 0, clientDelay, 0)\n",
    "\n",
    "clientDelay.setService(clientClass, Immediate())\n",
    "cacheDelay.setService(hitClass, Exp.fitMean(0.2))\n",
    "cacheDelay.setService(missClass, Exp.fitMean(1.0))\n",
    "\n",
    "cacheNode.setRead(clientClass, Zipf(1.4, 1000))\n",
    "cacheNode.setHitClass(clientClass, hitClass)\n",
    "cacheNode.setMissClass(clientClass, missClass)"
   ],
   "metadata": {
    "collapsed": false,
    "ExecuteTime": {
     "end_time": "2024-07-11T21:37:26.620723Z",
     "start_time": "2024-07-11T21:37:26.515685Z"
    }
   },
   "outputs": [],
   "execution_count": 3
  },
  {
   "cell_type": "code",
   "source": [
    "# Block 3: topology\n",
    "P = model.initRoutingMatrix()\n",
    "# routing from client to cache\n",
    "P.set(clientClass, clientClass, clientDelay, cacheNode, 1.0)\n",
    "# routing out of the cache\n",
    "P.set(hitClass, hitClass, cacheNode, cacheDelay, 1.0)\n",
    "P.set(missClass, missClass, cacheNode, cacheDelay, 1.0)\n",
    "# return to the client\n",
    "P.set(hitClass, clientClass, cacheDelay, clientDelay, 1.0)\n",
    "P.set(missClass, clientClass, cacheDelay, clientDelay, 1.0)\n",
    "# routing from cacheNode\n",
    "model.link(P)"
   ],
   "metadata": {
    "collapsed": false,
    "ExecuteTime": {
     "end_time": "2024-07-11T21:37:26.765292Z",
     "start_time": "2024-07-11T21:37:26.622396Z"
    }
   },
   "outputs": [],
   "execution_count": 4
  },
  {
   "cell_type": "code",
   "source": [
    "# SSA not working on this case in Java but MVA works fine\n",
    "# Block 4: solution\n",
    "mvaAvgTable = SolverMVA(model,'verbose',True).getAvgTable()"
   ],
   "metadata": {
    "collapsed": false,
    "ExecuteTime": {
     "end_time": "2024-07-11T21:37:28.588587Z",
     "start_time": "2024-07-11T21:37:26.767714Z"
    }
   },
   "outputs": [
    {
     "name": "stdout",
     "output_type": "stream",
     "text": [
      "      Station     JobClass      QLen          Util     RespT    ResidT  ArvR  \\\n",
      "0      Client  ClientClass  0.000015  2.610757e-08  0.000006  0.000006   0.0   \n",
      "4  CacheDelay     HitClass  0.402683  4.026893e-01  0.199997  0.154240   0.0   \n",
      "5  CacheDelay    MissClass  0.597302  5.973106e-01  0.999985  0.228785   0.0   \n",
      "\n",
      "       Tput  \n",
      "0  2.610757  \n",
      "4  2.013447  \n",
      "5  0.597311  \n"
     ]
    }
   ],
   "execution_count": 5
  },
  {
   "metadata": {
    "ExecuteTime": {
     "end_time": "2024-07-11T21:37:28.592445Z",
     "start_time": "2024-07-11T21:37:28.589959Z"
    }
   },
   "cell_type": "code",
   "source": "# ssaAvgTable = SolverSSA(model,'samples',20000,'seed',1,'verbose',True).getAvgTable()",
   "outputs": [],
   "execution_count": 6
  },
  {
   "metadata": {
    "ExecuteTime": {
     "end_time": "2024-07-11T21:37:28.675559Z",
     "start_time": "2024-07-11T21:37:28.593695Z"
    }
   },
   "cell_type": "code",
   "source": "# ssaAvgTablePara = SolverSSA(model,'samples',20000,'seed',1,'verbose',True,'parallel').getAvgTable()",
   "outputs": [],
   "execution_count": 7
  }
 ],
 "metadata": {
  "kernelspec": {
   "display_name": "Python 3",
   "language": "python",
   "name": "python3"
  },
  "language_info": {
   "codemirror_mode": {
    "name": "ipython",
    "version": 3
   },
   "file_extension": ".py",
   "mimetype": "text/x-python",
   "name": "python",
   "nbconvert_exporter": "python",
   "pygments_lexer": "ipython3",
   "version": "3.6.4"
  }
 },
 "nbformat": 4,
 "nbformat_minor": 2
}
