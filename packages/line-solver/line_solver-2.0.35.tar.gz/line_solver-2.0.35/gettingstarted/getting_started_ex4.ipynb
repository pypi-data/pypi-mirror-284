{
 "cells": [
  {
   "cell_type": "markdown",
   "metadata": {},
   "source": [
    "https://github.com/imperial-qore/line-solver/wiki/Getting-started#example-4-round-robin-load-balancing"
   ]
  },
  {
   "cell_type": "code",
   "metadata": {
    "ExecuteTime": {
     "end_time": "2024-07-11T21:37:12.203468Z",
     "start_time": "2024-07-11T21:37:11.277044Z"
    }
   },
   "source": [
    "from line_solver import *\n",
    "GlobalConstants.setVerbose(VerboseLevel.STD)"
   ],
   "outputs": [],
   "execution_count": 1
  },
  {
   "cell_type": "code",
   "metadata": {
    "ExecuteTime": {
     "end_time": "2024-07-11T21:37:12.219881Z",
     "start_time": "2024-07-11T21:37:12.204808Z"
    }
   },
   "source": [
    "model = Network('RRLB')\n",
    "source = Source(model, 'Source')\n",
    "lb = Router(model, 'LB')\n",
    "queue1 = Queue(model, 'Queue1', SchedStrategy.PS)\n",
    "queue2 = Queue(model, 'Queue2', SchedStrategy.PS)\n",
    "sink = Sink(model, 'Sink')\n",
    "oclass = OpenClass(model, 'Class1')\n",
    "source.setArrival(oclass, Exp(1))\n",
    "queue1.setService(oclass, Exp(2))\n",
    "queue2.setService(oclass, Exp(2))"
   ],
   "outputs": [],
   "execution_count": 2
  },
  {
   "cell_type": "code",
   "source": [
    "model.addLinks([[source, lb], \n",
    "               [lb, queue1],  \n",
    "               [lb, queue2],\n",
    "               [queue1, sink],\n",
    "               [queue2, sink]])\n",
    "lb.setRouting(oclass, RoutingStrategy.RAND)\n",
    "jmtAvgTable = SolverJMT(model,'seed',23000).getAvgTable()"
   ],
   "metadata": {
    "collapsed": false,
    "ExecuteTime": {
     "end_time": "2024-07-11T21:37:13.342997Z",
     "start_time": "2024-07-11T21:37:12.220880Z"
    }
   },
   "outputs": [
    {
     "name": "stdout",
     "output_type": "stream",
     "text": [
      "JMT Model: /tmp/workspace/jsim/589493599623687637/model.jsim\n",
      "JMT Analysis completed. Runtime: 0.896 seconds\n",
      "  Station JobClass      QLen      Util     RespT    ResidT      ArvR      Tput\n",
      "0  Source   Class1  0.000000  0.000000  0.000000  0.000000  0.000000  1.013486\n",
      "1  Queue1   Class1  0.316119  0.246825  0.654111  0.654111  0.501442  0.500997\n",
      "2  Queue2   Class1  0.334030  0.250757  0.684064  0.342032  0.504463  0.504135\n"
     ]
    }
   ],
   "execution_count": 3
  },
  {
   "cell_type": "code",
   "source": [
    "model.reset()\n",
    "lb.setRouting(oclass, RoutingStrategy.RROBIN)\n",
    "jmtAvgTableRR = SolverJMT(model,'seed',23000).getAvgTable()"
   ],
   "metadata": {
    "collapsed": false,
    "ExecuteTime": {
     "end_time": "2024-07-11T21:37:14.260265Z",
     "start_time": "2024-07-11T21:37:13.343906Z"
    }
   },
   "outputs": [
    {
     "name": "stdout",
     "output_type": "stream",
     "text": [
      "JMT Model: /tmp/workspace/jsim/6319531160185254892/model.jsim\n",
      "JMT Analysis completed. Runtime: 0.898 seconds\n",
      "  Station JobClass      QLen      Util     RespT    ResidT      ArvR      Tput\n",
      "0  Source   Class1  0.000000  0.000000  0.000000  0.000000  0.000000  1.008868\n",
      "1  Queue1   Class1  0.304291  0.261181  0.584815  0.584815  0.502904  0.505255\n",
      "2  Queue2   Class1  0.292822  0.243971  0.572931  0.286466  0.504961  0.505264\n"
     ]
    }
   ],
   "execution_count": 4
  }
 ],
 "metadata": {
  "kernelspec": {
   "display_name": "Python 3",
   "language": "python",
   "name": "python3"
  },
  "language_info": {
   "codemirror_mode": {
    "name": "ipython",
    "version": 3
   },
   "file_extension": ".py",
   "mimetype": "text/x-python",
   "name": "python",
   "nbconvert_exporter": "python",
   "pygments_lexer": "ipython3",
   "version": "3.6.4"
  }
 },
 "nbformat": 4,
 "nbformat_minor": 2
}
