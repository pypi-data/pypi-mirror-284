{
 "cells": [
  {
   "cell_type": "markdown",
   "metadata": {},
   "source": [
    "WARNING: this example is not yet fully functional\n",
    "https://github.com/imperial-qore/line-solver/wiki/Getting-started#example-7-response-time-distribution-and-percentiles"
   ]
  },
  {
   "cell_type": "code",
   "metadata": {
    "ExecuteTime": {
     "end_time": "2024-07-11T21:37:34.663490Z",
     "start_time": "2024-07-11T21:37:33.703959Z"
    }
   },
   "source": [
    "from line_solver import *\n",
    "GlobalConstants.setVerbose(VerboseLevel.STD)\n",
    "# import matplotlib.pyplot as plt"
   ],
   "outputs": [],
   "execution_count": 1
  },
  {
   "cell_type": "code",
   "metadata": {
    "ExecuteTime": {
     "end_time": "2024-07-11T21:37:34.681541Z",
     "start_time": "2024-07-11T21:37:34.664941Z"
    }
   },
   "source": [
    "model = Network('Model')\n",
    "\n",
    "# Block 1: nodes\n",
    "node = np.empty(2, dtype=object)\n",
    "node[0] = Delay(model, 'Delay')\n",
    "node[1] = Queue(model, 'Queue1', SchedStrategy.PS)\n",
    "\n",
    "# Block 2: classes\n",
    "jobclass = np.empty(2, dtype=object)\n",
    "jobclass[0] = ClosedClass(model, 'Class1', 5, node[0], 0)\n",
    "node[0].setService(jobclass[0], Exp(1.0))\n",
    "node[1].setService(jobclass[0], Exp(0.5))\n",
    "\n",
    "# Block 3: topology\n",
    "model.link(Network.serialRouting(node[0], node[1]))"
   ],
   "outputs": [],
   "execution_count": 2
  },
  {
   "cell_type": "code",
   "source": [
    "# Block 4: solution\n",
    "RDfluid = SolverFluid(model).getCdfRespT()"
   ],
   "metadata": {
    "collapsed": false,
    "ExecuteTime": {
     "end_time": "2024-07-11T21:37:34.965227Z",
     "start_time": "2024-07-11T21:37:34.682733Z"
    }
   },
   "outputs": [],
   "execution_count": 3
  },
  {
   "cell_type": "code",
   "source": [
    "# TODO: empty result, the function is not implemented yet in JLINE\n",
    "RDsim = SolverJMT(model, 'seed', 23000, 'samples', 10000).getCdfRespT()\n",
    "\n",
    "# # Plot results\n",
    "# semilogx(RDsim{2,1}(:,2),1-RDsim{2,1}(:,1),'r'); hold all;\n",
    "# semilogx(RDfluid{2,1}(:,2),1-RDfluid{2,1}(:,1),'k--');\n",
    "# legend('jmt-transient','fluid-steady','Location','Best');\n",
    "# ylabel('Pr(T > t)'); xlabel('time t');"
   ],
   "metadata": {
    "collapsed": false,
    "ExecuteTime": {
     "end_time": "2024-07-11T21:37:34.984626Z",
     "start_time": "2024-07-11T21:37:34.966825Z"
    }
   },
   "outputs": [],
   "execution_count": 4
  }
 ],
 "metadata": {
  "kernelspec": {
   "display_name": "Python 3",
   "language": "python",
   "name": "python3"
  },
  "language_info": {
   "codemirror_mode": {
    "name": "ipython",
    "version": 3
   },
   "file_extension": ".py",
   "mimetype": "text/x-python",
   "name": "python",
   "nbconvert_exporter": "python",
   "pygments_lexer": "ipython3",
   "version": "3.6.4"
  }
 },
 "nbformat": 4,
 "nbformat_minor": 2
}
